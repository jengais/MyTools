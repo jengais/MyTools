{
 "cells": [
  {
   "cell_type": "code",
   "execution_count": 2,
   "metadata": {},
   "outputs": [
    {
     "name": "stdout",
     "output_type": "stream",
     "text": [
      "Enter bins size:\n",
      "3\n",
      "\n",
      "Success percent is: 60.67%\n"
     ]
    }
   ],
   "source": [
    "import pandas as pd\n",
    "\n",
    "df1=pd.read_csv(\"C:\\\\NewFoulder\\SCE\\שנה ב\\סמסטר ב\\מבוא לכריית נתונים\\HW\\\\4\\\\train.csv\").applymap(lambda x: x.lower() if type(x) == str else x)\n",
    "df2=pd.read_csv(\"C:\\\\NewFoulder\\SCE\\שנה ב\\סמסטר ב\\מבוא לכריית נתונים\\HW\\\\4\\\\test.csv\").applymap(lambda x: x.lower() if type(x) == str else x)\n",
    "groupby = df1.groupby('class').size().div(len(df1))\n",
    "dic = {}\n",
    "testlist=[]\n",
    "\n",
    "print('Enter bins size:')\n",
    "bins = input()\n",
    "print()\n",
    "\n",
    "df1['age']=pd.qcut(df1['age'],int(bins),duplicates=\"drop\")\n",
    "df1['balance']=pd.qcut(df1['balance'],int(bins),duplicates=\"drop\")\n",
    "df1['duration']=pd.qcut(df1['duration'],int(bins),duplicates=\"drop\")\n",
    "df1['campaign']=pd.qcut(df1['campaign'],int(bins)+2,duplicates=\"drop\")\n",
    "df1['previous']=pd.qcut(df1['previous'],int(bins)+1,duplicates=\"drop\")\n",
    "df1['day']=pd.qcut(df1['day'],int(bins),duplicates=\"drop\")\n",
    "\n",
    "\n",
    "for col in df1:\n",
    "    if \"class\" not in col:\n",
    "        dic[col] = df1.groupby(['class', col]).size().div(len(df1)).div(groupby)   \n",
    "\n",
    "for row in df2.iterrows():\n",
    "    p_yes=1\n",
    "    p_no=1\n",
    "    for key,val in row[1].items():\n",
    "        if \"class\" not in key:\n",
    "            if val in dic[key]['yes'].index and val in dic[key]['no'].index:\n",
    "                p_yes*=dic[key]['yes'].loc[val]\n",
    "                p_no*=dic[key]['no'].loc[val]\n",
    "    p_yes*=groupby['yes']     \n",
    "    p_no*=groupby['no']\n",
    "    if p_yes>p_no:\n",
    "         testlist.append(\"yes\")\n",
    "    else:\n",
    "         testlist.append(\"no\")\n",
    "    \n",
    "col1={'test':testlist}\n",
    "final=pd.DataFrame(col1)\n",
    "final['train']=df1['class']\n",
    "result=final.groupby([\"test\", \"train\"]).size()\n",
    "success=result['no']['no']+result['yes']['yes']\n",
    "counttest=len(final)\n",
    "successpercent=(success/counttest)*100\n",
    "print(\"Success percent is: %.2f%%\" % successpercent)"
   ]
  },
  {
   "cell_type": "code",
   "execution_count": null,
   "metadata": {},
   "outputs": [],
   "source": []
  }
 ],
 "metadata": {
  "kernelspec": {
   "display_name": "Python 3",
   "language": "python",
   "name": "python3"
  },
  "language_info": {
   "codemirror_mode": {
    "name": "ipython",
    "version": 3
   },
   "file_extension": ".py",
   "mimetype": "text/x-python",
   "name": "python",
   "nbconvert_exporter": "python",
   "pygments_lexer": "ipython3",
   "version": "3.8.5"
  }
 },
 "nbformat": 4,
 "nbformat_minor": 4
}
