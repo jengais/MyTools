{
 "cells": [
  {
   "cell_type": "code",
   "execution_count": 5,
   "metadata": {},
   "outputs": [
    {
     "name": "stdout",
     "output_type": "stream",
     "text": [
      "Evaluating RMSE, MAE of algorithm SVD on 5 split(s).\n",
      "\n",
      "                  Fold 1  Fold 2  Fold 3  Fold 4  Fold 5  Mean    Std     \n",
      "RMSE (testset)    0.9400  0.9392  0.9347  0.9352  0.9276  0.9354  0.0044  \n",
      "MAE (testset)     0.7402  0.7416  0.7360  0.7368  0.7300  0.7369  0.0040  \n",
      "Fit time          2.90    2.91    2.92    2.91    2.91    2.91    0.00    \n",
      "Test time         0.11    0.09    0.11    0.11    0.11    0.11    0.01    \n"
     ]
    },
    {
     "data": {
      "text/plain": [
       "{'test_rmse': array([0.94004284, 0.9392058 , 0.9347184 , 0.93522654, 0.92755738]),\n",
       " 'test_mae': array([0.74017976, 0.74157255, 0.73600035, 0.73679524, 0.73000268]),\n",
       " 'fit_time': (2.903754711151123,\n",
       "  2.910616397857666,\n",
       "  2.9164657592773438,\n",
       "  2.9110119342803955,\n",
       "  2.9080698490142822),\n",
       " 'test_time': (0.11269855499267578,\n",
       "  0.08980298042297363,\n",
       "  0.11070370674133301,\n",
       "  0.10868096351623535,\n",
       "  0.10973405838012695)}"
      ]
     },
     "execution_count": 5,
     "metadata": {},
     "output_type": "execute_result"
    }
   ],
   "source": [
    "from surprise import SVD\n",
    "from surprise import Dataset\n",
    "from surprise.model_selection import cross_validate\n",
    "\n",
    "# Load the movielens-100k dataset (download it if needed).\n",
    "data = Dataset.load_builtin('ml-100k')\n",
    "\n",
    "# Use the famous SVD algorithm.\n",
    "algo = SVD()\n",
    "\n",
    "# Run 5-fold cross-validation and print results.\n",
    "cross_validate(algo, data, measures=['RMSE', 'MAE'], cv=5, verbose=True)"
   ]
  },
  {
   "cell_type": "code",
   "execution_count": null,
   "metadata": {},
   "outputs": [],
   "source": []
  },
  {
   "cell_type": "code",
   "execution_count": null,
   "metadata": {},
   "outputs": [],
   "source": []
  },
  {
   "cell_type": "code",
   "execution_count": 6,
   "metadata": {},
   "outputs": [],
   "source": [
    "import pandas as pd\n",
    "import numpy as np\n",
    "import matplotlib\n",
    "import matplotlib.pyplot as plt"
   ]
  },
  {
   "cell_type": "code",
   "execution_count": 7,
   "metadata": {},
   "outputs": [],
   "source": [
    "data = pd.read_csv(\"item_dedup.csv\")"
   ]
  },
  {
   "cell_type": "code",
   "execution_count": 12,
   "metadata": {},
   "outputs": [
    {
     "data": {
      "text/html": [
       "<div>\n",
       "<style scoped>\n",
       "    .dataframe tbody tr th:only-of-type {\n",
       "        vertical-align: middle;\n",
       "    }\n",
       "\n",
       "    .dataframe tbody tr th {\n",
       "        vertical-align: top;\n",
       "    }\n",
       "\n",
       "    .dataframe thead th {\n",
       "        text-align: right;\n",
       "    }\n",
       "</style>\n",
       "<table border=\"1\" class=\"dataframe\">\n",
       "  <thead>\n",
       "    <tr style=\"text-align: right;\">\n",
       "      <th></th>\n",
       "      <th>A3AF8FFZAZYNE5</th>\n",
       "      <th>0000000078</th>\n",
       "      <th>5.0</th>\n",
       "      <th>1092182400</th>\n",
       "    </tr>\n",
       "  </thead>\n",
       "  <tbody>\n",
       "    <tr>\n",
       "      <th>0</th>\n",
       "      <td>AH2L9G3DQHHAJ</td>\n",
       "      <td>0000000116</td>\n",
       "      <td>4.0</td>\n",
       "      <td>1019865600</td>\n",
       "    </tr>\n",
       "    <tr>\n",
       "      <th>1</th>\n",
       "      <td>A2IIIDRK3PRRZY</td>\n",
       "      <td>0000000116</td>\n",
       "      <td>1.0</td>\n",
       "      <td>1395619200</td>\n",
       "    </tr>\n",
       "    <tr>\n",
       "      <th>2</th>\n",
       "      <td>A1TADCM7YWPQ8M</td>\n",
       "      <td>0000000868</td>\n",
       "      <td>4.0</td>\n",
       "      <td>1031702400</td>\n",
       "    </tr>\n",
       "    <tr>\n",
       "      <th>3</th>\n",
       "      <td>AWGH7V0BDOJKB</td>\n",
       "      <td>0000013714</td>\n",
       "      <td>4.0</td>\n",
       "      <td>1383177600</td>\n",
       "    </tr>\n",
       "    <tr>\n",
       "      <th>4</th>\n",
       "      <td>A3UTQPQPM4TQO0</td>\n",
       "      <td>0000013714</td>\n",
       "      <td>5.0</td>\n",
       "      <td>1374883200</td>\n",
       "    </tr>\n",
       "    <tr>\n",
       "      <th>...</th>\n",
       "      <td>...</td>\n",
       "      <td>...</td>\n",
       "      <td>...</td>\n",
       "      <td>...</td>\n",
       "    </tr>\n",
       "    <tr>\n",
       "      <th>82677125</th>\n",
       "      <td>A349MZLDSQAIQC</td>\n",
       "      <td>BT00IU6O8K</td>\n",
       "      <td>3.0</td>\n",
       "      <td>1375401600</td>\n",
       "    </tr>\n",
       "    <tr>\n",
       "      <th>82677126</th>\n",
       "      <td>A1NFN9O4A2Q92V</td>\n",
       "      <td>BT00IU6O8K</td>\n",
       "      <td>5.0</td>\n",
       "      <td>1375142400</td>\n",
       "    </tr>\n",
       "    <tr>\n",
       "      <th>82677127</th>\n",
       "      <td>A1DA2L6U0AFMLL</td>\n",
       "      <td>dp-g310/do</td>\n",
       "      <td>5.0</td>\n",
       "      <td>1195948800</td>\n",
       "    </tr>\n",
       "    <tr>\n",
       "      <th>82677128</th>\n",
       "      <td>AIDHT6KXOL64T</td>\n",
       "      <td>SMLRBIMX03</td>\n",
       "      <td>5.0</td>\n",
       "      <td>1355788800</td>\n",
       "    </tr>\n",
       "    <tr>\n",
       "      <th>82677129</th>\n",
       "      <td>A161I1MHX2G2BR</td>\n",
       "      <td>SMLRBIMX03</td>\n",
       "      <td>4.0</td>\n",
       "      <td>1364860800</td>\n",
       "    </tr>\n",
       "  </tbody>\n",
       "</table>\n",
       "<p>82677130 rows × 4 columns</p>\n",
       "</div>"
      ],
      "text/plain": [
       "          A3AF8FFZAZYNE5  0000000078  5.0  1092182400\n",
       "0          AH2L9G3DQHHAJ  0000000116  4.0  1019865600\n",
       "1         A2IIIDRK3PRRZY  0000000116  1.0  1395619200\n",
       "2         A1TADCM7YWPQ8M  0000000868  4.0  1031702400\n",
       "3          AWGH7V0BDOJKB  0000013714  4.0  1383177600\n",
       "4         A3UTQPQPM4TQO0  0000013714  5.0  1374883200\n",
       "...                  ...         ...  ...         ...\n",
       "82677125  A349MZLDSQAIQC  BT00IU6O8K  3.0  1375401600\n",
       "82677126  A1NFN9O4A2Q92V  BT00IU6O8K  5.0  1375142400\n",
       "82677127  A1DA2L6U0AFMLL  dp-g310/do  5.0  1195948800\n",
       "82677128   AIDHT6KXOL64T  SMLRBIMX03  5.0  1355788800\n",
       "82677129  A161I1MHX2G2BR  SMLRBIMX03  4.0  1364860800\n",
       "\n",
       "[82677130 rows x 4 columns]"
      ]
     },
     "execution_count": 12,
     "metadata": {},
     "output_type": "execute_result"
    }
   ],
   "source": [
    "data"
   ]
  },
  {
   "cell_type": "code",
   "execution_count": null,
   "metadata": {},
   "outputs": [],
   "source": []
  }
 ],
 "metadata": {
  "kernelspec": {
   "display_name": "Python 3",
   "language": "python",
   "name": "python3"
  },
  "language_info": {
   "codemirror_mode": {
    "name": "ipython",
    "version": 3
   },
   "file_extension": ".py",
   "mimetype": "text/x-python",
   "name": "python",
   "nbconvert_exporter": "python",
   "pygments_lexer": "ipython3",
   "version": "3.8.5"
  }
 },
 "nbformat": 4,
 "nbformat_minor": 4
}
