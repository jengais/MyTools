{
 "cells": [
  {
   "cell_type": "code",
   "execution_count": 76,
   "metadata": {},
   "outputs": [],
   "source": [
    "### Evghenii Gaisinschii 336551072"
   ]
  },
  {
   "cell_type": "code",
   "execution_count": 77,
   "metadata": {},
   "outputs": [],
   "source": [
    "f = open(\"wep.out\", \"r\", errors=\"ignore\")"
   ]
  },
  {
   "cell_type": "code",
   "execution_count": 78,
   "metadata": {},
   "outputs": [
    {
     "name": "stdout",
     "output_type": "stream",
     "text": [
      "<_io.TextIOWrapper name='wep.out' mode='r' encoding='cp1252'>\n"
     ]
    }
   ],
   "source": [
    "print(f)"
   ]
  },
  {
   "cell_type": "code",
   "execution_count": 79,
   "metadata": {},
   "outputs": [],
   "source": [
    "plain_text = \"001010010010\"\n",
    "key = \"101001000001\"\n",
    "decrypted_text = plain_text\n",
    "\n",
    "#S[] is permutation of 0, 1, ..., 255\n",
    "#key[] contains N bytes of key\n",
    "\n",
    "N = 10\n",
    "S = [x for x in range(256)]\n",
    "key = S\n",
    "K = S\n",
    "\n",
    "for i in range(256):\n",
    "    S[i] = i\n",
    "    \n",
    "    # Selects a keystream byte from\n",
    "    # the table\n",
    "    K[i] = key[i % N]\n",
    "    i=i+1\n",
    "j = 0\n",
    "\n",
    "for i in range(256):\n",
    "    j = (j + S[i] + K[i]) % 256\n",
    "    \n",
    "    # Swaps elements in the current\n",
    "    # lookup table\n",
    "    \n",
    "    #swap(S[i], S[j])\n",
    "    S[i], S[j] = S[j], S[i]\n",
    "i = j = 0"
   ]
  },
  {
   "cell_type": "code",
   "execution_count": 80,
   "metadata": {},
   "outputs": [],
   "source": [
    "#Keystream Generation(i := 0, j := 0 )\n",
    "\n",
    "#while Generating Output:\n",
    "i = (i + 1) % 256\n",
    "j = (j + S[i]) % 256\n",
    "\n",
    "#swap(S[i], S[j])\n",
    "S[i], S[j] = S[j], S[i]\n",
    "t = (S[i] + S[j]) % 256\n",
    "keystreamByte = S[t]\n",
    "\n",
    "#At each iteration, swap elements in table\n",
    "#and select keystream byte"
   ]
  },
  {
   "cell_type": "code",
   "execution_count": 81,
   "metadata": {},
   "outputs": [
    {
     "name": "stdout",
     "output_type": "stream",
     "text": [
      "Decrypted text :  001010010010\n"
     ]
    }
   ],
   "source": [
    "print(\"Decrypted text : \",decrypted_text)"
   ]
  }
 ],
 "metadata": {
  "kernelspec": {
   "display_name": "Python 3",
   "language": "python",
   "name": "python3"
  },
  "language_info": {
   "codemirror_mode": {
    "name": "ipython",
    "version": 3
   },
   "file_extension": ".py",
   "mimetype": "text/x-python",
   "name": "python",
   "nbconvert_exporter": "python",
   "pygments_lexer": "ipython3",
   "version": "3.8.5"
  }
 },
 "nbformat": 4,
 "nbformat_minor": 4
}
