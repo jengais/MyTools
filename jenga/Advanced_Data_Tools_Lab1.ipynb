{
 "cells": [
  {
   "cell_type": "code",
   "execution_count": 1,
   "id": "3f8d13fc",
   "metadata": {},
   "outputs": [
    {
     "name": "stdout",
     "output_type": "stream",
     "text": [
      "1504295588505939968 2022-03-17 05:16:31 +0300 <Himansh70809561> Worst experience of booking a room with @oyorooms didn't expected this from you. The way your customer care harassed me and my friend is not acceptable. #shameoyo #oyo #CustomerService\n",
      "1501476158990274563 2022-03-09 10:33:07 +0300 <Himansh70809561> @divya1534 Nice Pic\n",
      "1498713859732901889 2022-03-01 19:36:43 +0300 <Himansh70809561> @Lucs1590 Ok sure\n",
      "1483032422019375105 2022-01-17 13:04:17 +0300 <Himansh70809561> @TataAIA_Life @policybazaar Worst experience ever of buying a policy from you. It has been more than 45 days since I have paid for my Term Insurance and still policy has not been issued. Even after repeated complaints, there is no update. #shame #tataaia #policybazaar\n",
      "1480785790045069334 2022-01-11 08:16:58 +0300 <Himansh70809561> @TataAIA_Life I have shared the details in DM\n",
      "1480779239829819393 2022-01-11 07:50:56 +0300 <Himansh70809561> @policybazaar @TataAIA_Life I booked my term insurance on 1st December 2021 and completed all the formalities and medicals. Still I haven't received any update on my policy, even after repeated calls to customer care there is no one listening. #policybazaar #tataaia\n",
      "1455580293205671947 2021-11-02 18:59:19 +0300 <Himansh70809561> I just published in @TDataScience Finding Patterns In Data Using NMF  https://t.co/bBXg86RrGm  #Python #DataScience #NLP #ArtificiallIntelligence #machinelearning #dataviz #visualization\n",
      "1453761064202485768 2021-10-28 19:30:21 +0300 <Himansh70809561> I just published in @TDataScience Speeding Up Data Analysis  https://t.co/FZfsp8Vr2o  #DataAnalytics #python #DataScientists #datascience #datavisualization #visualization\n",
      "1453760746966323203 2021-10-28 19:29:06 +0300 <Himansh70809561> I just published in @TDataScience Fetching Mobile Number Details Using Python  https://t.co/Ctu89Z20CN  #Data #DataScientists #python #dataanalysis #MachineLearning #Numbers\n",
      "1448319925878079489 2021-10-13 19:09:13 +0300 <Himansh70809561> I just published in @TDataScience Plotting &amp; Analyzing Tabular Data  https://t.co/SlkGGdCMkr   #DataScience #DataAnalytics #dataanalysis #Python #Data #DataScientists #analysis #tabulardata #plotting\n",
      "1428752102977794055 2021-08-20 19:13:40 +0300 <Himansh70809561> I just published in @TDataScience Choose the Best ML Model Based On Visualizations  #MachineLearning #python #datascience #ArtificialIntelligence #DataVisualization   https://t.co/ZSUfPJ5uW4\n",
      "1422600401661009924 2021-08-03 19:49:01 +0300 <Himansh70809561> I just published in @TDataScience Performing Computer Vision &amp; NLP Tasks in a Single Of Code  https://t.co/KItm6eu7av  #MachineLearning #NLP #DataScience #Python #visual  #computervision #cv #textanalysis #sentimentanalysis  #AI\n",
      "1421792866360123393 2021-08-01 14:20:09 +0300 <Himansh70809561> I just published in @TDataScience Automating Machine Learning Modelling  https://t.co/XQj474tqNL  #mlbox #automl #DeepLearning #MachineLearning #Python #DataScience #modeling\n",
      "1421792530388058115 2021-08-01 14:18:49 +0300 <Himansh70809561> I just published in @TDataScience Automating Hyperparameter Tuning with Optunity  https://t.co/b47Tk3lwkS  #DataScience #Python #MachineLearning #anaconda #optunity #eda #automating #programming\n",
      "1421792250997075968 2021-08-01 14:17:42 +0300 <Himansh70809561> I just published in @TDataScience Automating EDA &amp; Machine Learning  https://t.co/Eb9LOGcclC  #eda #MachineLearning #AI #DataScience #Python #DeepLearning #DataScientist #dataviz\n",
      "1416606760131981316 2021-07-18 06:52:25 +0300 <Himansh70809561> I just published in @TDataScience Preprocessing Textual Data  https://t.co/4ARgo8n3Vm   #python #DataScience #medium #dataanalysis #machinelearning #ai #NLP #text #visualization #DeepLearning\n",
      "1411288866753900552 2021-07-03 14:41:00 +0300 <Himansh70809561> I’m a top writer in Artificial Intelligence on @Medium! To read more, visit and follow:  https://t.co/iyj6qDQ3hB  #DataScience #DeepLearning #Artificial_Intelligence #AI #Python #visualization #datavisualization\n",
      "1409353619606962180 2021-06-28 06:31:02 +0300 <Himansh70809561> I just published Tracking Machine Learning Model Instances  https://t.co/NVhmt5Zpvn   #python #datascience #eda #dataanalysis #visualization #datavisualization #tutorial #MachineLearning #AI #DeepLearning  #exploratory #data #analysis #pythonprogramming #preprocessing #medium\n",
      "1409353151740743681 2021-06-28 06:29:10 +0300 <Himansh70809561> I just published in @TDataScience Augmenting Data Using AugLy  #python #datascience #Facebook  #dataanalysis #visualization #datavisualization #tutorial #automation #augly #augmenting #MachineLearning  #AI #DeepLearning #pythonprograming #dataaugmentation  https://t.co/2VLL8rytVu\n",
      "1409352529737969664 2021-06-28 06:26:42 +0300 <Himansh70809561> I just published in @TDataScience Automating Exploratory Data Analysis Using QuickDA  #python #datascience #eda #dataanalysis #visualization #datavisualization #tutorial #automation #quickda #exploratory #data #analysis #pythonprogramming #preprocessing  https://t.co/oRSjTAT5sG\n"
     ]
    }
   ],
   "source": [
    "import nest_asyncio\n",
    "nest_asyncio.apply()\n",
    "import twint\n",
    "import pandas as pd\n",
    "\n",
    "a = twint.Config()\n",
    "#a.Format = \"Username: {username} |  Tweet: {tweet}\"\n",
    "#a.Since = \"2015-02-01\"\n",
    "a.Username = 'Himansh70809561'\n",
    "#c.Search = \"great\"\n",
    "a.Limit = 10\n",
    "#a.Store_csv = True\n",
    "#a.Output =a.Username+\".csv\"\n",
    "#a.Pandas = True\n",
    "\n",
    "twint.run.Search(a)\n",
    "#twint.run.Followers(a)"
   ]
  },
  {
   "cell_type": "code",
   "execution_count": 2,
   "id": "4fcb1b42",
   "metadata": {},
   "outputs": [
    {
     "ename": "AttributeError",
     "evalue": "'Config' object has no attribute 'search_tweet_list'",
     "output_type": "error",
     "traceback": [
      "\u001b[1;31m---------------------------------------------------------------------------\u001b[0m",
      "\u001b[1;31mAttributeError\u001b[0m                            Traceback (most recent call last)",
      "Input \u001b[1;32mIn [2]\u001b[0m, in \u001b[0;36m<cell line: 1>\u001b[1;34m()\u001b[0m\n\u001b[1;32m----> 1\u001b[0m tlist \u001b[38;5;241m=\u001b[39m \u001b[43ma\u001b[49m\u001b[38;5;241;43m.\u001b[39;49m\u001b[43msearch_tweet_list\u001b[49m\n\u001b[0;32m      3\u001b[0m \u001b[38;5;28mprint\u001b[39m(tlist)\n",
      "\u001b[1;31mAttributeError\u001b[0m: 'Config' object has no attribute 'search_tweet_list'"
     ]
    }
   ],
   "source": [
    "tlist = a.search_tweet_list\n",
    "\n",
    "print(tlist)"
   ]
  },
  {
   "cell_type": "code",
   "execution_count": null,
   "id": "99b7a3f7",
   "metadata": {},
   "outputs": [],
   "source": []
  },
  {
   "cell_type": "code",
   "execution_count": null,
   "id": "bd6ed271",
   "metadata": {},
   "outputs": [],
   "source": [
    "# a = twint.Config()\n",
    "\n",
    "# a.Limit = 30\n",
    "\n",
    "# a.Username = 'Analyticsindiam'\n",
    "\n",
    "# a.Pandas = True\n",
    "\n",
    "# twint.run.Followers(a)\n",
    "\n",
    "# follow_df = twint.storage.panda.User_df"
   ]
  },
  {
   "cell_type": "code",
   "execution_count": null,
   "id": "afa3294b",
   "metadata": {},
   "outputs": [],
   "source": []
  },
  {
   "cell_type": "code",
   "execution_count": null,
   "id": "9f260134",
   "metadata": {},
   "outputs": [],
   "source": [
    "# df = pd.read_csv(\"elonmusk.csv\")\n",
    "# df['tweet']"
   ]
  },
  {
   "cell_type": "code",
   "execution_count": null,
   "id": "55bd3b00",
   "metadata": {},
   "outputs": [],
   "source": [
    "#df['date']"
   ]
  },
  {
   "cell_type": "code",
   "execution_count": null,
   "id": "aaafb3bb",
   "metadata": {},
   "outputs": [],
   "source": [
    "#df['date'].value_counts()"
   ]
  },
  {
   "cell_type": "code",
   "execution_count": null,
   "id": "1fbacb45",
   "metadata": {},
   "outputs": [],
   "source": [
    "# for i in range(len(df)):\n",
    "#     if df['date'][i] == '2022-03-17':\n",
    "#         print(df['time'][i], df['username'][i], df['name'][i],df['tweet'][i][:50])"
   ]
  },
  {
   "cell_type": "code",
   "execution_count": null,
   "id": "2b8f71e3",
   "metadata": {},
   "outputs": [],
   "source": [
    "#df"
   ]
  },
  {
   "cell_type": "code",
   "execution_count": null,
   "id": "f230fb21",
   "metadata": {
    "scrolled": true
   },
   "outputs": [],
   "source": [
    "#df.info()"
   ]
  },
  {
   "cell_type": "code",
   "execution_count": null,
   "id": "9f55b82e",
   "metadata": {},
   "outputs": [],
   "source": []
  },
  {
   "cell_type": "code",
   "execution_count": null,
   "id": "5ef311d5",
   "metadata": {},
   "outputs": [],
   "source": []
  },
  {
   "cell_type": "code",
   "execution_count": null,
   "id": "70c5c7fa",
   "metadata": {},
   "outputs": [],
   "source": [
    "#df = twint.output.panda.Tweets_df[\"date\", \"username\", \"tweet\", \"hashtags\", \"nlikes\"]"
   ]
  },
  {
   "cell_type": "code",
   "execution_count": null,
   "id": "b216376a",
   "metadata": {},
   "outputs": [],
   "source": [
    "#df_pd = twint_to_pandas([\"date\", \"username\", \"tweet\", \"hashtags\", \"nlikes\"])"
   ]
  },
  {
   "cell_type": "code",
   "execution_count": null,
   "id": "b3174905",
   "metadata": {},
   "outputs": [],
   "source": []
  },
  {
   "cell_type": "code",
   "execution_count": null,
   "id": "ebdb78f8",
   "metadata": {},
   "outputs": [],
   "source": []
  },
  {
   "cell_type": "code",
   "execution_count": null,
   "id": "5bca3ff8",
   "metadata": {},
   "outputs": [],
   "source": []
  },
  {
   "cell_type": "code",
   "execution_count": null,
   "id": "b21878c7",
   "metadata": {},
   "outputs": [],
   "source": []
  },
  {
   "cell_type": "code",
   "execution_count": null,
   "id": "6a9ca123",
   "metadata": {},
   "outputs": [],
   "source": [
    "# import tkinter as tk\n",
    "# r = tk.Tk()\n",
    "# r.title('Counting Seconds')\n",
    "\n",
    "# button = tk.Button(r, text='Start', width=50,height=25, command=r.destroy)\n",
    "# button2 = tk.Button(r, text='Stop', width=50,height=25, command=r.destroy)\n",
    "# button.pack()\n",
    "# button2.pack()\n",
    "# r.mainloop()"
   ]
  },
  {
   "cell_type": "code",
   "execution_count": null,
   "id": "07d11f49",
   "metadata": {},
   "outputs": [],
   "source": [
    "# from pymongo import MongoClient\n",
    "# client = MongoClient()\n",
    "# client = MongoClient('localhost', 27017)\n",
    "\n",
    "# print(client.list_database_names())\n",
    "\n",
    "# mydatabase = client['name_of_the_database']\n",
    "  \n",
    "# # Access collection of the database\n",
    "# mycollection=mydatabase['myTable']\n",
    "  \n",
    "# # dictionary to be added in the database\n",
    "# rec={\n",
    "# 'title': 'MongoDB and Python', \n",
    "# 'description': 'MongoDB is no SQL database', \n",
    "# 'tags': ['mongodb', 'database', 'NoSQL'], \n",
    "# 'viewers': 104 \n",
    "# }\n",
    "  \n",
    "# # inserting the data in the database\n",
    "# mydatabase.myTable.insert_one(rec)"
   ]
  },
  {
   "cell_type": "code",
   "execution_count": null,
   "id": "5db4c234",
   "metadata": {},
   "outputs": [],
   "source": []
  },
  {
   "cell_type": "code",
   "execution_count": null,
   "id": "11d6ccb5",
   "metadata": {},
   "outputs": [],
   "source": [
    "# from instabot import Bot\n",
    "\n",
    "# bot = Bot()\n",
    "\n",
    "# bot.login(username=\"jengais\", password=\"gasik952\")\n",
    "\n",
    "# ######  upload a picture #######\n",
    "# #bot.upload_photo(\"yoda.jpg\", caption=\"biscuit eating baby\")\n",
    "\n",
    "# ######  follow someone #######\n",
    "# #bot.follow(\"elonrmuskk\")\n",
    "\n",
    "# ######  send a message #######\n",
    "# #bot.send_message(\"Hello from Dhaval\", ['user1','user2'])\n",
    "\n",
    "# ######  get follower info #######\n",
    "# my_followers = bot.get_user_followers(\"jengais\")\n",
    "# for follower in my_followers:\n",
    "#     print(follower)\n",
    "\n",
    "# #bot.unfollow_everyone()"
   ]
  },
  {
   "cell_type": "code",
   "execution_count": null,
   "id": "802e2c0f",
   "metadata": {},
   "outputs": [],
   "source": []
  },
  {
   "cell_type": "code",
   "execution_count": null,
   "id": "72c91aa9",
   "metadata": {},
   "outputs": [],
   "source": []
  }
 ],
 "metadata": {
  "kernelspec": {
   "display_name": "Python 3 (ipykernel)",
   "language": "python",
   "name": "python3"
  },
  "language_info": {
   "codemirror_mode": {
    "name": "ipython",
    "version": 3
   },
   "file_extension": ".py",
   "mimetype": "text/x-python",
   "name": "python",
   "nbconvert_exporter": "python",
   "pygments_lexer": "ipython3",
   "version": "3.9.7"
  }
 },
 "nbformat": 4,
 "nbformat_minor": 5
}
