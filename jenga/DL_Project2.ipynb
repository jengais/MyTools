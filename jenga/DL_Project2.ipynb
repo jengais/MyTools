{
 "cells": [
  {
   "cell_type": "code",
   "execution_count": 1,
   "metadata": {},
   "outputs": [],
   "source": [
    "import pandas as pd\n",
    "import numpy\n",
    "from sklearn.metrics import accuracy_score\n",
    "from sklearn.model_selection import train_test_split\n",
    "from gensim.models import Word2Vec\n",
    "\n",
    "from sklearn.decomposition import PCA\n",
    "from matplotlib import pyplot\n",
    "from keras.models import Sequential\n",
    "from keras.layers import Dense\n",
    "from keras.wrappers.scikit_learn import KerasClassifier\n",
    "from sklearn.model_selection import cross_val_score\n",
    "from sklearn.model_selection import StratifiedKFold\n",
    "\n",
    "import time\n",
    "from datetime import datetime "
   ]
  },
  {
   "cell_type": "code",
   "execution_count": null,
   "metadata": {},
   "outputs": [],
   "source": []
  },
  {
   "cell_type": "code",
   "execution_count": 2,
   "metadata": {},
   "outputs": [
    {
     "data": {
      "text/html": [
       "<div>\n",
       "<style scoped>\n",
       "    .dataframe tbody tr th:only-of-type {\n",
       "        vertical-align: middle;\n",
       "    }\n",
       "\n",
       "    .dataframe tbody tr th {\n",
       "        vertical-align: top;\n",
       "    }\n",
       "\n",
       "    .dataframe thead th {\n",
       "        text-align: right;\n",
       "    }\n",
       "</style>\n",
       "<table border=\"1\" class=\"dataframe\">\n",
       "  <thead>\n",
       "    <tr style=\"text-align: right;\">\n",
       "      <th></th>\n",
       "      <th>sid</th>\n",
       "      <th>sentence</th>\n",
       "      <th>label</th>\n",
       "    </tr>\n",
       "  </thead>\n",
       "  <tbody>\n",
       "    <tr>\n",
       "      <th>0</th>\n",
       "      <td>0</td>\n",
       "      <td>Government also performs the important job of...</td>\n",
       "      <td>1</td>\n",
       "    </tr>\n",
       "    <tr>\n",
       "      <th>1</th>\n",
       "      <td>1</td>\n",
       "      <td>The second feature is the existence of sharp p...</td>\n",
       "      <td>1</td>\n",
       "    </tr>\n",
       "    <tr>\n",
       "      <th>2</th>\n",
       "      <td>2</td>\n",
       "      <td>Allen Schick .\\n</td>\n",
       "      <td>0</td>\n",
       "    </tr>\n",
       "    <tr>\n",
       "      <th>3</th>\n",
       "      <td>3</td>\n",
       "      <td>Yet , not all bureaucracies are alike .\\n</td>\n",
       "      <td>0</td>\n",
       "    </tr>\n",
       "    <tr>\n",
       "      <th>4</th>\n",
       "      <td>4</td>\n",
       "      <td>Approximately 75 percent of recently emerging ...</td>\n",
       "      <td>1</td>\n",
       "    </tr>\n",
       "    <tr>\n",
       "      <th>...</th>\n",
       "      <td>...</td>\n",
       "      <td>...</td>\n",
       "      <td>...</td>\n",
       "    </tr>\n",
       "    <tr>\n",
       "      <th>1204</th>\n",
       "      <td>1204</td>\n",
       "      <td>For example , a municipal bond is issued by ci...</td>\n",
       "      <td>1</td>\n",
       "    </tr>\n",
       "    <tr>\n",
       "      <th>1205</th>\n",
       "      <td>1205</td>\n",
       "      <td>The line - item veto gives governors the abili...</td>\n",
       "      <td>0</td>\n",
       "    </tr>\n",
       "    <tr>\n",
       "      <th>1206</th>\n",
       "      <td>1206</td>\n",
       "      <td>When reading Freud ’s theories , it is importa...</td>\n",
       "      <td>0</td>\n",
       "    </tr>\n",
       "    <tr>\n",
       "      <th>1207</th>\n",
       "      <td>1207</td>\n",
       "      <td>Consequently , all of these organisms also hav...</td>\n",
       "      <td>0</td>\n",
       "    </tr>\n",
       "    <tr>\n",
       "      <th>1208</th>\n",
       "      <td>1208</td>\n",
       "      <td>The increase in length of the shoot and the r...</td>\n",
       "      <td>1</td>\n",
       "    </tr>\n",
       "  </tbody>\n",
       "</table>\n",
       "<p>1209 rows × 3 columns</p>\n",
       "</div>"
      ],
      "text/plain": [
       "       sid                                           sentence  label\n",
       "0        0   Government also performs the important job of...      1\n",
       "1        1  The second feature is the existence of sharp p...      1\n",
       "2        2                                   Allen Schick .\\n      0\n",
       "3        3          Yet , not all bureaucracies are alike .\\n      0\n",
       "4        4  Approximately 75 percent of recently emerging ...      1\n",
       "...    ...                                                ...    ...\n",
       "1204  1204  For example , a municipal bond is issued by ci...      1\n",
       "1205  1205  The line - item veto gives governors the abili...      0\n",
       "1206  1206  When reading Freud ’s theories , it is importa...      0\n",
       "1207  1207  Consequently , all of these organisms also hav...      0\n",
       "1208  1208   The increase in length of the shoot and the r...      1\n",
       "\n",
       "[1209 rows x 3 columns]"
      ]
     },
     "execution_count": 2,
     "metadata": {},
     "output_type": "execute_result"
    }
   ],
   "source": [
    "test = pd.read_csv(\"C:\\\\MyFoulder\\\\SCE\\שנה ג\\\\סמסטר ב\\\\מבוא ללמידה עמוקה\\\\2\\\\test_ex2_dl2021b.csv\")\n",
    "train = pd.read_csv(\"C:\\\\MyFoulder\\\\SCE\\שנה ג\\\\סמסטר ב\\\\מבוא ללמידה עמוקה\\\\2\\\\train_ex2_dl2021b.csv\")\n",
    "train"
   ]
  },
  {
   "cell_type": "code",
   "execution_count": 3,
   "metadata": {},
   "outputs": [
    {
     "data": {
      "text/html": [
       "<div>\n",
       "<style scoped>\n",
       "    .dataframe tbody tr th:only-of-type {\n",
       "        vertical-align: middle;\n",
       "    }\n",
       "\n",
       "    .dataframe tbody tr th {\n",
       "        vertical-align: top;\n",
       "    }\n",
       "\n",
       "    .dataframe thead th {\n",
       "        text-align: right;\n",
       "    }\n",
       "</style>\n",
       "<table border=\"1\" class=\"dataframe\">\n",
       "  <thead>\n",
       "    <tr style=\"text-align: right;\">\n",
       "      <th></th>\n",
       "      <th>sid</th>\n",
       "      <th>sentence</th>\n",
       "    </tr>\n",
       "  </thead>\n",
       "  <tbody>\n",
       "    <tr>\n",
       "      <th>0</th>\n",
       "      <td>0</td>\n",
       "      <td>The equal - time rule , for instance , states ...</td>\n",
       "    </tr>\n",
       "    <tr>\n",
       "      <th>1</th>\n",
       "      <td>1</td>\n",
       "      <td>Rather , obsessions are characterized as pers...</td>\n",
       "    </tr>\n",
       "    <tr>\n",
       "      <th>2</th>\n",
       "      <td>2</td>\n",
       "      <td>Choices made along the labor - leisure budget ...</td>\n",
       "    </tr>\n",
       "    <tr>\n",
       "      <th>3</th>\n",
       "      <td>3</td>\n",
       "      <td>Social and religious leaders — rabbis , priest...</td>\n",
       "    </tr>\n",
       "    <tr>\n",
       "      <th>4</th>\n",
       "      <td>4</td>\n",
       "      <td>The processes of homeostasis and temperature c...</td>\n",
       "    </tr>\n",
       "    <tr>\n",
       "      <th>...</th>\n",
       "      <td>...</td>\n",
       "      <td>...</td>\n",
       "    </tr>\n",
       "    <tr>\n",
       "      <th>425</th>\n",
       "      <td>425</td>\n",
       "      <td>The rays themselves are called nuclear radiati...</td>\n",
       "    </tr>\n",
       "    <tr>\n",
       "      <th>426</th>\n",
       "      <td>426</td>\n",
       "      <td>According to Malthusian theory , three factors...</td>\n",
       "    </tr>\n",
       "    <tr>\n",
       "      <th>427</th>\n",
       "      <td>427</td>\n",
       "      <td>At the highest level of organization ( [ link ...</td>\n",
       "    </tr>\n",
       "    <tr>\n",
       "      <th>428</th>\n",
       "      <td>428</td>\n",
       "      <td>This is analogous to a phase transition in the...</td>\n",
       "    </tr>\n",
       "    <tr>\n",
       "      <th>429</th>\n",
       "      <td>429</td>\n",
       "      <td>Where were you when you first heard about the ...</td>\n",
       "    </tr>\n",
       "  </tbody>\n",
       "</table>\n",
       "<p>430 rows × 2 columns</p>\n",
       "</div>"
      ],
      "text/plain": [
       "     sid                                           sentence\n",
       "0      0  The equal - time rule , for instance , states ...\n",
       "1      1   Rather , obsessions are characterized as pers...\n",
       "2      2  Choices made along the labor - leisure budget ...\n",
       "3      3  Social and religious leaders — rabbis , priest...\n",
       "4      4  The processes of homeostasis and temperature c...\n",
       "..   ...                                                ...\n",
       "425  425  The rays themselves are called nuclear radiati...\n",
       "426  426  According to Malthusian theory , three factors...\n",
       "427  427  At the highest level of organization ( [ link ...\n",
       "428  428  This is analogous to a phase transition in the...\n",
       "429  429  Where were you when you first heard about the ...\n",
       "\n",
       "[430 rows x 2 columns]"
      ]
     },
     "execution_count": 3,
     "metadata": {},
     "output_type": "execute_result"
    }
   ],
   "source": [
    "test"
   ]
  },
  {
   "cell_type": "code",
   "execution_count": 4,
   "metadata": {},
   "outputs": [],
   "source": [
    "train['sentence'] = train['sentence'].str.replace('[^\\w\\s]','')\n",
    "train['sentence'] = train['sentence'].str.replace('[^a-zA-z ]','')\n",
    "\n",
    "test['sentence'] = test['sentence'].str.replace('[^\\w\\s]','')\n",
    "test['sentence'] = test['sentence'].str.replace('[^a-zA-z ]','')"
   ]
  },
  {
   "cell_type": "code",
   "execution_count": 5,
   "metadata": {},
   "outputs": [
    {
     "data": {
      "text/plain": [
       "sid         0\n",
       "sentence    0\n",
       "label       0\n",
       "dtype: int64"
      ]
     },
     "execution_count": 5,
     "metadata": {},
     "output_type": "execute_result"
    }
   ],
   "source": [
    "train.isnull().sum()"
   ]
  },
  {
   "cell_type": "code",
   "execution_count": 6,
   "metadata": {},
   "outputs": [
    {
     "data": {
      "text/plain": [
       "sid         0\n",
       "sentence    0\n",
       "dtype: int64"
      ]
     },
     "execution_count": 6,
     "metadata": {},
     "output_type": "execute_result"
    }
   ],
   "source": [
    "test.isnull().sum()"
   ]
  },
  {
   "cell_type": "code",
   "execution_count": 7,
   "metadata": {},
   "outputs": [
    {
     "data": {
      "text/html": [
       "<div>\n",
       "<style scoped>\n",
       "    .dataframe tbody tr th:only-of-type {\n",
       "        vertical-align: middle;\n",
       "    }\n",
       "\n",
       "    .dataframe tbody tr th {\n",
       "        vertical-align: top;\n",
       "    }\n",
       "\n",
       "    .dataframe thead th {\n",
       "        text-align: right;\n",
       "    }\n",
       "</style>\n",
       "<table border=\"1\" class=\"dataframe\">\n",
       "  <thead>\n",
       "    <tr style=\"text-align: right;\">\n",
       "      <th></th>\n",
       "      <th>sentence</th>\n",
       "    </tr>\n",
       "  </thead>\n",
       "  <tbody>\n",
       "    <tr>\n",
       "      <th>0</th>\n",
       "      <td>Government also performs the important job of...</td>\n",
       "    </tr>\n",
       "    <tr>\n",
       "      <th>1</th>\n",
       "      <td>The second feature is the existence of sharp p...</td>\n",
       "    </tr>\n",
       "    <tr>\n",
       "      <th>2</th>\n",
       "      <td>Allen Schick</td>\n",
       "    </tr>\n",
       "    <tr>\n",
       "      <th>3</th>\n",
       "      <td>Yet  not all bureaucracies are alike</td>\n",
       "    </tr>\n",
       "    <tr>\n",
       "      <th>4</th>\n",
       "      <td>Approximately  percent of recently emerging in...</td>\n",
       "    </tr>\n",
       "    <tr>\n",
       "      <th>...</th>\n",
       "      <td>...</td>\n",
       "    </tr>\n",
       "    <tr>\n",
       "      <th>1204</th>\n",
       "      <td>For example  a municipal bond is issued by cit...</td>\n",
       "    </tr>\n",
       "    <tr>\n",
       "      <th>1205</th>\n",
       "      <td>The line  item veto gives governors the abilit...</td>\n",
       "    </tr>\n",
       "    <tr>\n",
       "      <th>1206</th>\n",
       "      <td>When reading Freud s theories  it is important...</td>\n",
       "    </tr>\n",
       "    <tr>\n",
       "      <th>1207</th>\n",
       "      <td>Consequently  all of these organisms also have...</td>\n",
       "    </tr>\n",
       "    <tr>\n",
       "      <th>1208</th>\n",
       "      <td>The increase in length of the shoot and the r...</td>\n",
       "    </tr>\n",
       "  </tbody>\n",
       "</table>\n",
       "<p>1209 rows × 1 columns</p>\n",
       "</div>"
      ],
      "text/plain": [
       "                                               sentence\n",
       "0      Government also performs the important job of...\n",
       "1     The second feature is the existence of sharp p...\n",
       "2                                         Allen Schick \n",
       "3                 Yet  not all bureaucracies are alike \n",
       "4     Approximately  percent of recently emerging in...\n",
       "...                                                 ...\n",
       "1204  For example  a municipal bond is issued by cit...\n",
       "1205  The line  item veto gives governors the abilit...\n",
       "1206  When reading Freud s theories  it is important...\n",
       "1207  Consequently  all of these organisms also have...\n",
       "1208   The increase in length of the shoot and the r...\n",
       "\n",
       "[1209 rows x 1 columns]"
      ]
     },
     "execution_count": 7,
     "metadata": {},
     "output_type": "execute_result"
    }
   ],
   "source": [
    "X = train.drop(['sid', 'label'], axis=1)\n",
    "X"
   ]
  },
  {
   "cell_type": "code",
   "execution_count": 8,
   "metadata": {},
   "outputs": [
    {
     "data": {
      "text/plain": [
       "0       1\n",
       "1       1\n",
       "2       0\n",
       "3       0\n",
       "4       1\n",
       "       ..\n",
       "1204    1\n",
       "1205    0\n",
       "1206    0\n",
       "1207    0\n",
       "1208    1\n",
       "Name: label, Length: 1209, dtype: int64"
      ]
     },
     "execution_count": 8,
     "metadata": {},
     "output_type": "execute_result"
    }
   ],
   "source": [
    "y = train['label']\n",
    "y"
   ]
  },
  {
   "cell_type": "code",
   "execution_count": 9,
   "metadata": {},
   "outputs": [],
   "source": [
    "X_train, X_test, y_train, y_test = train_test_split(X, y, test_size=0.2)"
   ]
  },
  {
   "cell_type": "code",
   "execution_count": 10,
   "metadata": {},
   "outputs": [
    {
     "data": {
      "text/html": [
       "<div>\n",
       "<style scoped>\n",
       "    .dataframe tbody tr th:only-of-type {\n",
       "        vertical-align: middle;\n",
       "    }\n",
       "\n",
       "    .dataframe tbody tr th {\n",
       "        vertical-align: top;\n",
       "    }\n",
       "\n",
       "    .dataframe thead th {\n",
       "        text-align: right;\n",
       "    }\n",
       "</style>\n",
       "<table border=\"1\" class=\"dataframe\">\n",
       "  <thead>\n",
       "    <tr style=\"text-align: right;\">\n",
       "      <th></th>\n",
       "      <th>sentence</th>\n",
       "    </tr>\n",
       "  </thead>\n",
       "  <tbody>\n",
       "    <tr>\n",
       "      <th>253</th>\n",
       "      <td>Indeed  voting itself may reflect merely a la...</td>\n",
       "    </tr>\n",
       "    <tr>\n",
       "      <th>429</th>\n",
       "      <td>Think about what you do when you walk into an ...</td>\n",
       "    </tr>\n",
       "    <tr>\n",
       "      <th>734</th>\n",
       "      <td>The two most important laws are the Freedom of...</td>\n",
       "    </tr>\n",
       "    <tr>\n",
       "      <th>1116</th>\n",
       "      <td>In   under the cloak of anonymity  the associa...</td>\n",
       "    </tr>\n",
       "    <tr>\n",
       "      <th>282</th>\n",
       "      <td>Often  the process begins with a single motive...</td>\n",
       "    </tr>\n",
       "    <tr>\n",
       "      <th>...</th>\n",
       "      <td>...</td>\n",
       "    </tr>\n",
       "    <tr>\n",
       "      <th>581</th>\n",
       "      <td>Auditory hallucinations  hearing voices  occur...</td>\n",
       "    </tr>\n",
       "    <tr>\n",
       "      <th>688</th>\n",
       "      <td>These germ layers are programmed to develop in...</td>\n",
       "    </tr>\n",
       "    <tr>\n",
       "      <th>265</th>\n",
       "      <td>The dorsal cavity contains the cranial and the...</td>\n",
       "    </tr>\n",
       "    <tr>\n",
       "      <th>1127</th>\n",
       "      <td>Consider this example  You live in Washington ...</td>\n",
       "    </tr>\n",
       "    <tr>\n",
       "      <th>1072</th>\n",
       "      <td>A larger budget deficit will increase demand ...</td>\n",
       "    </tr>\n",
       "  </tbody>\n",
       "</table>\n",
       "<p>967 rows × 1 columns</p>\n",
       "</div>"
      ],
      "text/plain": [
       "                                               sentence\n",
       "253    Indeed  voting itself may reflect merely a la...\n",
       "429   Think about what you do when you walk into an ...\n",
       "734   The two most important laws are the Freedom of...\n",
       "1116  In   under the cloak of anonymity  the associa...\n",
       "282   Often  the process begins with a single motive...\n",
       "...                                                 ...\n",
       "581   Auditory hallucinations  hearing voices  occur...\n",
       "688   These germ layers are programmed to develop in...\n",
       "265   The dorsal cavity contains the cranial and the...\n",
       "1127  Consider this example  You live in Washington ...\n",
       "1072   A larger budget deficit will increase demand ...\n",
       "\n",
       "[967 rows x 1 columns]"
      ]
     },
     "execution_count": 10,
     "metadata": {},
     "output_type": "execute_result"
    }
   ],
   "source": [
    "X_train\n",
    "#X_test\n",
    "#y_train\n",
    "#y_test"
   ]
  },
  {
   "cell_type": "code",
   "execution_count": null,
   "metadata": {},
   "outputs": [],
   "source": []
  },
  {
   "cell_type": "code",
   "execution_count": 11,
   "metadata": {},
   "outputs": [
    {
     "name": "stdout",
     "output_type": "stream",
     "text": [
      "967\n",
      "Word2Vec(vocab=5214, vector_size=300, alpha=0.025)\n"
     ]
    }
   ],
   "source": [
    "sentences = [w.split() for w in X_train['sentence']]\n",
    "print(len(sentences))\n",
    "model = Word2Vec(sentences, min_count=1, vector_size=300)\n",
    "print(model)"
   ]
  },
  {
   "cell_type": "code",
   "execution_count": 12,
   "metadata": {},
   "outputs": [],
   "source": [
    "words = list(model.wv.index_to_key)\n",
    "#print(model.wv.get_vector(\"the\", norm=True))\n",
    "#model.wv.most_similar('data')"
   ]
  },
  {
   "cell_type": "code",
   "execution_count": null,
   "metadata": {},
   "outputs": [],
   "source": []
  },
  {
   "cell_type": "code",
   "execution_count": 3,
   "metadata": {},
   "outputs": [
    {
     "ename": "NameError",
     "evalue": "name 'X_train' is not defined",
     "output_type": "error",
     "traceback": [
      "\u001b[1;31m---------------------------------------------------------------------------\u001b[0m",
      "\u001b[1;31mNameError\u001b[0m                                 Traceback (most recent call last)",
      "\u001b[1;32m<ipython-input-3-3ac22def54eb>\u001b[0m in \u001b[0;36m<module>\u001b[1;34m\u001b[0m\n\u001b[1;32m----> 1\u001b[1;33m \u001b[0msen\u001b[0m \u001b[1;33m=\u001b[0m \u001b[0mlist\u001b[0m\u001b[1;33m(\u001b[0m\u001b[0mX_train\u001b[0m\u001b[1;33m[\u001b[0m\u001b[1;34m'sentence'\u001b[0m\u001b[1;33m]\u001b[0m\u001b[1;33m)\u001b[0m\u001b[1;33m\u001b[0m\u001b[1;33m\u001b[0m\u001b[0m\n\u001b[0m\u001b[0;32m      2\u001b[0m \u001b[0mavgs\u001b[0m \u001b[1;33m=\u001b[0m \u001b[1;33m[\u001b[0m\u001b[1;33m]\u001b[0m\u001b[1;33m\u001b[0m\u001b[1;33m\u001b[0m\u001b[0m\n\u001b[0;32m      3\u001b[0m \u001b[0mvecs\u001b[0m \u001b[1;33m=\u001b[0m \u001b[1;33m[\u001b[0m\u001b[1;33m]\u001b[0m\u001b[1;33m\u001b[0m\u001b[1;33m\u001b[0m\u001b[0m\n\u001b[0;32m      4\u001b[0m \u001b[1;32mfor\u001b[0m \u001b[0ms\u001b[0m \u001b[1;32min\u001b[0m \u001b[0msen\u001b[0m\u001b[1;33m:\u001b[0m\u001b[1;33m\u001b[0m\u001b[1;33m\u001b[0m\u001b[0m\n\u001b[0;32m      5\u001b[0m     \u001b[1;32mfor\u001b[0m \u001b[0mw\u001b[0m \u001b[1;32min\u001b[0m \u001b[0ms\u001b[0m\u001b[1;33m.\u001b[0m\u001b[0msplit\u001b[0m\u001b[1;33m(\u001b[0m\u001b[1;33m)\u001b[0m\u001b[1;33m:\u001b[0m\u001b[1;33m\u001b[0m\u001b[1;33m\u001b[0m\u001b[0m\n",
      "\u001b[1;31mNameError\u001b[0m: name 'X_train' is not defined"
     ]
    }
   ],
   "source": [
    "sen = list(X_train['sentence'])\n",
    "avgs = []\n",
    "vecs = []\n",
    "for s in sen:\n",
    "    for w in s.split():\n",
    "        #if w in words:\n",
    "        vecs.append(numpy.array(model.wv.get_vector(w, norm=True)))\n",
    "    if len(s.split()) == 0:\n",
    "        #avgs.append(sum(vecs)/1)\n",
    "        avgs.append(numpy.array([avgs[0][0] for i in range(300)]))\n",
    "        #print(avgs[len(avgs)-1])\n",
    "    else:\n",
    "        avgs.append(sum(vecs)/len(s.split()))\n",
    "    vecs.clear()\n"
   ]
  },
  {
   "cell_type": "code",
   "execution_count": null,
   "metadata": {},
   "outputs": [],
   "source": []
  },
  {
   "cell_type": "code",
   "execution_count": null,
   "metadata": {},
   "outputs": [],
   "source": []
  },
  {
   "cell_type": "code",
   "execution_count": 14,
   "metadata": {},
   "outputs": [],
   "source": [
    "start_time = datetime.now() "
   ]
  },
  {
   "cell_type": "code",
   "execution_count": 15,
   "metadata": {},
   "outputs": [
    {
     "name": "stdout",
     "output_type": "stream",
     "text": [
      "Baseline: 68.05% (0.27%)\n"
     ]
    }
   ],
   "source": [
    "def create_baseline():\n",
    "    model = Sequential()\n",
    "    model.add(Dense(100, input_dim=300, activation='relu'))\n",
    "    model.add(Dense(100, activation='relu'))\n",
    "    model.add(Dense(1, activation='sigmoid'))\n",
    "    model.compile(loss='binary_crossentropy', optimizer='adam', metrics=['accuracy'])\n",
    "    return model\n",
    "\n",
    "# evaluate model with standardized dataset\n",
    "estimator = KerasClassifier(build_fn=create_baseline, epochs=100, batch_size=10, verbose=0)\n",
    "kfold = StratifiedKFold(n_splits=10, shuffle=True)\n",
    "results = cross_val_score(estimator, numpy.array(avgs), y_train, cv=kfold)\n",
    "\n",
    "print(\"Baseline: %.2f%% (%.2f%%)\" % (results.mean()*100, results.std()*100))"
   ]
  },
  {
   "cell_type": "code",
   "execution_count": null,
   "metadata": {},
   "outputs": [],
   "source": []
  },
  {
   "cell_type": "code",
   "execution_count": 16,
   "metadata": {},
   "outputs": [
    {
     "name": "stdout",
     "output_type": "stream",
     "text": [
      "Time elapsed in (hh:mm:ss.ms): \"0:00:07.486930\"\n"
     ]
    }
   ],
   "source": [
    "print('Time elapsed in (hh:mm:ss.ms): \"{}\"'.format(datetime.now() - start_time))"
   ]
  },
  {
   "cell_type": "code",
   "execution_count": null,
   "metadata": {},
   "outputs": [],
   "source": []
  },
  {
   "cell_type": "code",
   "execution_count": 17,
   "metadata": {
    "scrolled": true
   },
   "outputs": [
    {
     "name": "stdout",
     "output_type": "stream",
     "text": [
      "Epoch 1/10\n",
      "97/97 [==============================] - 0s 457us/step - loss: 0.6518 - accuracy: 0.6632\n",
      "Epoch 2/10\n",
      "97/97 [==============================] - 0s 468us/step - loss: 0.6521 - accuracy: 0.6581\n",
      "Epoch 3/10\n",
      "97/97 [==============================] - 0s 468us/step - loss: 0.6170 - accuracy: 0.6972\n",
      "Epoch 4/10\n",
      "97/97 [==============================] - 0s 468us/step - loss: 0.6146 - accuracy: 0.7018\n",
      "Epoch 5/10\n",
      "97/97 [==============================] - 0s 467us/step - loss: 0.6249 - accuracy: 0.6874\n",
      "Epoch 6/10\n",
      "97/97 [==============================] - 0s 467us/step - loss: 0.6252 - accuracy: 0.6901\n",
      "Epoch 7/10\n",
      "97/97 [==============================] - 0s 467us/step - loss: 0.6239 - accuracy: 0.6840\n",
      "Epoch 8/10\n",
      "97/97 [==============================] - 0s 468us/step - loss: 0.6287 - accuracy: 0.6813\n",
      "Epoch 9/10\n",
      "97/97 [==============================] - 0s 478us/step - loss: 0.6096 - accuracy: 0.7071\n",
      "Epoch 10/10\n",
      "97/97 [==============================] - 0s 467us/step - loss: 0.6329 - accuracy: 0.6669\n"
     ]
    },
    {
     "data": {
      "text/plain": [
       "<tensorflow.python.keras.callbacks.History at 0x29beaafd730>"
      ]
     },
     "execution_count": 17,
     "metadata": {},
     "output_type": "execute_result"
    }
   ],
   "source": [
    "model2 = create_baseline()\n",
    "model2.fit(numpy.array(avgs), y_train.values, epochs=100, batch_size=10, shuffle=True)"
   ]
  },
  {
   "cell_type": "code",
   "execution_count": null,
   "metadata": {},
   "outputs": [],
   "source": []
  },
  {
   "cell_type": "code",
   "execution_count": 18,
   "metadata": {},
   "outputs": [
    {
     "name": "stdout",
     "output_type": "stream",
     "text": [
      "430\n",
      "Word2Vec(vocab=3133, vector_size=300, alpha=0.025)\n"
     ]
    }
   ],
   "source": [
    "sentences = [w.split() for w in test['sentence']]\n",
    "print(len(sentences))\n",
    "model = Word2Vec(sentences, min_count=1, vector_size=300)\n",
    "print(model)"
   ]
  },
  {
   "cell_type": "code",
   "execution_count": 19,
   "metadata": {},
   "outputs": [],
   "source": [
    "sen = list(test['sentence'])\n",
    "avgs = []\n",
    "vecs = []\n",
    "for s in sen:\n",
    "    for w in s.split():\n",
    "        vecs.append(numpy.array(model.wv.get_vector(w, norm=True)))\n",
    "    if len(s.split()) == 0:\n",
    "        avgs.append(numpy.array([avgs[0][0] for i in range(300)]))\n",
    "    else:\n",
    "        avgs.append(sum(vecs)/len(s.split()))\n",
    "    vecs.clear()\n"
   ]
  },
  {
   "cell_type": "code",
   "execution_count": null,
   "metadata": {},
   "outputs": [],
   "source": []
  },
  {
   "cell_type": "code",
   "execution_count": 20,
   "metadata": {},
   "outputs": [
    {
     "name": "stderr",
     "output_type": "stream",
     "text": [
      "C:\\Users\\jenga\\anaconda3\\lib\\site-packages\\tensorflow\\python\\keras\\engine\\sequential.py:450: UserWarning: `model.predict_classes()` is deprecated and will be removed after 2021-01-01. Please use instead:* `np.argmax(model.predict(x), axis=-1)`,   if your model does multi-class classification   (e.g. if it uses a `softmax` last-layer activation).* `(model.predict(x) > 0.5).astype(\"int32\")`,   if your model does binary classification   (e.g. if it uses a `sigmoid` last-layer activation).\n",
      "  warnings.warn('`model.predict_classes()` is deprecated and '\n"
     ]
    }
   ],
   "source": [
    "test_pred = (model2.predict_classes(numpy.array(avgs)) > 0.5).astype(\"int32\")\n",
    "#test_pred = model2.predict_classes(numpy.array(avgs))"
   ]
  },
  {
   "cell_type": "code",
   "execution_count": 21,
   "metadata": {},
   "outputs": [],
   "source": [
    "#test_pred"
   ]
  },
  {
   "cell_type": "code",
   "execution_count": 22,
   "metadata": {},
   "outputs": [],
   "source": [
    "#len(test_pred)"
   ]
  },
  {
   "cell_type": "code",
   "execution_count": 23,
   "metadata": {},
   "outputs": [
    {
     "name": "stdout",
     "output_type": "stream",
     "text": [
      "0\n"
     ]
    }
   ],
   "source": [
    "j = 0\n",
    "for i in range(430):\n",
    "    if test_pred[i]==1:\n",
    "        j+=1\n",
    "print(j)"
   ]
  },
  {
   "cell_type": "code",
   "execution_count": 24,
   "metadata": {},
   "outputs": [],
   "source": [
    "# df3 = pd.read_csv(\"C:\\\\MyFoulder\\\\SCE\\שנה ג\\\\סמסטר ב\\\\מבוא ללמידה עמוקה\\\\2\\\\sample_submission_ex2_dl2021b.csv\")\n",
    "# df3['label'] = test_pred\n",
    "\n",
    "# df3.to_csv('Project2.15.csv', index = False)\n",
    "\n",
    "#2.15 30"
   ]
  },
  {
   "cell_type": "code",
   "execution_count": 25,
   "metadata": {},
   "outputs": [
    {
     "name": "stdout",
     "output_type": "stream",
     "text": [
      "\n",
      "len:  0\n"
     ]
    }
   ],
   "source": [
    "k = 0\n",
    "for i in range(430):\n",
    "    if test_pred[i]==1:\n",
    "        k+=1\n",
    "        print(i)\n",
    "print('\\nlen: ', k)"
   ]
  },
  {
   "cell_type": "code",
   "execution_count": null,
   "metadata": {},
   "outputs": [],
   "source": []
  },
  {
   "cell_type": "code",
   "execution_count": 26,
   "metadata": {},
   "outputs": [],
   "source": [
    "# kuku = pd.read_csv(\"Project2.5.csv\")\n",
    "# kuku_len = kuku.shape\n",
    "# kuku_len\n",
    "\n",
    "# 74\n",
    "# 116\n",
    "# 141\n",
    "# 159\n",
    "# 170\n",
    "# 219\n",
    "# 304\n",
    "# 316\n",
    "# 325\n",
    "# 343\n",
    "# 399\n",
    "# 411\n",
    "# 413\n",
    "# 416\n",
    "# 425\n",
    "\n",
    "# len:  15\n",
    "\n",
    "# 34\n",
    "# 93\n",
    "# 184\n",
    "# 247\n",
    "# 322\n",
    "# 329\n",
    "# 330\n",
    "# 346\n",
    "# 363\n",
    "# 368\n",
    "# 410\n",
    "\n",
    "# len:  11\n",
    "\n",
    "# 20\n",
    "# 56\n",
    "# 78\n",
    "# 338\n",
    "# 358\n",
    "# 383\n",
    "# 399\n",
    "# 406\n",
    "\n",
    "# len:  8\n",
    "\n",
    "# # 2\n",
    "# # 193\n",
    "# # 244\n",
    "# # 259\n",
    "# # 318\n",
    "# # 328\n",
    "# # 338\n",
    "# # 388\n",
    "# # 402\n",
    "\n",
    "# # len:  9\n",
    "\n",
    "\n",
    "# 12\n",
    "# 39\n",
    "# 115\n",
    "# 326\n",
    "# 399\n",
    "# 401\n",
    "# 425\n",
    "\n",
    "# len:  7"
   ]
  },
  {
   "cell_type": "code",
   "execution_count": null,
   "metadata": {},
   "outputs": [],
   "source": []
  },
  {
   "cell_type": "code",
   "execution_count": null,
   "metadata": {},
   "outputs": [],
   "source": []
  },
  {
   "cell_type": "code",
   "execution_count": 27,
   "metadata": {},
   "outputs": [],
   "source": [
    "# print('X_train len: ',len(X_train))\n",
    "# print('y_train len: ',len(y_train))\n",
    "# print('avgs len: ',len(avgs))\n",
    "# print('vecs len: ',len(vecs))\n",
    "# print('words: ',len(words))\n",
    "# print('X_train: ',X_train.shape)\n",
    "# print('y_train: ',y_train.shape)"
   ]
  },
  {
   "cell_type": "code",
   "execution_count": null,
   "metadata": {},
   "outputs": [],
   "source": []
  },
  {
   "cell_type": "code",
   "execution_count": 28,
   "metadata": {},
   "outputs": [],
   "source": [
    "# for i in range(len(avgs)):\n",
    "#     if isinstance(avgs[i], float):\n",
    "#         print('fdbsfbsd')\n",
    "#         print(avgs[i],i)\n",
    "#         avgs[i]=numpy.array(avgs[i-1])"
   ]
  },
  {
   "cell_type": "code",
   "execution_count": null,
   "metadata": {},
   "outputs": [],
   "source": []
  },
  {
   "cell_type": "code",
   "execution_count": 29,
   "metadata": {},
   "outputs": [],
   "source": [
    "# df = pd.read_csv(\"C:\\MyFoulder\\SCE\\שנה ג\\סמסטר ב\\מבוא ללמידה עמוקה\\kaggle\\\\train.csv\")\n",
    "# df\n",
    "# df.isnull().sum()\n",
    "# X = df.drop(['id', 'label'], axis=1)\n",
    "# X\n",
    "# y = df['label']\n",
    "# y\n",
    "# X_train, X_test, y_train, y_test = train_test_split(X, y, test_size=0.3)\n",
    "# X_train\n",
    "# #X_test\n",
    "# #y_train\n",
    "# #y_test\n",
    "# y_train.shape\n",
    "# sentences = [w.split() for w in X_train['data']]\n",
    "# print(len(sentences))\n",
    "# model = Word2Vec(sentences, min_count=1, vector_size=300)\n",
    "# print(model)\n",
    "# words = list(model.wv.index_to_key)\n",
    "# words\n",
    "# #print(model.wv.get_vector(\"tea\", norm=True))\n",
    "# #model.wv.most_similar('data')\n",
    "# q = []\n",
    "# for x in words:\n",
    "#     q.append(model.wv.get_vector(x, norm=True).tolist())\n",
    "# print(type(q[0]))"
   ]
  },
  {
   "cell_type": "code",
   "execution_count": null,
   "metadata": {},
   "outputs": [],
   "source": []
  },
  {
   "cell_type": "code",
   "execution_count": 30,
   "metadata": {},
   "outputs": [],
   "source": [
    "# from numpy import loadtxt\n",
    "# from keras.models import Sequential\n",
    "# from keras.layers import Dense\n",
    "\n",
    "\n",
    "# # define the keras model\n",
    "# model = Sequential()\n",
    "# model.add(Dense(300, input_dim=300, activation='relu'))\n",
    "# model.add(Dense(1, activation='sigmoid'))\n",
    "# # compile the keras model\n",
    "# model.compile(loss='binary_crossentropy', optimizer='adam', metrics=['accuracy'])\n",
    "# # fit the keras model on the dataset\n",
    "# model.fit(avgs, y, epochs=150, batch_size=10)\n",
    "# # evaluate the keras model\n",
    "# _, accuracy = model.evaluate(numpy.asarray(avgs), y_train)\n",
    "# print('Accuracy: %.2f' % (accuracy*100))"
   ]
  }
 ],
 "metadata": {
  "kernelspec": {
   "display_name": "Python 3",
   "language": "python",
   "name": "python3"
  },
  "language_info": {
   "codemirror_mode": {
    "name": "ipython",
    "version": 3
   },
   "file_extension": ".py",
   "mimetype": "text/x-python",
   "name": "python",
   "nbconvert_exporter": "python",
   "pygments_lexer": "ipython3",
   "version": "3.8.5"
  }
 },
 "nbformat": 4,
 "nbformat_minor": 4
}
