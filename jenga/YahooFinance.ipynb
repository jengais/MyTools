{
 "cells": [
  {
   "cell_type": "code",
   "execution_count": 1,
   "id": "a7c993fd",
   "metadata": {},
   "outputs": [
    {
     "data": {
      "text/plain": [
       "{'zip': '98052-6399',\n",
       " 'sector': 'Technology',\n",
       " 'fullTimeEmployees': 181000,\n",
       " 'longBusinessSummary': 'Microsoft Corporation develops, licenses, and supports software, services, devices, and solutions worldwide. Its Productivity and Business Processes segment offers Office, Exchange, SharePoint, Microsoft Teams, Office 365 Security and Compliance, and Skype for Business, as well as related Client Access Licenses (CAL); Skype, Outlook.com, OneDrive, and LinkedIn; and Dynamics 365, a set of cloud-based and on-premises business solutions for organizations and enterprise divisions. Its Intelligent Cloud segment licenses SQL, Windows Servers, Visual Studio, System Center, and related CALs; GitHub that provides a collaboration platform and code hosting service for developers; and Azure, a cloud platform. It also offers support services and Microsoft consulting services to assist customers in developing, deploying, and managing Microsoft server and desktop solutions; and training and certification on Microsoft products. Its More Personal Computing segment provides Windows original equipment manufacturer (OEM) licensing and other non-volume licensing of the Windows operating system; Windows Commercial, such as volume licensing of the Windows operating system, Windows cloud services, and other Windows commercial offerings; patent licensing; Windows Internet of Things; and MSN advertising. It also offers Surface, PC accessories, PCs, tablets, gaming and entertainment consoles, and other devices; Gaming, including Xbox hardware, and Xbox content and services; video games and third-party video game royalties; and Search, including Bing and Microsoft advertising. It sells its products through OEMs, distributors, and resellers; and directly through digital marketplaces, online stores, and retail stores. It has collaborations with Dynatrace, Inc., Morgan Stanley, Micro Focus, WPP plc, ACI Worldwide, Inc., and iCIMS, Inc., as well as strategic relationships with Avaya Holdings Corp. and wejo Limited. Microsoft Corporation was founded in 1975 and is based in Redmond, Washington.',\n",
       " 'city': 'Redmond',\n",
       " 'phone': '425 882 8080',\n",
       " 'state': 'WA',\n",
       " 'country': 'United States',\n",
       " 'companyOfficers': [],\n",
       " 'website': 'https://www.microsoft.com',\n",
       " 'maxAge': 1,\n",
       " 'address1': 'One Microsoft Way',\n",
       " 'industry': 'Software—Infrastructure',\n",
       " 'ebitdaMargins': 0.49123,\n",
       " 'profitMargins': 0.38498002,\n",
       " 'grossMargins': 0.68825996,\n",
       " 'operatingCashflow': 83909001216,\n",
       " 'revenueGrowth': 0.201,\n",
       " 'operatingMargins': 0.42523998,\n",
       " 'ebitda': 90829996032,\n",
       " 'targetLowPrice': 298.18,\n",
       " 'recommendationKey': 'buy',\n",
       " 'grossProfits': 115856000000,\n",
       " 'freeCashflow': 46479876096,\n",
       " 'targetMedianPrice': 360,\n",
       " 'currentPrice': 284.47,\n",
       " 'earningsGrowth': 0.222,\n",
       " 'currentRatio': 2.247,\n",
       " 'returnOnAssets': 0.15248999,\n",
       " 'numberOfAnalystOpinions': 46,\n",
       " 'targetMeanPrice': 363.13,\n",
       " 'debtToEquity': 50.217,\n",
       " 'returnOnEquity': 0.49051,\n",
       " 'targetHighPrice': 425.96,\n",
       " 'totalCash': 125348003840,\n",
       " 'totalDebt': 80353001472,\n",
       " 'totalRevenue': 184902991872,\n",
       " 'totalCashPerShare': 16.72,\n",
       " 'financialCurrency': 'USD',\n",
       " 'revenuePerShare': 24.585,\n",
       " 'quickRatio': 2.05,\n",
       " 'recommendationMean': 1.7,\n",
       " 'exchange': 'NMS',\n",
       " 'shortName': 'Microsoft Corporation',\n",
       " 'longName': 'Microsoft Corporation',\n",
       " 'exchangeTimezoneName': 'America/New_York',\n",
       " 'exchangeTimezoneShortName': 'EDT',\n",
       " 'isEsgPopulated': True,\n",
       " 'gmtOffSetMilliseconds': '-14400000',\n",
       " 'underlyingSymbol': None,\n",
       " 'quoteType': 'EQUITY',\n",
       " 'symbol': 'MSFT',\n",
       " 'underlyingExchangeSymbol': None,\n",
       " 'headSymbol': None,\n",
       " 'messageBoardId': 'finmb_21835',\n",
       " 'uuid': 'b004b3ec-de24-385e-b2c1-923f10d3fb62',\n",
       " 'market': 'us_market',\n",
       " 'annualHoldingsTurnover': None,\n",
       " 'enterpriseToRevenue': 11.009,\n",
       " 'beta3Year': None,\n",
       " 'enterpriseToEbitda': 22.41,\n",
       " '52WeekChange': 0.14802861,\n",
       " 'morningStarRiskRating': None,\n",
       " 'forwardEps': 10.78,\n",
       " 'revenueQuarterlyGrowth': None,\n",
       " 'sharesOutstanding': 7479029760,\n",
       " 'fundInceptionDate': None,\n",
       " 'annualReportExpenseRatio': None,\n",
       " 'totalAssets': None,\n",
       " 'bookValue': 21.335,\n",
       " 'sharesShort': 35578015,\n",
       " 'sharesPercentSharesOut': 0.0047,\n",
       " 'fundFamily': None,\n",
       " 'lastFiscalYearEnd': 1625011200,\n",
       " 'heldPercentInstitutions': 0.72072,\n",
       " 'netIncomeToCommon': 71184998400,\n",
       " 'trailingEps': 9.389,\n",
       " 'lastDividendValue': 0.62,\n",
       " 'SandP52WeekChange': -0.00222826,\n",
       " 'priceToBook': 13.33349,\n",
       " 'heldPercentInsiders': 0.00059,\n",
       " 'nextFiscalYearEnd': 1688083200,\n",
       " 'yield': None,\n",
       " 'mostRecentQuarter': 1640908800,\n",
       " 'shortRatio': 1.2,\n",
       " 'sharesShortPreviousMonthDate': 1647302400,\n",
       " 'floatShares': 7489894342,\n",
       " 'beta': 0.908333,\n",
       " 'enterpriseValue': 2035535314944,\n",
       " 'priceHint': 2,\n",
       " 'threeYearAverageReturn': None,\n",
       " 'lastSplitDate': 1045526400,\n",
       " 'lastSplitFactor': '2:1',\n",
       " 'legalType': None,\n",
       " 'lastDividendDate': 1644969600,\n",
       " 'morningStarOverallRating': None,\n",
       " 'earningsQuarterlyGrowth': 0.214,\n",
       " 'priceToSalesTrailing12Months': 11.506356,\n",
       " 'dateShortInterest': 1649894400,\n",
       " 'pegRatio': 1.88,\n",
       " 'ytdReturn': None,\n",
       " 'forwardPE': 26.388683,\n",
       " 'lastCapGain': None,\n",
       " 'shortPercentOfFloat': 0.0047,\n",
       " 'sharesShortPriorMonth': 36442967,\n",
       " 'impliedSharesOutstanding': 0,\n",
       " 'category': None,\n",
       " 'fiveYearAverageReturn': None,\n",
       " 'previousClose': 277.52,\n",
       " 'regularMarketOpen': 277.71,\n",
       " 'twoHundredDayAverage': 305.0955,\n",
       " 'trailingAnnualDividendYield': 0.0085038915,\n",
       " 'payoutRatio': 0.2463,\n",
       " 'volume24Hr': None,\n",
       " 'regularMarketDayHigh': 284.86,\n",
       " 'navPrice': None,\n",
       " 'averageDailyVolume10Day': 35551540,\n",
       " 'regularMarketPreviousClose': 277.52,\n",
       " 'fiftyDayAverage': 292.1906,\n",
       " 'trailingAnnualDividendRate': 2.36,\n",
       " 'open': 277.71,\n",
       " 'toCurrency': None,\n",
       " 'averageVolume10days': 35551540,\n",
       " 'expireDate': None,\n",
       " 'algorithm': None,\n",
       " 'dividendRate': 2.48,\n",
       " 'exDividendDate': 1652832000,\n",
       " 'circulatingSupply': None,\n",
       " 'startDate': None,\n",
       " 'regularMarketDayLow': 276.22,\n",
       " 'currency': 'USD',\n",
       " 'trailingPE': 30.298222,\n",
       " 'regularMarketVolume': 35151105,\n",
       " 'lastMarket': None,\n",
       " 'maxSupply': None,\n",
       " 'openInterest': None,\n",
       " 'marketCap': 2127559655424,\n",
       " 'volumeAllCurrencies': None,\n",
       " 'strikePrice': None,\n",
       " 'averageVolume': 32871888,\n",
       " 'dayLow': 276.22,\n",
       " 'ask': 0,\n",
       " 'askSize': 900,\n",
       " 'volume': 35151105,\n",
       " 'fiftyTwoWeekHigh': 349.67,\n",
       " 'fromCurrency': None,\n",
       " 'fiveYearAvgDividendYield': 1.3,\n",
       " 'fiftyTwoWeekLow': 238.07,\n",
       " 'bid': 283.8,\n",
       " 'tradeable': False,\n",
       " 'dividendYield': 0.0087,\n",
       " 'bidSize': 800,\n",
       " 'dayHigh': 284.86,\n",
       " 'regularMarketPrice': 284.47,\n",
       " 'preMarketPrice': 284.84,\n",
       " 'logo_url': 'https://logo.clearbit.com/microsoft.com',\n",
       " 'trailingPegRatio': 1.9059}"
      ]
     },
     "execution_count": 1,
     "metadata": {},
     "output_type": "execute_result"
    }
   ],
   "source": [
    "import yfinance as yf\n",
    "msft = yf.Ticker(\"MSFT\")\n",
    "msft.info"
   ]
  },
  {
   "cell_type": "code",
   "execution_count": 2,
   "id": "744f3de9",
   "metadata": {},
   "outputs": [
    {
     "data": {
      "text/plain": [
       "157"
      ]
     },
     "execution_count": 2,
     "metadata": {},
     "output_type": "execute_result"
    }
   ],
   "source": [
    "len(msft.info)"
   ]
  },
  {
   "cell_type": "code",
   "execution_count": 3,
   "id": "ca891ea1",
   "metadata": {},
   "outputs": [
    {
     "name": "stdout",
     "output_type": "stream",
     "text": [
      "Technology\n"
     ]
    }
   ],
   "source": [
    "print(msft.info['sector'])"
   ]
  },
  {
   "cell_type": "code",
   "execution_count": 4,
   "id": "d4cfc70c",
   "metadata": {},
   "outputs": [
    {
     "name": "stdout",
     "output_type": "stream",
     "text": [
      "buy\n"
     ]
    }
   ],
   "source": [
    "print(msft.info['recommendationKey'])"
   ]
  },
  {
   "cell_type": "code",
   "execution_count": 5,
   "id": "836d5b5c",
   "metadata": {},
   "outputs": [
    {
     "name": "stdout",
     "output_type": "stream",
     "text": [
      "284.47\n"
     ]
    }
   ],
   "source": [
    "print(msft.info['currentPrice'])"
   ]
  },
  {
   "cell_type": "code",
   "execution_count": 10,
   "id": "745b011d",
   "metadata": {},
   "outputs": [
    {
     "data": {
      "text/plain": [
       "284.47"
      ]
     },
     "execution_count": 10,
     "metadata": {},
     "output_type": "execute_result"
    }
   ],
   "source": [
    "import yfinance as yf\n",
    "msft = yf.Ticker(\"MSFT\")\n",
    "show = msft.info['currentPrice']\n",
    "#return show\n",
    "show"
   ]
  },
  {
   "cell_type": "code",
   "execution_count": null,
   "id": "76f31b1f",
   "metadata": {},
   "outputs": [],
   "source": []
  },
  {
   "cell_type": "code",
   "execution_count": 11,
   "id": "12ba9898",
   "metadata": {},
   "outputs": [
    {
     "data": {
      "text/plain": [
       "284.47"
      ]
     },
     "execution_count": 11,
     "metadata": {},
     "output_type": "execute_result"
    }
   ],
   "source": [
    "msft.info['regularMarketPrice']"
   ]
  },
  {
   "cell_type": "code",
   "execution_count": 13,
   "id": "b1412373",
   "metadata": {},
   "outputs": [
    {
     "data": {
      "text/plain": [
       "<AxesSubplot:title={'center':\"APPLE's stock price\"}, xlabel='Date'>"
      ]
     },
     "execution_count": 13,
     "metadata": {},
     "output_type": "execute_result"
    },
    {
     "data": {
      "image/png": "[encoded data removed]",
      "text/plain": [
       "<Figure size 432x288 with 1 Axes>"
      ]
     },
     "metadata": {
      "needs_background": "light"
     },
     "output_type": "display_data"
    }
   ],
   "source": [
    "ticker = yf.Ticker('AAPL')\n",
    "aapl_df = ticker.history(period=\"1y\")\n",
    "aapl_df['Close'].plot(title=\"APPLE's stock price\")"
   ]
  },
  {
   "cell_type": "code",
   "execution_count": null,
   "id": "6ca262d9",
   "metadata": {},
   "outputs": [],
   "source": []
  },
  {
   "cell_type": "code",
   "execution_count": 29,
   "id": "291e4a13",
   "metadata": {},
   "outputs": [],
   "source": [
    "from pandas_datareader import data\n",
    "import matplotlib.pyplot as plt\n",
    "import pandas as pd"
   ]
  },
  {
   "cell_type": "code",
   "execution_count": 42,
   "id": "e2d40d74",
   "metadata": {},
   "outputs": [],
   "source": [
    "# Define the instruments to download. We would like to see Apple, Microsoft and the S&P500 index.\n",
    "tickers = ['AAPL', 'MSFT', '^GSPC']\n",
    "\n",
    "# We would like all available data from 01/01/2000 until 12/31/2016.\n",
    "start_date = '2022-04-03'\n",
    "end_date = '2022-05-03'\n",
    "\n",
    "# User pandas_reader.data.DataReader to load the desired data. As simple as that.\n",
    "panel_data = data.DataReader('MSFT', 'yahoo', start_date, end_date)"
   ]
  },
  {
   "cell_type": "code",
   "execution_count": 43,
   "id": "e3a05866",
   "metadata": {},
   "outputs": [
    {
     "data": {
      "text/html": [
       "<div>\n",
       "<style scoped>\n",
       "    .dataframe tbody tr th:only-of-type {\n",
       "        vertical-align: middle;\n",
       "    }\n",
       "\n",
       "    .dataframe tbody tr th {\n",
       "        vertical-align: top;\n",
       "    }\n",
       "\n",
       "    .dataframe thead th {\n",
       "        text-align: right;\n",
       "    }\n",
       "</style>\n",
       "<table border=\"1\" class=\"dataframe\">\n",
       "  <thead>\n",
       "    <tr style=\"text-align: right;\">\n",
       "      <th></th>\n",
       "      <th>High</th>\n",
       "      <th>Low</th>\n",
       "      <th>Open</th>\n",
       "      <th>Close</th>\n",
       "      <th>Volume</th>\n",
       "      <th>Adj Close</th>\n",
       "    </tr>\n",
       "    <tr>\n",
       "      <th>Date</th>\n",
       "      <th></th>\n",
       "      <th></th>\n",
       "      <th></th>\n",
       "      <th></th>\n",
       "      <th></th>\n",
       "      <th></th>\n",
       "    </tr>\n",
       "  </thead>\n",
       "  <tbody>\n",
       "    <tr>\n",
       "      <th>2022-04-04</th>\n",
       "      <td>315.109985</td>\n",
       "      <td>309.709991</td>\n",
       "      <td>310.089996</td>\n",
       "      <td>314.970001</td>\n",
       "      <td>24289600</td>\n",
       "      <td>314.970001</td>\n",
       "    </tr>\n",
       "    <tr>\n",
       "      <th>2022-04-05</th>\n",
       "      <td>314.869995</td>\n",
       "      <td>309.869995</td>\n",
       "      <td>313.269989</td>\n",
       "      <td>310.880005</td>\n",
       "      <td>23156700</td>\n",
       "      <td>310.880005</td>\n",
       "    </tr>\n",
       "    <tr>\n",
       "      <th>2022-04-06</th>\n",
       "      <td>307.000000</td>\n",
       "      <td>296.709991</td>\n",
       "      <td>305.190002</td>\n",
       "      <td>299.500000</td>\n",
       "      <td>40110400</td>\n",
       "      <td>299.500000</td>\n",
       "    </tr>\n",
       "    <tr>\n",
       "      <th>2022-04-07</th>\n",
       "      <td>303.649994</td>\n",
       "      <td>296.350006</td>\n",
       "      <td>296.660004</td>\n",
       "      <td>301.369995</td>\n",
       "      <td>31411200</td>\n",
       "      <td>301.369995</td>\n",
       "    </tr>\n",
       "    <tr>\n",
       "      <th>2022-04-08</th>\n",
       "      <td>301.119995</td>\n",
       "      <td>296.279999</td>\n",
       "      <td>300.440002</td>\n",
       "      <td>296.970001</td>\n",
       "      <td>24347400</td>\n",
       "      <td>296.970001</td>\n",
       "    </tr>\n",
       "    <tr>\n",
       "      <th>2022-04-11</th>\n",
       "      <td>292.609985</td>\n",
       "      <td>285.000000</td>\n",
       "      <td>291.790009</td>\n",
       "      <td>285.260010</td>\n",
       "      <td>34569300</td>\n",
       "      <td>285.260010</td>\n",
       "    </tr>\n",
       "    <tr>\n",
       "      <th>2022-04-12</th>\n",
       "      <td>290.739990</td>\n",
       "      <td>280.489990</td>\n",
       "      <td>289.239990</td>\n",
       "      <td>282.059998</td>\n",
       "      <td>30966700</td>\n",
       "      <td>282.059998</td>\n",
       "    </tr>\n",
       "    <tr>\n",
       "      <th>2022-04-13</th>\n",
       "      <td>288.579987</td>\n",
       "      <td>281.299988</td>\n",
       "      <td>282.730011</td>\n",
       "      <td>287.619995</td>\n",
       "      <td>21907200</td>\n",
       "      <td>287.619995</td>\n",
       "    </tr>\n",
       "    <tr>\n",
       "      <th>2022-04-14</th>\n",
       "      <td>288.309998</td>\n",
       "      <td>279.320007</td>\n",
       "      <td>288.089996</td>\n",
       "      <td>279.829987</td>\n",
       "      <td>28107900</td>\n",
       "      <td>279.829987</td>\n",
       "    </tr>\n",
       "    <tr>\n",
       "      <th>2022-04-18</th>\n",
       "      <td>282.459991</td>\n",
       "      <td>278.339996</td>\n",
       "      <td>278.910004</td>\n",
       "      <td>280.519989</td>\n",
       "      <td>20778000</td>\n",
       "      <td>280.519989</td>\n",
       "    </tr>\n",
       "    <tr>\n",
       "      <th>2022-04-19</th>\n",
       "      <td>286.170013</td>\n",
       "      <td>278.410004</td>\n",
       "      <td>279.380005</td>\n",
       "      <td>285.299988</td>\n",
       "      <td>22297700</td>\n",
       "      <td>285.299988</td>\n",
       "    </tr>\n",
       "    <tr>\n",
       "      <th>2022-04-20</th>\n",
       "      <td>289.700012</td>\n",
       "      <td>285.369995</td>\n",
       "      <td>289.399994</td>\n",
       "      <td>286.359985</td>\n",
       "      <td>22906700</td>\n",
       "      <td>286.359985</td>\n",
       "    </tr>\n",
       "    <tr>\n",
       "      <th>2022-04-21</th>\n",
       "      <td>293.299988</td>\n",
       "      <td>280.059998</td>\n",
       "      <td>288.579987</td>\n",
       "      <td>280.809998</td>\n",
       "      <td>29454600</td>\n",
       "      <td>280.809998</td>\n",
       "    </tr>\n",
       "    <tr>\n",
       "      <th>2022-04-22</th>\n",
       "      <td>283.200012</td>\n",
       "      <td>273.380005</td>\n",
       "      <td>281.679993</td>\n",
       "      <td>274.029999</td>\n",
       "      <td>29405800</td>\n",
       "      <td>274.029999</td>\n",
       "    </tr>\n",
       "    <tr>\n",
       "      <th>2022-04-25</th>\n",
       "      <td>281.109985</td>\n",
       "      <td>270.769989</td>\n",
       "      <td>273.290009</td>\n",
       "      <td>280.720001</td>\n",
       "      <td>35678900</td>\n",
       "      <td>280.720001</td>\n",
       "    </tr>\n",
       "    <tr>\n",
       "      <th>2022-04-26</th>\n",
       "      <td>278.359985</td>\n",
       "      <td>270.000000</td>\n",
       "      <td>277.500000</td>\n",
       "      <td>270.220001</td>\n",
       "      <td>46518400</td>\n",
       "      <td>270.220001</td>\n",
       "    </tr>\n",
       "    <tr>\n",
       "      <th>2022-04-27</th>\n",
       "      <td>290.970001</td>\n",
       "      <td>279.160004</td>\n",
       "      <td>282.100006</td>\n",
       "      <td>283.220001</td>\n",
       "      <td>63477700</td>\n",
       "      <td>283.220001</td>\n",
       "    </tr>\n",
       "    <tr>\n",
       "      <th>2022-04-28</th>\n",
       "      <td>290.980011</td>\n",
       "      <td>281.459991</td>\n",
       "      <td>285.190002</td>\n",
       "      <td>289.630005</td>\n",
       "      <td>33646600</td>\n",
       "      <td>289.630005</td>\n",
       "    </tr>\n",
       "    <tr>\n",
       "      <th>2022-04-29</th>\n",
       "      <td>289.880005</td>\n",
       "      <td>276.500000</td>\n",
       "      <td>288.609985</td>\n",
       "      <td>277.519989</td>\n",
       "      <td>37025000</td>\n",
       "      <td>277.519989</td>\n",
       "    </tr>\n",
       "    <tr>\n",
       "      <th>2022-05-02</th>\n",
       "      <td>284.940002</td>\n",
       "      <td>276.220001</td>\n",
       "      <td>277.709991</td>\n",
       "      <td>284.470001</td>\n",
       "      <td>35104000</td>\n",
       "      <td>284.470001</td>\n",
       "    </tr>\n",
       "  </tbody>\n",
       "</table>\n",
       "</div>"
      ],
      "text/plain": [
       "                  High         Low        Open       Close    Volume  \\\n",
       "Date                                                                   \n",
       "2022-04-04  315.109985  309.709991  310.089996  314.970001  24289600   \n",
       "2022-04-05  314.869995  309.869995  313.269989  310.880005  23156700   \n",
       "2022-04-06  307.000000  296.709991  305.190002  299.500000  40110400   \n",
       "2022-04-07  303.649994  296.350006  296.660004  301.369995  31411200   \n",
       "2022-04-08  301.119995  296.279999  300.440002  296.970001  24347400   \n",
       "2022-04-11  292.609985  285.000000  291.790009  285.260010  34569300   \n",
       "2022-04-12  290.739990  280.489990  289.239990  282.059998  30966700   \n",
       "2022-04-13  288.579987  281.299988  282.730011  287.619995  21907200   \n",
       "2022-04-14  288.309998  279.320007  288.089996  279.829987  28107900   \n",
       "2022-04-18  282.459991  278.339996  278.910004  280.519989  20778000   \n",
       "2022-04-19  286.170013  278.410004  279.380005  285.299988  22297700   \n",
       "2022-04-20  289.700012  285.369995  289.399994  286.359985  22906700   \n",
       "2022-04-21  293.299988  280.059998  288.579987  280.809998  29454600   \n",
       "2022-04-22  283.200012  273.380005  281.679993  274.029999  29405800   \n",
       "2022-04-25  281.109985  270.769989  273.290009  280.720001  35678900   \n",
       "2022-04-26  278.359985  270.000000  277.500000  270.220001  46518400   \n",
       "2022-04-27  290.970001  279.160004  282.100006  283.220001  63477700   \n",
       "2022-04-28  290.980011  281.459991  285.190002  289.630005  33646600   \n",
       "2022-04-29  289.880005  276.500000  288.609985  277.519989  37025000   \n",
       "2022-05-02  284.940002  276.220001  277.709991  284.470001  35104000   \n",
       "\n",
       "             Adj Close  \n",
       "Date                    \n",
       "2022-04-04  314.970001  \n",
       "2022-04-05  310.880005  \n",
       "2022-04-06  299.500000  \n",
       "2022-04-07  301.369995  \n",
       "2022-04-08  296.970001  \n",
       "2022-04-11  285.260010  \n",
       "2022-04-12  282.059998  \n",
       "2022-04-13  287.619995  \n",
       "2022-04-14  279.829987  \n",
       "2022-04-18  280.519989  \n",
       "2022-04-19  285.299988  \n",
       "2022-04-20  286.359985  \n",
       "2022-04-21  280.809998  \n",
       "2022-04-22  274.029999  \n",
       "2022-04-25  280.720001  \n",
       "2022-04-26  270.220001  \n",
       "2022-04-27  283.220001  \n",
       "2022-04-28  289.630005  \n",
       "2022-04-29  277.519989  \n",
       "2022-05-02  284.470001  "
      ]
     },
     "execution_count": 43,
     "metadata": {},
     "output_type": "execute_result"
    }
   ],
   "source": [
    "panel_data"
   ]
  },
  {
   "cell_type": "code",
   "execution_count": 44,
   "id": "45d0930b",
   "metadata": {},
   "outputs": [
    {
     "data": {
      "text/plain": [
       "284.4700012207031"
      ]
     },
     "execution_count": 44,
     "metadata": {},
     "output_type": "execute_result"
    }
   ],
   "source": [
    "panel_data['Close'][len(panel_data['Close'])-1]"
   ]
  },
  {
   "cell_type": "code",
   "execution_count": 45,
   "id": "b4dfa85e",
   "metadata": {},
   "outputs": [
    {
     "data": {
      "text/plain": [
       "<AxesSubplot:title={'center':'AAPL Adj. Closing Price'}, xlabel='Date'>"
      ]
     },
     "execution_count": 45,
     "metadata": {},
     "output_type": "execute_result"
    },
    {
     "data": {
      "image/png": "[encoded data removed]",
      "text/plain": [
       "<Figure size 432x288 with 1 Axes>"
      ]
     },
     "metadata": {
      "needs_background": "light"
     },
     "output_type": "display_data"
    }
   ],
   "source": [
    "aapl = data.DataReader(\"AAPL\", \n",
    "                       start='2015-1-1', \n",
    "                       end='2015-12-31', \n",
    "                       data_source='yahoo')['Adj Close']\n",
    "\n",
    "aapl.plot(title='AAPL Adj. Closing Price')"
   ]
  },
  {
   "cell_type": "code",
   "execution_count": null,
   "id": "4817b9d3",
   "metadata": {},
   "outputs": [],
   "source": []
  }
 ],
 "metadata": {
  "kernelspec": {
   "display_name": "Python 3 (ipykernel)",
   "language": "python",
   "name": "python3"
  },
  "language_info": {
   "codemirror_mode": {
    "name": "ipython",
    "version": 3
   },
   "file_extension": ".py",
   "mimetype": "text/x-python",
   "name": "python",
   "nbconvert_exporter": "python",
   "pygments_lexer": "ipython3",
   "version": "3.9.7"
  }
 },
 "nbformat": 4,
 "nbformat_minor": 5
}
