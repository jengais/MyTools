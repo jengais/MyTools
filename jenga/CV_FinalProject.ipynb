{
 "cells": [
  {
   "cell_type": "code",
   "execution_count": 1,
   "metadata": {},
   "outputs": [],
   "source": [
    "import cv2\n",
    "import numpy as np\n",
    "import sys\n",
    "import os\n",
    "import pandas as pd\n",
    "from skimage import feature\n",
    "\n",
    "from sklearn.model_selection import GridSearchCV\n",
    "from sklearn.svm import SVC\n",
    "from sklearn.metrics import accuracy_score"
   ]
  },
  {
   "cell_type": "code",
   "execution_count": 2,
   "metadata": {},
   "outputs": [],
   "source": [
    "path_train = sys.argv[1]\n",
    "path_val = sys.argv[2]\n",
    "path_test = sys.argv[3]\n",
    "output = path_test"
   ]
  },
  {
   "cell_type": "code",
   "execution_count": 3,
   "metadata": {},
   "outputs": [],
   "source": [
    "### 1"
   ]
  },
  {
   "cell_type": "code",
   "execution_count": 4,
   "metadata": {},
   "outputs": [],
   "source": [
    "inpu = path_test + '\\\\female'\n",
    "#inpu = 'C:\\\\Users\\\\jenga\\\\Desktop\\\\ocv\\\\CV_FinalProject\\\\gender_split\\\\test\\\\female'\n",
    "\n",
    "test_image = []\n",
    "test_label = []\n",
    "\n",
    "for name in os.listdir(inpu):\n",
    "    \n",
    "    img = cv2.imread(str(inpu) + '/' + str(name))\n",
    "    img = cv2.cvtColor(img, cv2.COLOR_BGR2GRAY)\n",
    "    test_image.append(img)\n",
    "    test_label.append(int(0))\n",
    "\n",
    "inpu = path_test + '\\\\male'\n",
    "#inpu = 'C:\\\\Users\\\\jenga\\\\Desktop\\\\ocv\\\\CV_FinalProject\\\\gender_split\\\\test\\\\male'\n",
    "\n",
    "for name in os.listdir(inpu):\n",
    "    \n",
    "    img = cv2.imread(str(inpu) + '/' + str(name))\n",
    "    img = cv2.cvtColor(img, cv2.COLOR_BGR2GRAY)\n",
    "    test_image.append(img)\n",
    "    test_label.append(int(1))\n",
    "    \n",
    "    \n",
    "test_df = pd.DataFrame({'image': test_image, 'label': test_label})"
   ]
  },
  {
   "cell_type": "code",
   "execution_count": 5,
   "metadata": {},
   "outputs": [],
   "source": [
    "inpu = path_train + '\\\\female'\n",
    "#inpu = 'C:\\\\Users\\\\jenga\\\\Desktop\\\\ocv\\\\CV_FinalProject\\\\gender_split\\\\train\\\\female'\n",
    "\n",
    "train_image = []\n",
    "train_label = []\n",
    "\n",
    "for name in os.listdir(inpu):\n",
    "    \n",
    "    img = cv2.imread(str(inpu) + '/' + str(name))\n",
    "    img = cv2.cvtColor(img, cv2.COLOR_BGR2GRAY)\n",
    "    train_image.append(img)\n",
    "    train_label.append(int(0))\n",
    "\n",
    "inpu = path_train + '\\\\male'\n",
    "#inpu = 'C:\\\\Users\\\\jenga\\\\Desktop\\\\ocv\\\\CV_FinalProject\\\\gender_split\\\\train\\\\male'\n",
    "\n",
    "for name in os.listdir(inpu):\n",
    "    \n",
    "    img = cv2.imread(str(inpu) + '/' + str(name))\n",
    "    img = cv2.cvtColor(img, cv2.COLOR_BGR2GRAY)\n",
    "    train_image.append(img)\n",
    "    train_label.append(int(1))\n",
    "    \n",
    "    \n",
    "train_df = pd.DataFrame({'image': train_image, 'label': train_label})"
   ]
  },
  {
   "cell_type": "code",
   "execution_count": 6,
   "metadata": {},
   "outputs": [],
   "source": [
    "inpu = path_val + '\\\\female'\n",
    "#inpu = 'C:\\\\Users\\\\jenga\\\\Desktop\\\\ocv\\\\CV_FinalProject\\\\gender_split\\\\valid\\\\female'\n",
    "\n",
    "valid_image = []\n",
    "valid_label = []\n",
    "\n",
    "for name in os.listdir(inpu):\n",
    "    \n",
    "    img = cv2.imread(str(inpu) + '/' + str(name))\n",
    "    img = cv2.cvtColor(img, cv2.COLOR_BGR2GRAY)\n",
    "    valid_image.append(img)\n",
    "    valid_label.append(int(0))\n",
    "\n",
    "inpu = path_val + '\\\\male'\n",
    "#inpu = 'C:\\\\Users\\\\jenga\\\\Desktop\\\\ocv\\\\CV_FinalProject\\\\gender_split\\\\valid\\\\male'\n",
    "\n",
    "for name in os.listdir(inpu):\n",
    "    \n",
    "    img = cv2.imread(str(inpu) + '/' + str(name))\n",
    "    img = cv2.cvtColor(img, cv2.COLOR_BGR2GRAY)\n",
    "    valid_image.append(img)\n",
    "    valid_label.append(int(1))\n",
    "    \n",
    "    \n",
    "valid_df = pd.DataFrame({'image': valid_image, 'label': valid_label})"
   ]
  },
  {
   "cell_type": "code",
   "execution_count": 7,
   "metadata": {},
   "outputs": [],
   "source": [
    "test_df = test_df.sample(frac=1)\n",
    "train_df = train_df.sample(frac=1)\n",
    "valid_df = valid_df.sample(frac=1)"
   ]
  },
  {
   "cell_type": "code",
   "execution_count": 8,
   "metadata": {},
   "outputs": [],
   "source": [
    "### 2"
   ]
  },
  {
   "cell_type": "code",
   "execution_count": 9,
   "metadata": {},
   "outputs": [],
   "source": [
    "numP = 24\n",
    "r = 3"
   ]
  },
  {
   "cell_type": "code",
   "execution_count": 10,
   "metadata": {},
   "outputs": [],
   "source": [
    "def lbphist(img):\n",
    "    numPoints = numP\n",
    "    radius = r\n",
    "\n",
    "    lbp = feature.local_binary_pattern(img, numPoints, radius, method=\"uniform\")\n",
    "    (hist, _) = np.histogram(lbp.ravel(), bins=range(0, numPoints + 3), range=(0, numPoints + 2))\n",
    "\n",
    "    eps = 1e-7\n",
    "    hist = hist.astype(\"float\")\n",
    "    hist /= (hist.sum() + eps)\n",
    "    \n",
    "    return hist\n",
    "\n",
    "\n",
    "def hist(df):\n",
    "\n",
    "    hist = []\n",
    "    for img in df['image']:\n",
    "        hist.append(lbphist(img))\n",
    "\n",
    "    return hist"
   ]
  },
  {
   "cell_type": "code",
   "execution_count": 11,
   "metadata": {},
   "outputs": [],
   "source": [
    "train_df['hist'] = hist(train_df)\n",
    "test_df['hist'] = hist(test_df)\n",
    "valid_df['hist'] = hist(valid_df)"
   ]
  },
  {
   "cell_type": "code",
   "execution_count": 12,
   "metadata": {},
   "outputs": [],
   "source": [
    "X_train_df = np.array(list(train_df['hist']), dtype=np.float64)\n",
    "X_test_df = np.array(list(test_df['hist']), dtype=np.float64)\n",
    "X_valid_df = np.array(list(valid_df['hist']), dtype=np.float64)\n",
    "\n",
    "y_train_df = train_df['label']\n",
    "y_test_df = test_df['label']\n",
    "y_valid_df = valid_df['label']"
   ]
  },
  {
   "cell_type": "code",
   "execution_count": 13,
   "metadata": {},
   "outputs": [],
   "source": [
    "### linear\n",
    "clf = SVC(kernel='linear')\n",
    "clf.fit(X_train_df, y_train_df)\n",
    "\n",
    "train_pred = clf.predict(X_train_df)\n",
    "valid_pred = clf.predict(X_valid_df)\n",
    "\n",
    "train_acc = accuracy_score(y_train_df, train_pred)\n",
    "valid_acc = accuracy_score(y_valid_df, valid_pred)"
   ]
  },
  {
   "cell_type": "code",
   "execution_count": 14,
   "metadata": {},
   "outputs": [
    {
     "name": "stdout",
     "output_type": "stream",
     "text": [
      "Fitting 5 folds for each of 24 candidates, totalling 120 fits\n"
     ]
    },
    {
     "name": "stderr",
     "output_type": "stream",
     "text": [
      "[Parallel(n_jobs=1)]: Using backend SequentialBackend with 1 concurrent workers.\n",
      "[Parallel(n_jobs=1)]: Done 120 out of 120 | elapsed:    0.9s finished\n"
     ]
    }
   ],
   "source": [
    "### RBF\n",
    "param_grid = {'C': [0.1, 1, 10, 100], 'gamma': [1, 0.1, 0.01, 0.001, 0.00001, 10]}\n",
    "clf = GridSearchCV(SVC(kernel='rbf'), param_grid, verbose=1)\n",
    "clf.fit(X_train_df, y_train_df)\n",
    "\n",
    "train_pred = clf.predict(X_train_df)\n",
    "valid_pred = clf.predict(X_valid_df)\n",
    "\n",
    "train_acc = accuracy_score(y_train_df, train_pred)\n",
    "valid_acc = accuracy_score(y_valid_df, valid_pred)"
   ]
  },
  {
   "cell_type": "code",
   "execution_count": 15,
   "metadata": {},
   "outputs": [],
   "source": [
    "### RBF\n",
    "clf = SVC(kernel='rbf', C = 100, gamma=10)\n",
    "clf.fit(X_train_df, y_train_df)\n",
    "\n",
    "train_pred = clf.predict(X_train_df)\n",
    "valid_pred = clf.predict(X_valid_df)\n",
    "\n",
    "train_acc = accuracy_score(y_train_df, train_pred)\n",
    "valid_acc = accuracy_score(y_valid_df, valid_pred)"
   ]
  },
  {
   "cell_type": "code",
   "execution_count": 16,
   "metadata": {},
   "outputs": [],
   "source": [
    "### 4"
   ]
  },
  {
   "cell_type": "code",
   "execution_count": 17,
   "metadata": {},
   "outputs": [],
   "source": [
    "### RBF\n",
    "clf = SVC(kernel='rbf', C = 100, gamma=10)\n",
    "clf.fit(X_train_df, y_train_df)\n",
    "\n",
    "train_pred = clf.predict(X_train_df)\n",
    "valid_pred = clf.predict(X_valid_df)\n",
    "test_pred = clf.predict(X_test_df)\n",
    "\n",
    "train_acc = accuracy_score(y_train_df, train_pred)\n",
    "valid_acc = accuracy_score(y_valid_df, valid_pred)\n",
    "test_acc = accuracy_score(y_test_df, test_pred)\n",
    "acc = str(\"%.2f\" % (test_acc*100))"
   ]
  },
  {
   "cell_type": "code",
   "execution_count": 18,
   "metadata": {},
   "outputs": [],
   "source": [
    "from sklearn.metrics import confusion_matrix\n",
    "conf_matrix = confusion_matrix(y_test_df, test_pred)\n",
    "table1 = '      | male | female\\nmale  | ' + str(conf_matrix[0][0]) + '   | ' + str(conf_matrix[0][1])\n",
    "table2 = '\\nfemale| ' + str(conf_matrix[1][0]) + '    | ' + str(conf_matrix[1][1])\n",
    "table3 = table1 + table2"
   ]
  },
  {
   "cell_type": "code",
   "execution_count": 19,
   "metadata": {},
   "outputs": [],
   "source": [
    "f = open(str(output) + \"\\\\results.txt\",\"w+\")\n",
    "f.write(\"Number of points: \" + str(numP) + \"\\nRadius: \" + str(r) + '\\nKernel: RBF\\nC: 100\\nGamma: 10\\n' + \"Accuracy: \"+ acc + \"%\\n\\n\" + table3)\n",
    "f.close()"
   ]
  }
 ],
 "metadata": {
  "kernelspec": {
   "display_name": "Python 3 (ipykernel)",
   "language": "python",
   "name": "python3"
  },
  "language_info": {
   "codemirror_mode": {
    "name": "ipython",
    "version": 3
   },
   "file_extension": ".py",
   "mimetype": "text/x-python",
   "name": "python",
   "nbconvert_exporter": "python",
   "pygments_lexer": "ipython3",
   "version": "3.9.7"
  }
 },
 "nbformat": 4,
 "nbformat_minor": 4
}
