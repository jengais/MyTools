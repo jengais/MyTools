{
 "cells": [
  {
   "cell_type": "code",
   "execution_count": 1,
   "metadata": {},
   "outputs": [],
   "source": [
    "import time\n",
    "from datetime import datetime \n",
    "\n",
    "import numpy as np\n",
    "import pandas as pd\n"
   ]
  },
  {
   "cell_type": "code",
   "execution_count": 2,
   "metadata": {},
   "outputs": [],
   "source": [
    "start_program = datetime.now() "
   ]
  },
  {
   "cell_type": "code",
   "execution_count": 3,
   "metadata": {},
   "outputs": [
    {
     "name": "stdout",
     "output_type": "stream",
     "text": [
      "Time elapsed in (hh:mm:ss.ms): \"0:00:00.013979\"\n"
     ]
    }
   ],
   "source": [
    "print('Time elapsed in (hh:mm:ss.ms): \"{}\"'.format(datetime.now() - start_program))"
   ]
  },
  {
   "cell_type": "code",
   "execution_count": 4,
   "metadata": {},
   "outputs": [],
   "source": [
    "text = '''איש עשיר יצא לספארי באפריקה עם כלב התחש שלו. יום אחד הכלב הקטן\n",
    "הלך לאיבוד ביער. פתאום רואה הכלב שנמר מתכוון לטרוף אותו. חושב\n",
    "הכלב במהירות \"מה לעשות?!\" הוא רואה עצמות על האדמה, מתיישב לידן\n",
    "עם הגב לנמר, תופס עצם בפה וכשהנמר מתקרב אומר הכלב בקול, \"זה היה\n",
    "נמר ממש טעים, מעניין אם יש עוד כאלה נמרים טעימים באזור...\". שומע\n",
    "הנמר את הכלב, עוצר בשנייה האחרונה ומבט אימה ל פניו, \"זה היה קרוב..\n",
    "הכלב הזה כמעט אכל אותי...\" חשב הנמר, הסתובב וברח משם בזחילה. על\n",
    "העץ ממעל ראה את הכל הקוף והחליט שזו הזדמנות טובה בשבילו \"לתפוס\n",
    "יחסים\" טובים עם הנמר. רדף הקוף אחרי הנמר וסיפר לו איך הכלב עשה\n",
    "ממנו צחוק. הנמר התעצבן ואמר לקוף לשבת לו על הגב כדי שיבוא איתו\n",
    "ויראה איך הוא עושה מהכלב קציצות... הכלב, שעוד לא הספיק להירגע,\n",
    "רואה פתאום מרחוק את הנמר חוזר עם קוף על הגב שלו. במקום לברוח\n",
    "החליט שוב להתיישב עם הגב כלפי תוקפיו ושנייה לפני שהגיעו אליו אמר\n",
    "בקול, \"איפה הקוף המעצבן הזה?! כבר לפני חצי שעה ביקשתי ממנו שיביא\n",
    "לי עוד נמר...\" הפעם, הנמר נס בבעתה תוך שהוא מנער מגבו את הקוף\n",
    "הבוגדני.\n",
    "אנו פוחדים ממה שיוצר מוחנו, לכן אנו יכולים להקטין או להגדיל את פחדינו\n",
    "בהתאם לדמיוננו ובאופן דומה להשפיע על אחרים.\n",
    "'''"
   ]
  },
  {
   "cell_type": "code",
   "execution_count": 5,
   "metadata": {},
   "outputs": [
    {
     "data": {
      "text/plain": [
       "'איש עשיר יצא לספארי באפריקה עם כלב התחש שלו. יום אחד הכלב הקטן\\nהלך לאיבוד ביער. פתאום רואה הכלב שנמר מתכוון לטרוף אותו. חושב\\nהכלב במהירות \"מה לעשות?!\" הוא רואה עצמות על האדמה, מתיישב לידן\\nעם הגב לנמר, תופס עצם בפה וכשהנמר מתקרב אומר הכלב בקול, \"זה היה\\nנמר ממש טעים, מעניין אם יש עוד כאלה נמרים טעימים באזור...\". שומע\\nהנמר את הכלב, עוצר בשנייה האחרונה ומבט אימה ל פניו, \"זה היה קרוב..\\nהכלב הזה כמעט אכל אותי...\" חשב הנמר, הסתובב וברח משם בזחילה. על\\nהעץ ממעל ראה את הכל הקוף והחליט שזו הזדמנות טובה בשבילו \"לתפוס\\nיחסים\" טובים עם הנמר. רדף הקוף אחרי הנמר וסיפר לו איך הכלב עשה\\nממנו צחוק. הנמר התעצבן ואמר לקוף לשבת לו על הגב כדי שיבוא איתו\\nויראה איך הוא עושה מהכלב קציצות... הכלב, שעוד לא הספיק להירגע,\\nרואה פתאום מרחוק את הנמר חוזר עם קוף על הגב שלו. במקום לברוח\\nהחליט שוב להתיישב עם הגב כלפי תוקפיו ושנייה לפני שהגיעו אליו אמר\\nבקול, \"איפה הקוף המעצבן הזה?! כבר לפני חצי שעה ביקשתי ממנו שיביא\\nלי עוד נמר...\" הפעם, הנמר נס בבעתה תוך שהוא מנער מגבו את הקוף\\nהבוגדני.\\nאנו פוחדים ממה שיוצר מוחנו, לכן אנו יכולים להקטין או להגדיל את פחדינו\\nבהתאם לדמיוננו ובאופן דומה להשפיע על אחרים.\\n'"
      ]
     },
     "execution_count": 5,
     "metadata": {},
     "output_type": "execute_result"
    }
   ],
   "source": [
    "text"
   ]
  },
  {
   "cell_type": "code",
   "execution_count": 6,
   "metadata": {},
   "outputs": [
    {
     "data": {
      "text/plain": [
       "1076"
      ]
     },
     "execution_count": 6,
     "metadata": {},
     "output_type": "execute_result"
    }
   ],
   "source": [
    "len(text)"
   ]
  },
  {
   "cell_type": "code",
   "execution_count": 7,
   "metadata": {},
   "outputs": [
    {
     "data": {
      "text/plain": [
       "'א'"
      ]
     },
     "execution_count": 7,
     "metadata": {},
     "output_type": "execute_result"
    }
   ],
   "source": [
    "text[0]"
   ]
  },
  {
   "cell_type": "code",
   "execution_count": 8,
   "metadata": {},
   "outputs": [
    {
     "data": {
      "text/plain": [
       "['Good morning Dr. Adams.', 'The patient is waiting for you in room number 3.']"
      ]
     },
     "execution_count": 8,
     "metadata": {},
     "output_type": "execute_result"
    }
   ],
   "source": [
    "from nltk import tokenize\n",
    "p = \"Good morning Dr. Adams. The patient is waiting for you in room number 3.\"\n",
    "\n",
    "s = tokenize.sent_tokenize(p)\n",
    "s\n",
    "#['Good morning Dr. Adams.', 'The patient is waiting for you in room number 3.']"
   ]
  },
  {
   "cell_type": "code",
   "execution_count": 9,
   "metadata": {},
   "outputs": [
    {
     "data": {
      "text/plain": [
       "2"
      ]
     },
     "execution_count": 9,
     "metadata": {},
     "output_type": "execute_result"
    }
   ],
   "source": [
    "len(s)"
   ]
  },
  {
   "cell_type": "code",
   "execution_count": 10,
   "metadata": {},
   "outputs": [
    {
     "data": {
      "text/plain": [
       "['איש עשיר יצא לספארי באפריקה עם כלב התחש שלו.',\n",
       " 'יום אחד הכלב הקטן\\nהלך לאיבוד ביער.',\n",
       " 'פתאום רואה הכלב שנמר מתכוון לטרוף אותו.',\n",
       " 'חושב\\nהכלב במהירות \"מה לעשות?!\"',\n",
       " 'הוא רואה עצמות על האדמה, מתיישב לידן\\nעם הגב לנמר, תופס עצם בפה וכשהנמר מתקרב אומר הכלב בקול, \"זה היה\\nנמר ממש טעים, מעניין אם יש עוד כאלה נמרים טעימים באזור...\".',\n",
       " 'שומע\\nהנמר את הכלב, עוצר בשנייה האחרונה ומבט אימה ל פניו, \"זה היה קרוב..\\nהכלב הזה כמעט אכל אותי...\" חשב הנמר, הסתובב וברח משם בזחילה.',\n",
       " 'על\\nהעץ ממעל ראה את הכל הקוף והחליט שזו הזדמנות טובה בשבילו \"לתפוס\\nיחסים\" טובים עם הנמר.',\n",
       " 'רדף הקוף אחרי הנמר וסיפר לו איך הכלב עשה\\nממנו צחוק.',\n",
       " 'הנמר התעצבן ואמר לקוף לשבת לו על הגב כדי שיבוא איתו\\nויראה איך הוא עושה מהכלב קציצות... הכלב, שעוד לא הספיק להירגע,\\nרואה פתאום מרחוק את הנמר חוזר עם קוף על הגב שלו.',\n",
       " 'במקום לברוח\\nהחליט שוב להתיישב עם הגב כלפי תוקפיו ושנייה לפני שהגיעו אליו אמר\\nבקול, \"איפה הקוף המעצבן הזה?!',\n",
       " 'כבר לפני חצי שעה ביקשתי ממנו שיביא\\nלי עוד נמר...\" הפעם, הנמר נס בבעתה תוך שהוא מנער מגבו את הקוף\\nהבוגדני.',\n",
       " 'אנו פוחדים ממה שיוצר מוחנו, לכן אנו יכולים להקטין או להגדיל את פחדינו\\nבהתאם לדמיוננו ובאופן דומה להשפיע על אחרים.']"
      ]
     },
     "execution_count": 10,
     "metadata": {},
     "output_type": "execute_result"
    }
   ],
   "source": [
    "text2 = tokenize.sent_tokenize(text)\n",
    "text2"
   ]
  },
  {
   "cell_type": "code",
   "execution_count": 11,
   "metadata": {},
   "outputs": [
    {
     "data": {
      "text/plain": [
       "12"
      ]
     },
     "execution_count": 11,
     "metadata": {},
     "output_type": "execute_result"
    }
   ],
   "source": [
    "len(text2)"
   ]
  },
  {
   "cell_type": "code",
   "execution_count": 28,
   "metadata": {},
   "outputs": [],
   "source": [
    "# text3 = pd.DataFrame({'sentence': text2})\n",
    "\n",
    "# text3.to_excel(\"Desktop/output.xlsx\") \n",
    "\n",
    "# r = pd.read_excel('Desktop/output.xlsx', index_col=0) \n",
    "# r"
   ]
  },
  {
   "cell_type": "code",
   "execution_count": 13,
   "metadata": {},
   "outputs": [
    {
     "name": "stdout",
     "output_type": "stream",
     "text": [
      "9\n",
      "7\n",
      "7\n",
      "5\n",
      "31\n",
      "25\n",
      "17\n",
      "11\n",
      "33\n",
      "19\n",
      "21\n",
      "20\n"
     ]
    }
   ],
   "source": [
    "for i in range(len(text2)):\n",
    "    print(len(text2[i].split()))"
   ]
  },
  {
   "cell_type": "code",
   "execution_count": 34,
   "metadata": {},
   "outputs": [],
   "source": [
    "# df = pd.read_csv('sentences_521_features_46.csv')\n",
    "# df"
   ]
  },
  {
   "cell_type": "code",
   "execution_count": 16,
   "metadata": {},
   "outputs": [
    {
     "data": {
      "text/plain": [
       "0       2\n",
       "1      25\n",
       "2      21\n",
       "3      26\n",
       "4      24\n",
       "       ..\n",
       "516    24\n",
       "517    12\n",
       "518    19\n",
       "519     8\n",
       "520    16\n",
       "Name: words, Length: 521, dtype: int64"
      ]
     },
     "execution_count": 16,
     "metadata": {},
     "output_type": "execute_result"
    }
   ],
   "source": [
    "df['words']"
   ]
  },
  {
   "cell_type": "code",
   "execution_count": 23,
   "metadata": {},
   "outputs": [
    {
     "data": {
      "text/plain": [
       "10    31\n",
       "14    29\n",
       "11    28\n",
       "15    23\n",
       "16    23\n",
       "7     23\n",
       "9     23\n",
       "8     22\n",
       "12    21\n",
       "4     20\n",
       "13    20\n",
       "18    19\n",
       "19    18\n",
       "5     17\n",
       "6     17\n",
       "22    16\n",
       "20    15\n",
       "24    14\n",
       "17    14\n",
       "3     13\n",
       "21    11\n",
       "2     10\n",
       "25     8\n",
       "23     7\n",
       "29     7\n",
       "28     7\n",
       "35     7\n",
       "34     7\n",
       "26     6\n",
       "27     5\n",
       "30     4\n",
       "36     4\n",
       "38     3\n",
       "55     3\n",
       "41     2\n",
       "48     2\n",
       "39     2\n",
       "33     2\n",
       "49     2\n",
       "32     2\n",
       "40     1\n",
       "31     1\n",
       "1      1\n",
       "50     1\n",
       "53     1\n",
       "45     1\n",
       "70     1\n",
       "71     1\n",
       "57     1\n",
       "37     1\n",
       "43     1\n",
       "51     1\n",
       "47     1\n",
       "66     1\n",
       "Name: words, dtype: int64"
      ]
     },
     "execution_count": 23,
     "metadata": {},
     "output_type": "execute_result"
    }
   ],
   "source": [
    "index = pd.Index(df['words'])\n",
    "size = index.value_counts()\n",
    "size\n",
    "#10-40 size"
   ]
  },
  {
   "cell_type": "code",
   "execution_count": 25,
   "metadata": {},
   "outputs": [
    {
     "data": {
      "text/plain": [
       "9.648148148148149"
      ]
     },
     "execution_count": 25,
     "metadata": {},
     "output_type": "execute_result"
    }
   ],
   "source": [
    "s = sum(size)/len(size)\n",
    "s"
   ]
  },
  {
   "cell_type": "code",
   "execution_count": null,
   "metadata": {},
   "outputs": [],
   "source": []
  }
 ],
 "metadata": {
  "kernelspec": {
   "display_name": "Python 3 (ipykernel)",
   "language": "python",
   "name": "python3"
  },
  "language_info": {
   "codemirror_mode": {
    "name": "ipython",
    "version": 3
   },
   "file_extension": ".py",
   "mimetype": "text/x-python",
   "name": "python",
   "nbconvert_exporter": "python",
   "pygments_lexer": "ipython3",
   "version": "3.9.7"
  }
 },
 "nbformat": 4,
 "nbformat_minor": 4
}
