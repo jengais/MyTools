{
 "cells": [
  {
   "cell_type": "code",
   "execution_count": 1,
   "id": "c5d013d9",
   "metadata": {},
   "outputs": [],
   "source": [
    "import pandas as pd\n",
    "import numpy\n",
    "from sklearn.metrics import accuracy_score\n",
    "from sklearn.model_selection import train_test_split\n",
    "from gensim.models import Word2Vec\n",
    "\n",
    "from sklearn.decomposition import PCA\n",
    "from matplotlib import pyplot\n",
    "from keras.models import Sequential\n",
    "from keras.layers import Dense\n",
    "from keras.wrappers.scikit_learn import KerasClassifier\n",
    "from sklearn.model_selection import cross_val_score\n",
    "from sklearn.model_selection import StratifiedKFold\n",
    "\n",
    "import time\n",
    "from datetime import datetime \n",
    "\n",
    "import nltk\n",
    "from nltk.corpus import stopwords\n",
    "from nltk.tokenize import word_tokenize\n",
    "\n",
    "start_time = datetime.now() "
   ]
  },
  {
   "cell_type": "code",
   "execution_count": 2,
   "id": "a76dcabf",
   "metadata": {},
   "outputs": [
    {
     "data": {
      "text/html": [
       "<div>\n",
       "<style scoped>\n",
       "    .dataframe tbody tr th:only-of-type {\n",
       "        vertical-align: middle;\n",
       "    }\n",
       "\n",
       "    .dataframe tbody tr th {\n",
       "        vertical-align: top;\n",
       "    }\n",
       "\n",
       "    .dataframe thead th {\n",
       "        text-align: right;\n",
       "    }\n",
       "</style>\n",
       "<table border=\"1\" class=\"dataframe\">\n",
       "  <thead>\n",
       "    <tr style=\"text-align: right;\">\n",
       "      <th></th>\n",
       "      <th>sentence</th>\n",
       "      <th>mdd</th>\n",
       "      <th>t_depth</th>\n",
       "      <th>summarizing</th>\n",
       "      <th>bigrams</th>\n",
       "      <th>words</th>\n",
       "      <th>letters</th>\n",
       "      <th>word_avg</th>\n",
       "      <th>numbers</th>\n",
       "      <th>symbols</th>\n",
       "      <th>...</th>\n",
       "      <th>CC</th>\n",
       "      <th>AT</th>\n",
       "      <th>QW</th>\n",
       "      <th>REL</th>\n",
       "      <th>PRP</th>\n",
       "      <th>IN</th>\n",
       "      <th>DTT</th>\n",
       "      <th>DT</th>\n",
       "      <th>MD</th>\n",
       "      <th>stopwords</th>\n",
       "    </tr>\n",
       "  </thead>\n",
       "  <tbody>\n",
       "    <tr>\n",
       "      <th>0</th>\n",
       "      <td>והנפיחות בעיניים?</td>\n",
       "      <td>3.75</td>\n",
       "      <td>4</td>\n",
       "      <td>0</td>\n",
       "      <td>1</td>\n",
       "      <td>2</td>\n",
       "      <td>15</td>\n",
       "      <td>7.500</td>\n",
       "      <td>0</td>\n",
       "      <td>1</td>\n",
       "      <td>...</td>\n",
       "      <td>0</td>\n",
       "      <td>0</td>\n",
       "      <td>0</td>\n",
       "      <td>0</td>\n",
       "      <td>0</td>\n",
       "      <td>0</td>\n",
       "      <td>0</td>\n",
       "      <td>0</td>\n",
       "      <td>0</td>\n",
       "      <td>0</td>\n",
       "    </tr>\n",
       "    <tr>\n",
       "      <th>1</th>\n",
       "      <td>ככלל, כדאי להיות קשובים לגוף וכשאשר מופיעים סי...</td>\n",
       "      <td>14.82</td>\n",
       "      <td>34</td>\n",
       "      <td>1</td>\n",
       "      <td>25</td>\n",
       "      <td>25</td>\n",
       "      <td>130</td>\n",
       "      <td>5.200</td>\n",
       "      <td>0</td>\n",
       "      <td>4</td>\n",
       "      <td>...</td>\n",
       "      <td>2</td>\n",
       "      <td>0</td>\n",
       "      <td>0</td>\n",
       "      <td>0</td>\n",
       "      <td>0</td>\n",
       "      <td>0</td>\n",
       "      <td>0</td>\n",
       "      <td>0</td>\n",
       "      <td>0</td>\n",
       "      <td>2</td>\n",
       "    </tr>\n",
       "    <tr>\n",
       "      <th>2</th>\n",
       "      <td>הצגה עצמיתתחילה תתבקש לפרט את המחלות או הליקוי...</td>\n",
       "      <td>14.41</td>\n",
       "      <td>28</td>\n",
       "      <td>1</td>\n",
       "      <td>19</td>\n",
       "      <td>21</td>\n",
       "      <td>99</td>\n",
       "      <td>4.714</td>\n",
       "      <td>0</td>\n",
       "      <td>3</td>\n",
       "      <td>...</td>\n",
       "      <td>2</td>\n",
       "      <td>2</td>\n",
       "      <td>2</td>\n",
       "      <td>2</td>\n",
       "      <td>4</td>\n",
       "      <td>2</td>\n",
       "      <td>0</td>\n",
       "      <td>0</td>\n",
       "      <td>0</td>\n",
       "      <td>4</td>\n",
       "    </tr>\n",
       "    <tr>\n",
       "      <th>3</th>\n",
       "      <td>מגמת משרד החינוך הינה לשלב את הילד בעל הצרכים ...</td>\n",
       "      <td>18.42</td>\n",
       "      <td>36</td>\n",
       "      <td>1</td>\n",
       "      <td>25</td>\n",
       "      <td>26</td>\n",
       "      <td>126</td>\n",
       "      <td>4.846</td>\n",
       "      <td>0</td>\n",
       "      <td>2</td>\n",
       "      <td>...</td>\n",
       "      <td>2</td>\n",
       "      <td>2</td>\n",
       "      <td>0</td>\n",
       "      <td>2</td>\n",
       "      <td>0</td>\n",
       "      <td>4</td>\n",
       "      <td>2</td>\n",
       "      <td>0</td>\n",
       "      <td>0</td>\n",
       "      <td>4</td>\n",
       "    </tr>\n",
       "    <tr>\n",
       "      <th>4</th>\n",
       "      <td>בייעוץ כזה יובאו בחשבון המסלול, משך הטיול, אופ...</td>\n",
       "      <td>19.70</td>\n",
       "      <td>43</td>\n",
       "      <td>1</td>\n",
       "      <td>24</td>\n",
       "      <td>24</td>\n",
       "      <td>139</td>\n",
       "      <td>5.792</td>\n",
       "      <td>0</td>\n",
       "      <td>8</td>\n",
       "      <td>...</td>\n",
       "      <td>0</td>\n",
       "      <td>0</td>\n",
       "      <td>2</td>\n",
       "      <td>4</td>\n",
       "      <td>2</td>\n",
       "      <td>0</td>\n",
       "      <td>2</td>\n",
       "      <td>2</td>\n",
       "      <td>0</td>\n",
       "      <td>1</td>\n",
       "    </tr>\n",
       "    <tr>\n",
       "      <th>...</th>\n",
       "      <td>...</td>\n",
       "      <td>...</td>\n",
       "      <td>...</td>\n",
       "      <td>...</td>\n",
       "      <td>...</td>\n",
       "      <td>...</td>\n",
       "      <td>...</td>\n",
       "      <td>...</td>\n",
       "      <td>...</td>\n",
       "      <td>...</td>\n",
       "      <td>...</td>\n",
       "      <td>...</td>\n",
       "      <td>...</td>\n",
       "      <td>...</td>\n",
       "      <td>...</td>\n",
       "      <td>...</td>\n",
       "      <td>...</td>\n",
       "      <td>...</td>\n",
       "      <td>...</td>\n",
       "      <td>...</td>\n",
       "      <td>...</td>\n",
       "    </tr>\n",
       "    <tr>\n",
       "      <th>495</th>\n",
       "      <td>הסיבה לקטואצידוזיס היא חוסר במנת אינסולין, מחל...</td>\n",
       "      <td>7.08</td>\n",
       "      <td>13</td>\n",
       "      <td>1</td>\n",
       "      <td>9</td>\n",
       "      <td>10</td>\n",
       "      <td>55</td>\n",
       "      <td>5.500</td>\n",
       "      <td>0</td>\n",
       "      <td>2</td>\n",
       "      <td>...</td>\n",
       "      <td>2</td>\n",
       "      <td>0</td>\n",
       "      <td>0</td>\n",
       "      <td>0</td>\n",
       "      <td>0</td>\n",
       "      <td>0</td>\n",
       "      <td>0</td>\n",
       "      <td>0</td>\n",
       "      <td>0</td>\n",
       "      <td>2</td>\n",
       "    </tr>\n",
       "    <tr>\n",
       "      <th>496</th>\n",
       "      <td>כתמים כחולים באזור העכוז והגב התחתון ניתן לראו...</td>\n",
       "      <td>11.00</td>\n",
       "      <td>21</td>\n",
       "      <td>1</td>\n",
       "      <td>14</td>\n",
       "      <td>15</td>\n",
       "      <td>70</td>\n",
       "      <td>4.667</td>\n",
       "      <td>0</td>\n",
       "      <td>1</td>\n",
       "      <td>...</td>\n",
       "      <td>0</td>\n",
       "      <td>0</td>\n",
       "      <td>0</td>\n",
       "      <td>0</td>\n",
       "      <td>0</td>\n",
       "      <td>2</td>\n",
       "      <td>0</td>\n",
       "      <td>0</td>\n",
       "      <td>2</td>\n",
       "      <td>1</td>\n",
       "    </tr>\n",
       "    <tr>\n",
       "      <th>497</th>\n",
       "      <td>יתרונות התשלום באמצעות הטלפון או האינטרנט גם ה...</td>\n",
       "      <td>10.37</td>\n",
       "      <td>19</td>\n",
       "      <td>1</td>\n",
       "      <td>14</td>\n",
       "      <td>14</td>\n",
       "      <td>75</td>\n",
       "      <td>5.357</td>\n",
       "      <td>0</td>\n",
       "      <td>1</td>\n",
       "      <td>...</td>\n",
       "      <td>4</td>\n",
       "      <td>0</td>\n",
       "      <td>0</td>\n",
       "      <td>0</td>\n",
       "      <td>0</td>\n",
       "      <td>4</td>\n",
       "      <td>0</td>\n",
       "      <td>0</td>\n",
       "      <td>2</td>\n",
       "      <td>5</td>\n",
       "    </tr>\n",
       "    <tr>\n",
       "      <th>498</th>\n",
       "      <td>לשם הבהרה, מאפרה היא כלי המיועד לשמש להשלכת אפ...</td>\n",
       "      <td>9.06</td>\n",
       "      <td>16</td>\n",
       "      <td>1</td>\n",
       "      <td>12</td>\n",
       "      <td>13</td>\n",
       "      <td>59</td>\n",
       "      <td>4.538</td>\n",
       "      <td>0</td>\n",
       "      <td>2</td>\n",
       "      <td>...</td>\n",
       "      <td>0</td>\n",
       "      <td>0</td>\n",
       "      <td>0</td>\n",
       "      <td>0</td>\n",
       "      <td>0</td>\n",
       "      <td>2</td>\n",
       "      <td>0</td>\n",
       "      <td>0</td>\n",
       "      <td>0</td>\n",
       "      <td>1</td>\n",
       "    </tr>\n",
       "    <tr>\n",
       "      <th>499</th>\n",
       "      <td>קבלת חשבון ארנונה בדוא\"ל.</td>\n",
       "      <td>2.80</td>\n",
       "      <td>6</td>\n",
       "      <td>1</td>\n",
       "      <td>3</td>\n",
       "      <td>5</td>\n",
       "      <td>20</td>\n",
       "      <td>4.000</td>\n",
       "      <td>0</td>\n",
       "      <td>2</td>\n",
       "      <td>...</td>\n",
       "      <td>0</td>\n",
       "      <td>0</td>\n",
       "      <td>0</td>\n",
       "      <td>0</td>\n",
       "      <td>0</td>\n",
       "      <td>0</td>\n",
       "      <td>0</td>\n",
       "      <td>0</td>\n",
       "      <td>0</td>\n",
       "      <td>0</td>\n",
       "    </tr>\n",
       "  </tbody>\n",
       "</table>\n",
       "<p>500 rows × 46 columns</p>\n",
       "</div>"
      ],
      "text/plain": [
       "                                              sentence    mdd  t_depth  \\\n",
       "0                                    והנפיחות בעיניים?   3.75        4   \n",
       "1    ככלל, כדאי להיות קשובים לגוף וכשאשר מופיעים סי...  14.82       34   \n",
       "2    הצגה עצמיתתחילה תתבקש לפרט את המחלות או הליקוי...  14.41       28   \n",
       "3    מגמת משרד החינוך הינה לשלב את הילד בעל הצרכים ...  18.42       36   \n",
       "4    בייעוץ כזה יובאו בחשבון המסלול, משך הטיול, אופ...  19.70       43   \n",
       "..                                                 ...    ...      ...   \n",
       "495  הסיבה לקטואצידוזיס היא חוסר במנת אינסולין, מחל...   7.08       13   \n",
       "496  כתמים כחולים באזור העכוז והגב התחתון ניתן לראו...  11.00       21   \n",
       "497  יתרונות התשלום באמצעות הטלפון או האינטרנט גם ה...  10.37       19   \n",
       "498  לשם הבהרה, מאפרה היא כלי המיועד לשמש להשלכת אפ...   9.06       16   \n",
       "499                          קבלת חשבון ארנונה בדוא\"ל.   2.80        6   \n",
       "\n",
       "     summarizing  bigrams  words  letters  word_avg  numbers  symbols  ...  \\\n",
       "0              0        1      2       15     7.500        0        1  ...   \n",
       "1              1       25     25      130     5.200        0        4  ...   \n",
       "2              1       19     21       99     4.714        0        3  ...   \n",
       "3              1       25     26      126     4.846        0        2  ...   \n",
       "4              1       24     24      139     5.792        0        8  ...   \n",
       "..           ...      ...    ...      ...       ...      ...      ...  ...   \n",
       "495            1        9     10       55     5.500        0        2  ...   \n",
       "496            1       14     15       70     4.667        0        1  ...   \n",
       "497            1       14     14       75     5.357        0        1  ...   \n",
       "498            1       12     13       59     4.538        0        2  ...   \n",
       "499            1        3      5       20     4.000        0        2  ...   \n",
       "\n",
       "     CC  AT  QW  REL  PRP  IN  DTT  DT  MD  stopwords  \n",
       "0     0   0   0    0    0   0    0   0   0          0  \n",
       "1     2   0   0    0    0   0    0   0   0          2  \n",
       "2     2   2   2    2    4   2    0   0   0          4  \n",
       "3     2   2   0    2    0   4    2   0   0          4  \n",
       "4     0   0   2    4    2   0    2   2   0          1  \n",
       "..   ..  ..  ..  ...  ...  ..  ...  ..  ..        ...  \n",
       "495   2   0   0    0    0   0    0   0   0          2  \n",
       "496   0   0   0    0    0   2    0   0   2          1  \n",
       "497   4   0   0    0    0   4    0   0   2          5  \n",
       "498   0   0   0    0    0   2    0   0   0          1  \n",
       "499   0   0   0    0    0   0    0   0   0          0  \n",
       "\n",
       "[500 rows x 46 columns]"
      ]
     },
     "execution_count": 2,
     "metadata": {},
     "output_type": "execute_result"
    }
   ],
   "source": [
    "df = pd.read_csv('sentences1138final.csv')\n",
    "# df = df[df['words'] < 20]\n",
    "#df = pd.read_csv('training_ex4_dl2021b.csv')\n",
    "df = df[:500]\n",
    "df"
   ]
  },
  {
   "cell_type": "code",
   "execution_count": 3,
   "id": "36ca1d1b",
   "metadata": {},
   "outputs": [
    {
     "name": "stderr",
     "output_type": "stream",
     "text": [
      "C:\\Users\\jenga\\AppData\\Local\\Temp\\ipykernel_17412\\1724236785.py:1: FutureWarning: The default value of regex will change from True to False in a future version.\n",
      "  df['sentence'] = df['sentence'].str.replace('[^\\w\\s]','')\n"
     ]
    }
   ],
   "source": [
    "df['sentence'] = df['sentence'].str.replace('[^\\w\\s]','')\n",
    "#df['sentence'] = df['sentence'].str.replace('[^a-zA-z ]','')"
   ]
  },
  {
   "cell_type": "code",
   "execution_count": 4,
   "id": "d0da2939",
   "metadata": {},
   "outputs": [
    {
     "data": {
      "text/plain": [
       "0                                       והנפיחות בעיניים\n",
       "1      ככלל כדאי להיות קשובים לגוף וכשאשר מופיעים סימ...\n",
       "2      הצגה עצמיתתחילה תתבקש לפרט את המחלות או הליקוי...\n",
       "3      מגמת משרד החינוך הינה לשלב את הילד בעל הצרכים ...\n",
       "4      בייעוץ כזה יובאו בחשבון המסלול משך הטיול אופיו...\n",
       "                             ...                        \n",
       "495    הסיבה לקטואצידוזיס היא חוסר במנת אינסולין מחלה...\n",
       "496    כתמים כחולים באזור העכוז והגב התחתון ניתן לראו...\n",
       "497    יתרונות התשלום באמצעות הטלפון או האינטרנט גם ה...\n",
       "498    לשם הבהרה מאפרה היא כלי המיועד לשמש להשלכת אפר...\n",
       "499                              קבלת חשבון ארנונה בדואל\n",
       "Name: sentence, Length: 500, dtype: object"
      ]
     },
     "execution_count": 4,
     "metadata": {},
     "output_type": "execute_result"
    }
   ],
   "source": [
    "df['sentence']"
   ]
  },
  {
   "cell_type": "code",
   "execution_count": 5,
   "id": "570659d8",
   "metadata": {},
   "outputs": [
    {
     "data": {
      "text/plain": [
       "0                                       והנפיחות בעיניים\n",
       "1      ככלל כדאי להיות קשובים לגוף וכשאשר מופיעים סימ...\n",
       "2      הצגה עצמיתתחילה תתבקש לפרט את המחלות או הליקוי...\n",
       "3      מגמת משרד החינוך הינה לשלב את הילד בעל הצרכים ...\n",
       "4      בייעוץ כזה יובאו בחשבון המסלול משך הטיול אופיו...\n",
       "                             ...                        \n",
       "495    הסיבה לקטואצידוזיס היא חוסר במנת אינסולין מחלה...\n",
       "496    כתמים כחולים באזור העכוז והגב התחתון ניתן לראו...\n",
       "497    יתרונות התשלום באמצעות הטלפון או האינטרנט גם ה...\n",
       "498    לשם הבהרה מאפרה היא כלי המיועד לשמש להשלכת אפר...\n",
       "499                              קבלת חשבון ארנונה בדואל\n",
       "Name: sentence, Length: 500, dtype: object"
      ]
     },
     "execution_count": 5,
     "metadata": {},
     "output_type": "execute_result"
    }
   ],
   "source": [
    "#X = train.drop(['id', 'label'], axis=1)\n",
    "X = df['sentence']\n",
    "X"
   ]
  },
  {
   "cell_type": "code",
   "execution_count": 6,
   "id": "ed414315",
   "metadata": {},
   "outputs": [
    {
     "data": {
      "text/plain": [
       "0      0\n",
       "1      1\n",
       "2      1\n",
       "3      1\n",
       "4      1\n",
       "      ..\n",
       "495    1\n",
       "496    1\n",
       "497    1\n",
       "498    1\n",
       "499    1\n",
       "Name: summarizing, Length: 500, dtype: int64"
      ]
     },
     "execution_count": 6,
     "metadata": {},
     "output_type": "execute_result"
    }
   ],
   "source": [
    "y = df['summarizing']\n",
    "#y = df['label']\n",
    "y"
   ]
  },
  {
   "cell_type": "code",
   "execution_count": 7,
   "id": "4ed24a4a",
   "metadata": {},
   "outputs": [
    {
     "data": {
      "text/plain": [
       "440"
      ]
     },
     "execution_count": 7,
     "metadata": {},
     "output_type": "execute_result"
    }
   ],
   "source": [
    "sum(y)"
   ]
  },
  {
   "cell_type": "code",
   "execution_count": 8,
   "id": "80837b31",
   "metadata": {},
   "outputs": [],
   "source": [
    "# j = 0\n",
    "# for i in range(len(y)):\n",
    "#     if y[i]==1:\n",
    "#         j+=1\n",
    "# print('Num of 1\\'s is: ', j)"
   ]
  },
  {
   "cell_type": "code",
   "execution_count": 9,
   "id": "7a082004",
   "metadata": {},
   "outputs": [],
   "source": [
    "X_train, X_test, y_train, y_test = train_test_split(X, y, test_size=0.3)"
   ]
  },
  {
   "cell_type": "code",
   "execution_count": 10,
   "id": "008c31c5",
   "metadata": {},
   "outputs": [
    {
     "name": "stdout",
     "output_type": "stream",
     "text": [
      "350\n",
      "Word2Vec(vocab=2802, vector_size=300, alpha=0.025)\n"
     ]
    }
   ],
   "source": [
    "sentences = [w.split() for w in X_train]\n",
    "print(len(sentences))\n",
    "model = Word2Vec(sentences, min_count=1, vector_size=300)\n",
    "print(model)\n",
    "\n",
    "words = list(model.wv.index_to_key)\n",
    "len(words)\n",
    "\n",
    "temp = []\n",
    "\n",
    "for s in X_train.tolist():\n",
    "    temp.append(len(s.split()))\n",
    "\n",
    "zer = numpy.array([0.0 for x in range(300)])\n",
    "\n",
    "sen = list(X_train)\n",
    "vecs = []\n",
    "vecs2 = []\n",
    "for s in sen:\n",
    "    if len(s.split())<30:\n",
    "        for w in s.split():\n",
    "            vecs.append(numpy.array(model.wv.get_vector(w, norm=True)))\n",
    "        if len(s.split()) == 0:\n",
    "            vecs.append(zer)\n",
    "        vecs2.append(numpy.array(vecs))\n",
    "        vecs.clear()\n",
    "    else:\n",
    "        vecs2.append(numpy.array([zer for x in range(30)]))\n",
    "    \n",
    "for i in range(len(vecs2)):\n",
    "    while len(vecs2[i])<30:\n",
    "        vecs2[i] = numpy.vstack([vecs2[i], zer])\n",
    "\n",
    "X_train_vecs = vecs2"
   ]
  },
  {
   "cell_type": "code",
   "execution_count": 11,
   "id": "30d7539c",
   "metadata": {},
   "outputs": [
    {
     "data": {
      "image/png": "[encoded data removed]",
      "text/plain": [
       "<Figure size 432x288 with 1 Axes>"
      ]
     },
     "metadata": {
      "needs_background": "light"
     },
     "output_type": "display_data"
    }
   ],
   "source": [
    "import matplotlib\n",
    "import matplotlib.pyplot as plt\n",
    "\n",
    "plt.plot(range(0,len(temp)), temp)                                             \n",
    "plt.xlabel('Sentense index')\n",
    "plt.ylabel('Lenght')\n",
    "plt.xticks()\n",
    "plt.title('Sentence lenght')\n",
    "plt.yticks()\n",
    "plt.style.use('default')\n",
    "plt.show()"
   ]
  },
  {
   "cell_type": "code",
   "execution_count": 12,
   "id": "a68e3f2b",
   "metadata": {},
   "outputs": [
    {
     "name": "stdout",
     "output_type": "stream",
     "text": [
      "150\n",
      "Word2Vec(vocab=1510, vector_size=300, alpha=0.025)\n"
     ]
    }
   ],
   "source": [
    "sentences = [w.split() for w in X_test]\n",
    "print(len(sentences))\n",
    "model = Word2Vec(sentences, min_count=1, vector_size=300)\n",
    "print(model)\n",
    "\n",
    "words = list(model.wv.index_to_key)\n",
    "len(words)\n",
    "\n",
    "temp2 = []\n",
    "\n",
    "for s in X_test.tolist():\n",
    "    temp2.append(len(s.split()))\n",
    "\n",
    "zer = numpy.array([0.0 for x in range(300)])\n",
    "\n",
    "sen = list(X_test)\n",
    "vecs = []\n",
    "vecs2 = []\n",
    "for s in sen:\n",
    "    if len(s.split())<30:\n",
    "        for w in s.split():\n",
    "            vecs.append(numpy.array(model.wv.get_vector(w, norm=True)))\n",
    "        if len(s.split()) == 0:\n",
    "            vecs.append(zer)\n",
    "        vecs2.append(numpy.array(vecs))\n",
    "        vecs.clear()\n",
    "    else:\n",
    "        vecs2.append(numpy.array([zer for x in range(30)]))\n",
    "    \n",
    "for i in range(len(vecs2)):\n",
    "    while len(vecs2[i])<30:\n",
    "        vecs2[i] = numpy.vstack([vecs2[i], zer])\n",
    "\n",
    "X_test_vecs = vecs2"
   ]
  },
  {
   "cell_type": "code",
   "execution_count": 13,
   "id": "400f6966",
   "metadata": {},
   "outputs": [
    {
     "data": {
      "image/png": "[encoded data removed]",
      "text/plain": [
       "<Figure size 640x480 with 1 Axes>"
      ]
     },
     "metadata": {},
     "output_type": "display_data"
    }
   ],
   "source": [
    "import matplotlib\n",
    "import matplotlib.pyplot as plt\n",
    "\n",
    "plt.plot(range(0,len(temp2)), temp2)                                             \n",
    "plt.xlabel('Sentense index')\n",
    "plt.ylabel('Lenght')\n",
    "plt.xticks()\n",
    "plt.title('Sentence lenght')\n",
    "plt.yticks()\n",
    "plt.style.use('default')\n",
    "plt.show()"
   ]
  },
  {
   "cell_type": "code",
   "execution_count": 14,
   "id": "c82565b0",
   "metadata": {},
   "outputs": [
    {
     "data": {
      "text/plain": [
       "(350, 30, 300)"
      ]
     },
     "execution_count": 14,
     "metadata": {},
     "output_type": "execute_result"
    }
   ],
   "source": [
    "numpy.array(X_train_vecs).shape"
   ]
  },
  {
   "cell_type": "code",
   "execution_count": 15,
   "id": "4308d8ad",
   "metadata": {},
   "outputs": [
    {
     "data": {
      "text/plain": [
       "(150,)"
      ]
     },
     "execution_count": 15,
     "metadata": {},
     "output_type": "execute_result"
    }
   ],
   "source": [
    "y_test.shape"
   ]
  },
  {
   "cell_type": "code",
   "execution_count": 16,
   "id": "2b5810c3",
   "metadata": {},
   "outputs": [],
   "source": [
    "import tensorflow as tf\n",
    "from tensorflow import keras\n",
    "from tensorflow.keras import layers\n",
    "from tensorflow.keras.layers import LSTM, GRU, Dropout, Bidirectional, Embedding"
   ]
  },
  {
   "cell_type": "code",
   "execution_count": 17,
   "id": "ec4b2824",
   "metadata": {},
   "outputs": [
    {
     "data": {
      "text/plain": [
       "(350, 30, 300)"
      ]
     },
     "execution_count": 17,
     "metadata": {},
     "output_type": "execute_result"
    }
   ],
   "source": [
    "numpy.array(X_train_vecs).shape"
   ]
  },
  {
   "cell_type": "code",
   "execution_count": 18,
   "id": "e3f6a11a",
   "metadata": {},
   "outputs": [
    {
     "name": "stdout",
     "output_type": "stream",
     "text": [
      "Epoch 1/5\n",
      "35/35 [==============================] - 2s 19ms/step - loss: 0.5156 - accuracy: 0.8571 - val_loss: 0.3581 - val_accuracy: 0.8933\n",
      "Epoch 2/5\n",
      "35/35 [==============================] - 0s 6ms/step - loss: 0.3768 - accuracy: 0.8743 - val_loss: 0.3378 - val_accuracy: 0.8933\n",
      "Epoch 3/5\n",
      "35/35 [==============================] - 0s 6ms/step - loss: 0.3311 - accuracy: 0.8743 - val_loss: 0.3122 - val_accuracy: 0.8933\n",
      "Epoch 4/5\n",
      "35/35 [==============================] - 0s 7ms/step - loss: 0.2474 - accuracy: 0.9086 - val_loss: 0.4064 - val_accuracy: 0.8400\n",
      "Epoch 5/5\n",
      "35/35 [==============================] - 0s 6ms/step - loss: 0.1795 - accuracy: 0.9400 - val_loss: 0.4030 - val_accuracy: 0.8467\n"
     ]
    },
    {
     "data": {
      "text/plain": [
       "<keras.callbacks.History at 0x217d13a0df0>"
      ]
     },
     "execution_count": 18,
     "metadata": {},
     "output_type": "execute_result"
    }
   ],
   "source": [
    "#model.add(GRU(40, return_sequences=True, dropout=0.5,recurrent_dropout=0.5, input_shape=(40,300)))\n",
    "#model.add(GRU(40, return_sequences=False, dropout=0.5,recurrent_dropout=0.5))\n",
    "\n",
    "#model.add(Embedding(4565, 64, input_length=300))\n",
    "#model.add(Bidirectional(LSTM(64, return_sequences=False, dropout=0.5,recurrent_dropout=0.5, input_shape=(30,300)))) ### !!!\n",
    "#model.add(Bidirectional(LSTM(64, return_sequences=False, input_shape=(30,300)))) ### !!!\n",
    "#model.add(GRU(64,dropout=0.5))\n",
    "#model.add((LSTM(32, return_sequences=False, dropout=0.5,recurrent_dropout=0.5))) #only last is false\n",
    "\n",
    "model = Sequential()\n",
    "model.add(Bidirectional(LSTM(64, return_sequences=False, input_shape=(30,300))))\n",
    "#model.add(Bidirectional(GRU(64, return_sequences=False, input_shape=(30,300)))) ### !!!\n",
    "\n",
    "\n",
    "#model.add(Dense(32,  activation='relu'))\n",
    "#model.add(Dense(10,  activation=None))\n",
    "model.add(Dropout(0.5))\n",
    "model.add(Dense(1, activation='sigmoid'))\n",
    "\n",
    "model.compile(optimizer='adam', loss='binary_crossentropy', metrics=['accuracy'])\n",
    "\n",
    "model.fit(numpy.array(X_train_vecs), y_train, validation_data=(numpy.array(X_test_vecs), y_test), epochs=5, batch_size=10) ###batch size???\n",
    "#model.fit(numpy.array(X_train_vecs), y_train, epochs=10, batch_size=100)"
   ]
  },
  {
   "cell_type": "code",
   "execution_count": 19,
   "id": "574c781c",
   "metadata": {},
   "outputs": [
    {
     "name": "stdout",
     "output_type": "stream",
     "text": [
      "Model: \"sequential\"\n",
      "_________________________________________________________________\n",
      " Layer (type)                Output Shape              Param #   \n",
      "=================================================================\n",
      " bidirectional (Bidirectiona  (10, 128)                186880    \n",
      " l)                                                              \n",
      "                                                                 \n",
      " dropout (Dropout)           (10, 128)                 0         \n",
      "                                                                 \n",
      " dense (Dense)               (10, 1)                   129       \n",
      "                                                                 \n",
      "=================================================================\n",
      "Total params: 187,009\n",
      "Trainable params: 187,009\n",
      "Non-trainable params: 0\n",
      "_________________________________________________________________\n",
      "Train Accuracy:  0.9657142758369446\n",
      "Test Accuracy:  0.846666693687439\n"
     ]
    }
   ],
   "source": [
    "model.summary()\n",
    "\n",
    "loss, accuracy = model.evaluate(numpy.array(X_train_vecs), y_train, verbose=False)\n",
    "print('Train Accuracy: ', accuracy)\n",
    "loss, accuracy = model.evaluate(numpy.array(X_test_vecs), y_test, verbose=False)\n",
    "print('Test Accuracy: ', accuracy)"
   ]
  },
  {
   "cell_type": "code",
   "execution_count": 20,
   "id": "c9519afd",
   "metadata": {},
   "outputs": [
    {
     "data": {
      "text/plain": [
       "306"
      ]
     },
     "execution_count": 20,
     "metadata": {},
     "output_type": "execute_result"
    }
   ],
   "source": [
    "sum(y_train)"
   ]
  },
  {
   "cell_type": "code",
   "execution_count": 21,
   "id": "a2babebb",
   "metadata": {},
   "outputs": [
    {
     "data": {
      "text/plain": [
       "350"
      ]
     },
     "execution_count": 21,
     "metadata": {},
     "output_type": "execute_result"
    }
   ],
   "source": [
    "len(y_train)"
   ]
  },
  {
   "cell_type": "code",
   "execution_count": null,
   "id": "7ea7b17a",
   "metadata": {},
   "outputs": [],
   "source": []
  },
  {
   "cell_type": "code",
   "execution_count": 22,
   "id": "5c1cac23",
   "metadata": {},
   "outputs": [
    {
     "data": {
      "text/plain": [
       "134"
      ]
     },
     "execution_count": 22,
     "metadata": {},
     "output_type": "execute_result"
    }
   ],
   "source": [
    "sum(y_test)"
   ]
  },
  {
   "cell_type": "code",
   "execution_count": 23,
   "id": "98b9a1df",
   "metadata": {},
   "outputs": [
    {
     "data": {
      "text/plain": [
       "150"
      ]
     },
     "execution_count": 23,
     "metadata": {},
     "output_type": "execute_result"
    }
   ],
   "source": [
    "len(y_test)"
   ]
  },
  {
   "cell_type": "code",
   "execution_count": null,
   "id": "e576d35d",
   "metadata": {},
   "outputs": [],
   "source": []
  },
  {
   "cell_type": "code",
   "execution_count": null,
   "id": "4ad21ae5",
   "metadata": {},
   "outputs": [],
   "source": []
  },
  {
   "cell_type": "code",
   "execution_count": null,
   "id": "ab9b19d2",
   "metadata": {},
   "outputs": [],
   "source": []
  }
 ],
 "metadata": {
  "kernelspec": {
   "display_name": "Python 3 (ipykernel)",
   "language": "python",
   "name": "python3"
  },
  "language_info": {
   "codemirror_mode": {
    "name": "ipython",
    "version": 3
   },
   "file_extension": ".py",
   "mimetype": "text/x-python",
   "name": "python",
   "nbconvert_exporter": "python",
   "pygments_lexer": "ipython3",
   "version": "3.9.7"
  }
 },
 "nbformat": 4,
 "nbformat_minor": 5
}
