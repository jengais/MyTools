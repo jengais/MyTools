{
 "cells": [
  {
   "cell_type": "code",
   "execution_count": 45,
   "metadata": {
    "id": "GYbZWGR6YZ_-"
   },
   "outputs": [],
   "source": [
    "import numpy as np\n",
    "import scipy as sc\n",
    "import matplotlib.pyplot as plt\n",
    "#from prettyprint import pp\n",
    "import os, re\n",
    "from sklearn.feature_extraction.text import CountVectorizer, TfidfTransformer\n",
    "from sklearn.naive_bayes import BernoulliNB, GaussianNB, MultinomialNB\n",
    "from sklearn.metrics import confusion_matrix, f1_score, accuracy_score, precision_score, recall_score, classification_report\n",
    "from sklearn.neighbors import KNeighborsClassifier\n",
    "from sklearn.neighbors import NearestCentroid \n",
    "\n",
    "from sklearn.svm import LinearSVC, NuSVC, SVC\n",
    "#from sklearn.grid_search import GridSearchCV\n",
    "from datetime import datetime as dt\n",
    "#from ipy_table import *\n",
    "%matplotlib inline"
   ]
  },
  {
   "cell_type": "code",
   "execution_count": 46,
   "metadata": {
    "id": "Mpu2J5FWYoZY"
   },
   "outputs": [],
   "source": [
    "root_path ='/content/drive/MyDrive/Colab Notebooks/20_newsgroup/'\n",
    "folders = [root_path + folder + '/' for folder in os.listdir(root_path)]\n",
    "\n",
    "\n",
    "#there are only 4 classes\n",
    "class_titles = os.listdir(root_path)\n",
    "\n",
    "\n",
    "#list of all the files belonging to each class\n",
    "files = {}\n",
    "for folder, title in zip(folders, class_titles):\n",
    "    files[title] = [folder + f for f in os.listdir(folder)]\n"
   ]
  },
  {
   "cell_type": "code",
   "execution_count": 47,
   "metadata": {
    "colab": {
     "base_uri": "https://localhost:8080/"
    },
    "id": "qta6QLCOmCaX",
    "outputId": "78e28ff1-4ada-40f2-a58f-08534c9ab4d8"
   },
   "outputs": [
    {
     "name": "stdout",
     "output_type": "stream",
     "text": [
      "['soc.religion.christian', 'comp.os.ms-windows.misc', 'sci.electronics', 'rec.sport.baseball']\n"
     ]
    }
   ],
   "source": [
    "print(class_titles)"
   ]
  },
  {
   "cell_type": "code",
   "execution_count": 48,
   "metadata": {
    "id": "Zlyfvu7rYrme"
   },
   "outputs": [],
   "source": [
    "train_test_ratio = 0.75\n",
    "\n",
    "def train_test_split(ratio, classes, files):\n",
    "    \"\"\"\n",
    "    this method will split the input list of files to train and test sets.\n",
    "    *Note: currently this method uses the simplest way an array can be split in two parts.\n",
    "    Parameters\n",
    "    ----------\n",
    "    ratio: float\n",
    "           ratio of total documents in each class assigned to the training set\n",
    "    classes: list\n",
    "             list of label classes\n",
    "    files: dictionary\n",
    "           a dictionary with list of files for each class\n",
    "    \n",
    "    Returns\n",
    "    -------\n",
    "    train_dic: dictionary\n",
    "                a dictionary with lists of documents in the training set for each class\n",
    "    test_dict: dictionary\n",
    "                a dictionary with lists of documents in the testing set for each class\n",
    "    \"\"\"\n",
    "    train_dict = {}\n",
    "    test_dict = {}\n",
    "    for cl in classes:\n",
    "        train_cnt = int(ratio * len(files[cl]))\n",
    "        train_dict[cl] = files[cl][:train_cnt]\n",
    "        test_dict[cl] = files[cl][train_cnt:]\n",
    "    return train_dict, test_dict"
   ]
  },
  {
   "cell_type": "code",
   "execution_count": 8,
   "metadata": {
    "id": "dTX6pOFBYzqw"
   },
   "outputs": [],
   "source": [
    "train_path, test_path = train_test_split(train_test_ratio, class_titles, files)\n"
   ]
  },
  {
   "cell_type": "code",
   "execution_count": 51,
   "metadata": {
    "colab": {
     "base_uri": "https://localhost:8080/"
    },
    "id": "3H0IP1kUp2uA",
    "outputId": "a103e302-3e56-4c80-e68b-36728472a2ce"
   },
   "outputs": [
    {
     "name": "stdout",
     "output_type": "stream",
     "text": [
      "{'soc.religion.christian': [], 'comp.os.ms-windows.misc': ['/content/drive/MyDrive/Colab Notebooks/20_newsgroup/comp.os.ms-windows.misc/9175', '/content/drive/MyDrive/Colab Notebooks/20_newsgroup/comp.os.ms-windows.misc/9166', '/content/drive/MyDrive/Colab Notebooks/20_newsgroup/comp.os.ms-windows.misc/9174', '/content/drive/MyDrive/Colab Notebooks/20_newsgroup/comp.os.ms-windows.misc/9169', '/content/drive/MyDrive/Colab Notebooks/20_newsgroup/comp.os.ms-windows.misc/9172', '/content/drive/MyDrive/Colab Notebooks/20_newsgroup/comp.os.ms-windows.misc/9167', '/content/drive/MyDrive/Colab Notebooks/20_newsgroup/comp.os.ms-windows.misc/9168', '/content/drive/MyDrive/Colab Notebooks/20_newsgroup/comp.os.ms-windows.misc/9173', '/content/drive/MyDrive/Colab Notebooks/20_newsgroup/comp.os.ms-windows.misc/9170', '/content/drive/MyDrive/Colab Notebooks/20_newsgroup/comp.os.ms-windows.misc/9171', '/content/drive/MyDrive/Colab Notebooks/20_newsgroup/comp.os.ms-windows.misc/9165', '/content/drive/MyDrive/Colab Notebooks/20_newsgroup/comp.os.ms-windows.misc/9164', '/content/drive/MyDrive/Colab Notebooks/20_newsgroup/comp.os.ms-windows.misc/9162', '/content/drive/MyDrive/Colab Notebooks/20_newsgroup/comp.os.ms-windows.misc/9159', '/content/drive/MyDrive/Colab Notebooks/20_newsgroup/comp.os.ms-windows.misc/9161', '/content/drive/MyDrive/Colab Notebooks/20_newsgroup/comp.os.ms-windows.misc/9157', '/content/drive/MyDrive/Colab Notebooks/20_newsgroup/comp.os.ms-windows.misc/9158', '/content/drive/MyDrive/Colab Notebooks/20_newsgroup/comp.os.ms-windows.misc/9163', '/content/drive/MyDrive/Colab Notebooks/20_newsgroup/comp.os.ms-windows.misc/9156', '/content/drive/MyDrive/Colab Notebooks/20_newsgroup/comp.os.ms-windows.misc/9160', '/content/drive/MyDrive/Colab Notebooks/20_newsgroup/comp.os.ms-windows.misc/9155', '/content/drive/MyDrive/Colab Notebooks/20_newsgroup/comp.os.ms-windows.misc/9148', '/content/drive/MyDrive/Colab Notebooks/20_newsgroup/comp.os.ms-windows.misc/9154', '/content/drive/MyDrive/Colab Notebooks/20_newsgroup/comp.os.ms-windows.misc/9149', '/content/drive/MyDrive/Colab Notebooks/20_newsgroup/comp.os.ms-windows.misc/9153', '/content/drive/MyDrive/Colab Notebooks/20_newsgroup/comp.os.ms-windows.misc/9151', '/content/drive/MyDrive/Colab Notebooks/20_newsgroup/comp.os.ms-windows.misc/9146', '/content/drive/MyDrive/Colab Notebooks/20_newsgroup/comp.os.ms-windows.misc/9150', '/content/drive/MyDrive/Colab Notebooks/20_newsgroup/comp.os.ms-windows.misc/9152', '/content/drive/MyDrive/Colab Notebooks/20_newsgroup/comp.os.ms-windows.misc/9147', '/content/drive/MyDrive/Colab Notebooks/20_newsgroup/comp.os.ms-windows.misc/9145', '/content/drive/MyDrive/Colab Notebooks/20_newsgroup/comp.os.ms-windows.misc/9140', '/content/drive/MyDrive/Colab Notebooks/20_newsgroup/comp.os.ms-windows.misc/9139', '/content/drive/MyDrive/Colab Notebooks/20_newsgroup/comp.os.ms-windows.misc/9143', '/content/drive/MyDrive/Colab Notebooks/20_newsgroup/comp.os.ms-windows.misc/9137', '/content/drive/MyDrive/Colab Notebooks/20_newsgroup/comp.os.ms-windows.misc/9144', '/content/drive/MyDrive/Colab Notebooks/20_newsgroup/comp.os.ms-windows.misc/9138', '/content/drive/MyDrive/Colab Notebooks/20_newsgroup/comp.os.ms-windows.misc/9142', '/content/drive/MyDrive/Colab Notebooks/20_newsgroup/comp.os.ms-windows.misc/9136', '/content/drive/MyDrive/Colab Notebooks/20_newsgroup/comp.os.ms-windows.misc/9141', '/content/drive/MyDrive/Colab Notebooks/20_newsgroup/comp.os.ms-windows.misc/8514', '/content/drive/MyDrive/Colab Notebooks/20_newsgroup/comp.os.ms-windows.misc/9498', '/content/drive/MyDrive/Colab Notebooks/20_newsgroup/comp.os.ms-windows.misc/9494', '/content/drive/MyDrive/Colab Notebooks/20_newsgroup/comp.os.ms-windows.misc/9491', '/content/drive/MyDrive/Colab Notebooks/20_newsgroup/comp.os.ms-windows.misc/9490', '/content/drive/MyDrive/Colab Notebooks/20_newsgroup/comp.os.ms-windows.misc/9496', '/content/drive/MyDrive/Colab Notebooks/20_newsgroup/comp.os.ms-windows.misc/9495', '/content/drive/MyDrive/Colab Notebooks/20_newsgroup/comp.os.ms-windows.misc/9493', '/content/drive/MyDrive/Colab Notebooks/20_newsgroup/comp.os.ms-windows.misc/9489', '/content/drive/MyDrive/Colab Notebooks/20_newsgroup/comp.os.ms-windows.misc/9492', '/content/drive/MyDrive/Colab Notebooks/20_newsgroup/comp.os.ms-windows.misc/9497', '/content/drive/MyDrive/Colab Notebooks/20_newsgroup/comp.os.ms-windows.misc/9488', '/content/drive/MyDrive/Colab Notebooks/20_newsgroup/comp.os.ms-windows.misc/9479', '/content/drive/MyDrive/Colab Notebooks/20_newsgroup/comp.os.ms-windows.misc/9484', '/content/drive/MyDrive/Colab Notebooks/20_newsgroup/comp.os.ms-windows.misc/9480', '/content/drive/MyDrive/Colab Notebooks/20_newsgroup/comp.os.ms-windows.misc/9482', '/content/drive/MyDrive/Colab Notebooks/20_newsgroup/comp.os.ms-windows.misc/9483', '/content/drive/MyDrive/Colab Notebooks/20_newsgroup/comp.os.ms-windows.misc/9487', '/content/drive/MyDrive/Colab Notebooks/20_newsgroup/comp.os.ms-windows.misc/9486', '/content/drive/MyDrive/Colab Notebooks/20_newsgroup/comp.os.ms-windows.misc/9485', '/content/drive/MyDrive/Colab Notebooks/20_newsgroup/comp.os.ms-windows.misc/9481', '/content/drive/MyDrive/Colab Notebooks/20_newsgroup/comp.os.ms-windows.misc/9478', '/content/drive/MyDrive/Colab Notebooks/20_newsgroup/comp.os.ms-windows.misc/9472', '/content/drive/MyDrive/Colab Notebooks/20_newsgroup/comp.os.ms-windows.misc/9474', '/content/drive/MyDrive/Colab Notebooks/20_newsgroup/comp.os.ms-windows.misc/9469', '/content/drive/MyDrive/Colab Notebooks/20_newsgroup/comp.os.ms-windows.misc/9476', '/content/drive/MyDrive/Colab Notebooks/20_newsgroup/comp.os.ms-windows.misc/9470', '/content/drive/MyDrive/Colab Notebooks/20_newsgroup/comp.os.ms-windows.misc/9477', '/content/drive/MyDrive/Colab Notebooks/20_newsgroup/comp.os.ms-windows.misc/9475', '/content/drive/MyDrive/Colab Notebooks/20_newsgroup/comp.os.ms-windows.misc/9473', '/content/drive/MyDrive/Colab Notebooks/20_newsgroup/comp.os.ms-windows.misc/9471', '/content/drive/MyDrive/Colab Notebooks/20_newsgroup/comp.os.ms-windows.misc/9468', '/content/drive/MyDrive/Colab Notebooks/20_newsgroup/comp.os.ms-windows.misc/9460', '/content/drive/MyDrive/Colab Notebooks/20_newsgroup/comp.os.ms-windows.misc/9463', '/content/drive/MyDrive/Colab Notebooks/20_newsgroup/comp.os.ms-windows.misc/9459', '/content/drive/MyDrive/Colab Notebooks/20_newsgroup/comp.os.ms-windows.misc/9462', '/content/drive/MyDrive/Colab Notebooks/20_newsgroup/comp.os.ms-windows.misc/9461', '/content/drive/MyDrive/Colab Notebooks/20_newsgroup/comp.os.ms-windows.misc/9465', '/content/drive/MyDrive/Colab Notebooks/20_newsgroup/comp.os.ms-windows.misc/9467', '/content/drive/MyDrive/Colab Notebooks/20_newsgroup/comp.os.ms-windows.misc/9464', '/content/drive/MyDrive/Colab Notebooks/20_newsgroup/comp.os.ms-windows.misc/9466', '/content/drive/MyDrive/Colab Notebooks/20_newsgroup/comp.os.ms-windows.misc/9458', '/content/drive/MyDrive/Colab Notebooks/20_newsgroup/comp.os.ms-windows.misc/9451', '/content/drive/MyDrive/Colab Notebooks/20_newsgroup/comp.os.ms-windows.misc/9457', '/content/drive/MyDrive/Colab Notebooks/20_newsgroup/comp.os.ms-windows.misc/9453', '/content/drive/MyDrive/Colab Notebooks/20_newsgroup/comp.os.ms-windows.misc/9450', '/content/drive/MyDrive/Colab Notebooks/20_newsgroup/comp.os.ms-windows.misc/9452', '/content/drive/MyDrive/Colab Notebooks/20_newsgroup/comp.os.ms-windows.misc/9176', '/content/drive/MyDrive/Colab Notebooks/20_newsgroup/comp.os.ms-windows.misc/9455', '/content/drive/MyDrive/Colab Notebooks/20_newsgroup/comp.os.ms-windows.misc/9456', '/content/drive/MyDrive/Colab Notebooks/20_newsgroup/comp.os.ms-windows.misc/9454', '/content/drive/MyDrive/Colab Notebooks/20_newsgroup/comp.os.ms-windows.misc/9548', '/content/drive/MyDrive/Colab Notebooks/20_newsgroup/comp.os.ms-windows.misc/9545', '/content/drive/MyDrive/Colab Notebooks/20_newsgroup/comp.os.ms-windows.misc/9546', '/content/drive/MyDrive/Colab Notebooks/20_newsgroup/comp.os.ms-windows.misc/9547', '/content/drive/MyDrive/Colab Notebooks/20_newsgroup/comp.os.ms-windows.misc/9544', '/content/drive/MyDrive/Colab Notebooks/20_newsgroup/comp.os.ms-windows.misc/9543', '/content/drive/MyDrive/Colab Notebooks/20_newsgroup/comp.os.ms-windows.misc/9541', '/content/drive/MyDrive/Colab Notebooks/20_newsgroup/comp.os.ms-windows.misc/9539', '/content/drive/MyDrive/Colab Notebooks/20_newsgroup/comp.os.ms-windows.misc/9542', '/content/drive/MyDrive/Colab Notebooks/20_newsgroup/comp.os.ms-windows.misc/9540', '/content/drive/MyDrive/Colab Notebooks/20_newsgroup/comp.os.ms-windows.misc/9538', '/content/drive/MyDrive/Colab Notebooks/20_newsgroup/comp.os.ms-windows.misc/9536', '/content/drive/MyDrive/Colab Notebooks/20_newsgroup/comp.os.ms-windows.misc/9532', '/content/drive/MyDrive/Colab Notebooks/20_newsgroup/comp.os.ms-windows.misc/9533', '/content/drive/MyDrive/Colab Notebooks/20_newsgroup/comp.os.ms-windows.misc/9530', '/content/drive/MyDrive/Colab Notebooks/20_newsgroup/comp.os.ms-windows.misc/9537', '/content/drive/MyDrive/Colab Notebooks/20_newsgroup/comp.os.ms-windows.misc/9529', '/content/drive/MyDrive/Colab Notebooks/20_newsgroup/comp.os.ms-windows.misc/9534', '/content/drive/MyDrive/Colab Notebooks/20_newsgroup/comp.os.ms-windows.misc/9535', '/content/drive/MyDrive/Colab Notebooks/20_newsgroup/comp.os.ms-windows.misc/9531', '/content/drive/MyDrive/Colab Notebooks/20_newsgroup/comp.os.ms-windows.misc/9528', '/content/drive/MyDrive/Colab Notebooks/20_newsgroup/comp.os.ms-windows.misc/9519', '/content/drive/MyDrive/Colab Notebooks/20_newsgroup/comp.os.ms-windows.misc/9527', '/content/drive/MyDrive/Colab Notebooks/20_newsgroup/comp.os.ms-windows.misc/9520', '/content/drive/MyDrive/Colab Notebooks/20_newsgroup/comp.os.ms-windows.misc/9521', '/content/drive/MyDrive/Colab Notebooks/20_newsgroup/comp.os.ms-windows.misc/9524', '/content/drive/MyDrive/Colab Notebooks/20_newsgroup/comp.os.ms-windows.misc/9525', '/content/drive/MyDrive/Colab Notebooks/20_newsgroup/comp.os.ms-windows.misc/9526', '/content/drive/MyDrive/Colab Notebooks/20_newsgroup/comp.os.ms-windows.misc/9522', '/content/drive/MyDrive/Colab Notebooks/20_newsgroup/comp.os.ms-windows.misc/9523', '/content/drive/MyDrive/Colab Notebooks/20_newsgroup/comp.os.ms-windows.misc/9518', '/content/drive/MyDrive/Colab Notebooks/20_newsgroup/comp.os.ms-windows.misc/9516', '/content/drive/MyDrive/Colab Notebooks/20_newsgroup/comp.os.ms-windows.misc/9509', '/content/drive/MyDrive/Colab Notebooks/20_newsgroup/comp.os.ms-windows.misc/9512', '/content/drive/MyDrive/Colab Notebooks/20_newsgroup/comp.os.ms-windows.misc/9513', '/content/drive/MyDrive/Colab Notebooks/20_newsgroup/comp.os.ms-windows.misc/9511', '/content/drive/MyDrive/Colab Notebooks/20_newsgroup/comp.os.ms-windows.misc/9514', '/content/drive/MyDrive/Colab Notebooks/20_newsgroup/comp.os.ms-windows.misc/9517', '/content/drive/MyDrive/Colab Notebooks/20_newsgroup/comp.os.ms-windows.misc/9510', '/content/drive/MyDrive/Colab Notebooks/20_newsgroup/comp.os.ms-windows.misc/9515', '/content/drive/MyDrive/Colab Notebooks/20_newsgroup/comp.os.ms-windows.misc/9508', '/content/drive/MyDrive/Colab Notebooks/20_newsgroup/comp.os.ms-windows.misc/9503', '/content/drive/MyDrive/Colab Notebooks/20_newsgroup/comp.os.ms-windows.misc/9502', '/content/drive/MyDrive/Colab Notebooks/20_newsgroup/comp.os.ms-windows.misc/9506', '/content/drive/MyDrive/Colab Notebooks/20_newsgroup/comp.os.ms-windows.misc/9499', '/content/drive/MyDrive/Colab Notebooks/20_newsgroup/comp.os.ms-windows.misc/9500', '/content/drive/MyDrive/Colab Notebooks/20_newsgroup/comp.os.ms-windows.misc/9507', '/content/drive/MyDrive/Colab Notebooks/20_newsgroup/comp.os.ms-windows.misc/9504', '/content/drive/MyDrive/Colab Notebooks/20_newsgroup/comp.os.ms-windows.misc/9505', '/content/drive/MyDrive/Colab Notebooks/20_newsgroup/comp.os.ms-windows.misc/9501', '/content/drive/MyDrive/Colab Notebooks/20_newsgroup/comp.os.ms-windows.misc/9598', '/content/drive/MyDrive/Colab Notebooks/20_newsgroup/comp.os.ms-windows.misc/9593', '/content/drive/MyDrive/Colab Notebooks/20_newsgroup/comp.os.ms-windows.misc/9590', '/content/drive/MyDrive/Colab Notebooks/20_newsgroup/comp.os.ms-windows.misc/9595', '/content/drive/MyDrive/Colab Notebooks/20_newsgroup/comp.os.ms-windows.misc/9592', '/content/drive/MyDrive/Colab Notebooks/20_newsgroup/comp.os.ms-windows.misc/9596', '/content/drive/MyDrive/Colab Notebooks/20_newsgroup/comp.os.ms-windows.misc/9591', '/content/drive/MyDrive/Colab Notebooks/20_newsgroup/comp.os.ms-windows.misc/9589', '/content/drive/MyDrive/Colab Notebooks/20_newsgroup/comp.os.ms-windows.misc/9597'], 'sci.electronics': [], 'rec.sport.baseball': ['/content/drive/MyDrive/Colab Notebooks/20_newsgroup/rec.sport.baseball/102621', '/content/drive/MyDrive/Colab Notebooks/20_newsgroup/rec.sport.baseball/102617', '/content/drive/MyDrive/Colab Notebooks/20_newsgroup/rec.sport.baseball/102612', '/content/drive/MyDrive/Colab Notebooks/20_newsgroup/rec.sport.baseball/102618', '/content/drive/MyDrive/Colab Notebooks/20_newsgroup/rec.sport.baseball/102619', '/content/drive/MyDrive/Colab Notebooks/20_newsgroup/rec.sport.baseball/102615', '/content/drive/MyDrive/Colab Notebooks/20_newsgroup/rec.sport.baseball/102616', '/content/drive/MyDrive/Colab Notebooks/20_newsgroup/rec.sport.baseball/102620', '/content/drive/MyDrive/Colab Notebooks/20_newsgroup/rec.sport.baseball/102614', '/content/drive/MyDrive/Colab Notebooks/20_newsgroup/rec.sport.baseball/102613', '/content/drive/MyDrive/Colab Notebooks/20_newsgroup/rec.sport.baseball/102611', '/content/drive/MyDrive/Colab Notebooks/20_newsgroup/rec.sport.baseball/102610', '/content/drive/MyDrive/Colab Notebooks/20_newsgroup/rec.sport.baseball/102608', '/content/drive/MyDrive/Colab Notebooks/20_newsgroup/rec.sport.baseball/102606', '/content/drive/MyDrive/Colab Notebooks/20_newsgroup/rec.sport.baseball/102605', '/content/drive/MyDrive/Colab Notebooks/20_newsgroup/rec.sport.baseball/102607', '/content/drive/MyDrive/Colab Notebooks/20_newsgroup/rec.sport.baseball/102603', '/content/drive/MyDrive/Colab Notebooks/20_newsgroup/rec.sport.baseball/102602', '/content/drive/MyDrive/Colab Notebooks/20_newsgroup/rec.sport.baseball/102604', '/content/drive/MyDrive/Colab Notebooks/20_newsgroup/rec.sport.baseball/102609', '/content/drive/MyDrive/Colab Notebooks/20_newsgroup/rec.sport.baseball/102601', '/content/drive/MyDrive/Colab Notebooks/20_newsgroup/rec.sport.baseball/102592', '/content/drive/MyDrive/Colab Notebooks/20_newsgroup/rec.sport.baseball/102598', '/content/drive/MyDrive/Colab Notebooks/20_newsgroup/rec.sport.baseball/102597', '/content/drive/MyDrive/Colab Notebooks/20_newsgroup/rec.sport.baseball/102595', '/content/drive/MyDrive/Colab Notebooks/20_newsgroup/rec.sport.baseball/102600', '/content/drive/MyDrive/Colab Notebooks/20_newsgroup/rec.sport.baseball/102593', '/content/drive/MyDrive/Colab Notebooks/20_newsgroup/rec.sport.baseball/102596', '/content/drive/MyDrive/Colab Notebooks/20_newsgroup/rec.sport.baseball/102594', '/content/drive/MyDrive/Colab Notebooks/20_newsgroup/rec.sport.baseball/102599', '/content/drive/MyDrive/Colab Notebooks/20_newsgroup/rec.sport.baseball/102591', '/content/drive/MyDrive/Colab Notebooks/20_newsgroup/rec.sport.baseball/102584', '/content/drive/MyDrive/Colab Notebooks/20_newsgroup/rec.sport.baseball/102588', '/content/drive/MyDrive/Colab Notebooks/20_newsgroup/rec.sport.baseball/102151', '/content/drive/MyDrive/Colab Notebooks/20_newsgroup/rec.sport.baseball/102587', '/content/drive/MyDrive/Colab Notebooks/20_newsgroup/rec.sport.baseball/102590', '/content/drive/MyDrive/Colab Notebooks/20_newsgroup/rec.sport.baseball/102586', '/content/drive/MyDrive/Colab Notebooks/20_newsgroup/rec.sport.baseball/102589', '/content/drive/MyDrive/Colab Notebooks/20_newsgroup/rec.sport.baseball/101666', '/content/drive/MyDrive/Colab Notebooks/20_newsgroup/rec.sport.baseball/102585', '/content/drive/MyDrive/Colab Notebooks/20_newsgroup/rec.sport.baseball/100521', '/content/drive/MyDrive/Colab Notebooks/20_newsgroup/rec.sport.baseball/102671', '/content/drive/MyDrive/Colab Notebooks/20_newsgroup/rec.sport.baseball/102669', '/content/drive/MyDrive/Colab Notebooks/20_newsgroup/rec.sport.baseball/102666', '/content/drive/MyDrive/Colab Notebooks/20_newsgroup/rec.sport.baseball/102665', '/content/drive/MyDrive/Colab Notebooks/20_newsgroup/rec.sport.baseball/102668', '/content/drive/MyDrive/Colab Notebooks/20_newsgroup/rec.sport.baseball/102663', '/content/drive/MyDrive/Colab Notebooks/20_newsgroup/rec.sport.baseball/102670', '/content/drive/MyDrive/Colab Notebooks/20_newsgroup/rec.sport.baseball/102664', '/content/drive/MyDrive/Colab Notebooks/20_newsgroup/rec.sport.baseball/102667', '/content/drive/MyDrive/Colab Notebooks/20_newsgroup/rec.sport.baseball/102662', '/content/drive/MyDrive/Colab Notebooks/20_newsgroup/rec.sport.baseball/102661', '/content/drive/MyDrive/Colab Notebooks/20_newsgroup/rec.sport.baseball/102656', '/content/drive/MyDrive/Colab Notebooks/20_newsgroup/rec.sport.baseball/102655', '/content/drive/MyDrive/Colab Notebooks/20_newsgroup/rec.sport.baseball/102654', '/content/drive/MyDrive/Colab Notebooks/20_newsgroup/rec.sport.baseball/102653', '/content/drive/MyDrive/Colab Notebooks/20_newsgroup/rec.sport.baseball/102660', '/content/drive/MyDrive/Colab Notebooks/20_newsgroup/rec.sport.baseball/102657', '/content/drive/MyDrive/Colab Notebooks/20_newsgroup/rec.sport.baseball/102659', '/content/drive/MyDrive/Colab Notebooks/20_newsgroup/rec.sport.baseball/102652', '/content/drive/MyDrive/Colab Notebooks/20_newsgroup/rec.sport.baseball/102658', '/content/drive/MyDrive/Colab Notebooks/20_newsgroup/rec.sport.baseball/102651', '/content/drive/MyDrive/Colab Notebooks/20_newsgroup/rec.sport.baseball/102648', '/content/drive/MyDrive/Colab Notebooks/20_newsgroup/rec.sport.baseball/102642', '/content/drive/MyDrive/Colab Notebooks/20_newsgroup/rec.sport.baseball/102643', '/content/drive/MyDrive/Colab Notebooks/20_newsgroup/rec.sport.baseball/102646', '/content/drive/MyDrive/Colab Notebooks/20_newsgroup/rec.sport.baseball/102647', '/content/drive/MyDrive/Colab Notebooks/20_newsgroup/rec.sport.baseball/102649', '/content/drive/MyDrive/Colab Notebooks/20_newsgroup/rec.sport.baseball/102650', '/content/drive/MyDrive/Colab Notebooks/20_newsgroup/rec.sport.baseball/102645', '/content/drive/MyDrive/Colab Notebooks/20_newsgroup/rec.sport.baseball/102644', '/content/drive/MyDrive/Colab Notebooks/20_newsgroup/rec.sport.baseball/102641', '/content/drive/MyDrive/Colab Notebooks/20_newsgroup/rec.sport.baseball/102637', '/content/drive/MyDrive/Colab Notebooks/20_newsgroup/rec.sport.baseball/102638', '/content/drive/MyDrive/Colab Notebooks/20_newsgroup/rec.sport.baseball/102632', '/content/drive/MyDrive/Colab Notebooks/20_newsgroup/rec.sport.baseball/102640', '/content/drive/MyDrive/Colab Notebooks/20_newsgroup/rec.sport.baseball/102636', '/content/drive/MyDrive/Colab Notebooks/20_newsgroup/rec.sport.baseball/102633', '/content/drive/MyDrive/Colab Notebooks/20_newsgroup/rec.sport.baseball/102634', '/content/drive/MyDrive/Colab Notebooks/20_newsgroup/rec.sport.baseball/102639', '/content/drive/MyDrive/Colab Notebooks/20_newsgroup/rec.sport.baseball/102635', '/content/drive/MyDrive/Colab Notebooks/20_newsgroup/rec.sport.baseball/102631', '/content/drive/MyDrive/Colab Notebooks/20_newsgroup/rec.sport.baseball/102627', '/content/drive/MyDrive/Colab Notebooks/20_newsgroup/rec.sport.baseball/102622', '/content/drive/MyDrive/Colab Notebooks/20_newsgroup/rec.sport.baseball/102630', '/content/drive/MyDrive/Colab Notebooks/20_newsgroup/rec.sport.baseball/102626', '/content/drive/MyDrive/Colab Notebooks/20_newsgroup/rec.sport.baseball/102628', '/content/drive/MyDrive/Colab Notebooks/20_newsgroup/rec.sport.baseball/102625', '/content/drive/MyDrive/Colab Notebooks/20_newsgroup/rec.sport.baseball/102623', '/content/drive/MyDrive/Colab Notebooks/20_newsgroup/rec.sport.baseball/102629', '/content/drive/MyDrive/Colab Notebooks/20_newsgroup/rec.sport.baseball/102624', '/content/drive/MyDrive/Colab Notebooks/20_newsgroup/rec.sport.baseball/102721', '/content/drive/MyDrive/Colab Notebooks/20_newsgroup/rec.sport.baseball/102719', '/content/drive/MyDrive/Colab Notebooks/20_newsgroup/rec.sport.baseball/102720', '/content/drive/MyDrive/Colab Notebooks/20_newsgroup/rec.sport.baseball/102713', '/content/drive/MyDrive/Colab Notebooks/20_newsgroup/rec.sport.baseball/102712', '/content/drive/MyDrive/Colab Notebooks/20_newsgroup/rec.sport.baseball/102714', '/content/drive/MyDrive/Colab Notebooks/20_newsgroup/rec.sport.baseball/102716', '/content/drive/MyDrive/Colab Notebooks/20_newsgroup/rec.sport.baseball/102718', '/content/drive/MyDrive/Colab Notebooks/20_newsgroup/rec.sport.baseball/102715', '/content/drive/MyDrive/Colab Notebooks/20_newsgroup/rec.sport.baseball/102717', '/content/drive/MyDrive/Colab Notebooks/20_newsgroup/rec.sport.baseball/102711', '/content/drive/MyDrive/Colab Notebooks/20_newsgroup/rec.sport.baseball/102703', '/content/drive/MyDrive/Colab Notebooks/20_newsgroup/rec.sport.baseball/102710', '/content/drive/MyDrive/Colab Notebooks/20_newsgroup/rec.sport.baseball/102706', '/content/drive/MyDrive/Colab Notebooks/20_newsgroup/rec.sport.baseball/102705', '/content/drive/MyDrive/Colab Notebooks/20_newsgroup/rec.sport.baseball/102702', '/content/drive/MyDrive/Colab Notebooks/20_newsgroup/rec.sport.baseball/102707', '/content/drive/MyDrive/Colab Notebooks/20_newsgroup/rec.sport.baseball/102708', '/content/drive/MyDrive/Colab Notebooks/20_newsgroup/rec.sport.baseball/102704', '/content/drive/MyDrive/Colab Notebooks/20_newsgroup/rec.sport.baseball/102709', '/content/drive/MyDrive/Colab Notebooks/20_newsgroup/rec.sport.baseball/102701', '/content/drive/MyDrive/Colab Notebooks/20_newsgroup/rec.sport.baseball/102695', '/content/drive/MyDrive/Colab Notebooks/20_newsgroup/rec.sport.baseball/102697', '/content/drive/MyDrive/Colab Notebooks/20_newsgroup/rec.sport.baseball/102692', '/content/drive/MyDrive/Colab Notebooks/20_newsgroup/rec.sport.baseball/102700', '/content/drive/MyDrive/Colab Notebooks/20_newsgroup/rec.sport.baseball/102698', '/content/drive/MyDrive/Colab Notebooks/20_newsgroup/rec.sport.baseball/102693', '/content/drive/MyDrive/Colab Notebooks/20_newsgroup/rec.sport.baseball/102694', '/content/drive/MyDrive/Colab Notebooks/20_newsgroup/rec.sport.baseball/102696', '/content/drive/MyDrive/Colab Notebooks/20_newsgroup/rec.sport.baseball/102699', '/content/drive/MyDrive/Colab Notebooks/20_newsgroup/rec.sport.baseball/102691', '/content/drive/MyDrive/Colab Notebooks/20_newsgroup/rec.sport.baseball/102689', '/content/drive/MyDrive/Colab Notebooks/20_newsgroup/rec.sport.baseball/102682', '/content/drive/MyDrive/Colab Notebooks/20_newsgroup/rec.sport.baseball/102690', '/content/drive/MyDrive/Colab Notebooks/20_newsgroup/rec.sport.baseball/102686', '/content/drive/MyDrive/Colab Notebooks/20_newsgroup/rec.sport.baseball/102683', '/content/drive/MyDrive/Colab Notebooks/20_newsgroup/rec.sport.baseball/102688', '/content/drive/MyDrive/Colab Notebooks/20_newsgroup/rec.sport.baseball/102685', '/content/drive/MyDrive/Colab Notebooks/20_newsgroup/rec.sport.baseball/102687', '/content/drive/MyDrive/Colab Notebooks/20_newsgroup/rec.sport.baseball/102684', '/content/drive/MyDrive/Colab Notebooks/20_newsgroup/rec.sport.baseball/102681', '/content/drive/MyDrive/Colab Notebooks/20_newsgroup/rec.sport.baseball/102680', '/content/drive/MyDrive/Colab Notebooks/20_newsgroup/rec.sport.baseball/102679', '/content/drive/MyDrive/Colab Notebooks/20_newsgroup/rec.sport.baseball/102677', '/content/drive/MyDrive/Colab Notebooks/20_newsgroup/rec.sport.baseball/102672', '/content/drive/MyDrive/Colab Notebooks/20_newsgroup/rec.sport.baseball/102676', '/content/drive/MyDrive/Colab Notebooks/20_newsgroup/rec.sport.baseball/102678', '/content/drive/MyDrive/Colab Notebooks/20_newsgroup/rec.sport.baseball/102673', '/content/drive/MyDrive/Colab Notebooks/20_newsgroup/rec.sport.baseball/102674', '/content/drive/MyDrive/Colab Notebooks/20_newsgroup/rec.sport.baseball/102675', '/content/drive/MyDrive/Colab Notebooks/20_newsgroup/rec.sport.baseball/102727', '/content/drive/MyDrive/Colab Notebooks/20_newsgroup/rec.sport.baseball/102860']}\n"
     ]
    }
   ],
   "source": [
    "print (train_path  )"
   ]
  },
  {
   "cell_type": "code",
   "execution_count": 55,
   "metadata": {
    "id": "uetv38ETdD8e"
   },
   "outputs": [],
   "source": [
    "pattern = re.compile(r'([a-zA-Z]+|[0-9]+(\\.[0-9]+)?)')\n",
    "\n",
    "def cleanupText(path):\n",
    "    \"\"\"\n",
    "    this method will read in a text file and try to cleanup its text.\n",
    "    \n",
    "    Parameters\n",
    "    ----------\n",
    "    path: str\n",
    "          path to the document file\n",
    "    Returns\n",
    "    -------\n",
    "    text_translated: str\n",
    "                     cleaned up version of the raw text in the input file\n",
    "    \"\"\"\n",
    "    from string import punctuation, digits\n",
    "    text_translated = ''\n",
    "    try:\n",
    "        f = open(path)\n",
    "        raw = f.read().lower()\n",
    "        text = pattern.sub(r' \\1 ', raw.replace('\\n', ' '))\n",
    "        tr=text.maketrans(\" \",\" \",punctuation + digits)\n",
    "        text_translated = text.translate(tr)\n",
    "        text_translated = ' '.join([word for word in text_translated.split(' ') if (word and len(word) > 1)])\n",
    "    finally:\n",
    "        f.close()\n",
    "    return text_translated"
   ]
  },
  {
   "cell_type": "code",
   "execution_count": 56,
   "metadata": {
    "colab": {
     "base_uri": "https://localhost:8080/"
    },
    "id": "YsBEQrF_dEV0",
    "outputId": "3661a5e8-81d8-4064-e28c-9224052450bd"
   },
   "outputs": [
    {
     "name": "stdout",
     "output_type": "stream",
     "text": [
      "293\n",
      "98\n"
     ]
    }
   ],
   "source": [
    "train_arr = []\n",
    "test_arr = []\n",
    "train_lbl = []\n",
    "test_lbl = []\n",
    "for cl in class_titles:\n",
    "    for path in train_path[cl]:\n",
    "        train_arr.append(cleanupText(path))\n",
    "        train_lbl.append(cl)\n",
    "    for path in test_path[cl]:\n",
    "        test_arr.append(cleanupText(path))\n",
    "        test_lbl.append(cl)\n",
    "        \n",
    "print (len(train_arr))\n",
    "print (len(test_arr))"
   ]
  },
  {
   "cell_type": "code",
   "execution_count": 57,
   "metadata": {
    "colab": {
     "base_uri": "https://localhost:8080/"
    },
    "id": "xVYGp6l5dEvU",
    "outputId": "2393afc6-00f8-409d-ad55-c3e5640ec2bc"
   },
   "outputs": [
    {
     "name": "stdout",
     "output_type": "stream",
     "text": [
      "(293, 13670)\n",
      "(98, 13670)\n"
     ]
    }
   ],
   "source": [
    "vectorizer = CountVectorizer()\n",
    "vectorizer.fit(train_arr)\n",
    "train_mat = vectorizer.transform(train_arr)\n",
    "print (train_mat.shape)\n",
    "test_mat = vectorizer.transform(test_arr)\n",
    "print (test_mat.shape)\n"
   ]
  },
  {
   "cell_type": "code",
   "execution_count": 27,
   "metadata": {
    "colab": {
     "base_uri": "https://localhost:8080/"
    },
    "id": "sLIfsvqVdFDM",
    "outputId": "d48bb95b-cfa5-4630-e9b1-452a6d6ea125"
   },
   "outputs": [
    {
     "name": "stdout",
     "output_type": "stream",
     "text": [
      "(293, 13670)\n",
      "(98, 13670)\n"
     ]
    }
   ],
   "source": [
    "tfidf = TfidfTransformer()\n",
    "tfidf.fit(train_mat)\n",
    "train_tfmat = tfidf.transform(train_mat)\n",
    "print (train_tfmat.shape)\n",
    "test_tfmat = tfidf.transform(test_mat)\n",
    "print (test_tfmat.shape)"
   ]
  },
  {
   "cell_type": "code",
   "execution_count": 35,
   "metadata": {
    "id": "-6sv9uhfdFdk"
   },
   "outputs": [],
   "source": [
    "def testClassifier(x_train, y_train, x_test, y_test, clf):\n",
    "    \"\"\"\n",
    "    this method will first train the classifier on the training data\n",
    "    and will then test the trained classifier on test data.\n",
    "    Finally it will report some metrics on the classifier performance.\n",
    "    \n",
    "    Parameters\n",
    "    ----------\n",
    "    x_train: np.ndarray\n",
    "             train data matrix\n",
    "    y_train: list\n",
    "             train data label\n",
    "    x_test: np.ndarray\n",
    "            test data matrix\n",
    "    y_test: list\n",
    "            test data label\n",
    "    clf: sklearn classifier object implementing fit() and predict() methods\n",
    "    \n",
    "    Returns\n",
    "    -------\n",
    "    metrics: list\n",
    "             [training time, testing time, recall and precision for every class, macro-averaged F1 score]\n",
    "    \"\"\"\n",
    "    metrics = []\n",
    "    start = dt.now()\n",
    "    clf.fit(x_train, y_train)\n",
    "    end = dt.now()\n",
    "    print ('training time: ', (end - start))\n",
    "    \n",
    "    # add training time to metrics\n",
    "    metrics.append(end-start)\n",
    "    \n",
    "    start = dt.now()\n",
    "    yhat = clf.predict(x_test)\n",
    "    end = dt.now()\n",
    "    print ('testing time: ', (end - start))\n",
    "    \n",
    "    # add testing time to metrics\n",
    "    metrics.append(end-start)\n",
    "    \n",
    "    print ('classification report: ')\n",
    "    print (classification_report(y_test, yhat))\n",
    "#    pp(classification_report(y_test, yhat))\n",
    "    \n",
    "    print ('f1 score')\n",
    "    print (f1_score(y_test, yhat, average='macro'))\n",
    "    \n",
    "    print ('accuracy score')\n",
    "    print (accuracy_score(y_test, yhat))\n",
    "    \n",
    "    precision = precision_score(y_test, yhat, average=None)\n",
    "    recall = recall_score(y_test, yhat, average=None)\n",
    "    \n",
    "    # add precision and recall values to metrics\n",
    "    for p, r in zip(precision, recall):\n",
    "        metrics.append(p)\n",
    "        metrics.append(r)\n",
    "    \n",
    "    \n",
    "    #add macro-averaged F1 score to metrics\n",
    "    metrics.append(f1_score(y_test, yhat, average='macro'))\n",
    "    \n",
    "    print ('confusion matrix:')\n",
    "    print (confusion_matrix(y_test, yhat))\n",
    "    \n",
    "    # plotting the confusion matrix\n",
    "    plt.imshow(confusion_matrix(y_test, yhat), interpolation='nearest')\n",
    "    plt.show()\n",
    "    \n",
    "    return metrics"
   ]
  },
  {
   "cell_type": "code",
   "execution_count": 37,
   "metadata": {
    "id": "ncZLrjv1grWT"
   },
   "outputs": [],
   "source": [
    "metrics_dict = []\n",
    "#'name', 'metrics'\n"
   ]
  },
  {
   "cell_type": "code",
   "execution_count": 39,
   "metadata": {
    "colab": {
     "base_uri": "https://localhost:8080/",
     "height": 626
    },
    "id": "4DkUP-3bhAxs",
    "outputId": "5ad96567-865d-45c1-ae2d-c0d8383b41d1"
   },
   "outputs": [
    {
     "name": "stdout",
     "output_type": "stream",
     "text": [
      "knn with  15  neighbors\n",
      "training time:  0:00:00.002473\n",
      "testing time:  0:00:00.014130\n",
      "classification report: \n",
      "                         precision    recall  f1-score   support\n",
      "\n",
      "comp.os.ms-windows.misc       0.98      0.98      0.98        50\n",
      "     rec.sport.baseball       0.98      0.98      0.98        48\n",
      "\n",
      "               accuracy                           0.98        98\n",
      "              macro avg       0.98      0.98      0.98        98\n",
      "           weighted avg       0.98      0.98      0.98        98\n",
      "\n",
      "f1 score\n",
      "0.9795833333333333\n",
      "accuracy score\n",
      "0.9795918367346939\n",
      "confusion matrix:\n",
      "[[49  1]\n",
      " [ 1 47]]\n"
     ]
    },
    {
     "data": {
      "image/png": "[encoded data removed]",
      "text/plain": [
       "<Figure size 432x288 with 1 Axes>"
      ]
     },
     "metadata": {
      "needs_background": "light",
      "tags": []
     },
     "output_type": "display_data"
    },
    {
     "name": "stdout",
     "output_type": "stream",
     "text": [
      " \n"
     ]
    }
   ],
   "source": [
    "# for nn in [5, 10, 15]:\n",
    "for nn in [15]:\n",
    "    print ('knn with ', nn, ' neighbors')\n",
    "    knn = KNeighborsClassifier(n_neighbors=nn)\n",
    "    knn_me = testClassifier(train_tfmat, train_lbl, test_tfmat, test_lbl, knn)\n",
    "    metrics_dict.append({'name':'5NN', 'metrics':knn_me})\n",
    "    print (' ')"
   ]
  },
  {
   "cell_type": "code",
   "execution_count": 58,
   "metadata": {
    "colab": {
     "base_uri": "https://localhost:8080/",
     "height": 626
    },
    "id": "uoZhzj9IhBC6",
    "outputId": "7d2c5d3b-ac9e-4229-a012-bc9866a7c21d"
   },
   "outputs": [
    {
     "name": "stdout",
     "output_type": "stream",
     "text": [
      "NearestCentroid - Rocchio\n",
      "training time:  0:00:00.010231\n",
      "testing time:  0:00:00.002099\n",
      "classification report: \n",
      "                         precision    recall  f1-score   support\n",
      "\n",
      "comp.os.ms-windows.misc       1.00      1.00      1.00        50\n",
      "     rec.sport.baseball       1.00      1.00      1.00        48\n",
      "\n",
      "               accuracy                           1.00        98\n",
      "              macro avg       1.00      1.00      1.00        98\n",
      "           weighted avg       1.00      1.00      1.00        98\n",
      "\n",
      "f1 score\n",
      "1.0\n",
      "accuracy score\n",
      "1.0\n",
      "confusion matrix:\n",
      "[[50  0]\n",
      " [ 0 48]]\n"
     ]
    },
    {
     "data": {
      "image/png": "[encoded data removed]",
      "text/plain": [
       "<Figure size 432x288 with 1 Axes>"
      ]
     },
     "metadata": {
      "needs_background": "light",
      "tags": []
     },
     "output_type": "display_data"
    },
    {
     "name": "stdout",
     "output_type": "stream",
     "text": [
      " \n"
     ]
    }
   ],
   "source": [
    "print ('NearestCentroid - Rocchio')\n",
    "model = NearestCentroid() \n",
    "NearestCentroid_me= testClassifier(train_tfmat, train_lbl, test_tfmat, test_lbl, model)\n",
    "metrics_dict.append({'name':'NearestCentroid', 'metrics':NearestCentroid_me})\n",
    "print (' ')\n"
   ]
  },
  {
   "cell_type": "code",
   "execution_count": 59,
   "metadata": {
    "colab": {
     "base_uri": "https://localhost:8080/"
    },
    "id": "g2C80IJehBqD",
    "outputId": "8fdf915f-c157-4ace-adfa-e7f98164962e"
   },
   "outputs": [
    {
     "name": "stdout",
     "output_type": "stream",
     "text": [
      "[{'name': '5NN', 'metrics': [datetime.timedelta(0, 0, 1972), datetime.timedelta(0, 0, 10378), 0.8596491228070176, 0.98, 0.975609756097561, 0.8333333333333334, 0.9073821274808358]}, {'name': '5NN', 'metrics': [datetime.timedelta(0, 0, 2473), datetime.timedelta(0, 0, 14130), 0.98, 0.98, 0.9791666666666666, 0.9791666666666666, 0.9795833333333333]}, {'name': 'NearestCentroid', 'metrics': [datetime.timedelta(0, 0, 7091), datetime.timedelta(0, 0, 1637), 1.0, 1.0, 1.0, 1.0, 1.0]}, {'name': 'NearestCentroid', 'metrics': [datetime.timedelta(0, 0, 10231), datetime.timedelta(0, 0, 2099), 1.0, 1.0, 1.0, 1.0, 1.0]}]\n"
     ]
    }
   ],
   "source": [
    "print (metrics_dict)\n"
   ]
  },
  {
   "cell_type": "code",
   "execution_count": null,
   "metadata": {
    "id": "v9T5XfarhB5b"
   },
   "outputs": [],
   "source": []
  },
  {
   "cell_type": "code",
   "execution_count": null,
   "metadata": {
    "id": "UXEGCBaUhCKN"
   },
   "outputs": [],
   "source": []
  },
  {
   "cell_type": "code",
   "execution_count": null,
   "metadata": {
    "id": "uYbg0O3ChCfL"
   },
   "outputs": [],
   "source": []
  }
 ],
 "metadata": {
  "colab": {
   "name": "knn rocchio  text.ipynb",
   "provenance": []
  },
  "kernelspec": {
   "display_name": "Python 3",
   "language": "python",
   "name": "python3"
  },
  "language_info": {
   "codemirror_mode": {
    "name": "ipython",
    "version": 3
   },
   "file_extension": ".py",
   "mimetype": "text/x-python",
   "name": "python",
   "nbconvert_exporter": "python",
   "pygments_lexer": "ipython3",
   "version": "3.7.7"
  }
 },
 "nbformat": 4,
 "nbformat_minor": 1
}
