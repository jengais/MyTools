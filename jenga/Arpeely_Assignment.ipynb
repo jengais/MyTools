{
 "cells": [
  {
   "cell_type": "code",
   "execution_count": 1,
   "metadata": {},
   "outputs": [],
   "source": [
    "import pandas as pd\n",
    "import numpy as np\n",
    "from sklearn.metrics import accuracy_score\n",
    "from sklearn.model_selection import train_test_split\n",
    "\n",
    "import matplotlib\n",
    "import matplotlib.pyplot as plt\n",
    "\n",
    "import time\n",
    "from datetime import datetime \n",
    "\n",
    "\n",
    "\n",
    "start_time = datetime.now() "
   ]
  },
  {
   "cell_type": "code",
   "execution_count": 2,
   "metadata": {},
   "outputs": [
    {
     "data": {
      "text/html": [
       "<div>\n",
       "<style scoped>\n",
       "    .dataframe tbody tr th:only-of-type {\n",
       "        vertical-align: middle;\n",
       "    }\n",
       "\n",
       "    .dataframe tbody tr th {\n",
       "        vertical-align: top;\n",
       "    }\n",
       "\n",
       "    .dataframe thead th {\n",
       "        text-align: right;\n",
       "    }\n",
       "</style>\n",
       "<table border=\"1\" class=\"dataframe\">\n",
       "  <thead>\n",
       "    <tr style=\"text-align: right;\">\n",
       "      <th></th>\n",
       "      <th>time</th>\n",
       "      <th>user_id</th>\n",
       "      <th>domain</th>\n",
       "      <th>url</th>\n",
       "      <th>ad_slot</th>\n",
       "      <th>country</th>\n",
       "      <th>postal_code</th>\n",
       "      <th>state_code</th>\n",
       "      <th>city</th>\n",
       "      <th>user_agent</th>\n",
       "      <th>...</th>\n",
       "      <th>publisher_properties</th>\n",
       "      <th>is_wifi</th>\n",
       "      <th>viewability</th>\n",
       "      <th>session_depth</th>\n",
       "      <th>auction_type</th>\n",
       "      <th>bidded</th>\n",
       "      <th>bid</th>\n",
       "      <th>won_bid</th>\n",
       "      <th>feedback_bid</th>\n",
       "      <th>conversion</th>\n",
       "    </tr>\n",
       "  </thead>\n",
       "  <tbody>\n",
       "    <tr>\n",
       "      <th>0</th>\n",
       "      <td>2021-02-01 02:06:25</td>\n",
       "      <td>11f8b8ea-877a-466e-9a99-d216d5f21c97</td>\n",
       "      <td>8cf5a15cad4d2d30d8e0f61fd8b445b7</td>\n",
       "      <td>6f4424cb37e31fe318d30440cc514a34</td>\n",
       "      <td>5f724d746d2d8d77bb67367f4789057b</td>\n",
       "      <td>US</td>\n",
       "      <td>37934.0</td>\n",
       "      <td>TN</td>\n",
       "      <td>Knoxville</td>\n",
       "      <td>Mozilla/5.0 (Windows NT 10.0; Win64; x64; rv:8...</td>\n",
       "      <td>...</td>\n",
       "      <td>c4c21ab5a7e413bab0be6466015b0e28</td>\n",
       "      <td>1</td>\n",
       "      <td>91</td>\n",
       "      <td>-1</td>\n",
       "      <td>FIRST_PRICE</td>\n",
       "      <td>0</td>\n",
       "      <td>NaN</td>\n",
       "      <td>NaN</td>\n",
       "      <td>NaN</td>\n",
       "      <td>NaN</td>\n",
       "    </tr>\n",
       "    <tr>\n",
       "      <th>1</th>\n",
       "      <td>2021-02-01 17:31:54</td>\n",
       "      <td>fe106e58-d82a-4090-a519-d27e7029a570</td>\n",
       "      <td>2a2634d779829898f0e0e875ca8a3e8e</td>\n",
       "      <td>de09a25cdd26b9f0f3e8c301f895ca1c</td>\n",
       "      <td>c97cf7483babf3a6eba698bd487697dc</td>\n",
       "      <td>US</td>\n",
       "      <td>21133.0</td>\n",
       "      <td>MD</td>\n",
       "      <td>Owings Mills</td>\n",
       "      <td>Mozilla/5.0 (Windows NT 10.0; Win64; x64; rv:8...</td>\n",
       "      <td>...</td>\n",
       "      <td>b8930fad09becdba3c8ee8edfc6c97c7</td>\n",
       "      <td>1</td>\n",
       "      <td>91</td>\n",
       "      <td>-1</td>\n",
       "      <td>FIRST_PRICE</td>\n",
       "      <td>1</td>\n",
       "      <td>1.649047</td>\n",
       "      <td>0.0</td>\n",
       "      <td>2.16</td>\n",
       "      <td>0.0</td>\n",
       "    </tr>\n",
       "    <tr>\n",
       "      <th>2</th>\n",
       "      <td>2021-02-01 00:09:08</td>\n",
       "      <td>d0997020-e8d5-4152-88e0-80cc1622bade</td>\n",
       "      <td>728d6192b848c3d7f0addbea66fc1190</td>\n",
       "      <td>f9692123bcb6e9f31ac7fa07c7a74159</td>\n",
       "      <td>acc645d4b2897df49793abac420b173e</td>\n",
       "      <td>US</td>\n",
       "      <td>NaN</td>\n",
       "      <td>TX</td>\n",
       "      <td>Houston</td>\n",
       "      <td>Mozilla/5.0 (Linux; Android 8.0.0; XT1710-02 B...</td>\n",
       "      <td>...</td>\n",
       "      <td>0ef9787a96bd07ec5524e609b71f9f47</td>\n",
       "      <td>0</td>\n",
       "      <td>49</td>\n",
       "      <td>-1</td>\n",
       "      <td>FIRST_PRICE</td>\n",
       "      <td>1</td>\n",
       "      <td>1.005495</td>\n",
       "      <td>1.0</td>\n",
       "      <td>0.44</td>\n",
       "      <td>1.0</td>\n",
       "    </tr>\n",
       "    <tr>\n",
       "      <th>3</th>\n",
       "      <td>2021-02-01 20:17:32</td>\n",
       "      <td>f1094d97-6313-4da8-8c85-e7dfecb2ca90</td>\n",
       "      <td>0ce6ea0c3d676338114b5bc1f1ba16ff</td>\n",
       "      <td>58040ef32a5ccf0c3e59948a7e2c7a4d</td>\n",
       "      <td>feb283bf191f006e9aaefb146607adc5</td>\n",
       "      <td>US</td>\n",
       "      <td>NaN</td>\n",
       "      <td>NJ</td>\n",
       "      <td>Wenonah</td>\n",
       "      <td>Mozilla/5.0 (Linux; Android 8.1.0; SM-J727V) A...</td>\n",
       "      <td>...</td>\n",
       "      <td>f3bcfa435dfe59e35f56198c3dfb77df</td>\n",
       "      <td>1</td>\n",
       "      <td>80</td>\n",
       "      <td>10</td>\n",
       "      <td>FIRST_PRICE</td>\n",
       "      <td>1</td>\n",
       "      <td>5.852967</td>\n",
       "      <td>0.0</td>\n",
       "      <td>7.88</td>\n",
       "      <td>0.0</td>\n",
       "    </tr>\n",
       "    <tr>\n",
       "      <th>4</th>\n",
       "      <td>2021-02-01 23:06:22</td>\n",
       "      <td>d85a0357-68c3-4d6f-8246-83ecb4d78cdf</td>\n",
       "      <td>c872fb4013f4d18cfb46151e16f4eacf</td>\n",
       "      <td>70379bbed05d953c9cc93d3feb9ad97d</td>\n",
       "      <td>199ce344fda73e2f79a9a45da6100d60</td>\n",
       "      <td>US</td>\n",
       "      <td>99654.0</td>\n",
       "      <td>AK</td>\n",
       "      <td>Wasilla</td>\n",
       "      <td>Mozilla/5.0 (Macintosh; Intel Mac OS X 10_13_6...</td>\n",
       "      <td>...</td>\n",
       "      <td>6e18c7c8ae1bb87362c33ce86fd3d4bd</td>\n",
       "      <td>1</td>\n",
       "      <td>96</td>\n",
       "      <td>3</td>\n",
       "      <td>FIRST_PRICE</td>\n",
       "      <td>0</td>\n",
       "      <td>NaN</td>\n",
       "      <td>NaN</td>\n",
       "      <td>NaN</td>\n",
       "      <td>NaN</td>\n",
       "    </tr>\n",
       "    <tr>\n",
       "      <th>...</th>\n",
       "      <td>...</td>\n",
       "      <td>...</td>\n",
       "      <td>...</td>\n",
       "      <td>...</td>\n",
       "      <td>...</td>\n",
       "      <td>...</td>\n",
       "      <td>...</td>\n",
       "      <td>...</td>\n",
       "      <td>...</td>\n",
       "      <td>...</td>\n",
       "      <td>...</td>\n",
       "      <td>...</td>\n",
       "      <td>...</td>\n",
       "      <td>...</td>\n",
       "      <td>...</td>\n",
       "      <td>...</td>\n",
       "      <td>...</td>\n",
       "      <td>...</td>\n",
       "      <td>...</td>\n",
       "      <td>...</td>\n",
       "      <td>...</td>\n",
       "    </tr>\n",
       "    <tr>\n",
       "      <th>249227</th>\n",
       "      <td>2021-02-01 19:19:21</td>\n",
       "      <td>9df7192b-64c7-4b96-ac54-1dbd94e43ba1</td>\n",
       "      <td>0ce6ea0c3d676338114b5bc1f1ba16ff</td>\n",
       "      <td>6b50a15889f2a5f2c1aa44eb70604f30</td>\n",
       "      <td>a05c0fe18824eaf96d954aeb8ad856d1</td>\n",
       "      <td>US</td>\n",
       "      <td>8060.0</td>\n",
       "      <td>NaN</td>\n",
       "      <td>NaN</td>\n",
       "      <td>Mozilla/5.0 (Macintosh; Intel Mac OS X 10_15_3...</td>\n",
       "      <td>...</td>\n",
       "      <td>15d90432cffb6a5d1cf64252a0ccc3cf</td>\n",
       "      <td>1</td>\n",
       "      <td>93</td>\n",
       "      <td>-1</td>\n",
       "      <td>FIRST_PRICE</td>\n",
       "      <td>1</td>\n",
       "      <td>5.163571</td>\n",
       "      <td>1.0</td>\n",
       "      <td>0.85</td>\n",
       "      <td>0.0</td>\n",
       "    </tr>\n",
       "    <tr>\n",
       "      <th>249228</th>\n",
       "      <td>2021-02-01 23:40:55</td>\n",
       "      <td>2acb3c3b-f3c8-497d-a295-ae592ff962cc</td>\n",
       "      <td>3b226022f63f9141dfb135cca397d4ab</td>\n",
       "      <td>a26a8dd91443c5b1d3741d3bb8ea2488</td>\n",
       "      <td>2702a0b67ab6e0a8c155eee656adc6f2</td>\n",
       "      <td>US</td>\n",
       "      <td>29615.0</td>\n",
       "      <td>SC</td>\n",
       "      <td>Taylors</td>\n",
       "      <td>Mozilla/5.0 (Windows NT 10.0; Win64; x64) Appl...</td>\n",
       "      <td>...</td>\n",
       "      <td>206f49f20263824bceaaf070c567dd18</td>\n",
       "      <td>1</td>\n",
       "      <td>85</td>\n",
       "      <td>-1</td>\n",
       "      <td>FIRST_PRICE</td>\n",
       "      <td>0</td>\n",
       "      <td>NaN</td>\n",
       "      <td>NaN</td>\n",
       "      <td>NaN</td>\n",
       "      <td>NaN</td>\n",
       "    </tr>\n",
       "    <tr>\n",
       "      <th>249229</th>\n",
       "      <td>2021-02-01 20:35:08</td>\n",
       "      <td>9ddc9833-bdba-426e-bafd-a4cd4ca8355a</td>\n",
       "      <td>ca9f0c0d7cb9b24332b5207ab1135eb4</td>\n",
       "      <td>6ad7cc7874a6a93d85efc43a75b89da4</td>\n",
       "      <td>76fd0541633fba20a617152f0312ac1a</td>\n",
       "      <td>US</td>\n",
       "      <td>NaN</td>\n",
       "      <td>GA</td>\n",
       "      <td>Dalton</td>\n",
       "      <td>Mozilla/5.0 (Windows NT 10.0; Win64; x64) Appl...</td>\n",
       "      <td>...</td>\n",
       "      <td>01e180345c37f47ca7c3f272c4009689</td>\n",
       "      <td>1</td>\n",
       "      <td>46</td>\n",
       "      <td>-1</td>\n",
       "      <td>SECOND_PRICE</td>\n",
       "      <td>0</td>\n",
       "      <td>NaN</td>\n",
       "      <td>NaN</td>\n",
       "      <td>NaN</td>\n",
       "      <td>NaN</td>\n",
       "    </tr>\n",
       "    <tr>\n",
       "      <th>249230</th>\n",
       "      <td>2021-02-01 21:29:04</td>\n",
       "      <td>81d6c07b-ed8b-4b98-ae72-aeccc354cda8</td>\n",
       "      <td>72176b0a9cef78b04179f9f273464ce1</td>\n",
       "      <td>0f05986431c533771c10fdb086809f1f</td>\n",
       "      <td>dbbdc3150d35041cb468a4cc87a2532c</td>\n",
       "      <td>US</td>\n",
       "      <td>40771.0</td>\n",
       "      <td>KY</td>\n",
       "      <td>Corbin</td>\n",
       "      <td>Mozilla/5.0 (iPhone; CPU iPhone OS 14_3 like M...</td>\n",
       "      <td>...</td>\n",
       "      <td>c66afd784f43b768d95a6b451161d8d7</td>\n",
       "      <td>1</td>\n",
       "      <td>13</td>\n",
       "      <td>-1</td>\n",
       "      <td>FIRST_PRICE</td>\n",
       "      <td>1</td>\n",
       "      <td>0.095408</td>\n",
       "      <td>1.0</td>\n",
       "      <td>0.04</td>\n",
       "      <td>0.0</td>\n",
       "    </tr>\n",
       "    <tr>\n",
       "      <th>249231</th>\n",
       "      <td>2021-02-01 11:34:23</td>\n",
       "      <td>5060fd2a-78d4-41d2-b561-9fcfd0d75d01</td>\n",
       "      <td>ff01c86d08a3ff70450264586f097cc0</td>\n",
       "      <td>19230c321df3edf26d3973461bd9ebcb</td>\n",
       "      <td>a8a2d9ed2e9545254aaa92f53821a139</td>\n",
       "      <td>US</td>\n",
       "      <td>11432.0</td>\n",
       "      <td>NY</td>\n",
       "      <td>Queens</td>\n",
       "      <td>Mozilla/5.0 (Windows NT 10.0; Win64; x64) Appl...</td>\n",
       "      <td>...</td>\n",
       "      <td>21e6e7a5f14555b9fde8efc00449e707</td>\n",
       "      <td>1</td>\n",
       "      <td>92</td>\n",
       "      <td>-1</td>\n",
       "      <td>FIRST_PRICE</td>\n",
       "      <td>1</td>\n",
       "      <td>1.978379</td>\n",
       "      <td>0.0</td>\n",
       "      <td>17.90</td>\n",
       "      <td>0.0</td>\n",
       "    </tr>\n",
       "  </tbody>\n",
       "</table>\n",
       "<p>249232 rows × 26 columns</p>\n",
       "</div>"
      ],
      "text/plain": [
       "                       time                               user_id  \\\n",
       "0       2021-02-01 02:06:25  11f8b8ea-877a-466e-9a99-d216d5f21c97   \n",
       "1       2021-02-01 17:31:54  fe106e58-d82a-4090-a519-d27e7029a570   \n",
       "2       2021-02-01 00:09:08  d0997020-e8d5-4152-88e0-80cc1622bade   \n",
       "3       2021-02-01 20:17:32  f1094d97-6313-4da8-8c85-e7dfecb2ca90   \n",
       "4       2021-02-01 23:06:22  d85a0357-68c3-4d6f-8246-83ecb4d78cdf   \n",
       "...                     ...                                   ...   \n",
       "249227  2021-02-01 19:19:21  9df7192b-64c7-4b96-ac54-1dbd94e43ba1   \n",
       "249228  2021-02-01 23:40:55  2acb3c3b-f3c8-497d-a295-ae592ff962cc   \n",
       "249229  2021-02-01 20:35:08  9ddc9833-bdba-426e-bafd-a4cd4ca8355a   \n",
       "249230  2021-02-01 21:29:04  81d6c07b-ed8b-4b98-ae72-aeccc354cda8   \n",
       "249231  2021-02-01 11:34:23  5060fd2a-78d4-41d2-b561-9fcfd0d75d01   \n",
       "\n",
       "                                  domain                               url  \\\n",
       "0       8cf5a15cad4d2d30d8e0f61fd8b445b7  6f4424cb37e31fe318d30440cc514a34   \n",
       "1       2a2634d779829898f0e0e875ca8a3e8e  de09a25cdd26b9f0f3e8c301f895ca1c   \n",
       "2       728d6192b848c3d7f0addbea66fc1190  f9692123bcb6e9f31ac7fa07c7a74159   \n",
       "3       0ce6ea0c3d676338114b5bc1f1ba16ff  58040ef32a5ccf0c3e59948a7e2c7a4d   \n",
       "4       c872fb4013f4d18cfb46151e16f4eacf  70379bbed05d953c9cc93d3feb9ad97d   \n",
       "...                                  ...                               ...   \n",
       "249227  0ce6ea0c3d676338114b5bc1f1ba16ff  6b50a15889f2a5f2c1aa44eb70604f30   \n",
       "249228  3b226022f63f9141dfb135cca397d4ab  a26a8dd91443c5b1d3741d3bb8ea2488   \n",
       "249229  ca9f0c0d7cb9b24332b5207ab1135eb4  6ad7cc7874a6a93d85efc43a75b89da4   \n",
       "249230  72176b0a9cef78b04179f9f273464ce1  0f05986431c533771c10fdb086809f1f   \n",
       "249231  ff01c86d08a3ff70450264586f097cc0  19230c321df3edf26d3973461bd9ebcb   \n",
       "\n",
       "                                 ad_slot country postal_code state_code  \\\n",
       "0       5f724d746d2d8d77bb67367f4789057b      US     37934.0         TN   \n",
       "1       c97cf7483babf3a6eba698bd487697dc      US     21133.0         MD   \n",
       "2       acc645d4b2897df49793abac420b173e      US         NaN         TX   \n",
       "3       feb283bf191f006e9aaefb146607adc5      US         NaN         NJ   \n",
       "4       199ce344fda73e2f79a9a45da6100d60      US     99654.0         AK   \n",
       "...                                  ...     ...         ...        ...   \n",
       "249227  a05c0fe18824eaf96d954aeb8ad856d1      US      8060.0        NaN   \n",
       "249228  2702a0b67ab6e0a8c155eee656adc6f2      US     29615.0         SC   \n",
       "249229  76fd0541633fba20a617152f0312ac1a      US         NaN         GA   \n",
       "249230  dbbdc3150d35041cb468a4cc87a2532c      US     40771.0         KY   \n",
       "249231  a8a2d9ed2e9545254aaa92f53821a139      US     11432.0         NY   \n",
       "\n",
       "                city                                         user_agent  ...  \\\n",
       "0          Knoxville  Mozilla/5.0 (Windows NT 10.0; Win64; x64; rv:8...  ...   \n",
       "1       Owings Mills  Mozilla/5.0 (Windows NT 10.0; Win64; x64; rv:8...  ...   \n",
       "2            Houston  Mozilla/5.0 (Linux; Android 8.0.0; XT1710-02 B...  ...   \n",
       "3            Wenonah  Mozilla/5.0 (Linux; Android 8.1.0; SM-J727V) A...  ...   \n",
       "4            Wasilla  Mozilla/5.0 (Macintosh; Intel Mac OS X 10_13_6...  ...   \n",
       "...              ...                                                ...  ...   \n",
       "249227           NaN  Mozilla/5.0 (Macintosh; Intel Mac OS X 10_15_3...  ...   \n",
       "249228       Taylors  Mozilla/5.0 (Windows NT 10.0; Win64; x64) Appl...  ...   \n",
       "249229        Dalton  Mozilla/5.0 (Windows NT 10.0; Win64; x64) Appl...  ...   \n",
       "249230        Corbin  Mozilla/5.0 (iPhone; CPU iPhone OS 14_3 like M...  ...   \n",
       "249231        Queens  Mozilla/5.0 (Windows NT 10.0; Win64; x64) Appl...  ...   \n",
       "\n",
       "                    publisher_properties is_wifi viewability session_depth  \\\n",
       "0       c4c21ab5a7e413bab0be6466015b0e28       1          91            -1   \n",
       "1       b8930fad09becdba3c8ee8edfc6c97c7       1          91            -1   \n",
       "2       0ef9787a96bd07ec5524e609b71f9f47       0          49            -1   \n",
       "3       f3bcfa435dfe59e35f56198c3dfb77df       1          80            10   \n",
       "4       6e18c7c8ae1bb87362c33ce86fd3d4bd       1          96             3   \n",
       "...                                  ...     ...         ...           ...   \n",
       "249227  15d90432cffb6a5d1cf64252a0ccc3cf       1          93            -1   \n",
       "249228  206f49f20263824bceaaf070c567dd18       1          85            -1   \n",
       "249229  01e180345c37f47ca7c3f272c4009689       1          46            -1   \n",
       "249230  c66afd784f43b768d95a6b451161d8d7       1          13            -1   \n",
       "249231  21e6e7a5f14555b9fde8efc00449e707       1          92            -1   \n",
       "\n",
       "        auction_type bidded       bid  won_bid  feedback_bid  conversion  \n",
       "0        FIRST_PRICE      0       NaN      NaN           NaN         NaN  \n",
       "1        FIRST_PRICE      1  1.649047      0.0          2.16         0.0  \n",
       "2        FIRST_PRICE      1  1.005495      1.0          0.44         1.0  \n",
       "3        FIRST_PRICE      1  5.852967      0.0          7.88         0.0  \n",
       "4        FIRST_PRICE      0       NaN      NaN           NaN         NaN  \n",
       "...              ...    ...       ...      ...           ...         ...  \n",
       "249227   FIRST_PRICE      1  5.163571      1.0          0.85         0.0  \n",
       "249228   FIRST_PRICE      0       NaN      NaN           NaN         NaN  \n",
       "249229  SECOND_PRICE      0       NaN      NaN           NaN         NaN  \n",
       "249230   FIRST_PRICE      1  0.095408      1.0          0.04         0.0  \n",
       "249231   FIRST_PRICE      1  1.978379      0.0         17.90         0.0  \n",
       "\n",
       "[249232 rows x 26 columns]"
      ]
     },
     "execution_count": 2,
     "metadata": {},
     "output_type": "execute_result"
    }
   ],
   "source": [
    "df = pd.read_csv(\"Desktop\\Arpeely\\data_assignment\\data_assignment.csv\", low_memory=False)\n",
    "df['time'] = [df['time'][i][:19] for i in range(len(df['time']))]\n",
    "df"
   ]
  },
  {
   "cell_type": "code",
   "execution_count": 3,
   "metadata": {},
   "outputs": [
    {
     "name": "stdout",
     "output_type": "stream",
     "text": [
      "<class 'pandas.core.frame.DataFrame'>\n",
      "RangeIndex: 249232 entries, 0 to 249231\n",
      "Data columns (total 26 columns):\n",
      " #   Column                Non-Null Count   Dtype  \n",
      "---  ------                --------------   -----  \n",
      " 0   time                  249232 non-null  object \n",
      " 1   user_id               249232 non-null  object \n",
      " 2   domain                249222 non-null  object \n",
      " 3   url                   249232 non-null  object \n",
      " 4   ad_slot               249232 non-null  object \n",
      " 5   country               249232 non-null  object \n",
      " 6   postal_code           201974 non-null  object \n",
      " 7   state_code            240773 non-null  object \n",
      " 8   city                  236697 non-null  object \n",
      " 9   user_agent            249194 non-null  object \n",
      " 10  cookie_age_seconds    249232 non-null  int64  \n",
      " 11  detected_language     249033 non-null  object \n",
      " 12  device_type           249232 non-null  object \n",
      " 13  device_brand          111686 non-null  object \n",
      " 14  device_model          111687 non-null  object \n",
      " 15  screen_orientation    249232 non-null  object \n",
      " 16  publisher_properties  249164 non-null  object \n",
      " 17  is_wifi               249232 non-null  int64  \n",
      " 18  viewability           249232 non-null  int64  \n",
      " 19  session_depth         249232 non-null  int64  \n",
      " 20  auction_type          249232 non-null  object \n",
      " 21  bidded                249232 non-null  int64  \n",
      " 22  bid                   124152 non-null  float64\n",
      " 23  won_bid               124152 non-null  float64\n",
      " 24  feedback_bid          124150 non-null  float64\n",
      " 25  conversion            124152 non-null  float64\n",
      "dtypes: float64(4), int64(5), object(17)\n",
      "memory usage: 49.4+ MB\n"
     ]
    }
   ],
   "source": [
    "df.info()"
   ]
  },
  {
   "cell_type": "code",
   "execution_count": 4,
   "metadata": {},
   "outputs": [],
   "source": [
    "df = df.dropna()"
   ]
  },
  {
   "cell_type": "code",
   "execution_count": 5,
   "metadata": {},
   "outputs": [
    {
     "name": "stdout",
     "output_type": "stream",
     "text": [
      "<class 'pandas.core.frame.DataFrame'>\n",
      "Int64Index: 43390 entries, 13 to 249230\n",
      "Data columns (total 26 columns):\n",
      " #   Column                Non-Null Count  Dtype  \n",
      "---  ------                --------------  -----  \n",
      " 0   time                  43390 non-null  object \n",
      " 1   user_id               43390 non-null  object \n",
      " 2   domain                43390 non-null  object \n",
      " 3   url                   43390 non-null  object \n",
      " 4   ad_slot               43390 non-null  object \n",
      " 5   country               43390 non-null  object \n",
      " 6   postal_code           43390 non-null  object \n",
      " 7   state_code            43390 non-null  object \n",
      " 8   city                  43390 non-null  object \n",
      " 9   user_agent            43390 non-null  object \n",
      " 10  cookie_age_seconds    43390 non-null  int64  \n",
      " 11  detected_language     43390 non-null  object \n",
      " 12  device_type           43390 non-null  object \n",
      " 13  device_brand          43390 non-null  object \n",
      " 14  device_model          43390 non-null  object \n",
      " 15  screen_orientation    43390 non-null  object \n",
      " 16  publisher_properties  43390 non-null  object \n",
      " 17  is_wifi               43390 non-null  int64  \n",
      " 18  viewability           43390 non-null  int64  \n",
      " 19  session_depth         43390 non-null  int64  \n",
      " 20  auction_type          43390 non-null  object \n",
      " 21  bidded                43390 non-null  int64  \n",
      " 22  bid                   43390 non-null  float64\n",
      " 23  won_bid               43390 non-null  float64\n",
      " 24  feedback_bid          43390 non-null  float64\n",
      " 25  conversion            43390 non-null  float64\n",
      "dtypes: float64(4), int64(5), object(17)\n",
      "memory usage: 8.9+ MB\n"
     ]
    }
   ],
   "source": [
    "df.info()"
   ]
  },
  {
   "cell_type": "code",
   "execution_count": 6,
   "metadata": {},
   "outputs": [],
   "source": [
    "def plot(column, name_x, name_y):\n",
    "    title = name_x\n",
    "    col = df[column][:100].tolist()\n",
    "    name_x = df[name_x][:100].tolist()\n",
    "    plt.plot(col, name_x, marker = \"o\", linewidth = 3, color = 'steelblue')\n",
    "\n",
    "    plt.xlabel('col')\n",
    "    plt.ylabel('name_y')\n",
    "    plt.xticks([])\n",
    "    plt.title(title)\n",
    "    plt.style.use('default')\n",
    "    plt.yticks()\n",
    "    plt.show()"
   ]
  },
  {
   "cell_type": "code",
   "execution_count": 7,
   "metadata": {},
   "outputs": [],
   "source": [
    "# df.groupby(['time', 'conversion']).size().unstack().plot(kind='bar', title=\"Hour of Day\", figsize=(12,6))\n",
    "# plt.ylabel('count')\n",
    "# plt.title('Hourly impressions vs. clicks')"
   ]
  },
  {
   "cell_type": "code",
   "execution_count": 8,
   "metadata": {},
   "outputs": [
    {
     "name": "stdout",
     "output_type": "stream",
     "text": [
      "Value_counts\n",
      "2021-02-01 01:35:20    7\n",
      "2021-02-01 02:11:28    6\n",
      "2021-02-01 02:19:41    6\n",
      "2021-02-01 04:28:34    6\n",
      "2021-02-01 01:40:51    6\n",
      "                      ..\n",
      "2021-02-01 06:01:25    1\n",
      "2021-02-01 01:39:12    1\n",
      "2021-02-01 14:50:15    1\n",
      "2021-02-01 00:04:23    1\n",
      "2021-02-01 15:09:28    1\n",
      "Name: time, Length: 32909, dtype: int64\n",
      "\n",
      "Describe\n",
      "count                   43390\n",
      "unique                  32909\n",
      "top       2021-02-01 01:35:20\n",
      "freq                        7\n",
      "Name: time, dtype: object\n"
     ]
    }
   ],
   "source": [
    "print('Value_counts')\n",
    "print(df.time.value_counts())\n",
    "print()\n",
    "print('Describe')\n",
    "print(df.time.describe())\n",
    "\n",
    "### Same date - 2021-02-01, different hours"
   ]
  },
  {
   "cell_type": "code",
   "execution_count": 9,
   "metadata": {},
   "outputs": [
    {
     "data": {
      "text/plain": [
       "Text(0.5, 1.0, 'Number of clicks by hour')"
      ]
     },
     "execution_count": 9,
     "metadata": {},
     "output_type": "execute_result"
    },
    {
     "data": {
      "image/png": "[encoded data removed]",
      "text/plain": [
       "<Figure size 864x432 with 1 Axes>"
      ]
     },
     "metadata": {
      "needs_background": "light"
     },
     "output_type": "display_data"
    }
   ],
   "source": [
    "df.groupby('time').agg({'conversion':'sum'}).plot(figsize=(12,6))\n",
    "plt.ylabel('Number of clicks')\n",
    "plt.title('Number of clicks by hour')"
   ]
  },
  {
   "cell_type": "markdown",
   "metadata": {},
   "source": [
    "### We can see here that most of clicks take place at not deep night hours.\n",
    "### The Data is from one day."
   ]
  },
  {
   "cell_type": "code",
   "execution_count": 10,
   "metadata": {},
   "outputs": [
    {
     "name": "stdout",
     "output_type": "stream",
     "text": [
      "Value_counts\n",
      "74eecb91-ea99-4d9d-a14a-80b3ebdd4000    1\n",
      "995c4f00-5218-46c4-a676-30a6b03abd27    1\n",
      "84690700-5d11-44ef-8897-9a65cdcb7699    1\n",
      "b76592e0-85b2-4014-ba3d-44cfb101e4ba    1\n",
      "1049203c-89b2-41b1-b1a8-d070884bb180    1\n",
      "                                       ..\n",
      "95be121f-45fb-479b-8214-887a5b8c820f    1\n",
      "309ba3e2-4044-4f2a-bf3f-4ec861558990    1\n",
      "83d2defd-fff4-421f-a0dd-b74a15adb8f1    1\n",
      "83c8df14-2df6-4bf1-9e57-fdec377acea9    1\n",
      "026d3f14-816d-467b-84ba-ae466b8c115b    1\n",
      "Name: user_id, Length: 43390, dtype: int64\n",
      "\n",
      "Describe\n",
      "count                                    43390\n",
      "unique                                   43390\n",
      "top       74eecb91-ea99-4d9d-a14a-80b3ebdd4000\n",
      "freq                                         1\n",
      "Name: user_id, dtype: object\n"
     ]
    }
   ],
   "source": [
    "print('Value_counts')\n",
    "print(df.user_id.value_counts())\n",
    "print()\n",
    "print('Describe')\n",
    "print(df.user_id.describe())\n",
    "\n",
    "### Each user is unique"
   ]
  },
  {
   "cell_type": "code",
   "execution_count": 11,
   "metadata": {},
   "outputs": [
    {
     "name": "stdout",
     "output_type": "stream",
     "text": [
      "Value_counts\n",
      "8b04c90a35224e289bddd5c30e7ce71a    7636\n",
      "08bc22c8f1ab109ab5400761942ffc59    4415\n",
      "7bf950633ab64a9edbe40d6cf12f2425    2127\n",
      "cc66670e68952aaaf80bf6a2d6cbd38a    1802\n",
      "6b7afebe1382bbae9ae594d2e590a349    1782\n",
      "                                    ... \n",
      "f08ba47556e4bc717915a2a5321f749f       1\n",
      "6eb653eb1255637d21b2e2203f0ee20a       1\n",
      "c2297fa3d45337a0b977ff41afe99fe3       1\n",
      "cb1e2a9586d5801d81b9f3f76fe9ca30       1\n",
      "d47e8e0de7f386e677f5a52f064412a8       1\n",
      "Name: domain, Length: 193, dtype: int64\n",
      "\n",
      "Describe\n",
      "count                                43390\n",
      "unique                                 193\n",
      "top       8b04c90a35224e289bddd5c30e7ce71a\n",
      "freq                                  7636\n",
      "Name: domain, dtype: object\n"
     ]
    }
   ],
   "source": [
    "print('Value_counts')\n",
    "print(df.domain.value_counts())\n",
    "print()\n",
    "print('Describe')\n",
    "print(df.domain.describe())"
   ]
  },
  {
   "cell_type": "code",
   "execution_count": 12,
   "metadata": {},
   "outputs": [
    {
     "name": "stdout",
     "output_type": "stream",
     "text": [
      "Value_counts\n",
      "6f42bc8309262f0410052052bddd0a4e    7636\n",
      "347787d250deda7e64c8ec85688431cd    1782\n",
      "bca1ece294516ea025e851a2fefc64d7    1156\n",
      "b6500da717c406362728036542a8a8f3    1049\n",
      "6768cc8205ae4d7020765f2c2376f852     827\n",
      "                                    ... \n",
      "73b9f7d564792a45d276e2b4b6761f1b       1\n",
      "07ca3ae8afe1a75a1a1f2529721cf225       1\n",
      "eef1bac501d4c35bb50e4c45e2ce9fba       1\n",
      "3c7a377f60e9206daffd446018867fe2       1\n",
      "e4949f763e59dc7dd2ad5de3c983bcec       1\n",
      "Name: url, Length: 2012, dtype: int64\n",
      "\n",
      "Describe\n",
      "count                                43390\n",
      "unique                                2012\n",
      "top       6f42bc8309262f0410052052bddd0a4e\n",
      "freq                                  7636\n",
      "Name: url, dtype: object\n"
     ]
    }
   ],
   "source": [
    "print('Value_counts')\n",
    "print(df.url.value_counts())\n",
    "print()\n",
    "print('Describe')\n",
    "print(df.url.describe())"
   ]
  },
  {
   "cell_type": "code",
   "execution_count": 13,
   "metadata": {},
   "outputs": [
    {
     "name": "stdout",
     "output_type": "stream",
     "text": [
      "Value_counts\n",
      "b72f582e031620e00cdd552e161f03df    1270\n",
      "cf566bfb3813d744397494d415f4800d     985\n",
      "2dec94733a24ab8514eba29d3150dc1f     867\n",
      "447be426adae1b0f96e779337c193f9e     729\n",
      "d6c72f4402061aa8f708ec21def5279a     683\n",
      "                                    ... \n",
      "b8fec2fd18334202827bda5d4d32ad80       1\n",
      "367fde02602981db63881271f7fbc3ff       1\n",
      "a238e95fbc49339553973ddb7903747e       1\n",
      "c6df57aadb907107b1fd326c1a9e4ceb       1\n",
      "9579d0595f78e9ad2a0e09b471b5b26b       1\n",
      "Name: ad_slot, Length: 2064, dtype: int64\n",
      "\n",
      "Describe\n",
      "count                                43390\n",
      "unique                                2064\n",
      "top       b72f582e031620e00cdd552e161f03df\n",
      "freq                                  1270\n",
      "Name: ad_slot, dtype: object\n"
     ]
    }
   ],
   "source": [
    "print('Value_counts')\n",
    "print(df.ad_slot.value_counts())\n",
    "print()\n",
    "print('Describe')\n",
    "print(df.ad_slot.describe())"
   ]
  },
  {
   "cell_type": "code",
   "execution_count": 14,
   "metadata": {},
   "outputs": [
    {
     "name": "stdout",
     "output_type": "stream",
     "text": [
      "Value_counts\n",
      "US    43390\n",
      "Name: country, dtype: int64\n",
      "\n",
      "Describe\n",
      "count     43390\n",
      "unique        1\n",
      "top          US\n",
      "freq      43390\n",
      "Name: country, dtype: object\n"
     ]
    }
   ],
   "source": [
    "print('Value_counts')\n",
    "print(df.country.value_counts())\n",
    "print()\n",
    "print('Describe')\n",
    "print(df.country.describe())\n",
    "\n",
    "### Same country - USA"
   ]
  },
  {
   "cell_type": "code",
   "execution_count": 15,
   "metadata": {},
   "outputs": [
    {
     "name": "stdout",
     "output_type": "stream",
     "text": [
      "Value_counts\n",
      "87120.0    27\n",
      "96819.0    25\n",
      "87120      18\n",
      "77479.0    16\n",
      "85225.0    16\n",
      "           ..\n",
      "85658       1\n",
      "77465.0     1\n",
      "49285.0     1\n",
      "78227       1\n",
      "98942.0     1\n",
      "Name: postal_code, Length: 19924, dtype: int64\n",
      "\n",
      "Describe\n",
      "count       43390\n",
      "unique      19924\n",
      "top       87120.0\n",
      "freq           27\n",
      "Name: postal_code, dtype: object\n"
     ]
    }
   ],
   "source": [
    "print('Value_counts')\n",
    "print(df.postal_code.value_counts())\n",
    "print()\n",
    "print('Describe')\n",
    "print(df.postal_code.describe())"
   ]
  },
  {
   "cell_type": "code",
   "execution_count": 16,
   "metadata": {},
   "outputs": [
    {
     "name": "stdout",
     "output_type": "stream",
     "text": [
      "Value_counts\n",
      "FL    3303\n",
      "TX    3192\n",
      "CA    3181\n",
      "NY    2452\n",
      "PA    2021\n",
      "OH    1838\n",
      "IL    1748\n",
      "NC    1555\n",
      "NJ    1549\n",
      "GA    1508\n",
      "MI    1451\n",
      "VA    1167\n",
      "MA    1046\n",
      "WA    1030\n",
      "MD     993\n",
      "IN     976\n",
      "AZ     972\n",
      "TN     959\n",
      "MO     844\n",
      "CO     826\n",
      "WI     781\n",
      "MN     730\n",
      "SC     708\n",
      "CT     661\n",
      "AL     641\n",
      "KY     634\n",
      "LA     552\n",
      "OR     540\n",
      "IA     482\n",
      "OK     475\n",
      "NV     409\n",
      "KS     383\n",
      "AR     347\n",
      "UT     330\n",
      "MS     311\n",
      "WV     305\n",
      "NE     282\n",
      "NM     276\n",
      "NH     254\n",
      "HI     215\n",
      "ME     204\n",
      "RI     193\n",
      "ID     187\n",
      "DE     182\n",
      "MT     144\n",
      "ND     117\n",
      "SD     105\n",
      "AK      91\n",
      "VT      89\n",
      "WY      87\n",
      "DC      64\n",
      "Name: state_code, dtype: int64\n",
      "\n",
      "Describe\n",
      "count     43390\n",
      "unique       51\n",
      "top          FL\n",
      "freq       3303\n",
      "Name: state_code, dtype: object\n"
     ]
    }
   ],
   "source": [
    "print('Value_counts')\n",
    "print(df.state_code.value_counts())\n",
    "print()\n",
    "print('Describe')\n",
    "print(df.state_code.describe())\n",
    "\n",
    "### All 51 states of Amercia"
   ]
  },
  {
   "cell_type": "code",
   "execution_count": 17,
   "metadata": {},
   "outputs": [
    {
     "data": {
      "text/plain": [
       "<AxesSubplot:title={'center':'banner position histogram'}, xlabel='state_code'>"
      ]
     },
     "execution_count": 17,
     "metadata": {},
     "output_type": "execute_result"
    },
    {
     "data": {
      "image/png": "[encoded data removed]",
      "text/plain": [
       "<Figure size 864x432 with 1 Axes>"
      ]
     },
     "metadata": {
      "needs_background": "light"
     },
     "output_type": "display_data"
    }
   ],
   "source": [
    "df.groupby(['state_code', 'conversion']).size().unstack().plot(kind='bar', figsize=(12,6), title='banner position histogram')"
   ]
  },
  {
   "cell_type": "code",
   "execution_count": 18,
   "metadata": {},
   "outputs": [
    {
     "name": "stdout",
     "output_type": "stream",
     "text": [
      "Value_counts\n",
      "Chicago         298\n",
      "Houston         283\n",
      "Phoenix         275\n",
      "San Antonio     274\n",
      "Brooklyn        247\n",
      "               ... \n",
      "Cool Ridge        1\n",
      "Ahoskie           1\n",
      "Portageville      1\n",
      "Kennett           1\n",
      "Barnard           1\n",
      "Name: city, Length: 5275, dtype: int64\n",
      "\n",
      "Describe\n",
      "count       43390\n",
      "unique       5275\n",
      "top       Chicago\n",
      "freq          298\n",
      "Name: city, dtype: object\n"
     ]
    }
   ],
   "source": [
    "print('Value_counts')\n",
    "print(df.city.value_counts())\n",
    "print()\n",
    "print('Describe')\n",
    "print(df.city.describe())"
   ]
  },
  {
   "cell_type": "code",
   "execution_count": null,
   "metadata": {},
   "outputs": [],
   "source": []
  },
  {
   "cell_type": "code",
   "execution_count": 19,
   "metadata": {},
   "outputs": [
    {
     "name": "stdout",
     "output_type": "stream",
     "text": [
      "Value_counts\n",
      "Mozilla/5.0 (iPhone; CPU iPhone OS 14_3 like Mac OS X) AppleWebKit/605.1.15 (KHTML, like Gecko) Version/14.0.2 Mobile/15E148 Safari/604.1                                                                           4416\n",
      "Mozilla/5.0 (iPhone; CPU iPhone OS 14_4 like Mac OS X) AppleWebKit/605.1.15 (KHTML, like Gecko) Version/14.0.3 Mobile/15E148 Safari/604.1                                                                           1403\n",
      "Mozilla/5.0 (iPhone; CPU iPhone OS 14_3 like Mac OS X) AppleWebKit/605.1.15 (KHTML, like Gecko) Mobile/15E148 [FBAN/FBIOS;FBDV/iPhone12,1;FBMD/iPhone;FBSN/iOS;FBSV/14.3;FBSS/2;FBID/phone;FBLC/en_US;FBOP/5]        912\n",
      "Mozilla/5.0 (iPhone; CPU iPhone OS 14_3 like Mac OS X) AppleWebKit/605.1.15 (KHTML, like Gecko) Mobile/15E148 [FBAN/FBIOS;FBDV/iPhone11,8;FBMD/iPhone;FBSN/iOS;FBSV/14.3;FBSS/2;FBID/phone;FBLC/en_US;FBOP/5]        792\n",
      "Mozilla/5.0 (iPhone; CPU iPhone OS 14_3 like Mac OS X) AppleWebKit/605.1.15 (KHTML, like Gecko) GSA/137.2.345735309 Mobile/15E148 Safari/604.1                                                                       756\n",
      "                                                                                                                                                                                                                    ... \n",
      "Mozilla/5.0 (Linux; Android 11; SM-N970U Build/RP1A.200720.012; wv) AppleWebKit/537.36 (KHTML, like Gecko) Version/4.0 Chrome/88.0.4324.93 Mobile Safari/537.36[FBAN/EMA;FBLC/en_US;FBAV/235.0.0.5.119;]               1\n",
      "Mozilla/5.0 (iPhone; CPU iPhone OS 13_4_1 like Mac OS X) AppleWebKit/605.1.15 (KHTML, like Gecko) Mobile/15E148 [FBAN/FBIOS;FBDV/iPhone8,1;FBMD/iPhone;FBSN/iOS;FBSV/13.4.1;FBSS/2;FBID/phone;FBLC/en_US;FBOP/5]       1\n",
      "Mozilla/5.0 (Linux; Android 10; SM-A115U Build/QP1A.190711.020; wv) AppleWebKit/537.36 (KHTML, like Gecko) Version/4.0 Chrome/87.0.4280.141 Mobile Safari/537.36 [FB_IAB/FB4A;FBAV/300.1.0.57.129;]                    1\n",
      "Mozilla/5.0 (Linux; Android 7.0; LGL158VL Build/NRD90U; wv) AppleWebKit/537.36 (KHTML, like Gecko) Version/4.0 Chrome/88.0.4324.93 Mobile Safari/537.36 [FB_IAB/FB4A;FBAV/303.0.0.30.122;]                             1\n",
      "Mozilla/5.0 (Linux; Android 9; moto e6 Build/PCBS29.73-81-18-4; wv) AppleWebKit/537.36 (KHTML, like Gecko) Version/4.0 Chrome/88.0.4324.93 Mobile Safari/537.36 [FB_IAB/FB4A;FBAV/270.0.0.57.127;]                     1\n",
      "Name: user_agent, Length: 6617, dtype: int64\n",
      "\n",
      "Describe\n",
      "count                                                 43390\n",
      "unique                                                 6617\n",
      "top       Mozilla/5.0 (iPhone; CPU iPhone OS 14_3 like M...\n",
      "freq                                                   4416\n",
      "Name: user_agent, dtype: object\n"
     ]
    }
   ],
   "source": [
    "print('Value_counts')\n",
    "print(df.user_agent.value_counts())\n",
    "print()\n",
    "print('Describe')\n",
    "print(df.user_agent.describe())"
   ]
  },
  {
   "cell_type": "code",
   "execution_count": 20,
   "metadata": {},
   "outputs": [
    {
     "name": "stdout",
     "output_type": "stream",
     "text": [
      "Value_counts\n",
      "0           24081\n",
      "2592000      1780\n",
      "5184000      1427\n",
      "12960000     1405\n",
      "7776000      1226\n",
      "            ...  \n",
      "50400          11\n",
      "46800          10\n",
      "61200          10\n",
      "54000           9\n",
      "72000           8\n",
      "Name: cookie_age_seconds, Length: 77, dtype: int64\n",
      "\n",
      "Describe\n",
      "count    4.339000e+04\n",
      "mean     7.636785e+06\n",
      "std      1.333096e+07\n",
      "min      0.000000e+00\n",
      "25%      0.000000e+00\n",
      "50%      0.000000e+00\n",
      "75%      1.036800e+07\n",
      "max      6.220800e+07\n",
      "Name: cookie_age_seconds, dtype: float64\n"
     ]
    }
   ],
   "source": [
    "print('Value_counts')\n",
    "print(df.cookie_age_seconds.value_counts())\n",
    "print()\n",
    "print('Describe')\n",
    "print(df.cookie_age_seconds.describe())"
   ]
  },
  {
   "cell_type": "code",
   "execution_count": 21,
   "metadata": {},
   "outputs": [
    {
     "data": {
      "image/png": "[encoded data removed]",
      "text/plain": [
       "<Figure size 432x288 with 1 Axes>"
      ]
     },
     "metadata": {
      "needs_background": "light"
     },
     "output_type": "display_data"
    }
   ],
   "source": [
    "plot('user_id', 'cookie_age_seconds', 'cookie_age_seconds')"
   ]
  },
  {
   "cell_type": "code",
   "execution_count": 22,
   "metadata": {},
   "outputs": [
    {
     "name": "stdout",
     "output_type": "stream",
     "text": [
      "Value_counts\n",
      "en    43149\n",
      "es      225\n",
      "id       11\n",
      "pt        5\n",
      "Name: detected_language, dtype: int64\n",
      "\n",
      "Describe\n",
      "count     43390\n",
      "unique        4\n",
      "top          en\n",
      "freq      43149\n",
      "Name: detected_language, dtype: object\n"
     ]
    }
   ],
   "source": [
    "print('Value_counts')\n",
    "print(df.detected_language.value_counts())\n",
    "print()\n",
    "print('Describe')\n",
    "print(df.detected_language.describe())"
   ]
  },
  {
   "cell_type": "code",
   "execution_count": null,
   "metadata": {},
   "outputs": [],
   "source": []
  },
  {
   "cell_type": "code",
   "execution_count": 23,
   "metadata": {},
   "outputs": [
    {
     "data": {
      "text/plain": [
       "<AxesSubplot:title={'center':'banner position histogram'}, xlabel='detected_language'>"
      ]
     },
     "execution_count": 23,
     "metadata": {},
     "output_type": "execute_result"
    },
    {
     "data": {
      "image/png": "[encoded data removed]",
      "text/plain": [
       "<Figure size 1200x600 with 1 Axes>"
      ]
     },
     "metadata": {},
     "output_type": "display_data"
    }
   ],
   "source": [
    "df.groupby(['detected_language', 'conversion']).size().unstack().plot(kind='bar', figsize=(12,6), title='banner position histogram')"
   ]
  },
  {
   "cell_type": "code",
   "execution_count": 24,
   "metadata": {},
   "outputs": [
    {
     "name": "stdout",
     "output_type": "stream",
     "text": [
      "Value_counts\n",
      "HIGHEND_PHONE    40992\n",
      "TABLET            2396\n",
      "GAME_CONSOLE         2\n",
      "Name: device_type, dtype: int64\n",
      "\n",
      "Describe\n",
      "count             43390\n",
      "unique                3\n",
      "top       HIGHEND_PHONE\n",
      "freq              40992\n",
      "Name: device_type, dtype: object\n"
     ]
    }
   ],
   "source": [
    "print('Value_counts')\n",
    "print(df.device_type.value_counts())\n",
    "print()\n",
    "print('Describe')\n",
    "print(df.device_type.describe())"
   ]
  },
  {
   "cell_type": "code",
   "execution_count": 25,
   "metadata": {},
   "outputs": [
    {
     "data": {
      "text/plain": [
       "<AxesSubplot:title={'center':'banner position histogram'}, xlabel='device_type'>"
      ]
     },
     "execution_count": 25,
     "metadata": {},
     "output_type": "execute_result"
    },
    {
     "data": {
      "image/png": "[encoded data removed]",
      "text/plain": [
       "<Figure size 1200x600 with 1 Axes>"
      ]
     },
     "metadata": {},
     "output_type": "display_data"
    }
   ],
   "source": [
    "df.groupby(['device_type', 'conversion']).size().unstack().plot(kind='bar', figsize=(12,6), title='banner position histogram')"
   ]
  },
  {
   "cell_type": "code",
   "execution_count": 26,
   "metadata": {},
   "outputs": [
    {
     "name": "stdout",
     "output_type": "stream",
     "text": [
      "Value_counts\n",
      "apple               21323\n",
      "samsung             14554\n",
      "lg                   2656\n",
      "motorola             2019\n",
      "google               1080\n",
      "                    ...  \n",
      "cubot                   1\n",
      "zopo                    1\n",
      "barnes and noble        1\n",
      "nuu                     1\n",
      "infinix                 1\n",
      "Name: device_brand, Length: 64, dtype: int64\n",
      "\n",
      "Describe\n",
      "count     43390\n",
      "unique       64\n",
      "top       apple\n",
      "freq      21323\n",
      "Name: device_brand, dtype: object\n"
     ]
    }
   ],
   "source": [
    "print('Value_counts')\n",
    "print(df.device_brand.value_counts())\n",
    "print()\n",
    "print('Describe')\n",
    "print(df.device_brand.describe())"
   ]
  },
  {
   "cell_type": "code",
   "execution_count": 27,
   "metadata": {},
   "outputs": [
    {
     "data": {
      "text/plain": [
       "<AxesSubplot:title={'center':'banner position histogram'}, xlabel='device_brand'>"
      ]
     },
     "execution_count": 27,
     "metadata": {},
     "output_type": "execute_result"
    },
    {
     "data": {
      "image/png": "[encoded data removed]",
      "text/plain": [
       "<Figure size 1200x600 with 1 Axes>"
      ]
     },
     "metadata": {},
     "output_type": "display_data"
    }
   ],
   "source": [
    "df.groupby(['device_brand', 'conversion']).size().unstack().plot(kind='bar', figsize=(12,6), title='banner position histogram')"
   ]
  },
  {
   "cell_type": "code",
   "execution_count": 28,
   "metadata": {},
   "outputs": [
    {
     "name": "stdout",
     "output_type": "stream",
     "text": [
      "Value_counts\n",
      "iphone       20007\n",
      "ipad          1310\n",
      "sm-g960u      1089\n",
      "sm-g973u       814\n",
      "sm-g975u       729\n",
      "             ...  \n",
      "lm-x510mw        1\n",
      "x9i              1\n",
      "pb2-650y         1\n",
      "as998            1\n",
      "s60lite          1\n",
      "Name: device_model, Length: 889, dtype: int64\n",
      "\n",
      "Describe\n",
      "count      43390\n",
      "unique       889\n",
      "top       iphone\n",
      "freq       20007\n",
      "Name: device_model, dtype: object\n"
     ]
    }
   ],
   "source": [
    "print('Value_counts')\n",
    "print(df.device_model.value_counts())\n",
    "print()\n",
    "print('Describe')\n",
    "print(df.device_model.describe())"
   ]
  },
  {
   "cell_type": "code",
   "execution_count": 29,
   "metadata": {},
   "outputs": [
    {
     "name": "stdout",
     "output_type": "stream",
     "text": [
      "Value_counts\n",
      "UNKNOWN_ORIENTATION    43390\n",
      "Name: screen_orientation, dtype: int64\n",
      "\n",
      "Describe\n",
      "count                   43390\n",
      "unique                      1\n",
      "top       UNKNOWN_ORIENTATION\n",
      "freq                    43390\n",
      "Name: screen_orientation, dtype: object\n"
     ]
    }
   ],
   "source": [
    "print('Value_counts')\n",
    "print(df.screen_orientation.value_counts())\n",
    "print()\n",
    "print('Describe')\n",
    "print(df.screen_orientation.describe())\n",
    "\n",
    "### One screen_orientation - UNKNOWN_ORIENTATION"
   ]
  },
  {
   "cell_type": "code",
   "execution_count": 30,
   "metadata": {},
   "outputs": [
    {
     "name": "stdout",
     "output_type": "stream",
     "text": [
      "Value_counts\n",
      "97e9044692d3df04de93f6450265cb2e    8292\n",
      "def51bba75ae6a6e5b20e3dc9038df40    4474\n",
      "0e67e5ac52c43c9a810c344540525fff    2230\n",
      "b6a9eb75731ff93ba57ac1595091c486    2136\n",
      "a841cf8c2487af452679e60a8941348d    1714\n",
      "                                    ... \n",
      "14d158e08e64901666dab2ae1a86ecc5       1\n",
      "dde44681e3102becae300d9d2ba85575       1\n",
      "147cb79c8855396f168d360d67ad5bd7       1\n",
      "8532730ba4da755fbdb9c6d2da2f493e       1\n",
      "885638fc11db6e1b214ed11917685f61       1\n",
      "Name: publisher_properties, Length: 190, dtype: int64\n",
      "\n",
      "Describe\n",
      "count                                43390\n",
      "unique                                 190\n",
      "top       97e9044692d3df04de93f6450265cb2e\n",
      "freq                                  8292\n",
      "Name: publisher_properties, dtype: object\n"
     ]
    }
   ],
   "source": [
    "print('Value_counts')\n",
    "print(df.publisher_properties.value_counts())\n",
    "print()\n",
    "print('Describe')\n",
    "print(df.publisher_properties.describe())"
   ]
  },
  {
   "cell_type": "code",
   "execution_count": 31,
   "metadata": {},
   "outputs": [
    {
     "name": "stdout",
     "output_type": "stream",
     "text": [
      "Value_counts\n",
      "1    43250\n",
      "0      140\n",
      "Name: is_wifi, dtype: int64\n",
      "\n",
      "Describe\n",
      "count    43390.000000\n",
      "mean         0.996773\n",
      "std          0.056712\n",
      "min          0.000000\n",
      "25%          1.000000\n",
      "50%          1.000000\n",
      "75%          1.000000\n",
      "max          1.000000\n",
      "Name: is_wifi, dtype: float64\n"
     ]
    }
   ],
   "source": [
    "print('Value_counts')\n",
    "print(df.is_wifi.value_counts())\n",
    "print()\n",
    "print('Describe')\n",
    "print(df.is_wifi.describe())"
   ]
  },
  {
   "cell_type": "code",
   "execution_count": 32,
   "metadata": {},
   "outputs": [
    {
     "data": {
      "text/plain": [
       "<AxesSubplot:title={'center':'banner position histogram'}, xlabel='is_wifi'>"
      ]
     },
     "execution_count": 32,
     "metadata": {},
     "output_type": "execute_result"
    },
    {
     "data": {
      "image/png": "[encoded data removed]",
      "text/plain": [
       "<Figure size 1200x600 with 1 Axes>"
      ]
     },
     "metadata": {},
     "output_type": "display_data"
    }
   ],
   "source": [
    "df.groupby(['is_wifi', 'conversion']).size().unstack().plot(kind='bar', figsize=(12,6), title='banner position histogram')"
   ]
  },
  {
   "cell_type": "code",
   "execution_count": 33,
   "metadata": {},
   "outputs": [
    {
     "name": "stdout",
     "output_type": "stream",
     "text": [
      "Value_counts\n",
      " 0     1278\n",
      "-1      931\n",
      " 95     920\n",
      " 84     862\n",
      " 79     841\n",
      "       ... \n",
      " 10     113\n",
      " 11     106\n",
      " 12     101\n",
      " 15      96\n",
      " 99      50\n",
      "Name: viewability, Length: 101, dtype: int64\n",
      "\n",
      "Describe\n",
      "count    43390.000000\n",
      "mean        61.674695\n",
      "std         27.110740\n",
      "min         -1.000000\n",
      "25%         47.000000\n",
      "50%         68.000000\n",
      "75%         83.000000\n",
      "max         99.000000\n",
      "Name: viewability, dtype: float64\n"
     ]
    }
   ],
   "source": [
    "print('Value_counts')\n",
    "print(df.viewability.value_counts())\n",
    "print()\n",
    "print('Describe')\n",
    "print(df.viewability.describe())"
   ]
  },
  {
   "cell_type": "code",
   "execution_count": 34,
   "metadata": {},
   "outputs": [
    {
     "name": "stdout",
     "output_type": "stream",
     "text": [
      "Value_counts\n",
      "-1      27508\n",
      " 1       8752\n",
      " 2       1498\n",
      " 3        596\n",
      " 4        376\n",
      "        ...  \n",
      " 205        1\n",
      " 110        1\n",
      " 270        1\n",
      " 191        1\n",
      " 255        1\n",
      "Name: session_depth, Length: 212, dtype: int64\n",
      "\n",
      "Describe\n",
      "count    43390.000000\n",
      "mean         3.127449\n",
      "std         17.248716\n",
      "min         -1.000000\n",
      "25%         -1.000000\n",
      "50%         -1.000000\n",
      "75%          1.000000\n",
      "max        300.000000\n",
      "Name: session_depth, dtype: float64\n"
     ]
    }
   ],
   "source": [
    "print('Value_counts')\n",
    "print(df.session_depth.value_counts())\n",
    "print()\n",
    "print('Describe')\n",
    "print(df.session_depth.describe())"
   ]
  },
  {
   "cell_type": "code",
   "execution_count": 35,
   "metadata": {},
   "outputs": [
    {
     "name": "stdout",
     "output_type": "stream",
     "text": [
      "Value_counts\n",
      "FIRST_PRICE     41475\n",
      "SECOND_PRICE     1915\n",
      "Name: auction_type, dtype: int64\n",
      "\n",
      "Describe\n",
      "count           43390\n",
      "unique              2\n",
      "top       FIRST_PRICE\n",
      "freq            41475\n",
      "Name: auction_type, dtype: object\n"
     ]
    }
   ],
   "source": [
    "print('Value_counts')\n",
    "print(df.auction_type.value_counts())\n",
    "print()\n",
    "print('Describe')\n",
    "print(df.auction_type.describe())"
   ]
  },
  {
   "cell_type": "code",
   "execution_count": 36,
   "metadata": {},
   "outputs": [
    {
     "data": {
      "text/plain": [
       "<AxesSubplot:title={'center':'auction_type'}, xlabel='auction_type'>"
      ]
     },
     "execution_count": 36,
     "metadata": {},
     "output_type": "execute_result"
    },
    {
     "data": {
      "image/png": "[encoded data removed]",
      "text/plain": [
       "<Figure size 1200x600 with 1 Axes>"
      ]
     },
     "metadata": {},
     "output_type": "display_data"
    }
   ],
   "source": [
    "df.groupby(['auction_type', 'conversion']).size().unstack().plot(kind='bar', figsize=(12,6), title='auction_type')"
   ]
  },
  {
   "cell_type": "code",
   "execution_count": 37,
   "metadata": {},
   "outputs": [
    {
     "name": "stdout",
     "output_type": "stream",
     "text": [
      "Value_counts\n",
      "1    43390\n",
      "Name: bidded, dtype: int64\n",
      "\n",
      "Describe\n",
      "count    43390.0\n",
      "mean         1.0\n",
      "std          0.0\n",
      "min          1.0\n",
      "25%          1.0\n",
      "50%          1.0\n",
      "75%          1.0\n",
      "max          1.0\n",
      "Name: bidded, dtype: float64\n"
     ]
    }
   ],
   "source": [
    "print('Value_counts')\n",
    "print(df.bidded.value_counts())\n",
    "print()\n",
    "print('Describe')\n",
    "print(df.bidded.describe())"
   ]
  },
  {
   "cell_type": "code",
   "execution_count": 38,
   "metadata": {},
   "outputs": [
    {
     "data": {
      "text/plain": [
       "<AxesSubplot:title={'center':'bidded'}, xlabel='bidded'>"
      ]
     },
     "execution_count": 38,
     "metadata": {},
     "output_type": "execute_result"
    },
    {
     "data": {
      "image/png": "[encoded data removed]",
      "text/plain": [
       "<Figure size 1200x600 with 1 Axes>"
      ]
     },
     "metadata": {},
     "output_type": "display_data"
    }
   ],
   "source": [
    "df.groupby(['bidded', 'conversion']).size().unstack().plot(kind='bar', figsize=(12,6), title='bidded')"
   ]
  },
  {
   "cell_type": "code",
   "execution_count": 39,
   "metadata": {},
   "outputs": [
    {
     "name": "stdout",
     "output_type": "stream",
     "text": [
      "Value_counts\n",
      "0.060000    612\n",
      "0.126000     18\n",
      "0.151200     18\n",
      "0.201600     18\n",
      "0.183600     16\n",
      "           ... \n",
      "0.216982      1\n",
      "1.337000      1\n",
      "5.397269      1\n",
      "0.328269      1\n",
      "3.128682      1\n",
      "Name: bid, Length: 38106, dtype: int64\n",
      "\n",
      "Describe\n",
      "count    43390.000000\n",
      "mean         1.220479\n",
      "std          2.149521\n",
      "min          0.060000\n",
      "25%          0.300000\n",
      "50%          0.622873\n",
      "75%          1.309041\n",
      "max         86.962340\n",
      "Name: bid, dtype: float64\n"
     ]
    }
   ],
   "source": [
    "print('Value_counts')\n",
    "print(df.bid.value_counts())\n",
    "print()\n",
    "print('Describe')\n",
    "print(df.bid.describe())"
   ]
  },
  {
   "cell_type": "code",
   "execution_count": 40,
   "metadata": {},
   "outputs": [
    {
     "name": "stdout",
     "output_type": "stream",
     "text": [
      "Value_counts\n",
      "0.0    27909\n",
      "1.0    15481\n",
      "Name: won_bid, dtype: int64\n",
      "\n",
      "Describe\n",
      "count    43390.000000\n",
      "mean         0.356787\n",
      "std          0.479057\n",
      "min          0.000000\n",
      "25%          0.000000\n",
      "50%          0.000000\n",
      "75%          1.000000\n",
      "max          1.000000\n",
      "Name: won_bid, dtype: float64\n"
     ]
    }
   ],
   "source": [
    "print('Value_counts')\n",
    "print(df.won_bid.value_counts())\n",
    "print()\n",
    "print('Describe')\n",
    "print(df.won_bid.describe())"
   ]
  },
  {
   "cell_type": "code",
   "execution_count": 41,
   "metadata": {},
   "outputs": [
    {
     "data": {
      "text/plain": [
       "<AxesSubplot:title={'center':'won_bid'}, xlabel='won_bid'>"
      ]
     },
     "execution_count": 41,
     "metadata": {},
     "output_type": "execute_result"
    },
    {
     "data": {
      "image/png": "[encoded data removed]",
      "text/plain": [
       "<Figure size 1200x600 with 1 Axes>"
      ]
     },
     "metadata": {},
     "output_type": "display_data"
    }
   ],
   "source": [
    "df.groupby(['won_bid', 'conversion']).size().unstack().plot(kind='bar', figsize=(12,6), title='won_bid')"
   ]
  },
  {
   "cell_type": "code",
   "execution_count": 42,
   "metadata": {},
   "outputs": [
    {
     "name": "stdout",
     "output_type": "stream",
     "text": [
      "Value_counts\n",
      "0.320000     639\n",
      "0.250000     496\n",
      "0.300000     491\n",
      "0.040000     433\n",
      "0.010000     426\n",
      "            ... \n",
      "34.500000      1\n",
      "21.480000      1\n",
      "13.600000      1\n",
      "15.910000      1\n",
      "18.523844      1\n",
      "Name: feedback_bid, Length: 1638, dtype: int64\n",
      "\n",
      "Describe\n",
      "count    43390.000000\n",
      "mean         2.772074\n",
      "std         25.101479\n",
      "min          0.010000\n",
      "25%          0.420000\n",
      "50%          1.120000\n",
      "75%          2.590000\n",
      "max       1243.750000\n",
      "Name: feedback_bid, dtype: float64\n"
     ]
    }
   ],
   "source": [
    "print('Value_counts')\n",
    "print(df.feedback_bid.value_counts())\n",
    "print()\n",
    "print('Describe')\n",
    "print(df.feedback_bid.describe())"
   ]
  },
  {
   "cell_type": "code",
   "execution_count": 43,
   "metadata": {},
   "outputs": [
    {
     "name": "stdout",
     "output_type": "stream",
     "text": [
      "Value_counts\n",
      "0.0    41567\n",
      "1.0     1823\n",
      "Name: conversion, dtype: int64\n",
      "\n",
      "Describe\n",
      "count    43390.000000\n",
      "mean         0.042014\n",
      "std          0.200624\n",
      "min          0.000000\n",
      "25%          0.000000\n",
      "50%          0.000000\n",
      "75%          0.000000\n",
      "max          1.000000\n",
      "Name: conversion, dtype: float64\n"
     ]
    }
   ],
   "source": [
    "print('Value_counts')\n",
    "print(df.conversion.value_counts())\n",
    "print()\n",
    "print('Describe')\n",
    "print(df.conversion.describe())"
   ]
  },
  {
   "cell_type": "code",
   "execution_count": 44,
   "metadata": {},
   "outputs": [
    {
     "data": {
      "text/plain": [
       "<AxesSubplot:title={'center':'conversion'}, xlabel='conversion'>"
      ]
     },
     "execution_count": 44,
     "metadata": {},
     "output_type": "execute_result"
    },
    {
     "data": {
      "image/png": "[encoded data removed]",
      "text/plain": [
       "<Figure size 1200x600 with 1 Axes>"
      ]
     },
     "metadata": {},
     "output_type": "display_data"
    }
   ],
   "source": [
    "df.groupby(['conversion', 'conversion']).size().unstack().plot(kind='bar', figsize=(12,6), title='conversion')"
   ]
  },
  {
   "cell_type": "markdown",
   "metadata": {},
   "source": [
    "### 1.\n",
    "### Summary and visualizations"
   ]
  },
  {
   "cell_type": "markdown",
   "metadata": {},
   "source": [
    "##### As we can see features user_id, country, screen_orientation have one or each different value, so they could not affect on data and we can drop them. \n",
    "\n",
    "##### For each column there is info and description of how much unique values we have and their meanings.\n",
    "\n",
    "##### Also added visualisation of such features like state_code, detected_language, device_type, device_brand, is_wifi, auction_type, bidded, won_bid and we can see how much clicks were given for each other.\n",
    "\n",
    "##### Bellow we can see how much was clicked from whole data.\n"
   ]
  },
  {
   "cell_type": "code",
   "execution_count": 45,
   "metadata": {},
   "outputs": [
    {
     "data": {
      "image/png": "[encoded data removed]",
      "text/plain": [
       "<Figure size 640x480 with 1 Axes>"
      ]
     },
     "metadata": {},
     "output_type": "display_data"
    }
   ],
   "source": [
    "user_id = df['user_id'].tolist()\n",
    "conversion = df['conversion'].tolist()\n",
    "\n",
    "total=len(user_id)\n",
    "prob = []\n",
    "\n",
    "elements, counts = np.unique(df['conversion'], return_counts=True)\n",
    "\n",
    "prob.append(int(counts[1])/int(counts[0]+counts[1]))\n",
    "prob.append(int(counts[0])/int(counts[0]+counts[1]))\n",
    "\n",
    "\n",
    "products = ['Conversion', 'Non-conversion']\n",
    "plt.pie(prob, autopct = '%.1f%%', labels = products)\n",
    "plt.legend(loc = 'lower right', markerfirst = True, numpoints=1)\n",
    "plt.subplots_adjust(left=0, bottom=0, right=1, top=1)\n",
    "plt.title('Clicks percentage')\n",
    "plt.style.use('default')\n",
    "plt.show()"
   ]
  },
  {
   "cell_type": "markdown",
   "metadata": {},
   "source": [
    "### 2.\n",
    "### The most trivial CTR predictor"
   ]
  },
  {
   "cell_type": "markdown",
   "metadata": {},
   "source": [
    "##### The most trivial CTR predictor is when we can see how much clicks were given in each field of use like when it was given, from which device, how much time were spent at domain, etc. We could just made graphs of clicks and give them weights. By all of those we could calculate if there will be a click with simple algiritms like Byes theorem.\n"
   ]
  },
  {
   "cell_type": "markdown",
   "metadata": {},
   "source": [
    "### 3.a.\n",
    "### Designing, training and evaluating a CTR estimation model"
   ]
  },
  {
   "cell_type": "code",
   "execution_count": 46,
   "metadata": {},
   "outputs": [
    {
     "data": {
      "text/html": [
       "<div>\n",
       "<style scoped>\n",
       "    .dataframe tbody tr th:only-of-type {\n",
       "        vertical-align: middle;\n",
       "    }\n",
       "\n",
       "    .dataframe tbody tr th {\n",
       "        vertical-align: top;\n",
       "    }\n",
       "\n",
       "    .dataframe thead th {\n",
       "        text-align: right;\n",
       "    }\n",
       "</style>\n",
       "<table border=\"1\" class=\"dataframe\">\n",
       "  <thead>\n",
       "    <tr style=\"text-align: right;\">\n",
       "      <th></th>\n",
       "      <th>time</th>\n",
       "      <th>user_id</th>\n",
       "      <th>domain</th>\n",
       "      <th>url</th>\n",
       "      <th>ad_slot</th>\n",
       "      <th>country</th>\n",
       "      <th>postal_code</th>\n",
       "      <th>state_code</th>\n",
       "      <th>city</th>\n",
       "      <th>user_agent</th>\n",
       "      <th>...</th>\n",
       "      <th>publisher_properties</th>\n",
       "      <th>is_wifi</th>\n",
       "      <th>viewability</th>\n",
       "      <th>session_depth</th>\n",
       "      <th>auction_type</th>\n",
       "      <th>bidded</th>\n",
       "      <th>bid</th>\n",
       "      <th>won_bid</th>\n",
       "      <th>feedback_bid</th>\n",
       "      <th>conversion</th>\n",
       "    </tr>\n",
       "  </thead>\n",
       "  <tbody>\n",
       "    <tr>\n",
       "      <th>13</th>\n",
       "      <td>2021-02-01 21:12:51</td>\n",
       "      <td>7ad96658-acc8-4937-90b1-4364a3703d89</td>\n",
       "      <td>84bf368a22dd826a3c4018e2518c734d</td>\n",
       "      <td>0fa8a3c3a4f84031caaf013f584e9119</td>\n",
       "      <td>fb08b7ed41f7e10b51dd2dacf2f4b4c1</td>\n",
       "      <td>US</td>\n",
       "      <td>6824.0</td>\n",
       "      <td>CT</td>\n",
       "      <td>Fairfield</td>\n",
       "      <td>Mozilla/5.0 (iPad; CPU OS 14_3 like Mac OS X) ...</td>\n",
       "      <td>...</td>\n",
       "      <td>c66afd784f43b768d95a6b451161d8d7</td>\n",
       "      <td>1</td>\n",
       "      <td>78</td>\n",
       "      <td>-1</td>\n",
       "      <td>FIRST_PRICE</td>\n",
       "      <td>1</td>\n",
       "      <td>0.239810</td>\n",
       "      <td>1.0</td>\n",
       "      <td>0.24</td>\n",
       "      <td>0.0</td>\n",
       "    </tr>\n",
       "    <tr>\n",
       "      <th>16</th>\n",
       "      <td>2021-02-01 03:34:13</td>\n",
       "      <td>fc1f2d6c-4748-4340-ab43-072979cc7474</td>\n",
       "      <td>6b7afebe1382bbae9ae594d2e590a349</td>\n",
       "      <td>347787d250deda7e64c8ec85688431cd</td>\n",
       "      <td>cf566bfb3813d744397494d415f4800d</td>\n",
       "      <td>US</td>\n",
       "      <td>78414.0</td>\n",
       "      <td>TX</td>\n",
       "      <td>Corpus Christi</td>\n",
       "      <td>Mozilla/5.0 (Linux; Android 10; LM-G820) Apple...</td>\n",
       "      <td>...</td>\n",
       "      <td>a841cf8c2487af452679e60a8941348d</td>\n",
       "      <td>1</td>\n",
       "      <td>87</td>\n",
       "      <td>-1</td>\n",
       "      <td>FIRST_PRICE</td>\n",
       "      <td>1</td>\n",
       "      <td>0.785979</td>\n",
       "      <td>1.0</td>\n",
       "      <td>0.44</td>\n",
       "      <td>0.0</td>\n",
       "    </tr>\n",
       "    <tr>\n",
       "      <th>19</th>\n",
       "      <td>2021-02-01 13:52:39</td>\n",
       "      <td>aafe54af-499c-49dd-85b4-319d558f2fba</td>\n",
       "      <td>6b7afebe1382bbae9ae594d2e590a349</td>\n",
       "      <td>347787d250deda7e64c8ec85688431cd</td>\n",
       "      <td>cf566bfb3813d744397494d415f4800d</td>\n",
       "      <td>US</td>\n",
       "      <td>34684.0</td>\n",
       "      <td>FL</td>\n",
       "      <td>Palm Harbor</td>\n",
       "      <td>Mozilla/5.0 (Linux; Android 10; SM-N960U Build...</td>\n",
       "      <td>...</td>\n",
       "      <td>a841cf8c2487af452679e60a8941348d</td>\n",
       "      <td>1</td>\n",
       "      <td>85</td>\n",
       "      <td>-1</td>\n",
       "      <td>FIRST_PRICE</td>\n",
       "      <td>1</td>\n",
       "      <td>0.475619</td>\n",
       "      <td>0.0</td>\n",
       "      <td>1.12</td>\n",
       "      <td>0.0</td>\n",
       "    </tr>\n",
       "    <tr>\n",
       "      <th>22</th>\n",
       "      <td>2021-02-01 04:28:37</td>\n",
       "      <td>c24b65ca-f2b1-4b67-bfde-9e1dd8a9f70d</td>\n",
       "      <td>0a6a274ee0eebb2078a908ef35d4da1c</td>\n",
       "      <td>415f483f3055bc601bd6a7f1efa04618</td>\n",
       "      <td>cedbfd1c95f784654d3ba631bccbd207</td>\n",
       "      <td>US</td>\n",
       "      <td>44131.0</td>\n",
       "      <td>OH</td>\n",
       "      <td>Bedford</td>\n",
       "      <td>Mozilla/5.0 (Linux; Android 10; LM-V350) Apple...</td>\n",
       "      <td>...</td>\n",
       "      <td>58481c56ad3c48f93b93817d6e2a2cbb</td>\n",
       "      <td>1</td>\n",
       "      <td>76</td>\n",
       "      <td>-1</td>\n",
       "      <td>FIRST_PRICE</td>\n",
       "      <td>1</td>\n",
       "      <td>2.732400</td>\n",
       "      <td>0.0</td>\n",
       "      <td>7.14</td>\n",
       "      <td>0.0</td>\n",
       "    </tr>\n",
       "    <tr>\n",
       "      <th>25</th>\n",
       "      <td>2021-02-01 13:16:01</td>\n",
       "      <td>aae5c839-e268-453f-8e33-db50d7c5eeea</td>\n",
       "      <td>c1046ab79c9568fd2260c3073287937f</td>\n",
       "      <td>266f10dd8342f3719524d9e580b8426f</td>\n",
       "      <td>9475cbf349bea72bd1727377c4125703</td>\n",
       "      <td>US</td>\n",
       "      <td>68850.0</td>\n",
       "      <td>NE</td>\n",
       "      <td>Omaha</td>\n",
       "      <td>Mozilla/5.0 (Linux; Android 10; SM-G960U Build...</td>\n",
       "      <td>...</td>\n",
       "      <td>e6d396c6112b145c61e8736465453674</td>\n",
       "      <td>1</td>\n",
       "      <td>78</td>\n",
       "      <td>4</td>\n",
       "      <td>FIRST_PRICE</td>\n",
       "      <td>1</td>\n",
       "      <td>1.290821</td>\n",
       "      <td>0.0</td>\n",
       "      <td>1.95</td>\n",
       "      <td>0.0</td>\n",
       "    </tr>\n",
       "    <tr>\n",
       "      <th>...</th>\n",
       "      <td>...</td>\n",
       "      <td>...</td>\n",
       "      <td>...</td>\n",
       "      <td>...</td>\n",
       "      <td>...</td>\n",
       "      <td>...</td>\n",
       "      <td>...</td>\n",
       "      <td>...</td>\n",
       "      <td>...</td>\n",
       "      <td>...</td>\n",
       "      <td>...</td>\n",
       "      <td>...</td>\n",
       "      <td>...</td>\n",
       "      <td>...</td>\n",
       "      <td>...</td>\n",
       "      <td>...</td>\n",
       "      <td>...</td>\n",
       "      <td>...</td>\n",
       "      <td>...</td>\n",
       "      <td>...</td>\n",
       "      <td>...</td>\n",
       "    </tr>\n",
       "    <tr>\n",
       "      <th>249207</th>\n",
       "      <td>2021-02-01 09:40:17</td>\n",
       "      <td>648d1fe9-4c81-452e-9006-1595dd2f3c91</td>\n",
       "      <td>62c83b414837c0346361fa96e0e49ee3</td>\n",
       "      <td>3d6a5887deaa3f36e75f083766c56a8e</td>\n",
       "      <td>557f7c1d352e987943735917086f9ef4</td>\n",
       "      <td>US</td>\n",
       "      <td>98027.0</td>\n",
       "      <td>WA</td>\n",
       "      <td>Redmond</td>\n",
       "      <td>Mozilla/5.0 (Linux; Android 11; SM-N975U Build...</td>\n",
       "      <td>...</td>\n",
       "      <td>0e67e5ac52c43c9a810c344540525fff</td>\n",
       "      <td>1</td>\n",
       "      <td>72</td>\n",
       "      <td>1</td>\n",
       "      <td>FIRST_PRICE</td>\n",
       "      <td>1</td>\n",
       "      <td>8.956529</td>\n",
       "      <td>1.0</td>\n",
       "      <td>1.25</td>\n",
       "      <td>1.0</td>\n",
       "    </tr>\n",
       "    <tr>\n",
       "      <th>249209</th>\n",
       "      <td>2021-02-01 00:04:06</td>\n",
       "      <td>5812f075-31b8-479d-99f8-9b30ad8dcc1c</td>\n",
       "      <td>5333df483c5e71176ddeaee9ed0429f2</td>\n",
       "      <td>d4cbb77326a6ef07671802ba091ab455</td>\n",
       "      <td>7c6f97674a30534fa0be46c7fca62684</td>\n",
       "      <td>US</td>\n",
       "      <td>94605.0</td>\n",
       "      <td>CA</td>\n",
       "      <td>Oakland</td>\n",
       "      <td>Mozilla/5.0 (iPhone; CPU iPhone OS 14_4 like M...</td>\n",
       "      <td>...</td>\n",
       "      <td>ca920bafdb718bd4e9964876863ac88b</td>\n",
       "      <td>1</td>\n",
       "      <td>28</td>\n",
       "      <td>-1</td>\n",
       "      <td>FIRST_PRICE</td>\n",
       "      <td>1</td>\n",
       "      <td>0.202352</td>\n",
       "      <td>1.0</td>\n",
       "      <td>0.20</td>\n",
       "      <td>0.0</td>\n",
       "    </tr>\n",
       "    <tr>\n",
       "      <th>249210</th>\n",
       "      <td>2021-02-01 02:07:54</td>\n",
       "      <td>eab42073-4ee3-41ab-95cb-68bdab7e15ad</td>\n",
       "      <td>8b04c90a35224e289bddd5c30e7ce71a</td>\n",
       "      <td>6f42bc8309262f0410052052bddd0a4e</td>\n",
       "      <td>2dec94733a24ab8514eba29d3150dc1f</td>\n",
       "      <td>US</td>\n",
       "      <td>63141.0</td>\n",
       "      <td>MO</td>\n",
       "      <td>Ballwin</td>\n",
       "      <td>Mozilla/5.0 (iPhone; CPU iPhone OS 14_3 like M...</td>\n",
       "      <td>...</td>\n",
       "      <td>97e9044692d3df04de93f6450265cb2e</td>\n",
       "      <td>1</td>\n",
       "      <td>91</td>\n",
       "      <td>-1</td>\n",
       "      <td>FIRST_PRICE</td>\n",
       "      <td>1</td>\n",
       "      <td>0.163200</td>\n",
       "      <td>0.0</td>\n",
       "      <td>0.30</td>\n",
       "      <td>0.0</td>\n",
       "    </tr>\n",
       "    <tr>\n",
       "      <th>249213</th>\n",
       "      <td>2021-02-01 19:30:27</td>\n",
       "      <td>55c0e94b-e95e-418b-b965-4e24f9cf065f</td>\n",
       "      <td>72176b0a9cef78b04179f9f273464ce1</td>\n",
       "      <td>36d39a45a5547f25996174ada1b86633</td>\n",
       "      <td>1fba9ddfc4385a57a4ddedefb19d978c</td>\n",
       "      <td>US</td>\n",
       "      <td>85339.0</td>\n",
       "      <td>AZ</td>\n",
       "      <td>Phoenix</td>\n",
       "      <td>Mozilla/5.0 (iPhone; CPU iPhone OS 14_4 like M...</td>\n",
       "      <td>...</td>\n",
       "      <td>c66afd784f43b768d95a6b451161d8d7</td>\n",
       "      <td>1</td>\n",
       "      <td>73</td>\n",
       "      <td>-1</td>\n",
       "      <td>FIRST_PRICE</td>\n",
       "      <td>1</td>\n",
       "      <td>1.437530</td>\n",
       "      <td>1.0</td>\n",
       "      <td>0.53</td>\n",
       "      <td>0.0</td>\n",
       "    </tr>\n",
       "    <tr>\n",
       "      <th>249230</th>\n",
       "      <td>2021-02-01 21:29:04</td>\n",
       "      <td>81d6c07b-ed8b-4b98-ae72-aeccc354cda8</td>\n",
       "      <td>72176b0a9cef78b04179f9f273464ce1</td>\n",
       "      <td>0f05986431c533771c10fdb086809f1f</td>\n",
       "      <td>dbbdc3150d35041cb468a4cc87a2532c</td>\n",
       "      <td>US</td>\n",
       "      <td>40771.0</td>\n",
       "      <td>KY</td>\n",
       "      <td>Corbin</td>\n",
       "      <td>Mozilla/5.0 (iPhone; CPU iPhone OS 14_3 like M...</td>\n",
       "      <td>...</td>\n",
       "      <td>c66afd784f43b768d95a6b451161d8d7</td>\n",
       "      <td>1</td>\n",
       "      <td>13</td>\n",
       "      <td>-1</td>\n",
       "      <td>FIRST_PRICE</td>\n",
       "      <td>1</td>\n",
       "      <td>0.095408</td>\n",
       "      <td>1.0</td>\n",
       "      <td>0.04</td>\n",
       "      <td>0.0</td>\n",
       "    </tr>\n",
       "  </tbody>\n",
       "</table>\n",
       "<p>43390 rows × 26 columns</p>\n",
       "</div>"
      ],
      "text/plain": [
       "                       time                               user_id  \\\n",
       "13      2021-02-01 21:12:51  7ad96658-acc8-4937-90b1-4364a3703d89   \n",
       "16      2021-02-01 03:34:13  fc1f2d6c-4748-4340-ab43-072979cc7474   \n",
       "19      2021-02-01 13:52:39  aafe54af-499c-49dd-85b4-319d558f2fba   \n",
       "22      2021-02-01 04:28:37  c24b65ca-f2b1-4b67-bfde-9e1dd8a9f70d   \n",
       "25      2021-02-01 13:16:01  aae5c839-e268-453f-8e33-db50d7c5eeea   \n",
       "...                     ...                                   ...   \n",
       "249207  2021-02-01 09:40:17  648d1fe9-4c81-452e-9006-1595dd2f3c91   \n",
       "249209  2021-02-01 00:04:06  5812f075-31b8-479d-99f8-9b30ad8dcc1c   \n",
       "249210  2021-02-01 02:07:54  eab42073-4ee3-41ab-95cb-68bdab7e15ad   \n",
       "249213  2021-02-01 19:30:27  55c0e94b-e95e-418b-b965-4e24f9cf065f   \n",
       "249230  2021-02-01 21:29:04  81d6c07b-ed8b-4b98-ae72-aeccc354cda8   \n",
       "\n",
       "                                  domain                               url  \\\n",
       "13      84bf368a22dd826a3c4018e2518c734d  0fa8a3c3a4f84031caaf013f584e9119   \n",
       "16      6b7afebe1382bbae9ae594d2e590a349  347787d250deda7e64c8ec85688431cd   \n",
       "19      6b7afebe1382bbae9ae594d2e590a349  347787d250deda7e64c8ec85688431cd   \n",
       "22      0a6a274ee0eebb2078a908ef35d4da1c  415f483f3055bc601bd6a7f1efa04618   \n",
       "25      c1046ab79c9568fd2260c3073287937f  266f10dd8342f3719524d9e580b8426f   \n",
       "...                                  ...                               ...   \n",
       "249207  62c83b414837c0346361fa96e0e49ee3  3d6a5887deaa3f36e75f083766c56a8e   \n",
       "249209  5333df483c5e71176ddeaee9ed0429f2  d4cbb77326a6ef07671802ba091ab455   \n",
       "249210  8b04c90a35224e289bddd5c30e7ce71a  6f42bc8309262f0410052052bddd0a4e   \n",
       "249213  72176b0a9cef78b04179f9f273464ce1  36d39a45a5547f25996174ada1b86633   \n",
       "249230  72176b0a9cef78b04179f9f273464ce1  0f05986431c533771c10fdb086809f1f   \n",
       "\n",
       "                                 ad_slot country postal_code state_code  \\\n",
       "13      fb08b7ed41f7e10b51dd2dacf2f4b4c1      US      6824.0         CT   \n",
       "16      cf566bfb3813d744397494d415f4800d      US     78414.0         TX   \n",
       "19      cf566bfb3813d744397494d415f4800d      US     34684.0         FL   \n",
       "22      cedbfd1c95f784654d3ba631bccbd207      US     44131.0         OH   \n",
       "25      9475cbf349bea72bd1727377c4125703      US     68850.0         NE   \n",
       "...                                  ...     ...         ...        ...   \n",
       "249207  557f7c1d352e987943735917086f9ef4      US     98027.0         WA   \n",
       "249209  7c6f97674a30534fa0be46c7fca62684      US     94605.0         CA   \n",
       "249210  2dec94733a24ab8514eba29d3150dc1f      US     63141.0         MO   \n",
       "249213  1fba9ddfc4385a57a4ddedefb19d978c      US     85339.0         AZ   \n",
       "249230  dbbdc3150d35041cb468a4cc87a2532c      US     40771.0         KY   \n",
       "\n",
       "                  city                                         user_agent  \\\n",
       "13           Fairfield  Mozilla/5.0 (iPad; CPU OS 14_3 like Mac OS X) ...   \n",
       "16      Corpus Christi  Mozilla/5.0 (Linux; Android 10; LM-G820) Apple...   \n",
       "19         Palm Harbor  Mozilla/5.0 (Linux; Android 10; SM-N960U Build...   \n",
       "22             Bedford  Mozilla/5.0 (Linux; Android 10; LM-V350) Apple...   \n",
       "25               Omaha  Mozilla/5.0 (Linux; Android 10; SM-G960U Build...   \n",
       "...                ...                                                ...   \n",
       "249207         Redmond  Mozilla/5.0 (Linux; Android 11; SM-N975U Build...   \n",
       "249209         Oakland  Mozilla/5.0 (iPhone; CPU iPhone OS 14_4 like M...   \n",
       "249210         Ballwin  Mozilla/5.0 (iPhone; CPU iPhone OS 14_3 like M...   \n",
       "249213         Phoenix  Mozilla/5.0 (iPhone; CPU iPhone OS 14_4 like M...   \n",
       "249230          Corbin  Mozilla/5.0 (iPhone; CPU iPhone OS 14_3 like M...   \n",
       "\n",
       "        ...              publisher_properties is_wifi viewability  \\\n",
       "13      ...  c66afd784f43b768d95a6b451161d8d7       1          78   \n",
       "16      ...  a841cf8c2487af452679e60a8941348d       1          87   \n",
       "19      ...  a841cf8c2487af452679e60a8941348d       1          85   \n",
       "22      ...  58481c56ad3c48f93b93817d6e2a2cbb       1          76   \n",
       "25      ...  e6d396c6112b145c61e8736465453674       1          78   \n",
       "...     ...                               ...     ...         ...   \n",
       "249207  ...  0e67e5ac52c43c9a810c344540525fff       1          72   \n",
       "249209  ...  ca920bafdb718bd4e9964876863ac88b       1          28   \n",
       "249210  ...  97e9044692d3df04de93f6450265cb2e       1          91   \n",
       "249213  ...  c66afd784f43b768d95a6b451161d8d7       1          73   \n",
       "249230  ...  c66afd784f43b768d95a6b451161d8d7       1          13   \n",
       "\n",
       "       session_depth auction_type bidded       bid  won_bid  feedback_bid  \\\n",
       "13                -1  FIRST_PRICE      1  0.239810      1.0          0.24   \n",
       "16                -1  FIRST_PRICE      1  0.785979      1.0          0.44   \n",
       "19                -1  FIRST_PRICE      1  0.475619      0.0          1.12   \n",
       "22                -1  FIRST_PRICE      1  2.732400      0.0          7.14   \n",
       "25                 4  FIRST_PRICE      1  1.290821      0.0          1.95   \n",
       "...              ...          ...    ...       ...      ...           ...   \n",
       "249207             1  FIRST_PRICE      1  8.956529      1.0          1.25   \n",
       "249209            -1  FIRST_PRICE      1  0.202352      1.0          0.20   \n",
       "249210            -1  FIRST_PRICE      1  0.163200      0.0          0.30   \n",
       "249213            -1  FIRST_PRICE      1  1.437530      1.0          0.53   \n",
       "249230            -1  FIRST_PRICE      1  0.095408      1.0          0.04   \n",
       "\n",
       "        conversion  \n",
       "13             0.0  \n",
       "16             0.0  \n",
       "19             0.0  \n",
       "22             0.0  \n",
       "25             0.0  \n",
       "...            ...  \n",
       "249207         1.0  \n",
       "249209         0.0  \n",
       "249210         0.0  \n",
       "249213         0.0  \n",
       "249230         0.0  \n",
       "\n",
       "[43390 rows x 26 columns]"
      ]
     },
     "execution_count": 46,
     "metadata": {},
     "output_type": "execute_result"
    }
   ],
   "source": [
    "X = df\n",
    "X"
   ]
  },
  {
   "cell_type": "code",
   "execution_count": 47,
   "metadata": {},
   "outputs": [],
   "source": [
    "def convert_obj_to_int(self):\n",
    "    \n",
    "    object_list_columns = self.columns\n",
    "    object_list_dtypes = self.dtypes\n",
    "    new_col_suffix = '_int'\n",
    "    for index in range(0,len(object_list_columns)):\n",
    "        if object_list_dtypes[index] == object :\n",
    "            self[object_list_columns[index]+new_col_suffix] = self[object_list_columns[index]].map( lambda  x: hash(x))\n",
    "            self.drop([object_list_columns[index]],inplace=True,axis=1)\n",
    "    return self\n",
    "\n",
    "y = X['conversion']\n",
    "X = X.drop(['user_id', 'conversion', 'country', 'screen_orientation'], axis=1)\n",
    "\n",
    "X = convert_obj_to_int(X)"
   ]
  },
  {
   "cell_type": "code",
   "execution_count": 48,
   "metadata": {},
   "outputs": [],
   "source": [
    "X_train, X_test, y_train, y_test = train_test_split(X, y, test_size=0.25)"
   ]
  },
  {
   "cell_type": "code",
   "execution_count": 49,
   "metadata": {},
   "outputs": [
    {
     "name": "stdout",
     "output_type": "stream",
     "text": [
      "[0. 0. 0. ... 0. 0. 0.]\n",
      "train_acc:  0.9586687972466351\n",
      "test_acc:  0.9559365781710915\n"
     ]
    },
    {
     "name": "stderr",
     "output_type": "stream",
     "text": [
      "C:\\Users\\jenga\\anaconda3\\lib\\site-packages\\sklearn\\linear_model\\_logistic.py:762: ConvergenceWarning: lbfgs failed to converge (status=2):\n",
      "ABNORMAL_TERMINATION_IN_LNSRCH.\n",
      "\n",
      "Increase the number of iterations (max_iter) or scale the data as shown in:\n",
      "    https://scikit-learn.org/stable/modules/preprocessing.html\n",
      "Please also refer to the documentation for alternative solver options:\n",
      "    https://scikit-learn.org/stable/modules/linear_model.html#logistic-regression\n",
      "  n_iter_i = _check_optimize_result(\n"
     ]
    }
   ],
   "source": [
    "from sklearn.linear_model import LogisticRegression\n",
    "time6 = datetime.now() \n",
    "\n",
    "clf = LogisticRegression(random_state=0)\n",
    "clf.fit(X_train, y_train)\n",
    "\n",
    "y_pred = clf.predict(X_test)\n",
    "print(y_pred)\n",
    "\n",
    "test_pred = clf.predict(X_test)\n",
    "train_pred = clf.predict(X_train)\n",
    "\n",
    "train_acc = accuracy_score(y_train, train_pred)\n",
    "test_acc = accuracy_score(y_test, test_pred)\n",
    "print(\"train_acc: \", train_acc)\n",
    "print(\"test_acc: \", test_acc)"
   ]
  },
  {
   "cell_type": "code",
   "execution_count": 50,
   "metadata": {},
   "outputs": [
    {
     "name": "stdout",
     "output_type": "stream",
     "text": [
      "[0. 0. 0. ... 0. 0. 0.]\n",
      "train_acc:  0.9217626451969763\n",
      "test_acc:  0.9228429203539823\n"
     ]
    }
   ],
   "source": [
    "from sklearn.naive_bayes import GaussianNB\n",
    "clf = GaussianNB()\n",
    "clf.fit(X_train, y_train)\n",
    "\n",
    "print(clf.predict(X_test))\n",
    "test_pred = clf.predict(X_test)\n",
    "train_pred = clf.predict(X_train)\n",
    "\n",
    "train_acc = accuracy_score(y_train, train_pred)\n",
    "test_acc = accuracy_score(y_test, test_pred)\n",
    "\n",
    "print(\"train_acc: \", train_acc)\n",
    "print(\"test_acc: \", test_acc)"
   ]
  },
  {
   "cell_type": "code",
   "execution_count": 51,
   "metadata": {},
   "outputs": [
    {
     "name": "stdout",
     "output_type": "stream",
     "text": [
      "[0. 0. 0. ... 0. 0. 0.]\n",
      "train_acc:  0.9577776412021388\n",
      "test_acc:  0.9552912979351033\n"
     ]
    }
   ],
   "source": [
    "from sklearn.naive_bayes import BernoulliNB\n",
    "clf = BernoulliNB()\n",
    "clf.fit(X_train, y_train)\n",
    "\n",
    "print(clf.predict(X_test))\n",
    "test_pred = clf.predict(X_test)\n",
    "train_pred = clf.predict(X_train)\n",
    "\n",
    "train_acc = accuracy_score(y_train, train_pred)\n",
    "test_acc = accuracy_score(y_test, test_pred)\n",
    "\n",
    "print(\"train_acc: \", train_acc)\n",
    "print(\"test_acc: \", test_acc)"
   ]
  },
  {
   "cell_type": "code",
   "execution_count": 52,
   "metadata": {},
   "outputs": [
    {
     "name": "stdout",
     "output_type": "stream",
     "text": [
      "[0. 0. 0. ... 0. 0. 0.]\n",
      "train_acc:  0.9592833876221498\n",
      "test_acc:  0.9560287610619469\n"
     ]
    }
   ],
   "source": [
    "from sklearn.svm import SVC\n",
    "from sklearn.pipeline import make_pipeline\n",
    "from sklearn.preprocessing import StandardScaler\n",
    "\n",
    "clf = make_pipeline(StandardScaler(), SVC(gamma='auto'))\n",
    "clf.fit(X_train, y_train)\n",
    "\n",
    "print(clf.predict(X_test))\n",
    "test_pred = clf.predict(X_test)\n",
    "train_pred = clf.predict(X_train)\n",
    "\n",
    "train_acc = accuracy_score(y_train, train_pred)\n",
    "test_acc = accuracy_score(y_test, test_pred)\n",
    "\n",
    "print(\"train_acc: \", train_acc)\n",
    "print(\"test_acc: \", test_acc)"
   ]
  },
  {
   "cell_type": "code",
   "execution_count": 53,
   "metadata": {},
   "outputs": [
    {
     "name": "stdout",
     "output_type": "stream",
     "text": [
      "Start training...\n",
      "[LightGBM] [Warning] Auto-choosing col-wise multi-threading, the overhead of testing was 0.001720 seconds.\n",
      "You can set `force_col_wise=true` to remove the overhead.\n",
      "[1]\tvalid_0's binary_logloss: 0.151811\n",
      "Training until validation scores don't improve for 500 rounds\n",
      "[2]\tvalid_0's binary_logloss: 0.145148\n",
      "[3]\tvalid_0's binary_logloss: 0.140436\n",
      "[4]\tvalid_0's binary_logloss: 0.136882\n",
      "[5]\tvalid_0's binary_logloss: 0.133895\n",
      "[6]\tvalid_0's binary_logloss: 0.131555\n",
      "[7]\tvalid_0's binary_logloss: 0.129263\n",
      "[8]\tvalid_0's binary_logloss: 0.127238\n",
      "[9]\tvalid_0's binary_logloss: 0.125586\n",
      "[10]\tvalid_0's binary_logloss: 0.124018\n",
      "[11]\tvalid_0's binary_logloss: 0.123625\n",
      "[12]\tvalid_0's binary_logloss: 0.122556\n",
      "[13]\tvalid_0's binary_logloss: 0.121626\n",
      "[14]\tvalid_0's binary_logloss: 0.120667\n",
      "[15]\tvalid_0's binary_logloss: 0.119637\n",
      "[16]\tvalid_0's binary_logloss: 0.11878\n",
      "[17]\tvalid_0's binary_logloss: 0.118426\n",
      "[18]\tvalid_0's binary_logloss: 0.117827\n",
      "[19]\tvalid_0's binary_logloss: 0.117431\n",
      "[20]\tvalid_0's binary_logloss: 0.116699\n",
      "[21]\tvalid_0's binary_logloss: 0.116064\n",
      "[22]\tvalid_0's binary_logloss: 0.115569\n",
      "[23]\tvalid_0's binary_logloss: 0.115127\n",
      "[24]\tvalid_0's binary_logloss: 0.114869\n",
      "[25]\tvalid_0's binary_logloss: 0.114712\n",
      "[26]\tvalid_0's binary_logloss: 0.114552\n",
      "[27]\tvalid_0's binary_logloss: 0.114013\n",
      "[28]\tvalid_0's binary_logloss: 0.11374\n",
      "[29]\tvalid_0's binary_logloss: 0.113409\n",
      "[30]\tvalid_0's binary_logloss: 0.112942\n",
      "[31]\tvalid_0's binary_logloss: 0.112926\n",
      "[32]\tvalid_0's binary_logloss: 0.11298\n",
      "[33]\tvalid_0's binary_logloss: 0.112649\n",
      "[34]\tvalid_0's binary_logloss: 0.112256\n",
      "[35]\tvalid_0's binary_logloss: 0.111965\n",
      "[36]\tvalid_0's binary_logloss: 0.111704\n",
      "[37]\tvalid_0's binary_logloss: 0.111512\n",
      "[38]\tvalid_0's binary_logloss: 0.111267\n",
      "[39]\tvalid_0's binary_logloss: 0.11115\n",
      "[40]\tvalid_0's binary_logloss: 0.111219\n",
      "[41]\tvalid_0's binary_logloss: 0.111002\n",
      "[42]\tvalid_0's binary_logloss: 0.111032\n",
      "[43]\tvalid_0's binary_logloss: 0.110959\n",
      "[44]\tvalid_0's binary_logloss: 0.110912\n",
      "[45]\tvalid_0's binary_logloss: 0.111054\n",
      "[46]\tvalid_0's binary_logloss: 0.110949\n",
      "[47]\tvalid_0's binary_logloss: 0.110924\n",
      "[48]\tvalid_0's binary_logloss: 0.11101\n",
      "[49]\tvalid_0's binary_logloss: 0.111101\n",
      "[50]\tvalid_0's binary_logloss: 0.110982\n",
      "[51]\tvalid_0's binary_logloss: 0.11094\n",
      "[52]\tvalid_0's binary_logloss: 0.110955\n",
      "[53]\tvalid_0's binary_logloss: 0.111011\n",
      "[54]\tvalid_0's binary_logloss: 0.11111\n",
      "[55]\tvalid_0's binary_logloss: 0.111066\n",
      "[56]\tvalid_0's binary_logloss: 0.110877\n",
      "[57]\tvalid_0's binary_logloss: 0.11079\n",
      "[58]\tvalid_0's binary_logloss: 0.110697\n",
      "[59]\tvalid_0's binary_logloss: 0.110667\n",
      "[60]\tvalid_0's binary_logloss: 0.110656\n",
      "[61]\tvalid_0's binary_logloss: 0.110975\n",
      "[62]\tvalid_0's binary_logloss: 0.111204\n",
      "[63]\tvalid_0's binary_logloss: 0.111353\n",
      "[64]\tvalid_0's binary_logloss: 0.111465\n",
      "[65]\tvalid_0's binary_logloss: 0.111368\n",
      "[66]\tvalid_0's binary_logloss: 0.111345\n",
      "[67]\tvalid_0's binary_logloss: 0.11145\n",
      "[68]\tvalid_0's binary_logloss: 0.111511\n",
      "[69]\tvalid_0's binary_logloss: 0.111548\n",
      "[70]\tvalid_0's binary_logloss: 0.111531\n",
      "[71]\tvalid_0's binary_logloss: 0.111768\n",
      "[72]\tvalid_0's binary_logloss: 0.111728\n",
      "[73]\tvalid_0's binary_logloss: 0.1117\n",
      "[74]\tvalid_0's binary_logloss: 0.111841\n",
      "[75]\tvalid_0's binary_logloss: 0.111919\n",
      "[76]\tvalid_0's binary_logloss: 0.111914\n",
      "[77]\tvalid_0's binary_logloss: 0.111905\n",
      "[78]\tvalid_0's binary_logloss: 0.111894\n",
      "[79]\tvalid_0's binary_logloss: 0.112116\n",
      "[80]\tvalid_0's binary_logloss: 0.112216\n",
      "[81]\tvalid_0's binary_logloss: 0.112339\n",
      "[82]\tvalid_0's binary_logloss: 0.112502\n",
      "[83]\tvalid_0's binary_logloss: 0.112473\n",
      "[84]\tvalid_0's binary_logloss: 0.1128\n",
      "[85]\tvalid_0's binary_logloss: 0.112813\n",
      "[86]\tvalid_0's binary_logloss: 0.112697\n",
      "[87]\tvalid_0's binary_logloss: 0.112776\n",
      "[88]\tvalid_0's binary_logloss: 0.112771\n",
      "[89]\tvalid_0's binary_logloss: 0.112823\n",
      "[90]\tvalid_0's binary_logloss: 0.112709\n",
      "[91]\tvalid_0's binary_logloss: 0.11251\n",
      "[92]\tvalid_0's binary_logloss: 0.11237\n",
      "[93]\tvalid_0's binary_logloss: 0.112348\n",
      "[94]\tvalid_0's binary_logloss: 0.112374\n",
      "[95]\tvalid_0's binary_logloss: 0.112534\n",
      "[96]\tvalid_0's binary_logloss: 0.112755\n",
      "[97]\tvalid_0's binary_logloss: 0.112886\n",
      "[98]\tvalid_0's binary_logloss: 0.112872\n",
      "[99]\tvalid_0's binary_logloss: 0.113025\n",
      "[100]\tvalid_0's binary_logloss: 0.112989\n",
      "[101]\tvalid_0's binary_logloss: 0.112951\n",
      "[102]\tvalid_0's binary_logloss: 0.113157\n",
      "[103]\tvalid_0's binary_logloss: 0.113403\n",
      "[104]\tvalid_0's binary_logloss: 0.113311\n",
      "[105]\tvalid_0's binary_logloss: 0.11335\n",
      "[106]\tvalid_0's binary_logloss: 0.113286\n",
      "[107]\tvalid_0's binary_logloss: 0.113426\n",
      "[108]\tvalid_0's binary_logloss: 0.113362\n",
      "[109]\tvalid_0's binary_logloss: 0.113503\n",
      "[110]\tvalid_0's binary_logloss: 0.113384\n",
      "[111]\tvalid_0's binary_logloss: 0.113395\n",
      "[112]\tvalid_0's binary_logloss: 0.113384\n",
      "[113]\tvalid_0's binary_logloss: 0.113394\n",
      "[114]\tvalid_0's binary_logloss: 0.113338\n",
      "[115]\tvalid_0's binary_logloss: 0.113347\n",
      "[116]\tvalid_0's binary_logloss: 0.113483\n",
      "[117]\tvalid_0's binary_logloss: 0.113658\n",
      "[118]\tvalid_0's binary_logloss: 0.113686\n",
      "[119]\tvalid_0's binary_logloss: 0.113739\n",
      "[120]\tvalid_0's binary_logloss: 0.11383\n",
      "[121]\tvalid_0's binary_logloss: 0.113814\n",
      "[122]\tvalid_0's binary_logloss: 0.113727\n",
      "[123]\tvalid_0's binary_logloss: 0.113873\n",
      "[124]\tvalid_0's binary_logloss: 0.113964\n",
      "[125]\tvalid_0's binary_logloss: 0.113961\n",
      "[126]\tvalid_0's binary_logloss: 0.114087\n",
      "[127]\tvalid_0's binary_logloss: 0.114117\n",
      "[128]\tvalid_0's binary_logloss: 0.114019\n",
      "[129]\tvalid_0's binary_logloss: 0.113988\n",
      "[130]\tvalid_0's binary_logloss: 0.114151\n",
      "[131]\tvalid_0's binary_logloss: 0.114346\n",
      "[132]\tvalid_0's binary_logloss: 0.114306\n",
      "[133]\tvalid_0's binary_logloss: 0.114266\n",
      "[134]\tvalid_0's binary_logloss: 0.114297\n",
      "[135]\tvalid_0's binary_logloss: 0.114375\n",
      "[136]\tvalid_0's binary_logloss: 0.114529"
     ]
    },
    {
     "name": "stderr",
     "output_type": "stream",
     "text": [
      "C:\\Users\\jenga\\anaconda3\\lib\\site-packages\\lightgbm\\engine.py:181: UserWarning: 'early_stopping_rounds' argument is deprecated and will be removed in a future release of LightGBM. Pass 'early_stopping()' callback via 'callbacks' argument instead.\n",
      "  _log_warning(\"'early_stopping_rounds' argument is deprecated and will be removed in a future release of LightGBM. \"\n"
     ]
    },
    {
     "name": "stdout",
     "output_type": "stream",
     "text": [
      "\n",
      "[137]\tvalid_0's binary_logloss: 0.114622\n",
      "[138]\tvalid_0's binary_logloss: 0.114818\n",
      "[139]\tvalid_0's binary_logloss: 0.114872\n",
      "[140]\tvalid_0's binary_logloss: 0.114941\n",
      "[141]\tvalid_0's binary_logloss: 0.115004\n",
      "[142]\tvalid_0's binary_logloss: 0.115055\n",
      "[143]\tvalid_0's binary_logloss: 0.115024\n",
      "[144]\tvalid_0's binary_logloss: 0.11499\n",
      "[145]\tvalid_0's binary_logloss: 0.115135\n",
      "[146]\tvalid_0's binary_logloss: 0.115054\n",
      "[147]\tvalid_0's binary_logloss: 0.115201\n",
      "[148]\tvalid_0's binary_logloss: 0.115331\n",
      "[149]\tvalid_0's binary_logloss: 0.115404\n",
      "[150]\tvalid_0's binary_logloss: 0.115272\n",
      "[151]\tvalid_0's binary_logloss: 0.115423\n",
      "[152]\tvalid_0's binary_logloss: 0.115295\n",
      "[153]\tvalid_0's binary_logloss: 0.115355\n",
      "[154]\tvalid_0's binary_logloss: 0.115509\n",
      "[155]\tvalid_0's binary_logloss: 0.115704\n",
      "[156]\tvalid_0's binary_logloss: 0.115872\n",
      "[157]\tvalid_0's binary_logloss: 0.115908\n",
      "[158]\tvalid_0's binary_logloss: 0.116018\n",
      "[159]\tvalid_0's binary_logloss: 0.116085\n",
      "[160]\tvalid_0's binary_logloss: 0.116141\n",
      "[161]\tvalid_0's binary_logloss: 0.11613\n",
      "[162]\tvalid_0's binary_logloss: 0.116143\n",
      "[163]\tvalid_0's binary_logloss: 0.11626\n",
      "[164]\tvalid_0's binary_logloss: 0.116248\n",
      "[165]\tvalid_0's binary_logloss: 0.1164\n",
      "[166]\tvalid_0's binary_logloss: 0.116344\n",
      "[167]\tvalid_0's binary_logloss: 0.116514\n",
      "[168]\tvalid_0's binary_logloss: 0.116617\n",
      "[169]\tvalid_0's binary_logloss: 0.116579\n",
      "[170]\tvalid_0's binary_logloss: 0.11657\n",
      "[171]\tvalid_0's binary_logloss: 0.116563\n",
      "[172]\tvalid_0's binary_logloss: 0.116629\n",
      "[173]\tvalid_0's binary_logloss: 0.116573\n",
      "[174]\tvalid_0's binary_logloss: 0.116517\n",
      "[175]\tvalid_0's binary_logloss: 0.116726\n",
      "[176]\tvalid_0's binary_logloss: 0.116715\n",
      "[177]\tvalid_0's binary_logloss: 0.116828\n",
      "[178]\tvalid_0's binary_logloss: 0.116954\n",
      "[179]\tvalid_0's binary_logloss: 0.117063\n",
      "[180]\tvalid_0's binary_logloss: 0.117198\n",
      "[181]\tvalid_0's binary_logloss: 0.117253\n",
      "[182]\tvalid_0's binary_logloss: 0.117225\n",
      "[183]\tvalid_0's binary_logloss: 0.117198\n",
      "[184]\tvalid_0's binary_logloss: 0.117219\n",
      "[185]\tvalid_0's binary_logloss: 0.11748\n",
      "[186]\tvalid_0's binary_logloss: 0.117505\n",
      "[187]\tvalid_0's binary_logloss: 0.117626\n",
      "[188]\tvalid_0's binary_logloss: 0.117739\n",
      "[189]\tvalid_0's binary_logloss: 0.117862\n",
      "[190]\tvalid_0's binary_logloss: 0.11795\n",
      "[191]\tvalid_0's binary_logloss: 0.11797\n",
      "[192]\tvalid_0's binary_logloss: 0.118001\n",
      "[193]\tvalid_0's binary_logloss: 0.11812\n",
      "[194]\tvalid_0's binary_logloss: 0.118221\n",
      "[195]\tvalid_0's binary_logloss: 0.118327\n",
      "[196]\tvalid_0's binary_logloss: 0.118501\n",
      "[197]\tvalid_0's binary_logloss: 0.118541\n",
      "[198]\tvalid_0's binary_logloss: 0.118539\n",
      "[199]\tvalid_0's binary_logloss: 0.1185\n",
      "[200]\tvalid_0's binary_logloss: 0.118323\n",
      "[201]\tvalid_0's binary_logloss: 0.118329\n",
      "[202]\tvalid_0's binary_logloss: 0.118401\n",
      "[203]\tvalid_0's binary_logloss: 0.118543\n",
      "[204]\tvalid_0's binary_logloss: 0.118634\n",
      "[205]\tvalid_0's binary_logloss: 0.118512\n",
      "[206]\tvalid_0's binary_logloss: 0.118689\n",
      "[207]\tvalid_0's binary_logloss: 0.118898\n",
      "[208]\tvalid_0's binary_logloss: 0.118893\n",
      "[209]\tvalid_0's binary_logloss: 0.119155\n",
      "[210]\tvalid_0's binary_logloss: 0.11916\n",
      "[211]\tvalid_0's binary_logloss: 0.119196\n",
      "[212]\tvalid_0's binary_logloss: 0.119308\n",
      "[213]\tvalid_0's binary_logloss: 0.119341\n",
      "[214]\tvalid_0's binary_logloss: 0.119388\n",
      "[215]\tvalid_0's binary_logloss: 0.119538\n",
      "[216]\tvalid_0's binary_logloss: 0.119553\n",
      "[217]\tvalid_0's binary_logloss: 0.119491\n",
      "[218]\tvalid_0's binary_logloss: 0.119609\n",
      "[219]\tvalid_0's binary_logloss: 0.119622\n",
      "[220]\tvalid_0's binary_logloss: 0.119823\n",
      "[221]\tvalid_0's binary_logloss: 0.119755\n",
      "[222]\tvalid_0's binary_logloss: 0.119699\n",
      "[223]\tvalid_0's binary_logloss: 0.11952\n",
      "[224]\tvalid_0's binary_logloss: 0.11951\n",
      "[225]\tvalid_0's binary_logloss: 0.119599\n",
      "[226]\tvalid_0's binary_logloss: 0.119741\n",
      "[227]\tvalid_0's binary_logloss: 0.119818\n",
      "[228]\tvalid_0's binary_logloss: 0.11976\n",
      "[229]\tvalid_0's binary_logloss: 0.119899\n",
      "[230]\tvalid_0's binary_logloss: 0.119825\n",
      "[231]\tvalid_0's binary_logloss: 0.119841\n",
      "[232]\tvalid_0's binary_logloss: 0.120005\n",
      "[233]\tvalid_0's binary_logloss: 0.119993\n",
      "[234]\tvalid_0's binary_logloss: 0.120021\n",
      "[235]\tvalid_0's binary_logloss: 0.120107\n",
      "[236]\tvalid_0's binary_logloss: 0.120092\n",
      "[237]\tvalid_0's binary_logloss: 0.12021\n",
      "[238]\tvalid_0's binary_logloss: 0.120348\n",
      "[239]\tvalid_0's binary_logloss: 0.120328\n",
      "[240]\tvalid_0's binary_logloss: 0.12042\n",
      "[241]\tvalid_0's binary_logloss: 0.120402\n",
      "[242]\tvalid_0's binary_logloss: 0.120404\n",
      "[243]\tvalid_0's binary_logloss: 0.120401\n",
      "[244]\tvalid_0's binary_logloss: 0.120225\n",
      "[245]\tvalid_0's binary_logloss: 0.120356\n",
      "[246]\tvalid_0's binary_logloss: 0.120539\n",
      "[247]\tvalid_0's binary_logloss: 0.120519\n",
      "[248]\tvalid_0's binary_logloss: 0.120528\n",
      "[249]\tvalid_0's binary_logloss: 0.120406\n",
      "[250]\tvalid_0's binary_logloss: 0.120485\n",
      "[251]\tvalid_0's binary_logloss: 0.120444\n",
      "[252]\tvalid_0's binary_logloss: 0.120427\n",
      "[253]\tvalid_0's binary_logloss: 0.120537\n",
      "[254]\tvalid_0's binary_logloss: 0.120557\n",
      "[255]\tvalid_0's binary_logloss: 0.120505\n",
      "[256]\tvalid_0's binary_logloss: 0.120513\n",
      "[257]\tvalid_0's binary_logloss: 0.120502\n",
      "[258]\tvalid_0's binary_logloss: 0.120525\n",
      "[259]\tvalid_0's binary_logloss: 0.12057\n",
      "[260]\tvalid_0's binary_logloss: 0.120535\n",
      "[261]\tvalid_0's binary_logloss: 0.120565\n",
      "[262]\tvalid_0's binary_logloss: 0.120678\n",
      "[263]\tvalid_0's binary_logloss: 0.120678\n",
      "[264]\tvalid_0's binary_logloss: 0.120594\n",
      "[265]\tvalid_0's binary_logloss: 0.120722\n",
      "[266]\tvalid_0's binary_logloss: 0.120721\n",
      "[267]\tvalid_0's binary_logloss: 0.120665\n",
      "[268]\tvalid_0's binary_logloss: 0.120782\n",
      "[269]\tvalid_0's binary_logloss: 0.120825\n",
      "[270]\tvalid_0's binary_logloss: 0.121019\n",
      "[271]\tvalid_0's binary_logloss: 0.121126\n",
      "[272]\tvalid_0's binary_logloss: 0.121217\n",
      "[273]\tvalid_0's binary_logloss: 0.121377\n",
      "[274]\tvalid_0's binary_logloss: 0.121341\n",
      "[275]\tvalid_0's binary_logloss: 0.121336\n",
      "[276]\tvalid_0's binary_logloss: 0.12149\n",
      "[277]\tvalid_0's binary_logloss: 0.121571\n",
      "[278]\tvalid_0's binary_logloss: 0.12167\n",
      "[279]\tvalid_0's binary_logloss: 0.121652\n",
      "[280]\tvalid_0's binary_logloss: 0.121809\n",
      "[281]\tvalid_0's binary_logloss: 0.121822\n",
      "[282]\tvalid_0's binary_logloss: 0.121773\n",
      "[283]\tvalid_0's binary_logloss: 0.121754\n",
      "[284]\tvalid_0's binary_logloss: 0.121888\n",
      "[285]\tvalid_0's binary_logloss: 0.121852\n",
      "[286]\tvalid_0's binary_logloss: 0.122032\n",
      "[287]\tvalid_0's binary_logloss: 0.122151\n",
      "[288]\tvalid_0's binary_logloss: 0.122006\n",
      "[289]\tvalid_0's binary_logloss: 0.122049\n",
      "[290]\tvalid_0's binary_logloss: 0.122275\n",
      "[291]\tvalid_0's binary_logloss: 0.122366\n",
      "[292]\tvalid_0's binary_logloss: 0.122413\n",
      "[293]\tvalid_0's binary_logloss: 0.122541\n",
      "[294]\tvalid_0's binary_logloss: 0.122721\n",
      "[295]\tvalid_0's binary_logloss: 0.122742\n",
      "[296]\tvalid_0's binary_logloss: 0.122823\n",
      "[297]\tvalid_0's binary_logloss: 0.122878\n",
      "[298]\tvalid_0's binary_logloss: 0.122853\n",
      "[299]\tvalid_0's binary_logloss: 0.123017\n",
      "[300]\tvalid_0's binary_logloss: 0.123078\n",
      "[301]\tvalid_0's binary_logloss: 0.123263\n",
      "[302]\tvalid_0's binary_logloss: 0.123225\n",
      "[303]\tvalid_0's binary_logloss: 0.123311\n",
      "[304]\tvalid_0's binary_logloss: 0.123399\n",
      "[305]\tvalid_0's binary_logloss: 0.123286\n",
      "[306]\tvalid_0's binary_logloss: 0.123414\n",
      "[307]\tvalid_0's binary_logloss: 0.123559\n",
      "[308]\tvalid_0's binary_logloss: 0.123498\n",
      "[309]\tvalid_0's binary_logloss: 0.123538\n",
      "[310]\tvalid_0's binary_logloss: 0.123552\n",
      "[311]\tvalid_0's binary_logloss: 0.123598\n",
      "[312]\tvalid_0's binary_logloss: 0.123724\n",
      "[313]\tvalid_0's binary_logloss: 0.123837\n",
      "[314]\tvalid_0's binary_logloss: 0.124048\n",
      "[315]\tvalid_0's binary_logloss: 0.123944\n",
      "[316]\tvalid_0's binary_logloss: 0.123989\n",
      "[317]\tvalid_0's binary_logloss: 0.124159\n",
      "[318]\tvalid_0's binary_logloss: 0.124075\n",
      "[319]\tvalid_0's binary_logloss: 0.124119\n",
      "[320]\tvalid_0's binary_logloss: 0.124164\n",
      "[321]\tvalid_0's binary_logloss: 0.124142\n",
      "[322]\tvalid_0's binary_logloss: 0.124223\n",
      "[323]\tvalid_0's binary_logloss: 0.124312\n",
      "[324]\tvalid_0's binary_logloss: 0.124409\n",
      "[325]\tvalid_0's binary_logloss: 0.124366\n",
      "[326]\tvalid_0's binary_logloss: 0.124352\n",
      "[327]\tvalid_0's binary_logloss: 0.124292\n",
      "[328]\tvalid_0's binary_logloss: 0.124203\n",
      "[329]\tvalid_0's binary_logloss: 0.12408\n",
      "[330]\tvalid_0's binary_logloss: 0.123988\n",
      "[331]\tvalid_0's binary_logloss: 0.123894\n",
      "[332]\tvalid_0's binary_logloss: 0.12388\n",
      "[333]\tvalid_0's binary_logloss: 0.124159\n",
      "[334]\tvalid_0's binary_logloss: 0.124494\n",
      "[335]\tvalid_0's binary_logloss: 0.124695\n",
      "[336]\tvalid_0's binary_logloss: 0.124739\n",
      "[337]\tvalid_0's binary_logloss: 0.124864\n",
      "[338]\tvalid_0's binary_logloss: 0.125116\n",
      "[339]\tvalid_0's binary_logloss: 0.12516\n",
      "[340]\tvalid_0's binary_logloss: 0.125191\n",
      "[341]\tvalid_0's binary_logloss: 0.125303\n",
      "[342]\tvalid_0's binary_logloss: 0.125401\n",
      "[343]\tvalid_0's binary_logloss: 0.125434\n",
      "[344]\tvalid_0's binary_logloss: 0.125534\n",
      "[345]\tvalid_0's binary_logloss: 0.125305\n",
      "[346]\tvalid_0's binary_logloss: 0.125154\n",
      "[347]\tvalid_0's binary_logloss: 0.125112\n",
      "[348]\tvalid_0's binary_logloss: 0.125128\n",
      "[349]\tvalid_0's binary_logloss: 0.125038\n",
      "[350]\tvalid_0's binary_logloss: 0.125054\n",
      "[351]\tvalid_0's binary_logloss: 0.124963\n",
      "[352]\tvalid_0's binary_logloss: 0.124936\n",
      "[353]\tvalid_0's binary_logloss: 0.124923\n",
      "[354]\tvalid_0's binary_logloss: 0.124927\n",
      "[355]\tvalid_0's binary_logloss: 0.124936\n",
      "[356]\tvalid_0's binary_logloss: 0.125105\n",
      "[357]\tvalid_0's binary_logloss: 0.125148\n",
      "[358]\tvalid_0's binary_logloss: 0.125298\n",
      "[359]\tvalid_0's binary_logloss: 0.125465\n",
      "[360]\tvalid_0's binary_logloss: 0.125396\n",
      "[361]\tvalid_0's binary_logloss: 0.125487\n",
      "[362]\tvalid_0's binary_logloss: 0.125541\n",
      "[363]\tvalid_0's binary_logloss: 0.125475\n",
      "[364]\tvalid_0's binary_logloss: 0.125672\n",
      "[365]\tvalid_0's binary_logloss: 0.125711\n",
      "[366]\tvalid_0's binary_logloss: 0.125517\n",
      "[367]\tvalid_0's binary_logloss: 0.125602\n",
      "[368]\tvalid_0's binary_logloss: 0.125568\n",
      "[369]\tvalid_0's binary_logloss: 0.125648\n",
      "[370]\tvalid_0's binary_logloss: 0.125685\n",
      "[371]\tvalid_0's binary_logloss: 0.125733\n",
      "[372]\tvalid_0's binary_logloss: 0.125702\n",
      "[373]\tvalid_0's binary_logloss: 0.125742\n",
      "[374]\tvalid_0's binary_logloss: 0.125884\n",
      "[375]\tvalid_0's binary_logloss: 0.126011\n",
      "[376]\tvalid_0's binary_logloss: 0.125915\n",
      "[377]\tvalid_0's binary_logloss: 0.125871\n",
      "[378]\tvalid_0's binary_logloss: 0.125979\n",
      "[379]\tvalid_0's binary_logloss: 0.125945\n",
      "[380]\tvalid_0's binary_logloss: 0.126084\n",
      "[381]\tvalid_0's binary_logloss: 0.126107\n",
      "[382]\tvalid_0's binary_logloss: 0.126137\n",
      "[383]\tvalid_0's binary_logloss: 0.12634\n",
      "[384]\tvalid_0's binary_logloss: 0.126485\n",
      "[385]\tvalid_0's binary_logloss: 0.126649\n",
      "[386]\tvalid_0's binary_logloss: 0.12663\n",
      "[387]\tvalid_0's binary_logloss: 0.126819\n",
      "[388]\tvalid_0's binary_logloss: 0.126834\n",
      "[389]\tvalid_0's binary_logloss: 0.126855\n",
      "[390]\tvalid_0's binary_logloss: 0.126906\n",
      "[391]\tvalid_0's binary_logloss: 0.126851\n",
      "[392]\tvalid_0's binary_logloss: 0.126774\n",
      "[393]\tvalid_0's binary_logloss: 0.126764\n",
      "[394]\tvalid_0's binary_logloss: 0.126822\n",
      "[395]\tvalid_0's binary_logloss: 0.126834\n",
      "[396]\tvalid_0's binary_logloss: 0.126839\n",
      "[397]\tvalid_0's binary_logloss: 0.1269\n",
      "[398]\tvalid_0's binary_logloss: 0.12699\n",
      "[399]\tvalid_0's binary_logloss: 0.127149\n",
      "[400]\tvalid_0's binary_logloss: 0.127192\n",
      "[401]\tvalid_0's binary_logloss: 0.126942\n",
      "[402]\tvalid_0's binary_logloss: 0.127121\n",
      "[403]\tvalid_0's binary_logloss: 0.127217\n",
      "[404]\tvalid_0's binary_logloss: 0.127269\n",
      "[405]\tvalid_0's binary_logloss: 0.127411\n",
      "[406]\tvalid_0's binary_logloss: 0.127447\n",
      "[407]\tvalid_0's binary_logloss: 0.127476\n",
      "[408]\tvalid_0's binary_logloss: 0.127524\n",
      "[409]\tvalid_0's binary_logloss: 0.127731\n",
      "[410]\tvalid_0's binary_logloss: 0.127921\n",
      "[411]\tvalid_0's binary_logloss: 0.127976\n",
      "[412]\tvalid_0's binary_logloss: 0.128162\n",
      "[413]\tvalid_0's binary_logloss: 0.128227\n",
      "[414]\tvalid_0's binary_logloss: 0.128283\n",
      "[415]\tvalid_0's binary_logloss: 0.12845\n",
      "[416]\tvalid_0's binary_logloss: 0.128434\n",
      "[417]\tvalid_0's binary_logloss: 0.128357\n",
      "[418]\tvalid_0's binary_logloss: 0.12842\n",
      "[419]\tvalid_0's binary_logloss: 0.128357\n",
      "[420]\tvalid_0's binary_logloss: 0.128484\n",
      "[421]\tvalid_0's binary_logloss: 0.128631\n",
      "[422]\tvalid_0's binary_logloss: 0.128656\n",
      "[423]\tvalid_0's binary_logloss: 0.128691\n",
      "[424]\tvalid_0's binary_logloss: 0.128615\n",
      "[425]\tvalid_0's binary_logloss: 0.12876\n",
      "[426]\tvalid_0's binary_logloss: 0.128885\n",
      "[427]\tvalid_0's binary_logloss: 0.129073\n",
      "[428]\tvalid_0's binary_logloss: 0.129013\n",
      "[429]\tvalid_0's binary_logloss: 0.129058\n",
      "[430]\tvalid_0's binary_logloss: 0.129114\n",
      "[431]\tvalid_0's binary_logloss: 0.129272\n",
      "[432]\tvalid_0's binary_logloss: 0.129216\n",
      "[433]\tvalid_0's binary_logloss: 0.129223\n",
      "[434]\tvalid_0's binary_logloss: 0.129316\n",
      "[435]\tvalid_0's binary_logloss: 0.129432\n",
      "[436]\tvalid_0's binary_logloss: 0.12951\n",
      "[437]\tvalid_0's binary_logloss: 0.129514\n",
      "[438]\tvalid_0's binary_logloss: 0.12961\n",
      "[439]\tvalid_0's binary_logloss: 0.129624\n",
      "[440]\tvalid_0's binary_logloss: 0.129758\n",
      "[441]\tvalid_0's binary_logloss: 0.129845\n",
      "[442]\tvalid_0's binary_logloss: 0.130009\n",
      "[443]\tvalid_0's binary_logloss: 0.130193\n",
      "[444]\tvalid_0's binary_logloss: 0.130301\n",
      "[445]\tvalid_0's binary_logloss: 0.130354\n",
      "[446]\tvalid_0's binary_logloss: 0.13046\n",
      "[447]\tvalid_0's binary_logloss: 0.130433\n"
     ]
    },
    {
     "name": "stdout",
     "output_type": "stream",
     "text": [
      "[448]\tvalid_0's binary_logloss: 0.130479\n",
      "[449]\tvalid_0's binary_logloss: 0.130539\n",
      "[450]\tvalid_0's binary_logloss: 0.130596\n",
      "[451]\tvalid_0's binary_logloss: 0.130489\n",
      "[452]\tvalid_0's binary_logloss: 0.130337\n",
      "[453]\tvalid_0's binary_logloss: 0.130351\n",
      "[454]\tvalid_0's binary_logloss: 0.130383\n",
      "[455]\tvalid_0's binary_logloss: 0.130442\n",
      "[456]\tvalid_0's binary_logloss: 0.130302\n",
      "[457]\tvalid_0's binary_logloss: 0.1304\n",
      "[458]\tvalid_0's binary_logloss: 0.130264\n",
      "[459]\tvalid_0's binary_logloss: 0.130238\n",
      "[460]\tvalid_0's binary_logloss: 0.130078\n",
      "[461]\tvalid_0's binary_logloss: 0.129902\n",
      "[462]\tvalid_0's binary_logloss: 0.129853\n",
      "[463]\tvalid_0's binary_logloss: 0.129935\n",
      "[464]\tvalid_0's binary_logloss: 0.129912\n",
      "[465]\tvalid_0's binary_logloss: 0.129982\n",
      "[466]\tvalid_0's binary_logloss: 0.129794\n",
      "[467]\tvalid_0's binary_logloss: 0.129888\n",
      "[468]\tvalid_0's binary_logloss: 0.129959\n",
      "[469]\tvalid_0's binary_logloss: 0.129924\n",
      "[470]\tvalid_0's binary_logloss: 0.130087\n",
      "[471]\tvalid_0's binary_logloss: 0.130165\n",
      "[472]\tvalid_0's binary_logloss: 0.130288\n",
      "[473]\tvalid_0's binary_logloss: 0.130397\n",
      "[474]\tvalid_0's binary_logloss: 0.130459\n",
      "[475]\tvalid_0's binary_logloss: 0.130567\n",
      "[476]\tvalid_0's binary_logloss: 0.130603\n",
      "[477]\tvalid_0's binary_logloss: 0.130638\n",
      "[478]\tvalid_0's binary_logloss: 0.130482\n",
      "[479]\tvalid_0's binary_logloss: 0.130478\n",
      "[480]\tvalid_0's binary_logloss: 0.130433\n",
      "[481]\tvalid_0's binary_logloss: 0.130485\n",
      "[482]\tvalid_0's binary_logloss: 0.130442\n",
      "[483]\tvalid_0's binary_logloss: 0.130414\n",
      "[484]\tvalid_0's binary_logloss: 0.130523\n",
      "[485]\tvalid_0's binary_logloss: 0.130639\n",
      "[486]\tvalid_0's binary_logloss: 0.130647\n",
      "[487]\tvalid_0's binary_logloss: 0.130673\n",
      "[488]\tvalid_0's binary_logloss: 0.130693\n",
      "[489]\tvalid_0's binary_logloss: 0.130805\n",
      "[490]\tvalid_0's binary_logloss: 0.130891\n",
      "[491]\tvalid_0's binary_logloss: 0.130987\n",
      "[492]\tvalid_0's binary_logloss: 0.13114\n",
      "[493]\tvalid_0's binary_logloss: 0.131161\n",
      "[494]\tvalid_0's binary_logloss: 0.13135\n",
      "[495]\tvalid_0's binary_logloss: 0.131493\n",
      "[496]\tvalid_0's binary_logloss: 0.131484\n",
      "[497]\tvalid_0's binary_logloss: 0.131619\n",
      "[498]\tvalid_0's binary_logloss: 0.131699\n",
      "[499]\tvalid_0's binary_logloss: 0.13184\n",
      "[500]\tvalid_0's binary_logloss: 0.131932\n",
      "[501]\tvalid_0's binary_logloss: 0.131977\n",
      "[502]\tvalid_0's binary_logloss: 0.132109\n",
      "[503]\tvalid_0's binary_logloss: 0.132094\n",
      "[504]\tvalid_0's binary_logloss: 0.132217\n",
      "[505]\tvalid_0's binary_logloss: 0.132339\n",
      "[506]\tvalid_0's binary_logloss: 0.132396\n",
      "[507]\tvalid_0's binary_logloss: 0.132484\n",
      "[508]\tvalid_0's binary_logloss: 0.132621\n",
      "[509]\tvalid_0's binary_logloss: 0.13263\n",
      "[510]\tvalid_0's binary_logloss: 0.13276\n",
      "[511]\tvalid_0's binary_logloss: 0.132667\n",
      "[512]\tvalid_0's binary_logloss: 0.132677\n",
      "[513]\tvalid_0's binary_logloss: 0.132791\n",
      "[514]\tvalid_0's binary_logloss: 0.1328\n",
      "[515]\tvalid_0's binary_logloss: 0.132874\n",
      "[516]\tvalid_0's binary_logloss: 0.132975\n",
      "[517]\tvalid_0's binary_logloss: 0.132959\n",
      "[518]\tvalid_0's binary_logloss: 0.133048\n",
      "[519]\tvalid_0's binary_logloss: 0.133064\n",
      "[520]\tvalid_0's binary_logloss: 0.133105\n",
      "[521]\tvalid_0's binary_logloss: 0.133031\n",
      "[522]\tvalid_0's binary_logloss: 0.133085\n",
      "[523]\tvalid_0's binary_logloss: 0.133135\n",
      "[524]\tvalid_0's binary_logloss: 0.133112\n",
      "[525]\tvalid_0's binary_logloss: 0.133158\n",
      "[526]\tvalid_0's binary_logloss: 0.133058\n",
      "[527]\tvalid_0's binary_logloss: 0.133111\n",
      "[528]\tvalid_0's binary_logloss: 0.13308\n",
      "[529]\tvalid_0's binary_logloss: 0.13313\n",
      "[530]\tvalid_0's binary_logloss: 0.133032\n",
      "[531]\tvalid_0's binary_logloss: 0.133234\n",
      "[532]\tvalid_0's binary_logloss: 0.133229\n",
      "[533]\tvalid_0's binary_logloss: 0.133196\n",
      "[534]\tvalid_0's binary_logloss: 0.133349\n",
      "[535]\tvalid_0's binary_logloss: 0.133437\n",
      "[536]\tvalid_0's binary_logloss: 0.133501\n",
      "[537]\tvalid_0's binary_logloss: 0.133504\n",
      "[538]\tvalid_0's binary_logloss: 0.133513\n",
      "[539]\tvalid_0's binary_logloss: 0.133581\n",
      "[540]\tvalid_0's binary_logloss: 0.133728\n",
      "[541]\tvalid_0's binary_logloss: 0.133657\n",
      "[542]\tvalid_0's binary_logloss: 0.13377\n",
      "[543]\tvalid_0's binary_logloss: 0.133862\n",
      "[544]\tvalid_0's binary_logloss: 0.133906\n",
      "[545]\tvalid_0's binary_logloss: 0.133913\n",
      "[546]\tvalid_0's binary_logloss: 0.133929\n",
      "[547]\tvalid_0's binary_logloss: 0.133948\n",
      "[548]\tvalid_0's binary_logloss: 0.1339\n",
      "[549]\tvalid_0's binary_logloss: 0.133986\n",
      "[550]\tvalid_0's binary_logloss: 0.133942\n",
      "[551]\tvalid_0's binary_logloss: 0.133914\n",
      "[552]\tvalid_0's binary_logloss: 0.133979\n",
      "[553]\tvalid_0's binary_logloss: 0.134035\n",
      "[554]\tvalid_0's binary_logloss: 0.134012\n",
      "[555]\tvalid_0's binary_logloss: 0.134006\n",
      "[556]\tvalid_0's binary_logloss: 0.133902\n",
      "[557]\tvalid_0's binary_logloss: 0.134068\n",
      "[558]\tvalid_0's binary_logloss: 0.133915\n",
      "[559]\tvalid_0's binary_logloss: 0.134075\n",
      "[560]\tvalid_0's binary_logloss: 0.134129\n",
      "Early stopping, best iteration is:\n",
      "[60]\tvalid_0's binary_logloss: 0.110656\n"
     ]
    }
   ],
   "source": [
    "import lightgbm as lgb\n",
    "\n",
    "X_train = X\n",
    "y_target = y\n",
    "#create lightgbm dataset\n",
    "msk = np.random.rand(len(X_train)) < 0.8\n",
    "lgb_train = lgb.Dataset(X_train[msk], y_target[msk])\n",
    "lgb_eval = lgb.Dataset(X_train[~msk], y_target[~msk], reference=lgb_train)\n",
    "\n",
    "# specify your configurations as a dict\n",
    "params = {\n",
    "    'task': 'train',\n",
    "    'boosting_type': 'gbdt',\n",
    "    'objective': 'binary',\n",
    "    'metric': { 'binary_logloss'},\n",
    "    'num_leaves': 31, # defauly leaves(31) amount for each tree\n",
    "    'learning_rate': 0.08,\n",
    "    'feature_fraction': 0.7, # will select 70% features before training each tree\n",
    "    'bagging_fraction': 0.3, #feature_fraction, but this will random select part of data\n",
    "    'bagging_freq': 5, #  perform bagging at every 5 iteration\n",
    "    'verbose': 0\n",
    "}\n",
    "\n",
    "print('Start training...')\n",
    "# train\n",
    "gbm = lgb.train(params,\n",
    "                lgb_train,\n",
    "                num_boost_round=4000,\n",
    "                valid_sets=lgb_eval,\n",
    "                early_stopping_rounds=500)"
   ]
  },
  {
   "cell_type": "code",
   "execution_count": null,
   "metadata": {},
   "outputs": [],
   "source": []
  },
  {
   "cell_type": "code",
   "execution_count": null,
   "metadata": {},
   "outputs": [],
   "source": []
  },
  {
   "cell_type": "code",
   "execution_count": null,
   "metadata": {},
   "outputs": [],
   "source": []
  },
  {
   "cell_type": "markdown",
   "metadata": {},
   "source": [
    "### 3.b.\n",
    "### Feature selection\n",
    "\n",
    "##### Three features were droped: \"user_id\" because each request had its unique user id. \"Country\" and \"screen_orientation\" because there is only one unique value for them and it doesn't help.\n",
    "\n",
    "##### Also there are many features that could help us to build right model. We could calculate them with different options."
   ]
  },
  {
   "cell_type": "code",
   "execution_count": null,
   "metadata": {},
   "outputs": [],
   "source": []
  },
  {
   "cell_type": "markdown",
   "metadata": {},
   "source": [
    "### 4.\n",
    "### Comparing model and the trivial CTR predictor"
   ]
  },
  {
   "cell_type": "markdown",
   "metadata": {},
   "source": [
    "##### It is possible to compare this model with trivial CTR by thaking little data and calculate by Naive Beyes theorem. And compare with simillar data from the model. The problem is that wee need a lot of data to learn and compare for good results."
   ]
  },
  {
   "cell_type": "code",
   "execution_count": null,
   "metadata": {},
   "outputs": [],
   "source": []
  },
  {
   "cell_type": "markdown",
   "metadata": {},
   "source": [
    "### 5.\n",
    "### Refining the model\n",
    "\n",
    "##### We could reduce data with no clicks on it to ballance target class and recieve more reliable results.\n",
    "##### Alse there are many options to collaborate with different features and use different methods to change shape of data like binning, smoothing etc."
   ]
  },
  {
   "cell_type": "code",
   "execution_count": 54,
   "metadata": {},
   "outputs": [
    {
     "name": "stdout",
     "output_type": "stream",
     "text": [
      "Time elapsed in (hh:mm:ss.ms): \"0:00:22.945873\"\n"
     ]
    }
   ],
   "source": [
    "print('Time elapsed in (hh:mm:ss.ms): \"{}\"'.format(datetime.now() - start_time))"
   ]
  }
 ],
 "metadata": {
  "kernelspec": {
   "display_name": "Python 3",
   "language": "python",
   "name": "python3"
  },
  "language_info": {
   "codemirror_mode": {
    "name": "ipython",
    "version": 3
   },
   "file_extension": ".py",
   "mimetype": "text/x-python",
   "name": "python",
   "nbconvert_exporter": "python",
   "pygments_lexer": "ipython3",
   "version": "3.8.5"
  }
 },
 "nbformat": 4,
 "nbformat_minor": 4
}
