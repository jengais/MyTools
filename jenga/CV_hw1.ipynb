{
 "cells": [
  {
   "cell_type": "code",
   "execution_count": 27,
   "metadata": {},
   "outputs": [],
   "source": [
    "# import cv2\n",
    "# import matplotlib.pyplot as plt\n",
    "# import numpy as np\n",
    "# import sys\n",
    "# lower_yellow = np.array([22, 93, 0]) # hsv color space\n",
    "# upper_yellow = np.array([45, 255, 255]) # hsv color space\n",
    "\n",
    "\n",
    "\n",
    "# for i in range(25):\n",
    "#     img = cv2.imread('C:\\\\Users\\\\jenga\\\\Desktop\\\\ocv\\\\text_regions\\\\BRN3C2AF4AEB56C_00000000' + str(13+i) + '.jpg')\n",
    "#     img = cv2.cvtColor(img, cv2.COLOR_BGR2RGB)\n",
    "#     hsv = cv2.cvtColor(img, cv2.COLOR_RGB2HSV)\n",
    "\n",
    "#     yellow_mask = cv2.inRange(hsv, lower_yellow, upper_yellow)\n",
    "#     cv2.imwrite('Desktop\\ocv\\mask.jpg', yellow_mask)\n",
    "#     img2 = cv2.imread('C:\\\\Users\\jenga\\Desktop\\ocv\\mask.jpg')\n",
    "\n",
    "#     res = cv2.bitwise_and(img, img, mask = yellow_mask)\n",
    "\n",
    "#     img_add = cv2.add(img,img2)\n",
    "#     cv2.imwrite('C:\\\\Users\\\\jenga\\\\Desktop\\\\ocv\\\\output\\\\'+str(i+1)+'.jpg', cv2.cvtColor(img_add, cv2.COLOR_RGB2BGR))\n",
    "\n"
   ]
  },
  {
   "cell_type": "code",
   "execution_count": 1,
   "metadata": {},
   "outputs": [],
   "source": [
    "# import cv2\n",
    "# import numpy as np\n",
    "# import sys\n",
    "# lower_yellow = np.array([22, 93, 0]) # hsv color space\n",
    "# upper_yellow = np.array([45, 255, 255]) # hsv color space\n",
    "\n",
    "# inpu = str(sys.argv[1])\n",
    "# outpu = str(sys.argv[2])\n",
    "\n",
    "# for i in range(25):\n",
    "#     img = cv2.imread(inpu + '\\BRN3C2AF4AEB56C_00000000' + str(13+i) + '.jpg')\n",
    "#     img = cv2.cvtColor(img, cv2.COLOR_BGR2RGB)\n",
    "#     hsv = cv2.cvtColor(img, cv2.COLOR_RGB2HSV)\n",
    "\n",
    "#     yellow_mask = cv2.inRange(hsv, lower_yellow, upper_yellow)\n",
    "#     cv2.imwrite('Desktop\\ocv\\mask.jpg', yellow_mask)\n",
    "#     img2 = cv2.imread('C:\\\\Users\\jenga\\Desktop\\ocv\\mask.jpg')\n",
    "\n",
    "#     res = cv2.bitwise_and(img, img, mask = yellow_mask)\n",
    "\n",
    "#     img_add = cv2.add(img,img2)\n",
    "#     cv2.imwrite(outpu + '\\\\' + str(i+1) + '.jpg', cv2.cvtColor(img_add, cv2.COLOR_RGB2BGR))\n"
   ]
  },
  {
   "cell_type": "code",
   "execution_count": null,
   "metadata": {},
   "outputs": [],
   "source": []
  },
  {
   "cell_type": "code",
   "execution_count": 68,
   "metadata": {},
   "outputs": [
    {
     "data": {
      "text/plain": [
       "True"
      ]
     },
     "execution_count": 68,
     "metadata": {},
     "output_type": "execute_result"
    }
   ],
   "source": [
    "# import cv2\n",
    "# import numpy as np\n",
    "# import sys\n",
    "# import os\n",
    "\n",
    "\n",
    "# lower_yellow = np.array([22, 93, 0]) # hsv color space\n",
    "# upper_yellow = np.array([45, 255, 255]) # hsv color space\n",
    "\n",
    "# inpu = str(sys.argv[1])\n",
    "# outpu = str(sys.argv[2])\n",
    "\n",
    "# for name in os.listdir(inpu):\n",
    "#     #localpath = os.path.join(inpu, name)\n",
    "\n",
    "#     #img = cv2.imread('Desktop/ocv/two.jpg')\n",
    "#     img = cv2.imread(str(inpu) + '/' + str(name))\n",
    "\n",
    "#     hsv = cv2.cvtColor(img, cv2.COLOR_BGR2HSV)\n",
    "\n",
    "#     yellow_mask = cv2.inRange(hsv, lower_yellow, upper_yellow)\n",
    "#     not_yellow_mask = cv2.bitwise_not(yellow_mask)\n",
    "\n",
    "#     res = cv2.bitwise_and(img, img, mask = not_yellow_mask)\n",
    "\n",
    "#     not_yellow_mask2 = cv2.bitwise_not(not_yellow_mask)\n",
    "\n",
    "\n",
    "#     res_final = cv2.bitwise_not(res, res, mask = not_yellow_mask2)\n",
    "#     #cv2.imwrite('Desktop/ocv/res_final.jpg', res_final)\n",
    "#     cv2.imwrite(str(outpu) + '/' + str(name), res_final)"
   ]
  },
  {
   "cell_type": "code",
   "execution_count": 5,
   "metadata": {},
   "outputs": [
    {
     "data": {
      "text/plain": [
       "True"
      ]
     },
     "execution_count": 5,
     "metadata": {},
     "output_type": "execute_result"
    }
   ],
   "source": [
    "import cv2\n",
    "import numpy as np\n",
    "import sys\n",
    "import os\n",
    "\n",
    "\n",
    "lower_yellow = np.array([22, 20, 0]) # hsv color space\n",
    "upper_yellow = np.array([70, 255, 255]) # hsv color space\n",
    "\n",
    "\n",
    "img = cv2.imread('Desktop/ocv/two.jpg')\n",
    "\n",
    "hsv = cv2.cvtColor(img, cv2.COLOR_BGR2HSV)\n",
    "\n",
    "yellow_mask = cv2.inRange(hsv, lower_yellow, upper_yellow)\n",
    "not_yellow_mask = cv2.bitwise_not(yellow_mask)\n",
    "\n",
    "res = cv2.bitwise_and(img, img, mask = not_yellow_mask)\n",
    "\n",
    "not_yellow_mask2 = cv2.bitwise_not(not_yellow_mask)\n",
    "\n",
    "\n",
    "res_final = cv2.bitwise_not(res, res, mask = not_yellow_mask2)\n",
    "cv2.imwrite('Desktop/ocv/res_final.jpg', res_final)"
   ]
  },
  {
   "cell_type": "code",
   "execution_count": null,
   "metadata": {},
   "outputs": [],
   "source": []
  }
 ],
 "metadata": {
  "kernelspec": {
   "display_name": "Python 3",
   "language": "python",
   "name": "python3"
  },
  "language_info": {
   "codemirror_mode": {
    "name": "ipython",
    "version": 3
   },
   "file_extension": ".py",
   "mimetype": "text/x-python",
   "name": "python",
   "nbconvert_exporter": "python",
   "pygments_lexer": "ipython3",
   "version": "3.8.5"
  }
 },
 "nbformat": 4,
 "nbformat_minor": 4
}
