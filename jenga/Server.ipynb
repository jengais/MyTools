{
 "cells": [
  {
   "cell_type": "code",
   "execution_count": 1,
   "id": "9c45cd7c",
   "metadata": {},
   "outputs": [],
   "source": [
    "import requests\n",
    "text = 'גנן גידל דגן בגן'\n",
    "localhost_yap = \"http://34.76.106.188:8000/yap/heb/joint\"\n",
    "data = '{{\"text\": \"{}  \"}}'.format(text).encode('utf-8')  # input string ends with two space characters\n",
    "headers = {'content-type': 'application/json'}\n",
    "response = requests.get(url=localhost_yap, data=data, headers=headers)\n",
    "json_response = response.json()"
   ]
  },
  {
   "cell_type": "code",
   "execution_count": 2,
   "id": "82ae09d5",
   "metadata": {},
   "outputs": [
    {
     "data": {
      "text/plain": [
       "{'ma_lattice': '0\\t1\\tגנן\\tגינן\\tVB\\tVB\\tgen=M|num=S|per=2|tense=IMPERATIVE\\t1\\n0\\t1\\tגנן\\tגן\\tNN\\tNN\\tgen=M|num=S|suf_gen=F|suf_num=P|suf_per=3\\t1\\n0\\t1\\tגנן\\tגנן\\tNN\\tNN\\tgen=M|num=S\\t1\\n0\\t1\\tגנן\\tגנן\\tNNT\\tNNT\\tgen=M|num=S\\t1\\n0\\t1\\tגנן\\tגינן\\tVB\\tVB\\tgen=M|num=S|per=3|tense=PAST\\t1\\n1\\t2\\tגידל\\tגידל\\tVB\\tVB\\tgen=M|num=S|per=3|tense=PAST\\t2\\n2\\t3\\tדג\\tדג\\tBN\\tBN\\tgen=M|num=S|per=A\\t3\\n2\\t5\\tדגן\\tדגן\\tNNP\\tNNP\\tgen=M|num=S\\t3\\n2\\t5\\tדגן\\tדג\\tNN\\tNN\\tgen=M|num=S|suf_gen=F|suf_num=P|suf_per=3\\t3\\n2\\t5\\tדגן\\tדגן\\tNN\\tNN\\tgen=M|num=S\\t3\\n2\\t5\\tדגן\\tדגן\\tNNT\\tNNT\\tgen=M|num=S\\t3\\n3\\t4\\tאת\\tאת\\tPOS\\tPOS\\t_\\t3\\n4\\t5\\tהן\\tהן\\tS_PRN\\tS_PRN\\tgen=F|num=P|per=3\\t3\\n5\\t6\\tב\\tב\\tPREPOSITION\\tPREPOSITION\\t_\\t4\\n5\\t8\\tבגן\\tבגן\\tNNP\\tNNP\\tgen=M|num=S\\t4\\n5\\t8\\tבגן\\tבגן\\tNN\\tNN\\tgen=M|num=P|num=S\\t4\\n5\\t8\\tבגן\\tבגן\\tNN\\tNN\\tgen=M|num=S\\t4\\n5\\t8\\tבגן\\tבגן\\tNNP\\tNNP\\tgen=F|num=S\\t4\\n5\\t8\\tבגן\\tבגן\\tNNP\\tNNP\\tgen=F|gen=M|num=S\\t4\\n5\\t8\\tבגן\\tבגן\\tNNP\\tNNP\\t_\\t4\\n5\\t8\\tבגן\\tבגן\\tNN\\tNN\\tgen=M|num=P\\t4\\n5\\t8\\tבגן\\tבגן\\tNN\\tNN\\tgen=F|num=S\\t4\\n5\\t8\\tבגן\\tבגן\\tNN\\tNN\\tgen=F|num=P\\t4\\n6\\t8\\tגן\\tגן\\tNN\\tNN\\tgen=M|num=S\\t4\\n6\\t8\\tגן\\tגן\\tNNT\\tNNT\\tgen=M|num=S\\t4\\n6\\t7\\tה\\tה\\tDEF\\tDEF\\t_\\t4\\n7\\t8\\tגן\\tגן\\tNNT\\tNNT\\tgen=M|num=S\\t4\\n7\\t8\\tגן\\tגן\\tNN\\tNN\\tgen=M|num=S\\t4\\n\\n',\n",
       " 'md_lattice': '0\\t1\\tגנן\\tגנן\\tNN\\tNN\\tgen=M|num=S\\t1\\n1\\t2\\tגידל\\tגידל\\tVB\\tVB\\tgen=M|num=S|per=3|tense=PAST\\t2\\n2\\t3\\tדגן\\tדגן\\tNN\\tNN\\tgen=M|num=S\\t3\\n3\\t4\\tב\\tב\\tPREPOSITION\\tPREPOSITION\\t_\\t4\\n4\\t5\\tה\\tה\\tDEF\\tDEF\\t_\\t4\\n5\\t6\\tגן\\tגן\\tNN\\tNN\\tgen=M|num=S\\t4\\n\\n',\n",
       " 'dep_tree': '1\\tגנן\\tגנן\\tNN\\tNN\\tgen=M|num=S\\t2\\tsubj\\t_\\t_\\n2\\tגידל\\tגידל\\tVB\\tVB\\tgen=M|num=S|per=3|tense=PAST\\t0\\tROOT\\t_\\t_\\n3\\tדגן\\tדגן\\tNN\\tNN\\tgen=M|num=S\\t2\\tobj\\t_\\t_\\n4\\tב\\tב\\tPREPOSITION\\tPREPOSITION\\t\\t2\\tprepmod\\t_\\t_\\n5\\tה\\tה\\tDEF\\tDEF\\t\\t6\\tdef\\t_\\t_\\n6\\tגן\\tגן\\tNN\\tNN\\tgen=M|num=S\\t4\\tpobj\\t_\\t_\\n\\n'}"
      ]
     },
     "execution_count": 2,
     "metadata": {},
     "output_type": "execute_result"
    }
   ],
   "source": [
    "json_response"
   ]
  },
  {
   "cell_type": "code",
   "execution_count": null,
   "id": "1e743c25",
   "metadata": {},
   "outputs": [],
   "source": []
  }
 ],
 "metadata": {
  "kernelspec": {
   "display_name": "Python 3 (ipykernel)",
   "language": "python",
   "name": "python3"
  },
  "language_info": {
   "codemirror_mode": {
    "name": "ipython",
    "version": 3
   },
   "file_extension": ".py",
   "mimetype": "text/x-python",
   "name": "python",
   "nbconvert_exporter": "python",
   "pygments_lexer": "ipython3",
   "version": "3.9.7"
  }
 },
 "nbformat": 4,
 "nbformat_minor": 5
}
