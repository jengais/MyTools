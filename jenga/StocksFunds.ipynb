{
 "cells": [
  {
   "cell_type": "code",
   "execution_count": 1,
   "metadata": {},
   "outputs": [],
   "source": [
    "import pandas as pd\n",
    "import numpy as np"
   ]
  },
  {
   "cell_type": "code",
   "execution_count": 2,
   "metadata": {},
   "outputs": [],
   "source": [
    "def stocks(label, income):\n",
    "\n",
    "    df = pd.read_csv(\"C:\\\\Users\\\\jenga\\\\Desktop\\\\Stocks\\\\Funds\\\\\" + str(label) + \".csv\")\n",
    "    df = df[['Date', 'Close']]\n",
    "    dollar = income/3.1\n",
    "    df['Cash'] = [ dollar for i in range(len(df))]\n",
    "    cash = df['Cash']\n",
    "    close = df['Close']\n",
    "    df['Shares'] = [ dollar/close[i] for i in range(len(df))]\n",
    "    sums = sum(df['Shares'])\n",
    "    total = float(sums * close[-1:])\n",
    "    print('Total Shares: ', sums)\n",
    "    print('Total income: ', income * len(df))\n",
    "    print()\n",
    "    print('Total cash in NIS: ', total * 3.1)\n",
    "    print('Earnings: ', (total * 3.1) - (income * len(df)))\n"
   ]
  },
  {
   "cell_type": "code",
   "execution_count": null,
   "metadata": {},
   "outputs": [],
   "source": []
  },
  {
   "cell_type": "code",
   "execution_count": 3,
   "metadata": {},
   "outputs": [],
   "source": [
    "income = 1500"
   ]
  },
  {
   "cell_type": "code",
   "execution_count": 4,
   "metadata": {},
   "outputs": [
    {
     "name": "stdout",
     "output_type": "stream",
     "text": [
      "Total Shares:  487.52599022098667\n",
      "Total income:  91500\n",
      "\n",
      "Total cash in NIS:  245455.2038678727\n",
      "Earnings:  153955.2038678727\n"
     ]
    }
   ],
   "source": [
    "stocks('AAPL5', income)"
   ]
  },
  {
   "cell_type": "code",
   "execution_count": 5,
   "metadata": {},
   "outputs": [
    {
     "name": "stdout",
     "output_type": "stream",
     "text": [
      "Total Shares:  229.28370340288768\n",
      "Total income:  91500\n",
      "\n",
      "Total cash in NIS:  210412.04891612675\n",
      "Earnings:  118912.04891612675\n"
     ]
    }
   ],
   "source": [
    "stocks('MSFT5', income)"
   ]
  },
  {
   "cell_type": "code",
   "execution_count": 6,
   "metadata": {},
   "outputs": [
    {
     "name": "stdout",
     "output_type": "stream",
     "text": [
      "Total Shares:  484.16423465223176\n",
      "Total income:  91500\n",
      "\n",
      "Total cash in NIS:  350822.5069481448\n",
      "Earnings:  259322.50694814482\n"
     ]
    }
   ],
   "source": [
    "stocks('NVDA5', income)"
   ]
  },
  {
   "cell_type": "code",
   "execution_count": null,
   "metadata": {},
   "outputs": [],
   "source": []
  },
  {
   "cell_type": "code",
   "execution_count": null,
   "metadata": {},
   "outputs": [],
   "source": []
  },
  {
   "cell_type": "code",
   "execution_count": 7,
   "metadata": {
    "scrolled": false
   },
   "outputs": [
    {
     "name": "stdout",
     "output_type": "stream",
     "text": [
      "Total Shares:  1772.6197992565963\n",
      "Total income:  181500\n",
      "\n",
      "Total cash in NIS:  892462.6849320035\n",
      "Earnings:  710962.6849320035\n"
     ]
    }
   ],
   "source": [
    "stocks('AAPL10', income)"
   ]
  },
  {
   "cell_type": "code",
   "execution_count": 8,
   "metadata": {},
   "outputs": [
    {
     "name": "stdout",
     "output_type": "stream",
     "text": [
      "Total Shares:  959.8254404816606\n",
      "Total income:  181500\n",
      "\n",
      "Total cash in NIS:  880825.0849764778\n",
      "Earnings:  699325.0849764778\n"
     ]
    }
   ],
   "source": [
    "stocks('MSFT10', income)"
   ]
  },
  {
   "cell_type": "code",
   "execution_count": 9,
   "metadata": {},
   "outputs": [
    {
     "name": "stdout",
     "output_type": "stream",
     "text": [
      "Total Shares:  6474.127583860941\n",
      "Total income:  181500\n",
      "\n",
      "Total cash in NIS:  4691114.102849111\n",
      "Earnings:  4509614.102849111\n"
     ]
    }
   ],
   "source": [
    "stocks('NVDA10', income)"
   ]
  },
  {
   "cell_type": "code",
   "execution_count": null,
   "metadata": {},
   "outputs": [],
   "source": []
  }
 ],
 "metadata": {
  "kernelspec": {
   "display_name": "Python 3",
   "language": "python",
   "name": "python3"
  },
  "language_info": {
   "codemirror_mode": {
    "name": "ipython",
    "version": 3
   },
   "file_extension": ".py",
   "mimetype": "text/x-python",
   "name": "python",
   "nbconvert_exporter": "python",
   "pygments_lexer": "ipython3",
   "version": "3.8.5"
  }
 },
 "nbformat": 4,
 "nbformat_minor": 4
}
