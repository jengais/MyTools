{
 "cells": [
  {
   "cell_type": "code",
   "execution_count": 1,
   "metadata": {},
   "outputs": [],
   "source": [
    "import pandas as pd\n",
    "import re\n",
    "import spacy\n",
    "import requests"
   ]
  },
  {
   "cell_type": "code",
   "execution_count": 2,
   "metadata": {},
   "outputs": [],
   "source": [
    "df = pd.read_csv('sentences_final2.csv')"
   ]
  },
  {
   "cell_type": "code",
   "execution_count": 3,
   "metadata": {},
   "outputs": [
    {
     "data": {
      "text/html": [
       "<div>\n",
       "<style scoped>\n",
       "    .dataframe tbody tr th:only-of-type {\n",
       "        vertical-align: middle;\n",
       "    }\n",
       "\n",
       "    .dataframe tbody tr th {\n",
       "        vertical-align: top;\n",
       "    }\n",
       "\n",
       "    .dataframe thead th {\n",
       "        text-align: right;\n",
       "    }\n",
       "</style>\n",
       "<table border=\"1\" class=\"dataframe\">\n",
       "  <thead>\n",
       "    <tr style=\"text-align: right;\">\n",
       "      <th></th>\n",
       "      <th>sentence</th>\n",
       "    </tr>\n",
       "  </thead>\n",
       "  <tbody>\n",
       "    <tr>\n",
       "      <th>0</th>\n",
       "      <td>והנפיחות בעיניים?</td>\n",
       "    </tr>\n",
       "    <tr>\n",
       "      <th>1</th>\n",
       "      <td>ככלל, כדאי להיות קשובים לגוף וכשאשר מופיעים סי...</td>\n",
       "    </tr>\n",
       "    <tr>\n",
       "      <th>2</th>\n",
       "      <td>הצגה עצמיתתחילה תתבקש לפרט את המחלות או הליקוי...</td>\n",
       "    </tr>\n",
       "    <tr>\n",
       "      <th>3</th>\n",
       "      <td>מגמת משרד החינוך הינה לשלב את הילד בעל הצרכים ...</td>\n",
       "    </tr>\n",
       "    <tr>\n",
       "      <th>4</th>\n",
       "      <td>בייעוץ כזה יובאו בחשבון המסלול, משך הטיול, אופ...</td>\n",
       "    </tr>\n",
       "    <tr>\n",
       "      <th>...</th>\n",
       "      <td>...</td>\n",
       "    </tr>\n",
       "    <tr>\n",
       "      <th>506</th>\n",
       "      <td>מה קורה כשאין לנו מספיק אינסולין בגוף?</td>\n",
       "    </tr>\n",
       "    <tr>\n",
       "      <th>507</th>\n",
       "      <td>הסיבות להופעת הסוכרת אינן ידועות עד היום, אף ש...</td>\n",
       "    </tr>\n",
       "    <tr>\n",
       "      <th>508</th>\n",
       "      <td>הגלוקוזה חיונית לתאים בשל היותה חומר הגלם העיק...</td>\n",
       "    </tr>\n",
       "    <tr>\n",
       "      <th>509</th>\n",
       "      <td>קבלת חשבון ארנונה בדוא\"למהיום ניתן לקבל  את חש...</td>\n",
       "    </tr>\n",
       "    <tr>\n",
       "      <th>510</th>\n",
       "      <td>להנקה יש יתרונות בריאותיים גם לאם לטווח הקצר ו...</td>\n",
       "    </tr>\n",
       "  </tbody>\n",
       "</table>\n",
       "<p>511 rows × 1 columns</p>\n",
       "</div>"
      ],
      "text/plain": [
       "                                              sentence\n",
       "0                                    והנפיחות בעיניים?\n",
       "1    ככלל, כדאי להיות קשובים לגוף וכשאשר מופיעים סי...\n",
       "2    הצגה עצמיתתחילה תתבקש לפרט את המחלות או הליקוי...\n",
       "3    מגמת משרד החינוך הינה לשלב את הילד בעל הצרכים ...\n",
       "4    בייעוץ כזה יובאו בחשבון המסלול, משך הטיול, אופ...\n",
       "..                                                 ...\n",
       "506             מה קורה כשאין לנו מספיק אינסולין בגוף?\n",
       "507  הסיבות להופעת הסוכרת אינן ידועות עד היום, אף ש...\n",
       "508  הגלוקוזה חיונית לתאים בשל היותה חומר הגלם העיק...\n",
       "509  קבלת חשבון ארנונה בדוא\"למהיום ניתן לקבל  את חש...\n",
       "510  להנקה יש יתרונות בריאותיים גם לאם לטווח הקצר ו...\n",
       "\n",
       "[511 rows x 1 columns]"
      ]
     },
     "execution_count": 3,
     "metadata": {},
     "output_type": "execute_result"
    }
   ],
   "source": [
    "df"
   ]
  },
  {
   "cell_type": "code",
   "execution_count": 4,
   "metadata": {},
   "outputs": [
    {
     "data": {
      "text/plain": [
       "array(['צריך לרחוץ את התינוק בין חיתול לחיתול?'], dtype=object)"
      ]
     },
     "execution_count": 4,
     "metadata": {},
     "output_type": "execute_result"
    }
   ],
   "source": [
    "df.values[493]"
   ]
  },
  {
   "cell_type": "code",
   "execution_count": 5,
   "metadata": {},
   "outputs": [],
   "source": [
    "# 1 12 22 42 48 52 62 63 72 81 84 86 88 93 100 108 113 117 118 121 138 143 149 152 157 162 166 174 191 211 220 222 239 255 \n",
    "# 268 274 278 299 308 318 322 328 341 342 346 350 355 365 380 382 394 395 396 399 411 429 458 482 486 494\n",
    "\n",
    "# sum() = 60"
   ]
  },
  {
   "cell_type": "code",
   "execution_count": 6,
   "metadata": {},
   "outputs": [
    {
     "name": "stdout",
     "output_type": "stream",
     "text": [
      "60\n"
     ]
    }
   ],
   "source": [
    "no_change = [1, 12, 22, 42, 48, 52, 62, 63, 72, 81, 84, 86, 88, 93, 100, 108, 113, 117, 118, 121, 138, 143, 149, 152, 157, 162, 166, 174, 191, 211, 220, 222, 239, 255, 268, 274, 278, 299, 308, 318, 322, 328, 341, 342, 346, 350, 355, 365, 380, 382, 394, 395, 396, 399, 411, 429, 458, 482, 486, 494]\n",
    "print(len(no_change))"
   ]
  },
  {
   "cell_type": "code",
   "execution_count": 7,
   "metadata": {},
   "outputs": [],
   "source": [
    "df['no_change'] = [0 for x in range(len(df))]\n",
    "df['summarizing'] = [1 for x in range(len(df))]"
   ]
  },
  {
   "cell_type": "code",
   "execution_count": 8,
   "metadata": {},
   "outputs": [
    {
     "data": {
      "text/html": [
       "<div>\n",
       "<style scoped>\n",
       "    .dataframe tbody tr th:only-of-type {\n",
       "        vertical-align: middle;\n",
       "    }\n",
       "\n",
       "    .dataframe tbody tr th {\n",
       "        vertical-align: top;\n",
       "    }\n",
       "\n",
       "    .dataframe thead th {\n",
       "        text-align: right;\n",
       "    }\n",
       "</style>\n",
       "<table border=\"1\" class=\"dataframe\">\n",
       "  <thead>\n",
       "    <tr style=\"text-align: right;\">\n",
       "      <th></th>\n",
       "      <th>sentence</th>\n",
       "      <th>no_change</th>\n",
       "      <th>summarizing</th>\n",
       "    </tr>\n",
       "  </thead>\n",
       "  <tbody>\n",
       "    <tr>\n",
       "      <th>0</th>\n",
       "      <td>והנפיחות בעיניים?</td>\n",
       "      <td>0</td>\n",
       "      <td>1</td>\n",
       "    </tr>\n",
       "    <tr>\n",
       "      <th>1</th>\n",
       "      <td>ככלל, כדאי להיות קשובים לגוף וכשאשר מופיעים סי...</td>\n",
       "      <td>0</td>\n",
       "      <td>1</td>\n",
       "    </tr>\n",
       "    <tr>\n",
       "      <th>2</th>\n",
       "      <td>הצגה עצמיתתחילה תתבקש לפרט את המחלות או הליקוי...</td>\n",
       "      <td>0</td>\n",
       "      <td>1</td>\n",
       "    </tr>\n",
       "    <tr>\n",
       "      <th>3</th>\n",
       "      <td>מגמת משרד החינוך הינה לשלב את הילד בעל הצרכים ...</td>\n",
       "      <td>0</td>\n",
       "      <td>1</td>\n",
       "    </tr>\n",
       "    <tr>\n",
       "      <th>4</th>\n",
       "      <td>בייעוץ כזה יובאו בחשבון המסלול, משך הטיול, אופ...</td>\n",
       "      <td>0</td>\n",
       "      <td>1</td>\n",
       "    </tr>\n",
       "    <tr>\n",
       "      <th>...</th>\n",
       "      <td>...</td>\n",
       "      <td>...</td>\n",
       "      <td>...</td>\n",
       "    </tr>\n",
       "    <tr>\n",
       "      <th>506</th>\n",
       "      <td>מה קורה כשאין לנו מספיק אינסולין בגוף?</td>\n",
       "      <td>0</td>\n",
       "      <td>1</td>\n",
       "    </tr>\n",
       "    <tr>\n",
       "      <th>507</th>\n",
       "      <td>הסיבות להופעת הסוכרת אינן ידועות עד היום, אף ש...</td>\n",
       "      <td>0</td>\n",
       "      <td>1</td>\n",
       "    </tr>\n",
       "    <tr>\n",
       "      <th>508</th>\n",
       "      <td>הגלוקוזה חיונית לתאים בשל היותה חומר הגלם העיק...</td>\n",
       "      <td>0</td>\n",
       "      <td>1</td>\n",
       "    </tr>\n",
       "    <tr>\n",
       "      <th>509</th>\n",
       "      <td>קבלת חשבון ארנונה בדוא\"למהיום ניתן לקבל  את חש...</td>\n",
       "      <td>0</td>\n",
       "      <td>1</td>\n",
       "    </tr>\n",
       "    <tr>\n",
       "      <th>510</th>\n",
       "      <td>להנקה יש יתרונות בריאותיים גם לאם לטווח הקצר ו...</td>\n",
       "      <td>0</td>\n",
       "      <td>1</td>\n",
       "    </tr>\n",
       "  </tbody>\n",
       "</table>\n",
       "<p>511 rows × 3 columns</p>\n",
       "</div>"
      ],
      "text/plain": [
       "                                              sentence  no_change  summarizing\n",
       "0                                    והנפיחות בעיניים?          0            1\n",
       "1    ככלל, כדאי להיות קשובים לגוף וכשאשר מופיעים סי...          0            1\n",
       "2    הצגה עצמיתתחילה תתבקש לפרט את המחלות או הליקוי...          0            1\n",
       "3    מגמת משרד החינוך הינה לשלב את הילד בעל הצרכים ...          0            1\n",
       "4    בייעוץ כזה יובאו בחשבון המסלול, משך הטיול, אופ...          0            1\n",
       "..                                                 ...        ...          ...\n",
       "506             מה קורה כשאין לנו מספיק אינסולין בגוף?          0            1\n",
       "507  הסיבות להופעת הסוכרת אינן ידועות עד היום, אף ש...          0            1\n",
       "508  הגלוקוזה חיונית לתאים בשל היותה חומר הגלם העיק...          0            1\n",
       "509  קבלת חשבון ארנונה בדוא\"למהיום ניתן לקבל  את חש...          0            1\n",
       "510  להנקה יש יתרונות בריאותיים גם לאם לטווח הקצר ו...          0            1\n",
       "\n",
       "[511 rows x 3 columns]"
      ]
     },
     "execution_count": 8,
     "metadata": {},
     "output_type": "execute_result"
    }
   ],
   "source": [
    "df"
   ]
  },
  {
   "cell_type": "code",
   "execution_count": 9,
   "metadata": {},
   "outputs": [
    {
     "name": "stderr",
     "output_type": "stream",
     "text": [
      "<ipython-input-9-91cb786dd0b4>:2: SettingWithCopyWarning: \n",
      "A value is trying to be set on a copy of a slice from a DataFrame\n",
      "\n",
      "See the caveats in the documentation: https://pandas.pydata.org/pandas-docs/stable/user_guide/indexing.html#returning-a-view-versus-a-copy\n",
      "  df['no_change'][x-1] = 1\n",
      "<ipython-input-9-91cb786dd0b4>:3: SettingWithCopyWarning: \n",
      "A value is trying to be set on a copy of a slice from a DataFrame\n",
      "\n",
      "See the caveats in the documentation: https://pandas.pydata.org/pandas-docs/stable/user_guide/indexing.html#returning-a-view-versus-a-copy\n",
      "  df['summarizing'][x-1] = 0\n"
     ]
    }
   ],
   "source": [
    "for x in no_change:\n",
    "    df['no_change'][x-1] = 1\n",
    "    df['summarizing'][x-1] = 0"
   ]
  },
  {
   "cell_type": "code",
   "execution_count": 10,
   "metadata": {},
   "outputs": [
    {
     "data": {
      "text/html": [
       "<div>\n",
       "<style scoped>\n",
       "    .dataframe tbody tr th:only-of-type {\n",
       "        vertical-align: middle;\n",
       "    }\n",
       "\n",
       "    .dataframe tbody tr th {\n",
       "        vertical-align: top;\n",
       "    }\n",
       "\n",
       "    .dataframe thead th {\n",
       "        text-align: right;\n",
       "    }\n",
       "</style>\n",
       "<table border=\"1\" class=\"dataframe\">\n",
       "  <thead>\n",
       "    <tr style=\"text-align: right;\">\n",
       "      <th></th>\n",
       "      <th>sentence</th>\n",
       "      <th>no_change</th>\n",
       "      <th>summarizing</th>\n",
       "    </tr>\n",
       "  </thead>\n",
       "  <tbody>\n",
       "    <tr>\n",
       "      <th>0</th>\n",
       "      <td>והנפיחות בעיניים?</td>\n",
       "      <td>1</td>\n",
       "      <td>0</td>\n",
       "    </tr>\n",
       "    <tr>\n",
       "      <th>1</th>\n",
       "      <td>ככלל, כדאי להיות קשובים לגוף וכשאשר מופיעים סי...</td>\n",
       "      <td>0</td>\n",
       "      <td>1</td>\n",
       "    </tr>\n",
       "    <tr>\n",
       "      <th>2</th>\n",
       "      <td>הצגה עצמיתתחילה תתבקש לפרט את המחלות או הליקוי...</td>\n",
       "      <td>0</td>\n",
       "      <td>1</td>\n",
       "    </tr>\n",
       "    <tr>\n",
       "      <th>3</th>\n",
       "      <td>מגמת משרד החינוך הינה לשלב את הילד בעל הצרכים ...</td>\n",
       "      <td>0</td>\n",
       "      <td>1</td>\n",
       "    </tr>\n",
       "    <tr>\n",
       "      <th>4</th>\n",
       "      <td>בייעוץ כזה יובאו בחשבון המסלול, משך הטיול, אופ...</td>\n",
       "      <td>0</td>\n",
       "      <td>1</td>\n",
       "    </tr>\n",
       "    <tr>\n",
       "      <th>5</th>\n",
       "      <td>מי שלא מלאו לו 20, יכול להיות זכאי לדמי אבטלה ...</td>\n",
       "      <td>0</td>\n",
       "      <td>1</td>\n",
       "    </tr>\n",
       "    <tr>\n",
       "      <th>6</th>\n",
       "      <td>אתה תושב השטחים בעל תעודת זהות ישראלית, ונפגעת...</td>\n",
       "      <td>0</td>\n",
       "      <td>1</td>\n",
       "    </tr>\n",
       "    <tr>\n",
       "      <th>7</th>\n",
       "      <td>אצטדיון ספורט, למעט במקומות שהוקצו לעישון בידי...</td>\n",
       "      <td>0</td>\n",
       "      <td>1</td>\n",
       "    </tr>\n",
       "    <tr>\n",
       "      <th>8</th>\n",
       "      <td>לעיתים העור של התינוק יבש ונוטה לקילוף.</td>\n",
       "      <td>0</td>\n",
       "      <td>1</td>\n",
       "    </tr>\n",
       "    <tr>\n",
       "      <th>9</th>\n",
       "      <td>טיפול התפתחותי לילד - התהליך המלא עם הגעתכם לר...</td>\n",
       "      <td>0</td>\n",
       "      <td>1</td>\n",
       "    </tr>\n",
       "    <tr>\n",
       "      <th>10</th>\n",
       "      <td>לעיתים קרובות ניתן להבחין במזג שלו על פי תגובו...</td>\n",
       "      <td>0</td>\n",
       "      <td>1</td>\n",
       "    </tr>\n",
       "    <tr>\n",
       "      <th>11</th>\n",
       "      <td>בשבועות הראשונים הלבישו את התינוק שלכם בשתי גו...</td>\n",
       "      <td>1</td>\n",
       "      <td>0</td>\n",
       "    </tr>\n",
       "    <tr>\n",
       "      <th>12</th>\n",
       "      <td>מותר לך להכניס מלווה מטעמך, שיהיה נוכח בעת הבד...</td>\n",
       "      <td>0</td>\n",
       "      <td>1</td>\n",
       "    </tr>\n",
       "    <tr>\n",
       "      <th>13</th>\n",
       "      <td>תנאי שלישי - הפסקת עבודהאתה עשוי להיות זכאי לד...</td>\n",
       "      <td>0</td>\n",
       "      <td>1</td>\n",
       "    </tr>\n",
       "    <tr>\n",
       "      <th>14</th>\n",
       "      <td>אסור ללחוץ על השד, ובמקרה של אודם יש לפנות לרופא.</td>\n",
       "      <td>0</td>\n",
       "      <td>1</td>\n",
       "    </tr>\n",
       "    <tr>\n",
       "      <th>15</th>\n",
       "      <td>במקרה כזה יוזמנו ההורים והילד לאבחון רב־תחומי ...</td>\n",
       "      <td>0</td>\n",
       "      <td>1</td>\n",
       "    </tr>\n",
       "    <tr>\n",
       "      <th>16</th>\n",
       "      <td>רכב המשמש להוראת נהיגה, כמשמעותו בתקנות התעבור...</td>\n",
       "      <td>0</td>\n",
       "      <td>1</td>\n",
       "    </tr>\n",
       "    <tr>\n",
       "      <th>17</th>\n",
       "      <td>מהניסיון ידוע שפעמים רבות הדברים פשוט מסתדרים ...</td>\n",
       "      <td>0</td>\n",
       "      <td>1</td>\n",
       "    </tr>\n",
       "    <tr>\n",
       "      <th>18</th>\n",
       "      <td>הטמפרטורה המומלצת בחדר התינוק היא 24-22 מעלות ...</td>\n",
       "      <td>0</td>\n",
       "      <td>1</td>\n",
       "    </tr>\n",
       "    <tr>\n",
       "      <th>19</th>\n",
       "      <td>מטרת הטיפול באינסולין היא להפחית את רמת הגלוקו...</td>\n",
       "      <td>0</td>\n",
       "      <td>1</td>\n",
       "    </tr>\n",
       "    <tr>\n",
       "      <th>20</th>\n",
       "      <td>הם חולפים בתוך כמה ימים ללא טיפול.</td>\n",
       "      <td>0</td>\n",
       "      <td>1</td>\n",
       "    </tr>\n",
       "    <tr>\n",
       "      <th>21</th>\n",
       "      <td>זה נורמלי?</td>\n",
       "      <td>1</td>\n",
       "      <td>0</td>\n",
       "    </tr>\n",
       "    <tr>\n",
       "      <th>22</th>\n",
       "      <td>אין צורך לטפל בכך.</td>\n",
       "      <td>0</td>\n",
       "      <td>1</td>\n",
       "    </tr>\n",
       "    <tr>\n",
       "      <th>23</th>\n",
       "      <td>במקרה כזה, עליך להודיע על כך לוועדה, ותוזמן לו...</td>\n",
       "      <td>0</td>\n",
       "      <td>1</td>\n",
       "    </tr>\n",
       "    <tr>\n",
       "      <th>24</th>\n",
       "      <td>חשוב לשמור על עותק זה, הוא יכול לשמש אותך לצור...</td>\n",
       "      <td>0</td>\n",
       "      <td>1</td>\n",
       "    </tr>\n",
       "  </tbody>\n",
       "</table>\n",
       "</div>"
      ],
      "text/plain": [
       "                                             sentence  no_change  summarizing\n",
       "0                                   והנפיחות בעיניים?          1            0\n",
       "1   ככלל, כדאי להיות קשובים לגוף וכשאשר מופיעים סי...          0            1\n",
       "2   הצגה עצמיתתחילה תתבקש לפרט את המחלות או הליקוי...          0            1\n",
       "3   מגמת משרד החינוך הינה לשלב את הילד בעל הצרכים ...          0            1\n",
       "4   בייעוץ כזה יובאו בחשבון המסלול, משך הטיול, אופ...          0            1\n",
       "5   מי שלא מלאו לו 20, יכול להיות זכאי לדמי אבטלה ...          0            1\n",
       "6   אתה תושב השטחים בעל תעודת זהות ישראלית, ונפגעת...          0            1\n",
       "7   אצטדיון ספורט, למעט במקומות שהוקצו לעישון בידי...          0            1\n",
       "8             לעיתים העור של התינוק יבש ונוטה לקילוף.          0            1\n",
       "9   טיפול התפתחותי לילד - התהליך המלא עם הגעתכם לר...          0            1\n",
       "10  לעיתים קרובות ניתן להבחין במזג שלו על פי תגובו...          0            1\n",
       "11  בשבועות הראשונים הלבישו את התינוק שלכם בשתי גו...          1            0\n",
       "12  מותר לך להכניס מלווה מטעמך, שיהיה נוכח בעת הבד...          0            1\n",
       "13  תנאי שלישי - הפסקת עבודהאתה עשוי להיות זכאי לד...          0            1\n",
       "14  אסור ללחוץ על השד, ובמקרה של אודם יש לפנות לרופא.          0            1\n",
       "15  במקרה כזה יוזמנו ההורים והילד לאבחון רב־תחומי ...          0            1\n",
       "16  רכב המשמש להוראת נהיגה, כמשמעותו בתקנות התעבור...          0            1\n",
       "17  מהניסיון ידוע שפעמים רבות הדברים פשוט מסתדרים ...          0            1\n",
       "18  הטמפרטורה המומלצת בחדר התינוק היא 24-22 מעלות ...          0            1\n",
       "19  מטרת הטיפול באינסולין היא להפחית את רמת הגלוקו...          0            1\n",
       "20                 הם חולפים בתוך כמה ימים ללא טיפול.          0            1\n",
       "21                                         זה נורמלי?          1            0\n",
       "22                                 אין צורך לטפל בכך.          0            1\n",
       "23  במקרה כזה, עליך להודיע על כך לוועדה, ותוזמן לו...          0            1\n",
       "24  חשוב לשמור על עותק זה, הוא יכול לשמש אותך לצור...          0            1"
      ]
     },
     "execution_count": 10,
     "metadata": {},
     "output_type": "execute_result"
    }
   ],
   "source": [
    "df.head(25)"
   ]
  },
  {
   "cell_type": "code",
   "execution_count": 11,
   "metadata": {},
   "outputs": [],
   "source": [
    "# delete: 25 55 97 267 448 +++\n",
    "# change: 46 327 +++\n",
    "# fix: 59 95 101 120 135 159 165 168 188 190 204 212 221 234 250 260 270 295 297 298 303 311 315 331 344 347 352 +++\n",
    "# 358 360 368 373 387 397 407 431 442 445 452 453 454 461 462 464 465 489 490 492 502 504 +++\n"
   ]
  },
  {
   "cell_type": "code",
   "execution_count": 12,
   "metadata": {},
   "outputs": [
    {
     "data": {
      "text/plain": [
       "'חשוב לשמור על עותק זה, הוא יכול לשמש אותך לצורך בקשת פטור ממס הכנסה או לצרכים אחרים.תנאי הזכאות להכרה כנפגע פעולות איבהכדי להיות מוכר כנפגע פעולות איבה עליך לענות על שני התנאים האלה:תנאי ראשון - נפגעת באירוע איבהפגיעת איבה היא אחת מאלה:פגיעה מפעולת איבה של כוחות אויבפגיעה בשגגה מידי אדם עקב פעולת איבה של כוחות אויב או פגיעה בשגגה בנסיבות שהיה בהן מקום לחשש סביר שתבוצע פעולת איבה.'"
      ]
     },
     "execution_count": 12,
     "metadata": {},
     "output_type": "execute_result"
    }
   ],
   "source": [
    "df['sentence'][24]"
   ]
  },
  {
   "cell_type": "code",
   "execution_count": 13,
   "metadata": {},
   "outputs": [
    {
     "name": "stderr",
     "output_type": "stream",
     "text": [
      "<ipython-input-13-482528928052>:1: SettingWithCopyWarning: \n",
      "A value is trying to be set on a copy of a slice from a DataFrame\n",
      "\n",
      "See the caveats in the documentation: https://pandas.pydata.org/pandas-docs/stable/user_guide/indexing.html#returning-a-view-versus-a-copy\n",
      "  df['sentence'][24] = 'חשוב לשמור על עותק זה, הוא יכול לשמש אותך לצורך בקשת פטור ממס הכנסה או לצרכים אחרים.'\n"
     ]
    }
   ],
   "source": [
    "df['sentence'][24] = 'חשוב לשמור על עותק זה, הוא יכול לשמש אותך לצורך בקשת פטור ממס הכנסה או לצרכים אחרים.'"
   ]
  },
  {
   "cell_type": "code",
   "execution_count": 14,
   "metadata": {},
   "outputs": [],
   "source": [
    "df = df.append({'sentence': 'תנאי הזכאות להכרה כנפגע פעולות איבה כדי להיות מוכר כנפגע פעולות איבה עליך לענות על שני התנאים האלה:תנאי ראשון - נפגעת באירוע איבהפגיעת איבה היא אחת.', 'no_change': 0, 'summarizing': 1}, ignore_index=True)"
   ]
  },
  {
   "cell_type": "code",
   "execution_count": 15,
   "metadata": {},
   "outputs": [],
   "source": [
    "df = df.append({'sentence': 'מאלה:פגיעה מפעולת איבה של כוחות אויב ,פגיעה בשגגה מידי אדם עקב פעולת איבה של כוחות אויב או פגיעה בשגגה בנסיבות שהיה בהן מקום לחשש סביר שתבוצע פעולת איבה.', 'no_change': 0, 'summarizing': 1}, ignore_index=True)"
   ]
  },
  {
   "cell_type": "code",
   "execution_count": 16,
   "metadata": {},
   "outputs": [
    {
     "data": {
      "text/plain": [
       "'בעקבות משבר הקורונה, ניתן לקבל דמי אבטלה אם יש לך לפחות 6 חודשי אכשרה ב-18 החודשים האחרונים - למידע נוסף לחץ כאןבתקופת האכשרה יכללו רק חודשי עבודה מגיל 18 עד גיל 6'"
      ]
     },
     "execution_count": 16,
     "metadata": {},
     "output_type": "execute_result"
    }
   ],
   "source": [
    "df['sentence'][25]"
   ]
  },
  {
   "cell_type": "code",
   "execution_count": 17,
   "metadata": {},
   "outputs": [
    {
     "name": "stderr",
     "output_type": "stream",
     "text": [
      "<ipython-input-17-6c5395cc4254>:1: SettingWithCopyWarning: \n",
      "A value is trying to be set on a copy of a slice from a DataFrame\n",
      "\n",
      "See the caveats in the documentation: https://pandas.pydata.org/pandas-docs/stable/user_guide/indexing.html#returning-a-view-versus-a-copy\n",
      "  df['sentence'][25] = 'בעקבות משבר הקורונה, ניתן לקבל דמי אבטלה אם יש לך לפחות 6 חודשי אכשרה ב-18 החודשים האחרונים - למידע נוסף לחץ כאן.'\n"
     ]
    }
   ],
   "source": [
    "df['sentence'][25] = 'בעקבות משבר הקורונה, ניתן לקבל דמי אבטלה אם יש לך לפחות 6 חודשי אכשרה ב-18 החודשים האחרונים - למידע נוסף לחץ כאן.'"
   ]
  },
  {
   "cell_type": "code",
   "execution_count": 18,
   "metadata": {},
   "outputs": [],
   "source": [
    "df = df.append({'sentence': 'בתקופת האכשרה יכללו רק חודשי עבודה מגיל 18 עד גיל 6.', 'no_change': 0, 'summarizing': 1}, ignore_index=True)"
   ]
  },
  {
   "cell_type": "code",
   "execution_count": null,
   "metadata": {},
   "outputs": [],
   "source": []
  },
  {
   "cell_type": "code",
   "execution_count": 19,
   "metadata": {},
   "outputs": [
    {
     "data": {
      "text/plain": [
       "'צהבת פיזיולוגית היא לא מחלה, אלא תופעה, ולכן אינה מידבקת.'"
      ]
     },
     "execution_count": 19,
     "metadata": {},
     "output_type": "execute_result"
    }
   ],
   "source": [
    "df['sentence'][45]"
   ]
  },
  {
   "cell_type": "code",
   "execution_count": 20,
   "metadata": {},
   "outputs": [
    {
     "name": "stderr",
     "output_type": "stream",
     "text": [
      "<ipython-input-20-bdcc713781e1>:1: SettingWithCopyWarning: \n",
      "A value is trying to be set on a copy of a slice from a DataFrame\n",
      "\n",
      "See the caveats in the documentation: https://pandas.pydata.org/pandas-docs/stable/user_guide/indexing.html#returning-a-view-versus-a-copy\n",
      "  df['sentence'][45] = 'צהבת פיזיולוגית היא לא מחלה, ולכן אינה מידבקת.'\n"
     ]
    }
   ],
   "source": [
    "df['sentence'][45] = 'צהבת פיזיולוגית היא לא מחלה, ולכן אינה מידבקת.'"
   ]
  },
  {
   "cell_type": "code",
   "execution_count": null,
   "metadata": {},
   "outputs": [],
   "source": []
  },
  {
   "cell_type": "code",
   "execution_count": 21,
   "metadata": {},
   "outputs": [
    {
     "data": {
      "text/plain": [
       "'בנוסף לכך, עם הגיל, אנו נעשים רגישים יותר וחשופים יותר לסיבוכים של מחלות זיהומיות נפוצות, נגדן קיים חיסון.התינוק שלכם הוא יחיד ומיוחד, ובשעות הראשונות לאחר לידתו תנסו לבדוק למי הוא דומה.'"
      ]
     },
     "execution_count": 21,
     "metadata": {},
     "output_type": "execute_result"
    }
   ],
   "source": [
    "df['sentence'][326]"
   ]
  },
  {
   "cell_type": "code",
   "execution_count": 22,
   "metadata": {},
   "outputs": [
    {
     "name": "stderr",
     "output_type": "stream",
     "text": [
      "<ipython-input-22-e9299a3544d8>:1: SettingWithCopyWarning: \n",
      "A value is trying to be set on a copy of a slice from a DataFrame\n",
      "\n",
      "See the caveats in the documentation: https://pandas.pydata.org/pandas-docs/stable/user_guide/indexing.html#returning-a-view-versus-a-copy\n",
      "  df['sentence'][326] = 'בנוסף לכך, עם הגיל, אנו נעשים רגישים יותר וחשופים יותר לסיבוכים של מחלות זיהומיות נפוצות, נגדן קיים חיסון.'\n"
     ]
    }
   ],
   "source": [
    "df['sentence'][326] = 'בנוסף לכך, עם הגיל, אנו נעשים רגישים יותר וחשופים יותר לסיבוכים של מחלות זיהומיות נפוצות, נגדן קיים חיסון.'\n",
    "\n",
    "# התינוק שלכם הוא יחיד ומיוחד, ובשעות הראשונות לאחר לידתו תנסו לבדוק למי הוא דומה."
   ]
  },
  {
   "cell_type": "code",
   "execution_count": 23,
   "metadata": {},
   "outputs": [
    {
     "data": {
      "text/plain": [
       "'בנוסף לכך, עם הגיל, אנו נעשים רגישים יותר וחשופים יותר לסיבוכים של מחלות זיהומיות נפוצות, נגדן קיים חיסון.'"
      ]
     },
     "execution_count": 23,
     "metadata": {},
     "output_type": "execute_result"
    }
   ],
   "source": [
    "df['sentence'][326]"
   ]
  },
  {
   "cell_type": "code",
   "execution_count": 24,
   "metadata": {},
   "outputs": [],
   "source": [
    "df = df.append({'sentence': 'התינוק שלכם הוא יחיד ומיוחד, ובשעות הראשונות לאחר לידתו תנסו לבדוק למי הוא דומה.', 'no_change': 0, 'summarizing': 1}, ignore_index=True)"
   ]
  },
  {
   "cell_type": "code",
   "execution_count": null,
   "metadata": {},
   "outputs": [],
   "source": []
  },
  {
   "cell_type": "code",
   "execution_count": 25,
   "metadata": {},
   "outputs": [],
   "source": [
    "#df = df.drop(df.index[[54, 96, 266, 447]]) # 55 97 267 448\n",
    "#df"
   ]
  },
  {
   "cell_type": "code",
   "execution_count": 26,
   "metadata": {},
   "outputs": [
    {
     "data": {
      "text/html": [
       "<div>\n",
       "<style scoped>\n",
       "    .dataframe tbody tr th:only-of-type {\n",
       "        vertical-align: middle;\n",
       "    }\n",
       "\n",
       "    .dataframe tbody tr th {\n",
       "        vertical-align: top;\n",
       "    }\n",
       "\n",
       "    .dataframe thead th {\n",
       "        text-align: right;\n",
       "    }\n",
       "</style>\n",
       "<table border=\"1\" class=\"dataframe\">\n",
       "  <thead>\n",
       "    <tr style=\"text-align: right;\">\n",
       "      <th></th>\n",
       "      <th>sentence</th>\n",
       "      <th>no_change</th>\n",
       "      <th>summarizing</th>\n",
       "    </tr>\n",
       "  </thead>\n",
       "  <tbody>\n",
       "    <tr>\n",
       "      <th>0</th>\n",
       "      <td>והנפיחות בעיניים?</td>\n",
       "      <td>1</td>\n",
       "      <td>0</td>\n",
       "    </tr>\n",
       "    <tr>\n",
       "      <th>1</th>\n",
       "      <td>ככלל, כדאי להיות קשובים לגוף וכשאשר מופיעים סי...</td>\n",
       "      <td>0</td>\n",
       "      <td>1</td>\n",
       "    </tr>\n",
       "    <tr>\n",
       "      <th>2</th>\n",
       "      <td>הצגה עצמיתתחילה תתבקש לפרט את המחלות או הליקוי...</td>\n",
       "      <td>0</td>\n",
       "      <td>1</td>\n",
       "    </tr>\n",
       "    <tr>\n",
       "      <th>3</th>\n",
       "      <td>מגמת משרד החינוך הינה לשלב את הילד בעל הצרכים ...</td>\n",
       "      <td>0</td>\n",
       "      <td>1</td>\n",
       "    </tr>\n",
       "    <tr>\n",
       "      <th>4</th>\n",
       "      <td>בייעוץ כזה יובאו בחשבון המסלול, משך הטיול, אופ...</td>\n",
       "      <td>0</td>\n",
       "      <td>1</td>\n",
       "    </tr>\n",
       "    <tr>\n",
       "      <th>...</th>\n",
       "      <td>...</td>\n",
       "      <td>...</td>\n",
       "      <td>...</td>\n",
       "    </tr>\n",
       "    <tr>\n",
       "      <th>510</th>\n",
       "      <td>להנקה יש יתרונות בריאותיים גם לאם לטווח הקצר ו...</td>\n",
       "      <td>0</td>\n",
       "      <td>1</td>\n",
       "    </tr>\n",
       "    <tr>\n",
       "      <th>511</th>\n",
       "      <td>תנאי הזכאות להכרה כנפגע פעולות איבה כדי להיות ...</td>\n",
       "      <td>0</td>\n",
       "      <td>1</td>\n",
       "    </tr>\n",
       "    <tr>\n",
       "      <th>512</th>\n",
       "      <td>מאלה:פגיעה מפעולת איבה של כוחות אויב ,פגיעה בש...</td>\n",
       "      <td>0</td>\n",
       "      <td>1</td>\n",
       "    </tr>\n",
       "    <tr>\n",
       "      <th>513</th>\n",
       "      <td>בתקופת האכשרה יכללו רק חודשי עבודה מגיל 18 עד ...</td>\n",
       "      <td>0</td>\n",
       "      <td>1</td>\n",
       "    </tr>\n",
       "    <tr>\n",
       "      <th>514</th>\n",
       "      <td>התינוק שלכם הוא יחיד ומיוחד, ובשעות הראשונות ל...</td>\n",
       "      <td>0</td>\n",
       "      <td>1</td>\n",
       "    </tr>\n",
       "  </tbody>\n",
       "</table>\n",
       "<p>515 rows × 3 columns</p>\n",
       "</div>"
      ],
      "text/plain": [
       "                                              sentence  no_change  summarizing\n",
       "0                                    והנפיחות בעיניים?          1            0\n",
       "1    ככלל, כדאי להיות קשובים לגוף וכשאשר מופיעים סי...          0            1\n",
       "2    הצגה עצמיתתחילה תתבקש לפרט את המחלות או הליקוי...          0            1\n",
       "3    מגמת משרד החינוך הינה לשלב את הילד בעל הצרכים ...          0            1\n",
       "4    בייעוץ כזה יובאו בחשבון המסלול, משך הטיול, אופ...          0            1\n",
       "..                                                 ...        ...          ...\n",
       "510  להנקה יש יתרונות בריאותיים גם לאם לטווח הקצר ו...          0            1\n",
       "511  תנאי הזכאות להכרה כנפגע פעולות איבה כדי להיות ...          0            1\n",
       "512  מאלה:פגיעה מפעולת איבה של כוחות אויב ,פגיעה בש...          0            1\n",
       "513  בתקופת האכשרה יכללו רק חודשי עבודה מגיל 18 עד ...          0            1\n",
       "514  התינוק שלכם הוא יחיד ומיוחד, ובשעות הראשונות ל...          0            1\n",
       "\n",
       "[515 rows x 3 columns]"
      ]
     },
     "execution_count": 26,
     "metadata": {},
     "output_type": "execute_result"
    }
   ],
   "source": [
    "df"
   ]
  },
  {
   "cell_type": "code",
   "execution_count": 27,
   "metadata": {},
   "outputs": [],
   "source": [
    "# fix: 59 95 101 120 135 159 165 168 188 190 204 212 221 234 250 260 270 295 297 298 303 311 315 331 344 347 352 \n",
    "# 358 360 368 373 387 397 407 431 442 445 452 453 454 461 462 464 465 489 490 492 502 504 "
   ]
  },
  {
   "cell_type": "code",
   "execution_count": 28,
   "metadata": {},
   "outputs": [
    {
     "data": {
      "text/plain": [
       "'הערה: בתי החולים, מרפאות, משרדים ממשלתיים, חניונים, גני חיות ואירועים, רשאים לקבוע אזורי עישוןבטווח של 10 מטרים מהכניסה או מהיציאה בתנאי שלא יהוו מטרד בחלקים אחרים של המקום, למעט בתימגורים/בניין מגורים.'"
      ]
     },
     "execution_count": 28,
     "metadata": {},
     "output_type": "execute_result"
    }
   ],
   "source": [
    "df['sentence'][58]"
   ]
  },
  {
   "cell_type": "code",
   "execution_count": 29,
   "metadata": {},
   "outputs": [
    {
     "name": "stderr",
     "output_type": "stream",
     "text": [
      "<ipython-input-29-9c04bc9c8209>:1: SettingWithCopyWarning: \n",
      "A value is trying to be set on a copy of a slice from a DataFrame\n",
      "\n",
      "See the caveats in the documentation: https://pandas.pydata.org/pandas-docs/stable/user_guide/indexing.html#returning-a-view-versus-a-copy\n",
      "  df['sentence'][58] = 'הערה: בתי החולים, מרפאות, משרדים ממשלתיים, חניונים, גני חיות ואירועים, רשאים לקבוע אזורי עישון בטווח של 10 מטרים מהכניסה או מהיציאה בתנאי שלא יהוו מטרד בחלקים אחרים של המקום, למעט בתימגורים/בניין מגורים.'\n"
     ]
    }
   ],
   "source": [
    "df['sentence'][58] = 'הערה: בתי החולים, מרפאות, משרדים ממשלתיים, חניונים, גני חיות ואירועים, רשאים לקבוע אזורי עישון בטווח של 10 מטרים מהכניסה או מהיציאה בתנאי שלא יהוו מטרד בחלקים אחרים של המקום, למעט בתימגורים/בניין מגורים.'"
   ]
  },
  {
   "cell_type": "code",
   "execution_count": 30,
   "metadata": {},
   "outputs": [
    {
     "data": {
      "text/plain": [
       "'הפנייה לבדיקות נוספותאם לדעת הוועדה עליך לעבור בדיקות רפואיות נוספות, או להביא מסמכים רפואיים נוספים, היא לא תקבע לך עדיין אחוז נכות רפואית, אלא תמתין לחומר הנוסף.'"
      ]
     },
     "execution_count": 30,
     "metadata": {},
     "output_type": "execute_result"
    }
   ],
   "source": [
    "df['sentence'][79]"
   ]
  },
  {
   "cell_type": "code",
   "execution_count": 31,
   "metadata": {},
   "outputs": [
    {
     "name": "stderr",
     "output_type": "stream",
     "text": [
      "<ipython-input-31-4862e3855cea>:1: SettingWithCopyWarning: \n",
      "A value is trying to be set on a copy of a slice from a DataFrame\n",
      "\n",
      "See the caveats in the documentation: https://pandas.pydata.org/pandas-docs/stable/user_guide/indexing.html#returning-a-view-versus-a-copy\n",
      "  df['sentence'][79] = 'הפנייה לבדיקות נוספות אם לדעת הוועדה עליך לעבור בדיקות רפואיות נוספות, או להביא מסמכים רפואיים נוספים, היא לא תקבע לך עדיין אחוז נכות רפואית, אלא תמתין לחומר הנוסף.'\n"
     ]
    }
   ],
   "source": [
    "df['sentence'][79] = 'הפנייה לבדיקות נוספות אם לדעת הוועדה עליך לעבור בדיקות רפואיות נוספות, או להביא מסמכים רפואיים נוספים, היא לא תקבע לך עדיין אחוז נכות רפואית, אלא תמתין לחומר הנוסף.'"
   ]
  },
  {
   "cell_type": "code",
   "execution_count": null,
   "metadata": {},
   "outputs": [],
   "source": []
  },
  {
   "cell_type": "code",
   "execution_count": null,
   "metadata": {},
   "outputs": [],
   "source": []
  },
  {
   "cell_type": "code",
   "execution_count": 32,
   "metadata": {},
   "outputs": [
    {
     "data": {
      "text/plain": [
       "'ועדת שילובועדת השילוב המוסדית מתקיימת בחינוך הרגיל בבית הספר ודנה בזכאותו של תלמיד בעל צרכים מיוחדים להיכלל בתכנית השילוב (פרק ד1 לחוק החינוך המיוחד).'"
      ]
     },
     "execution_count": 32,
     "metadata": {},
     "output_type": "execute_result"
    }
   ],
   "source": [
    "df['sentence'][94]"
   ]
  },
  {
   "cell_type": "code",
   "execution_count": 33,
   "metadata": {},
   "outputs": [
    {
     "name": "stderr",
     "output_type": "stream",
     "text": [
      "<ipython-input-33-043cd2f3d33e>:1: SettingWithCopyWarning: \n",
      "A value is trying to be set on a copy of a slice from a DataFrame\n",
      "\n",
      "See the caveats in the documentation: https://pandas.pydata.org/pandas-docs/stable/user_guide/indexing.html#returning-a-view-versus-a-copy\n",
      "  df['sentence'][94] = ' ועדת השילוב המוסדית מתקיימת בחינוך הרגיל בבית הספר ודנה בזכאותו של תלמיד בעל צרכים מיוחדים להיכלל בתכנית השילוב (פרק ד1 לחוק החינוך המיוחד).'\n"
     ]
    }
   ],
   "source": [
    "df['sentence'][94] = ' ועדת השילוב המוסדית מתקיימת בחינוך הרגיל בבית הספר ודנה בזכאותו של תלמיד בעל צרכים מיוחדים להיכלל בתכנית השילוב (פרק ד1 לחוק החינוך המיוחד).'"
   ]
  },
  {
   "cell_type": "code",
   "execution_count": 34,
   "metadata": {},
   "outputs": [
    {
     "data": {
      "text/plain": [
       "'ועדת השמההשמת תלמידים במסגרות החינוך המיוחד נקבעת, בהתאם לחוק, על ידי ועדת השמה, על בסיס חוות דעת חינוכית והערכות מקצועיות.'"
      ]
     },
     "execution_count": 34,
     "metadata": {},
     "output_type": "execute_result"
    }
   ],
   "source": [
    "df['sentence'][100]"
   ]
  },
  {
   "cell_type": "code",
   "execution_count": 35,
   "metadata": {},
   "outputs": [
    {
     "name": "stderr",
     "output_type": "stream",
     "text": [
      "<ipython-input-35-1d618c586aaa>:1: SettingWithCopyWarning: \n",
      "A value is trying to be set on a copy of a slice from a DataFrame\n",
      "\n",
      "See the caveats in the documentation: https://pandas.pydata.org/pandas-docs/stable/user_guide/indexing.html#returning-a-view-versus-a-copy\n",
      "  df['sentence'][100] = 'ועדת השמה השמת תלמידים במסגרות החינוך המיוחד נקבעת, בהתאם לחוק, על ידי ועדת השמה, על בסיס חוות דעת חינוכית והערכות מקצועיות.'\n"
     ]
    }
   ],
   "source": [
    "df['sentence'][100] = 'ועדת השמה השמת תלמידים במסגרות החינוך המיוחד נקבעת, בהתאם לחוק, על ידי ועדת השמה, על בסיס חוות דעת חינוכית והערכות מקצועיות.'"
   ]
  },
  {
   "cell_type": "code",
   "execution_count": 36,
   "metadata": {},
   "outputs": [
    {
     "data": {
      "text/plain": [
       "'כל שינוי בחום הגוף: עליית חום מעל 38 מעלות או חום הנמוך מ־36 מעלות.דמי אבטלה בעקבות משבר הקורונה - מידע לעובדים שכירים, מעסיקים ועצמאייםרישום והתייצבות בשירות התעסוקהתנאי הזכאותכמה זמן אפשר לקבל דמי אבטלה?'"
      ]
     },
     "execution_count": 36,
     "metadata": {},
     "output_type": "execute_result"
    }
   ],
   "source": [
    "df['sentence'][119]"
   ]
  },
  {
   "cell_type": "code",
   "execution_count": 37,
   "metadata": {},
   "outputs": [
    {
     "name": "stderr",
     "output_type": "stream",
     "text": [
      "<ipython-input-37-2fb539251720>:1: SettingWithCopyWarning: \n",
      "A value is trying to be set on a copy of a slice from a DataFrame\n",
      "\n",
      "See the caveats in the documentation: https://pandas.pydata.org/pandas-docs/stable/user_guide/indexing.html#returning-a-view-versus-a-copy\n",
      "  df['sentence'][119] = 'כל שינוי בחום הגוף: עליית חום מעל 38 מעלות או חום הנמוך מ־36 מעלות.'\n"
     ]
    }
   ],
   "source": [
    "df['sentence'][119] = 'כל שינוי בחום הגוף: עליית חום מעל 38 מעלות או חום הנמוך מ־36 מעלות.'"
   ]
  },
  {
   "cell_type": "code",
   "execution_count": 38,
   "metadata": {},
   "outputs": [],
   "source": [
    "df = df.append({'sentence': 'דמי אבטלה בעקבות משבר הקורונה - מידע לעובדים שכירים, מעסיקים ועצמאיים רישום והתייצבות בשירות התעסוקה תנאי הזכאות כמה זמן אפשר לקבל דמי אבטלה?', 'no_change': 0, 'summarizing': 1}, ignore_index=True)"
   ]
  },
  {
   "cell_type": "code",
   "execution_count": 39,
   "metadata": {},
   "outputs": [
    {
     "data": {
      "text/plain": [
       "'ניתן לבטל את השירות בכל עת ולקבל את החיוב התקופתי באמצעות הדואר.מניעת העישון במקומות ציבוריים והחשיפה לעישוןב 7- לנובמבר 2007 , כ\"ו בחשוון התשס\"ח, נכנס לתוקף התיקון לחוק מניעת העישון במקומות ציבוריים והחשיפה לעישון.'"
      ]
     },
     "execution_count": 39,
     "metadata": {},
     "output_type": "execute_result"
    }
   ],
   "source": [
    "df['sentence'][121]"
   ]
  },
  {
   "cell_type": "code",
   "execution_count": 40,
   "metadata": {},
   "outputs": [
    {
     "name": "stderr",
     "output_type": "stream",
     "text": [
      "<ipython-input-40-f1c2b97fb9ea>:1: SettingWithCopyWarning: \n",
      "A value is trying to be set on a copy of a slice from a DataFrame\n",
      "\n",
      "See the caveats in the documentation: https://pandas.pydata.org/pandas-docs/stable/user_guide/indexing.html#returning-a-view-versus-a-copy\n",
      "  df['sentence'][121] = 'ניתן לבטל את השירות בכל עת ולקבל את החיוב התקופתי באמצעות הדואר.'\n"
     ]
    }
   ],
   "source": [
    "df['sentence'][121] = 'ניתן לבטל את השירות בכל עת ולקבל את החיוב התקופתי באמצעות הדואר.'"
   ]
  },
  {
   "cell_type": "code",
   "execution_count": 41,
   "metadata": {},
   "outputs": [],
   "source": [
    "df = df.append({'sentence': 'מניעת העישון במקומות ציבוריים והחשיפה לעישון ב 7- לנובמבר 2007 , כ\"ו בחשוון התשס\"ח, נכנס לתוקף התיקון לחוק מניעת העישון במקומות ציבוריים והחשיפה לעישון.', 'no_change': 0, 'summarizing': 1}, ignore_index=True)"
   ]
  },
  {
   "cell_type": "code",
   "execution_count": null,
   "metadata": {},
   "outputs": [],
   "source": []
  },
  {
   "cell_type": "code",
   "execution_count": null,
   "metadata": {},
   "outputs": [],
   "source": []
  },
  {
   "cell_type": "code",
   "execution_count": 42,
   "metadata": {},
   "outputs": [
    {
     "data": {
      "text/plain": [
       "'נוסעים עם סוכרתתרופות וציוד: מטיילים חולי סוכרת צריכים להעריך את כמות האינסולין, המזרקים/העטים, הפדים, האלכוהול ואמצעי הניטור שבה הם משתמשים – ולקחת עימם לטיול כמות מספקת, במידה שלא יודעים אם ניתן לרכוש תרופות וציוד ממקורות מהימנים (למשל, אם מתכננים טרקים, טיולי שטח, טיפוס הרים או אפילו טיול רכב באזורים כפריים המרוחקים ממרכזי הערים הגדולות).'"
      ]
     },
     "execution_count": 42,
     "metadata": {},
     "output_type": "execute_result"
    }
   ],
   "source": [
    "df['sentence'][134]"
   ]
  },
  {
   "cell_type": "code",
   "execution_count": 43,
   "metadata": {},
   "outputs": [
    {
     "name": "stderr",
     "output_type": "stream",
     "text": [
      "<ipython-input-43-75a5dc556f2a>:1: SettingWithCopyWarning: \n",
      "A value is trying to be set on a copy of a slice from a DataFrame\n",
      "\n",
      "See the caveats in the documentation: https://pandas.pydata.org/pandas-docs/stable/user_guide/indexing.html#returning-a-view-versus-a-copy\n",
      "  df['sentence'][134] = 'נוסעים עם סוכרת תרופות וציוד: מטיילים חולי סוכרת צריכים להעריך את כמות האינסולין, המזרקים/העטים, הפדים, האלכוהול ואמצעי הניטור שבה הם משתמשים – ולקחת עימם לטיול כמות מספקת, במידה שלא יודעים אם ניתן לרכוש תרופות וציוד ממקורות מהימנים (למשל, אם מתכננים טרקים, טיולי שטח, טיפוס הרים או אפילו טיול רכב באזורים כפריים המרוחקים ממרכזי הערים הגדולות).'\n"
     ]
    }
   ],
   "source": [
    "df['sentence'][134] = 'נוסעים עם סוכרת תרופות וציוד: מטיילים חולי סוכרת צריכים להעריך את כמות האינסולין, המזרקים/העטים, הפדים, האלכוהול ואמצעי הניטור שבה הם משתמשים – ולקחת עימם לטיול כמות מספקת, במידה שלא יודעים אם ניתן לרכוש תרופות וציוד ממקורות מהימנים (למשל, אם מתכננים טרקים, טיולי שטח, טיפוס הרים או אפילו טיול רכב באזורים כפריים המרוחקים ממרכזי הערים הגדולות).'"
   ]
  },
  {
   "cell_type": "code",
   "execution_count": 44,
   "metadata": {},
   "outputs": [
    {
     "data": {
      "text/plain": [
       "'חשוב לדעת: רק ביטוח נסיעות נסיעות בכללית חו\"ל מאפשר כיסוי לבעיות בריאות ולמחלות קיימות וכרוניות, אם נהנית מתקופת בריאות יציבה בחצי השנה שלפני הטיול בחו\"ל.'"
      ]
     },
     "execution_count": 44,
     "metadata": {},
     "output_type": "execute_result"
    }
   ],
   "source": [
    "df['sentence'][147]"
   ]
  },
  {
   "cell_type": "code",
   "execution_count": 45,
   "metadata": {},
   "outputs": [
    {
     "name": "stderr",
     "output_type": "stream",
     "text": [
      "<ipython-input-45-52eb662f479f>:1: SettingWithCopyWarning: \n",
      "A value is trying to be set on a copy of a slice from a DataFrame\n",
      "\n",
      "See the caveats in the documentation: https://pandas.pydata.org/pandas-docs/stable/user_guide/indexing.html#returning-a-view-versus-a-copy\n",
      "  df['sentence'][147] = 'חשוב לדעת: רק ביטוח נסיעות בכללית חו\"ל מאפשר כיסוי לבעיות בריאות ולמחלות קיימות וכרוניות, אם נהנית מתקופת בריאות יציבה בחצי השנה שלפני הטיול בחו\"ל.'\n"
     ]
    }
   ],
   "source": [
    "df['sentence'][147] = 'חשוב לדעת: רק ביטוח נסיעות בכללית חו\"ל מאפשר כיסוי לבעיות בריאות ולמחלות קיימות וכרוניות, אם נהנית מתקופת בריאות יציבה בחצי השנה שלפני הטיול בחו\"ל.'"
   ]
  },
  {
   "cell_type": "code",
   "execution_count": null,
   "metadata": {},
   "outputs": [],
   "source": []
  },
  {
   "cell_type": "code",
   "execution_count": 46,
   "metadata": {},
   "outputs": [
    {
     "data": {
      "text/plain": [
       "'אולם קריאה וחדר קריאה בספריה הפתוחה לציבור, חוץ מן המקומות שהוקצו בידי הנהלת המקום שבהםיהיה העישון מותר, אם הוקצו, ובלבד שיש בהם סידורי אוורור תקינים והעישון בהם אינו גורם למטרד בחלקים אחרים של המקום.'"
      ]
     },
     "execution_count": 46,
     "metadata": {},
     "output_type": "execute_result"
    }
   ],
   "source": [
    "df['sentence'][158]"
   ]
  },
  {
   "cell_type": "code",
   "execution_count": 47,
   "metadata": {},
   "outputs": [
    {
     "name": "stderr",
     "output_type": "stream",
     "text": [
      "<ipython-input-47-302a58d96dcf>:1: SettingWithCopyWarning: \n",
      "A value is trying to be set on a copy of a slice from a DataFrame\n",
      "\n",
      "See the caveats in the documentation: https://pandas.pydata.org/pandas-docs/stable/user_guide/indexing.html#returning-a-view-versus-a-copy\n",
      "  df['sentence'][158] = 'אולם קריאה וחדר קריאה בספריה הפתוחה לציבור, חוץ מן המקומות שהוקצו בידי הנהלת המקום שבהם יהיה העישון מותר, אם הוקצו, ובלבד שיש בהם סידורי אוורור תקינים והעישון בהם אינו גורם למטרד בחלקים אחרים של המקום.'\n"
     ]
    }
   ],
   "source": [
    "df['sentence'][158] = 'אולם קריאה וחדר קריאה בספריה הפתוחה לציבור, חוץ מן המקומות שהוקצו בידי הנהלת המקום שבהם יהיה העישון מותר, אם הוקצו, ובלבד שיש בהם סידורי אוורור תקינים והעישון בהם אינו גורם למטרד בחלקים אחרים של המקום.'"
   ]
  },
  {
   "cell_type": "code",
   "execution_count": 48,
   "metadata": {},
   "outputs": [
    {
     "data": {
      "text/plain": [
       "'בית המשפט הגדיר את אחריות בעל העסק במובן רחב יותר, ומצפה מבעל העסק בנוסף למפורט לעיל, גםלסרב לתת שירות לאדם המעשן בניגוד לחוק ואף לדרוש ממנו לעזוב את המקום, אם לא יחדל מביצוע העבירה.'"
      ]
     },
     "execution_count": 48,
     "metadata": {},
     "output_type": "execute_result"
    }
   ],
   "source": [
    "df['sentence'][164]"
   ]
  },
  {
   "cell_type": "code",
   "execution_count": 49,
   "metadata": {},
   "outputs": [
    {
     "name": "stderr",
     "output_type": "stream",
     "text": [
      "<ipython-input-49-2230c61430bd>:1: SettingWithCopyWarning: \n",
      "A value is trying to be set on a copy of a slice from a DataFrame\n",
      "\n",
      "See the caveats in the documentation: https://pandas.pydata.org/pandas-docs/stable/user_guide/indexing.html#returning-a-view-versus-a-copy\n",
      "  df['sentence'][164] = 'בית המשפט הגדיר את אחריות בעל העסק במובן רחב יותר, ומצפה מבעל העסק בנוסף למפורט לעיל, גם לסרב לתת שירות לאדם המעשן בניגוד לחוק ואף לדרוש ממנו לעזוב את המקום, אם לא יחדל מביצוע העבירה.'\n"
     ]
    }
   ],
   "source": [
    "df['sentence'][164] = 'בית המשפט הגדיר את אחריות בעל העסק במובן רחב יותר, ומצפה מבעל העסק בנוסף למפורט לעיל, גם לסרב לתת שירות לאדם המעשן בניגוד לחוק ואף לדרוש ממנו לעזוב את המקום, אם לא יחדל מביצוע העבירה.'"
   ]
  },
  {
   "cell_type": "code",
   "execution_count": 50,
   "metadata": {},
   "outputs": [
    {
     "data": {
      "text/plain": [
       "'אם המעשן מסרב להפסיק לעשן ו/או לעזוב את המקום, פנה למוקד הפיקוח העירוני והזמן פקחרשום תיעוד של האירוע, כולל תאריך, מקום ושעה, פרט את הצעדים שננקטו על מנת לטפל בוואת תוצאות האירוע.קליטת תלמיד חדש בחינוך המיוחדועדת השילוב המוסדיות, ועדת השמה ביושבה כערר על ועדת שילוב, ועדת השמה וועדת ערר.'"
      ]
     },
     "execution_count": 50,
     "metadata": {},
     "output_type": "execute_result"
    }
   ],
   "source": [
    "df['sentence'][167]"
   ]
  },
  {
   "cell_type": "code",
   "execution_count": 51,
   "metadata": {},
   "outputs": [
    {
     "name": "stderr",
     "output_type": "stream",
     "text": [
      "<ipython-input-51-e037c7d6b7e2>:1: SettingWithCopyWarning: \n",
      "A value is trying to be set on a copy of a slice from a DataFrame\n",
      "\n",
      "See the caveats in the documentation: https://pandas.pydata.org/pandas-docs/stable/user_guide/indexing.html#returning-a-view-versus-a-copy\n",
      "  df['sentence'][167] = 'אם המעשן מסרב להפסיק לעשן ו/או לעזוב את המקום, פנה למוקד הפיקוח העירוני והזמן פקח רשום תיעוד של האירוע, כולל תאריך, מקום ושעה, פרט את הצעדים שננקטו על מנת לטפל בוואת תוצאות האירוע.'\n"
     ]
    }
   ],
   "source": [
    "df['sentence'][167] = 'אם המעשן מסרב להפסיק לעשן ו/או לעזוב את המקום, פנה למוקד הפיקוח העירוני והזמן פקח רשום תיעוד של האירוע, כולל תאריך, מקום ושעה, פרט את הצעדים שננקטו על מנת לטפל בוואת תוצאות האירוע.'"
   ]
  },
  {
   "cell_type": "code",
   "execution_count": 52,
   "metadata": {},
   "outputs": [],
   "source": [
    "df = df.append({'sentence': 'קליטת תלמיד חדש בחינוך המיוחד ועדת השילוב המוסדיות, ועדת השמה ביושבה כערר על ועדת שילוב, ועדת השמה וועדת ערר.', 'no_change': 0, 'summarizing': 1}, ignore_index=True)"
   ]
  },
  {
   "cell_type": "code",
   "execution_count": null,
   "metadata": {},
   "outputs": [],
   "source": []
  },
  {
   "cell_type": "code",
   "execution_count": null,
   "metadata": {},
   "outputs": [],
   "source": []
  },
  {
   "cell_type": "code",
   "execution_count": 53,
   "metadata": {},
   "outputs": [
    {
     "data": {
      "text/plain": [
       "'חנות; מסעדה, מזנון, בית קפה, לרבות כל בית אוכל, בית משקה, מועדון, דיסקוטק או מקום אחר שביןעיסוקיו הגשת מזון או משקאות (כולם להלן - בית אוכל), למעט חדר נפרד לחלוטין, אם קיים,שהוקצה לעישון בידי הנהלת בית האוכל, ובלבד שיש בו סידורי אוורור תקינים ובלבד שעומד בתנאיםהקבועים בחוק.'"
      ]
     },
     "execution_count": 53,
     "metadata": {},
     "output_type": "execute_result"
    }
   ],
   "source": [
    "df['sentence'][187]"
   ]
  },
  {
   "cell_type": "code",
   "execution_count": 54,
   "metadata": {},
   "outputs": [
    {
     "name": "stderr",
     "output_type": "stream",
     "text": [
      "<ipython-input-54-9d06753b0975>:1: SettingWithCopyWarning: \n",
      "A value is trying to be set on a copy of a slice from a DataFrame\n",
      "\n",
      "See the caveats in the documentation: https://pandas.pydata.org/pandas-docs/stable/user_guide/indexing.html#returning-a-view-versus-a-copy\n",
      "  df['sentence'][187] = 'חנות; מסעדה, מזנון, בית קפה, לרבות כל בית אוכל, בית משקה, מועדון, דיסקוטק או מקום אחר שבין עיסוקיו הגשת מזון או משקאות (כולם להלן - בית אוכל), למעט חדר נפרד לחלוטין, אם קיים ,שהוקצה לעישון בידי הנהלת בית האוכל, ובלבד שיש בו סידורי אוורור תקינים ובלבד שעומד בתנאים הקבועים בחוק.'\n"
     ]
    }
   ],
   "source": [
    "df['sentence'][187] = 'חנות; מסעדה, מזנון, בית קפה, לרבות כל בית אוכל, בית משקה, מועדון, דיסקוטק או מקום אחר שבין עיסוקיו הגשת מזון או משקאות (כולם להלן - בית אוכל), למעט חדר נפרד לחלוטין, אם קיים ,שהוקצה לעישון בידי הנהלת בית האוכל, ובלבד שיש בו סידורי אוורור תקינים ובלבד שעומד בתנאים הקבועים בחוק.'"
   ]
  },
  {
   "cell_type": "code",
   "execution_count": 55,
   "metadata": {},
   "outputs": [
    {
     "data": {
      "text/plain": [
       "'תחנת רכבת, לרבות רציף, למעט אזור שהוקצה לעישון בקצה הרציף וחד נפרד לחלוטין שהוקצה לעישוןבידי הנהלת המקום, אם הוקצה, ובלבד שיש בו סידורי אוורור תקינים והעישון בו אינו גורם למטרדבחלקים אחרים של המקום, וכן תחנה של רכבת מקומית.'"
      ]
     },
     "execution_count": 55,
     "metadata": {},
     "output_type": "execute_result"
    }
   ],
   "source": [
    "df['sentence'][189]"
   ]
  },
  {
   "cell_type": "code",
   "execution_count": 56,
   "metadata": {},
   "outputs": [
    {
     "name": "stderr",
     "output_type": "stream",
     "text": [
      "<ipython-input-56-095a851929c5>:1: SettingWithCopyWarning: \n",
      "A value is trying to be set on a copy of a slice from a DataFrame\n",
      "\n",
      "See the caveats in the documentation: https://pandas.pydata.org/pandas-docs/stable/user_guide/indexing.html#returning-a-view-versus-a-copy\n",
      "  df['sentence'][189] = 'תחנת רכבת, לרבות רציף, למעט אזור שהוקצה לעישון בקצה הרציף וחד נפרד לחלוטין שהוקצה לעישון בידי הנהלת המקום, אם הוקצה, ובלבד שיש בו סידורי אוורור תקינים והעישון בו אינו גורם למטרד בחלקים אחרים של המקום, וכן תחנה של רכבת מקומית.'\n"
     ]
    }
   ],
   "source": [
    "df['sentence'][189] = 'תחנת רכבת, לרבות רציף, למעט אזור שהוקצה לעישון בקצה הרציף וחד נפרד לחלוטין שהוקצה לעישון בידי הנהלת המקום, אם הוקצה, ובלבד שיש בו סידורי אוורור תקינים והעישון בו אינו גורם למטרד בחלקים אחרים של המקום, וכן תחנה של רכבת מקומית.'"
   ]
  },
  {
   "cell_type": "code",
   "execution_count": 57,
   "metadata": {},
   "outputs": [
    {
     "data": {
      "text/plain": [
       "'אם לא מטפלים במחלת הסוכרת, היא עלולה לגרום לסיבוכים ארוכי טווח כמו: פגיעות בכלי דם (לדוגמה, טרשת עורקים מואצת שעלולה לגרום בעתיד לבעיות לב) פגיעה בעיניים באזור הרשתית שבשלב הסופי שלה עלולה לגרום לעיוורון .פגיעה חמורה בכליות עד אי־ספיקת כליות פגיעה בתחושה העצבית שעלולה להביא לפגיעות טראומטיות - בעיקר בכפות הרגליים בשל חוסר תחושה.'"
      ]
     },
     "execution_count": 57,
     "metadata": {},
     "output_type": "execute_result"
    }
   ],
   "source": [
    "df['sentence'][196]"
   ]
  },
  {
   "cell_type": "code",
   "execution_count": 58,
   "metadata": {},
   "outputs": [
    {
     "name": "stderr",
     "output_type": "stream",
     "text": [
      "<ipython-input-58-5e32dc8e7e23>:1: SettingWithCopyWarning: \n",
      "A value is trying to be set on a copy of a slice from a DataFrame\n",
      "\n",
      "See the caveats in the documentation: https://pandas.pydata.org/pandas-docs/stable/user_guide/indexing.html#returning-a-view-versus-a-copy\n",
      "  df['sentence'][196] = 'אם לא מטפלים במחלת הסוכרת, היא עלולה לגרום לסיבוכים ארוכי טווח כמו: פגיעות בכלי דם (לדוגמה, טרשת עורקים מואצת שעלולה לגרום בעתיד לבעיות לב) פגיעה בעיניים באזור הרשתית שבשלב הסופי שלה עלולה לגרום לעיוורון .'\n"
     ]
    }
   ],
   "source": [
    "df['sentence'][196] = 'אם לא מטפלים במחלת הסוכרת, היא עלולה לגרום לסיבוכים ארוכי טווח כמו: פגיעות בכלי דם (לדוגמה, טרשת עורקים מואצת שעלולה לגרום בעתיד לבעיות לב) פגיעה בעיניים באזור הרשתית שבשלב הסופי שלה עלולה לגרום לעיוורון .'"
   ]
  },
  {
   "cell_type": "code",
   "execution_count": 59,
   "metadata": {},
   "outputs": [],
   "source": [
    "df = df.append({'sentence': 'פגיעה חמורה בכליות עד אי־ספיקת כליות פגיעה בתחושה העצבית שעלולה להביא לפגיעות טראומטיות - בעיקר בכפות הרגליים בשל חוסר תחושה.', 'no_change': 0, 'summarizing': 1}, ignore_index=True)"
   ]
  },
  {
   "cell_type": "code",
   "execution_count": 60,
   "metadata": {},
   "outputs": [
    {
     "data": {
      "text/plain": [
       "'תנאי חמישי - תקופת אכשרהצברת תקופת אכשרה של לפחות 12 חודשי עבודה כשכיר מתוך 18 החודשים האחרונים לפני שנרשמת לראשונה בשירות התעסוקה.'"
      ]
     },
     "execution_count": 60,
     "metadata": {},
     "output_type": "execute_result"
    }
   ],
   "source": [
    "df['sentence'][203]"
   ]
  },
  {
   "cell_type": "code",
   "execution_count": 61,
   "metadata": {},
   "outputs": [
    {
     "name": "stderr",
     "output_type": "stream",
     "text": [
      "<ipython-input-61-2322a1cb5acd>:1: SettingWithCopyWarning: \n",
      "A value is trying to be set on a copy of a slice from a DataFrame\n",
      "\n",
      "See the caveats in the documentation: https://pandas.pydata.org/pandas-docs/stable/user_guide/indexing.html#returning-a-view-versus-a-copy\n",
      "  df['sentence'][203] = 'תנאי חמישי - תקופת אכשרה צברת תקופת אכשרה של לפחות 12 חודשי עבודה כשכיר מתוך 18 החודשים האחרונים לפני שנרשמת לראשונה בשירות התעסוקה.'\n"
     ]
    }
   ],
   "source": [
    "df['sentence'][203] = 'תנאי חמישי - תקופת אכשרה צברת תקופת אכשרה של לפחות 12 חודשי עבודה כשכיר מתוך 18 החודשים האחרונים לפני שנרשמת לראשונה בשירות התעסוקה.'"
   ]
  },
  {
   "cell_type": "code",
   "execution_count": 62,
   "metadata": {},
   "outputs": [
    {
     "data": {
      "text/plain": [
       "'תנאי רביעי - התייצבות בשירות התעסוקהכדי להיות זכאי לדמי אבטלה עליך להתייצב בשירות התעסוקה.'"
      ]
     },
     "execution_count": 62,
     "metadata": {},
     "output_type": "execute_result"
    }
   ],
   "source": [
    "df['sentence'][211]"
   ]
  },
  {
   "cell_type": "code",
   "execution_count": 63,
   "metadata": {},
   "outputs": [
    {
     "name": "stderr",
     "output_type": "stream",
     "text": [
      "<ipython-input-63-a30244a80ef8>:1: SettingWithCopyWarning: \n",
      "A value is trying to be set on a copy of a slice from a DataFrame\n",
      "\n",
      "See the caveats in the documentation: https://pandas.pydata.org/pandas-docs/stable/user_guide/indexing.html#returning-a-view-versus-a-copy\n",
      "  df['sentence'][211] = 'תנאי רביעי - התייצבות בשירות התעסוקה כדי להיות זכאי לדמי אבטלה עליך להתייצב בשירות התעסוקה.'\n"
     ]
    }
   ],
   "source": [
    "df['sentence'][211] = 'תנאי רביעי - התייצבות בשירות התעסוקה כדי להיות זכאי לדמי אבטלה עליך להתייצב בשירות התעסוקה.'"
   ]
  },
  {
   "cell_type": "code",
   "execution_count": 64,
   "metadata": {},
   "outputs": [
    {
     "data": {
      "text/plain": [
       "'חבר קיבוץ וחבר מושב שיתופי - לא זכאים לדמי אבטלה, אלא אם הם עובדים כשכירים מחוץ למשק או אם הקיבוץ מעסיק אותם כשכירים.איך מתנהלת הוועדה הרפואית?'"
      ]
     },
     "execution_count": 64,
     "metadata": {},
     "output_type": "execute_result"
    }
   ],
   "source": [
    "df['sentence'][213]"
   ]
  },
  {
   "cell_type": "code",
   "execution_count": 65,
   "metadata": {},
   "outputs": [
    {
     "name": "stderr",
     "output_type": "stream",
     "text": [
      "<ipython-input-65-2438a4496f06>:1: SettingWithCopyWarning: \n",
      "A value is trying to be set on a copy of a slice from a DataFrame\n",
      "\n",
      "See the caveats in the documentation: https://pandas.pydata.org/pandas-docs/stable/user_guide/indexing.html#returning-a-view-versus-a-copy\n",
      "  df['sentence'][213] = 'חבר קיבוץ וחבר מושב שיתופי - לא זכאים לדמי אבטלה, אלא אם הם עובדים כשכירים מחוץ למשק או אם הקיבוץ מעסיק אותם כשכירים.'\n"
     ]
    }
   ],
   "source": [
    "df['sentence'][213] = 'חבר קיבוץ וחבר מושב שיתופי - לא זכאים לדמי אבטלה, אלא אם הם עובדים כשכירים מחוץ למשק או אם הקיבוץ מעסיק אותם כשכירים.'"
   ]
  },
  {
   "cell_type": "code",
   "execution_count": null,
   "metadata": {},
   "outputs": [],
   "source": []
  },
  {
   "cell_type": "code",
   "execution_count": 66,
   "metadata": {},
   "outputs": [
    {
     "data": {
      "text/plain": [
       "'נהלי הרישוםהרישום מתבצע לאחר ועדת השמה הקובעת את הזכאות לחינוך מיוחד ולאחר ועדת שיבוץ המשבצת את הילד למסגרת המתאימה לצרכיו.'"
      ]
     },
     "execution_count": 66,
     "metadata": {},
     "output_type": "execute_result"
    }
   ],
   "source": [
    "df['sentence'][220]"
   ]
  },
  {
   "cell_type": "code",
   "execution_count": 67,
   "metadata": {},
   "outputs": [
    {
     "name": "stderr",
     "output_type": "stream",
     "text": [
      "<ipython-input-67-102ca9438222>:1: SettingWithCopyWarning: \n",
      "A value is trying to be set on a copy of a slice from a DataFrame\n",
      "\n",
      "See the caveats in the documentation: https://pandas.pydata.org/pandas-docs/stable/user_guide/indexing.html#returning-a-view-versus-a-copy\n",
      "  df['sentence'][220] = 'נהלי הרישום מתבצע לאחר ועדת השמה הקובעת את הזכאות לחינוך מיוחד ולאחר ועדת שיבוץ המשבצת את הילד למסגרת המתאימה לצרכיו.'\n"
     ]
    }
   ],
   "source": [
    "df['sentence'][220] = 'נהלי הרישום מתבצע לאחר ועדת השמה הקובעת את הזכאות לחינוך מיוחד ולאחר ועדת שיבוץ המשבצת את הילד למסגרת המתאימה לצרכיו.'"
   ]
  },
  {
   "cell_type": "code",
   "execution_count": 68,
   "metadata": {},
   "outputs": [
    {
     "data": {
      "text/plain": [
       "'שלב שלישי: סיכום הדיון וקביעת אחוז הנכות הרפואיתלאחר שתעזוב את חדר הוועדה, הרופא יקריא למזכיר את הממצאים הרפואיים שמצא, ויקבע את החלטתו בהתאם למסמכים הרפואיים שבתיק, הקשיים שציינת והבדיקה שערך.'"
      ]
     },
     "execution_count": 68,
     "metadata": {},
     "output_type": "execute_result"
    }
   ],
   "source": [
    "df['sentence'][233]"
   ]
  },
  {
   "cell_type": "code",
   "execution_count": 69,
   "metadata": {},
   "outputs": [
    {
     "name": "stderr",
     "output_type": "stream",
     "text": [
      "<ipython-input-69-727a6fb82ff4>:1: SettingWithCopyWarning: \n",
      "A value is trying to be set on a copy of a slice from a DataFrame\n",
      "\n",
      "See the caveats in the documentation: https://pandas.pydata.org/pandas-docs/stable/user_guide/indexing.html#returning-a-view-versus-a-copy\n",
      "  df['sentence'][233] = 'שלב שלישי: סיכום הדיון וקביעת אחוז הנכות הרפואית לאחר שתעזוב את חדר הוועדה, הרופא יקריא למזכיר את הממצאים הרפואיים שמצא, ויקבע את החלטתו בהתאם למסמכים הרפואיים שבתיק, הקשיים שציינת והבדיקה שערך.'\n"
     ]
    }
   ],
   "source": [
    "df['sentence'][233] = 'שלב שלישי: סיכום הדיון וקביעת אחוז הנכות הרפואית לאחר שתעזוב את חדר הוועדה, הרופא יקריא למזכיר את הממצאים הרפואיים שמצא, ויקבע את החלטתו בהתאם למסמכים הרפואיים שבתיק, הקשיים שציינת והבדיקה שערך.'"
   ]
  },
  {
   "cell_type": "code",
   "execution_count": 70,
   "metadata": {},
   "outputs": [
    {
     "data": {
      "text/plain": [
       "'הנחיות פעולה לבעל עסק הנתקל בעישוןמחזיק במקום ציבורי חייב לתלות שילוט האוסר על העישון במקום, לדאוג לתקינות השילוט וכן אסור עליו להציב מאפרות במקום בו חל האיסור לעשן.'"
      ]
     },
     "execution_count": 70,
     "metadata": {},
     "output_type": "execute_result"
    }
   ],
   "source": [
    "df['sentence'][249]"
   ]
  },
  {
   "cell_type": "code",
   "execution_count": 71,
   "metadata": {},
   "outputs": [
    {
     "name": "stderr",
     "output_type": "stream",
     "text": [
      "<ipython-input-71-ebd11028d4d0>:1: SettingWithCopyWarning: \n",
      "A value is trying to be set on a copy of a slice from a DataFrame\n",
      "\n",
      "See the caveats in the documentation: https://pandas.pydata.org/pandas-docs/stable/user_guide/indexing.html#returning-a-view-versus-a-copy\n",
      "  df['sentence'][249] = 'הנחיות פעולה לבעל עסק הנתקל בעישון מחזיק במקום ציבורי חייב לתלות שילוט האוסר על העישון במקום, לדאוג לתקינות השילוט וכן אסור עליו להציב מאפרות במקום בו חל האיסור לעשן.'\n"
     ]
    }
   ],
   "source": [
    "df['sentence'][249] = 'הנחיות פעולה לבעל עסק הנתקל בעישון מחזיק במקום ציבורי חייב לתלות שילוט האוסר על העישון במקום, לדאוג לתקינות השילוט וכן אסור עליו להציב מאפרות במקום בו חל האיסור לעשן.'"
   ]
  },
  {
   "cell_type": "code",
   "execution_count": 72,
   "metadata": {},
   "outputs": [
    {
     "data": {
      "text/plain": [
       "'שים לב, אם נפגעת בזמן שעשית מעשה פשע או בזמן שעברת עבירה שיש בה זדון או רשלנות פושעת, לא תוכר כנפגע פעולות איבה.אפשרויות תשלום הארנונהאנו בעיריית באר שבע שואפים להקל על מחזיקי הנכסים בעיר ולכן בנינו מערכת תשלומים ידידותית לתשלומי הארנונה.'"
      ]
     },
     "execution_count": 72,
     "metadata": {},
     "output_type": "execute_result"
    }
   ],
   "source": [
    "df['sentence'][259]\n",
    "# fix: 59 95 101 120 135 159 165 168 188 190 204 212 221 234 250 260 270 295 297 298 303 311 315 331 344 347 352 \n",
    "# 358 360 368 373 387 397 407 431 442 445 452 453 454 461 462 464 465 489 490 492 502 504 "
   ]
  },
  {
   "cell_type": "code",
   "execution_count": 73,
   "metadata": {},
   "outputs": [
    {
     "name": "stderr",
     "output_type": "stream",
     "text": [
      "<ipython-input-73-e1b410614e0a>:1: SettingWithCopyWarning: \n",
      "A value is trying to be set on a copy of a slice from a DataFrame\n",
      "\n",
      "See the caveats in the documentation: https://pandas.pydata.org/pandas-docs/stable/user_guide/indexing.html#returning-a-view-versus-a-copy\n",
      "  df['sentence'][259] = 'שים לב, אם נפגעת בזמן שעשית מעשה פשע או בזמן שעברת עבירה שיש בה זדון או רשלנות פושעת, לא תוכר כנפגע פעולות איבה.'\n"
     ]
    }
   ],
   "source": [
    "df['sentence'][259] = 'שים לב, אם נפגעת בזמן שעשית מעשה פשע או בזמן שעברת עבירה שיש בה זדון או רשלנות פושעת, לא תוכר כנפגע פעולות איבה.'"
   ]
  },
  {
   "cell_type": "code",
   "execution_count": 74,
   "metadata": {},
   "outputs": [],
   "source": [
    "df = df.append({'sentence': 'אפשרויות תשלום הארנונה אנו בעיריית באר שבע שואפים להקל על מחזיקי הנכסים בעיר ולכן בנינו מערכת תשלומים ידידותית לתשלומי הארנונה.', 'no_change': 0, 'summarizing': 1}, ignore_index=True)"
   ]
  },
  {
   "cell_type": "code",
   "execution_count": 75,
   "metadata": {},
   "outputs": [
    {
     "data": {
      "text/plain": [
       "'קריטריונים להסעהתלמידי החינוך המיוחד, החל מכיתות הגן גילאי 3 ועד גיל 21, המשובצים במוסדות החינוך המיוחד זכאים להסעה מאורגנת מיוחדת, ללא קשר להגבלת המרחק: עיכוב התפתחות, הפרעת תקשורת, תלמידים עם מגבלה שכלית קשה/עמוק וסיעודי, משותקי מוחין ובעלי נכויות פיזיות קשות, אוטיסטים/ASD, בעלי הפרעות נפשיות קשות וחולי נפש, תלמידים בעלי מגבלה שכלית בינונית רב- בעייתי, תלמידים בעלי מגבלה שכלית קשה/עמוקה/סיעודית, חירשים וכבדי שמיעה, עיוורים ולקויי ראייה.'"
      ]
     },
     "execution_count": 75,
     "metadata": {},
     "output_type": "execute_result"
    }
   ],
   "source": [
    "df['sentence'][269]"
   ]
  },
  {
   "cell_type": "code",
   "execution_count": 76,
   "metadata": {},
   "outputs": [
    {
     "name": "stderr",
     "output_type": "stream",
     "text": [
      "<ipython-input-76-c024dc24fed4>:1: SettingWithCopyWarning: \n",
      "A value is trying to be set on a copy of a slice from a DataFrame\n",
      "\n",
      "See the caveats in the documentation: https://pandas.pydata.org/pandas-docs/stable/user_guide/indexing.html#returning-a-view-versus-a-copy\n",
      "  df['sentence'][269] = 'קריטריונים להסעה תלמידי החינוך המיוחד, החל מכיתות הגן גילאי 3 ועד גיל 21, המשובצים במוסדות החינוך המיוחד זכאים להסעה מאורגנת מיוחדת, ללא קשר להגבלת המרחק: עיכוב התפתחות, הפרעת תקשורת, תלמידים עם מגבלה שכלית קשה/עמוק וסיעודי, משותקי מוחין ובעלי נכויות פיזיות קשות, אוטיסטים/ASD, בעלי הפרעות נפשיות קשות וחולי נפש, תלמידים בעלי מגבלה שכלית בינונית רב- בעייתי, תלמידים בעלי מגבלה שכלית קשה/עמוקה/סיעודית, חירשים וכבדי שמיעה, עיוורים ולקויי ראייה.'\n"
     ]
    }
   ],
   "source": [
    "df['sentence'][269] = 'קריטריונים להסעה תלמידי החינוך המיוחד, החל מכיתות הגן גילאי 3 ועד גיל 21, המשובצים במוסדות החינוך המיוחד זכאים להסעה מאורגנת מיוחדת, ללא קשר להגבלת המרחק: עיכוב התפתחות, הפרעת תקשורת, תלמידים עם מגבלה שכלית קשה/עמוק וסיעודי, משותקי מוחין ובעלי נכויות פיזיות קשות, אוטיסטים/ASD, בעלי הפרעות נפשיות קשות וחולי נפש, תלמידים בעלי מגבלה שכלית בינונית רב- בעייתי, תלמידים בעלי מגבלה שכלית קשה/עמוקה/סיעודית, חירשים וכבדי שמיעה, עיוורים ולקויי ראייה.'"
   ]
  },
  {
   "cell_type": "code",
   "execution_count": 77,
   "metadata": {},
   "outputs": [
    {
     "data": {
      "text/plain": [
       "'הניטור הצמוד במקרים האלה הוא חשוב ביותר כדי למנוע מעבר למצב של היפוגליקמיה (תת סוכר בדם) בעקבות עודף האינסולין שניתן כדי לבלום את ההידרדרות במצב החולה.הורים יקרים,במדריך הזה מפורט התהליך העומד בפניכם לאחר שרופא הילדים שאליו פניתם הפנה את בקשתכם לבדיקת הוועדה המקצועית שפועלת בתחום של התפתחות הילד.'"
      ]
     },
     "execution_count": 77,
     "metadata": {},
     "output_type": "execute_result"
    }
   ],
   "source": [
    "df['sentence'][289]"
   ]
  },
  {
   "cell_type": "code",
   "execution_count": 78,
   "metadata": {},
   "outputs": [
    {
     "name": "stderr",
     "output_type": "stream",
     "text": [
      "<ipython-input-78-752681cc2136>:1: SettingWithCopyWarning: \n",
      "A value is trying to be set on a copy of a slice from a DataFrame\n",
      "\n",
      "See the caveats in the documentation: https://pandas.pydata.org/pandas-docs/stable/user_guide/indexing.html#returning-a-view-versus-a-copy\n",
      "  df['sentence'][289] = 'הניטור הצמוד במקרים האלה הוא חשוב ביותר כדי למנוע מעבר למצב של היפוגליקמיה (תת סוכר בדם) בעקבות עודף האינסולין שניתן כדי לבלום את ההידרדרות במצב החולה.'\n"
     ]
    }
   ],
   "source": [
    "df['sentence'][289] = 'הניטור הצמוד במקרים האלה הוא חשוב ביותר כדי למנוע מעבר למצב של היפוגליקמיה (תת סוכר בדם) בעקבות עודף האינסולין שניתן כדי לבלום את ההידרדרות במצב החולה.'"
   ]
  },
  {
   "cell_type": "code",
   "execution_count": 79,
   "metadata": {},
   "outputs": [],
   "source": [
    "df = df.append({'sentence': 'הורים יקרים,במדריך הזה מפורט התהליך העומד בפניכם לאחר שרופא הילדים שאליו פניתם הפנה את בקשתכם לבדיקת הוועדה המקצועית שפועלת בתחום של התפתחות הילד.', 'no_change': 0, 'summarizing': 1}, ignore_index=True)"
   ]
  },
  {
   "cell_type": "code",
   "execution_count": null,
   "metadata": {},
   "outputs": [],
   "source": []
  },
  {
   "cell_type": "code",
   "execution_count": 80,
   "metadata": {},
   "outputs": [
    {
     "data": {
      "text/plain": [
       "'נוסעים עם אסתמהציוד ותרופות: מטיילים הסובלים מאסתמה צריכים להצטייד במלאי מתאים של תרופות, הן תרופות קבועות (משאפים למיניהם) והן תרופות לטיפול בהחמרה פתאומית במחלה (תכשירי סטרואידים).'"
      ]
     },
     "execution_count": 80,
     "metadata": {},
     "output_type": "execute_result"
    }
   ],
   "source": [
    "df['sentence'][294]"
   ]
  },
  {
   "cell_type": "code",
   "execution_count": 81,
   "metadata": {},
   "outputs": [
    {
     "name": "stderr",
     "output_type": "stream",
     "text": [
      "<ipython-input-81-aed32238fc37>:1: SettingWithCopyWarning: \n",
      "A value is trying to be set on a copy of a slice from a DataFrame\n",
      "\n",
      "See the caveats in the documentation: https://pandas.pydata.org/pandas-docs/stable/user_guide/indexing.html#returning-a-view-versus-a-copy\n",
      "  df['sentence'][294] = 'נוסעים עם אסתמה ציוד ותרופות: מטיילים הסובלים מאסתמה צריכים להצטייד במלאי מתאים של תרופות, הן תרופות קבועות (משאפים למיניהם) והן תרופות לטיפול בהחמרה פתאומית במחלה (תכשירי סטרואידים).'\n"
     ]
    }
   ],
   "source": [
    "df['sentence'][294] = 'נוסעים עם אסתמה ציוד ותרופות: מטיילים הסובלים מאסתמה צריכים להצטייד במלאי מתאים של תרופות, הן תרופות קבועות (משאפים למיניהם) והן תרופות לטיפול בהחמרה פתאומית במחלה (תכשירי סטרואידים).'"
   ]
  },
  {
   "cell_type": "code",
   "execution_count": 82,
   "metadata": {},
   "outputs": [
    {
     "data": {
      "text/plain": [
       "'מקלט ציבורי ומחסה ציבורי כהגדרתם בסעיף 11 לחוק ההתגוננות האזרחית, התשי\"א - 1951כל מקום בבניין של בית כנסת, כנסייה, ח\\'ילווה או מסגד בחצר שלו, למעט חלק של האזור שהוקצה לעישוןבידי הנהלת המקום, אם הוקצה, ובלבד שאותו חלק של האזור שהוקצה לעישון אינו מקורה בדרך כלשהי,לרבות בסככה וכיוצא בזה, שטחו רציף ואינו עולה על רבע ממקומות הישיבה באזור, ושאר האזור שמורללא מעשנים וסומן בבירור שהעישון בו אסור.'"
      ]
     },
     "execution_count": 82,
     "metadata": {},
     "output_type": "execute_result"
    }
   ],
   "source": [
    "df['sentence'][296]"
   ]
  },
  {
   "cell_type": "code",
   "execution_count": 83,
   "metadata": {},
   "outputs": [
    {
     "name": "stderr",
     "output_type": "stream",
     "text": [
      "<ipython-input-83-d6ba799a97b0>:1: SettingWithCopyWarning: \n",
      "A value is trying to be set on a copy of a slice from a DataFrame\n",
      "\n",
      "See the caveats in the documentation: https://pandas.pydata.org/pandas-docs/stable/user_guide/indexing.html#returning-a-view-versus-a-copy\n",
      "  df['sentence'][296] = 'מקלט ציבורי ומחסה ציבורי כהגדרתם בסעיף 11 לחוק ההתגוננות האזרחית, התשי\"א -  1951 כל מקום בבניין של בית כנסת, כנסייה, ח\\'ילווה או מסגד בחצר שלו, למעט חלק של האזור שהוקצה לעישון בידי הנהלת המקום, אם הוקצה, ובלבד שאותו חלק של האזור שהוקצה לעישון אינו מקורה בדרך כלשהי,לרבות בסככה וכיוצא בזה, שטחו רציף ואינו עולה על רבע ממקומות הישיבה באזור, ושאר האזור שמור ללא מעשנים וסומן בבירור שהעישון בו אסור.'\n"
     ]
    }
   ],
   "source": [
    "df['sentence'][296] = 'מקלט ציבורי ומחסה ציבורי כהגדרתם בסעיף 11 לחוק ההתגוננות האזרחית, התשי\"א -  1951 כל מקום בבניין של בית כנסת, כנסייה, ח\\'ילווה או מסגד בחצר שלו, למעט חלק של האזור שהוקצה לעישון בידי הנהלת המקום, אם הוקצה, ובלבד שאותו חלק של האזור שהוקצה לעישון אינו מקורה בדרך כלשהי,לרבות בסככה וכיוצא בזה, שטחו רציף ואינו עולה על רבע ממקומות הישיבה באזור, ושאר האזור שמור ללא מעשנים וסומן בבירור שהעישון בו אסור.'"
   ]
  },
  {
   "cell_type": "code",
   "execution_count": 84,
   "metadata": {},
   "outputs": [
    {
     "data": {
      "text/plain": [
       "'יש להקפיד שההפניה תיעשה לא יאוחר מה- 31 במרץ מידי שנה כדי שהוועדה תסיים את הדיונים עד 15 במאי (לתלמידי בתי הספר) ועד 31 במאי (לגני ילדים) ועדת שיבוץועדות שיבוץ פועלות בחודשים יוני ויולי.'"
      ]
     },
     "execution_count": 84,
     "metadata": {},
     "output_type": "execute_result"
    }
   ],
   "source": [
    "df['sentence'][297]"
   ]
  },
  {
   "cell_type": "code",
   "execution_count": 85,
   "metadata": {},
   "outputs": [
    {
     "name": "stderr",
     "output_type": "stream",
     "text": [
      "<ipython-input-85-2c93ed707fc1>:1: SettingWithCopyWarning: \n",
      "A value is trying to be set on a copy of a slice from a DataFrame\n",
      "\n",
      "See the caveats in the documentation: https://pandas.pydata.org/pandas-docs/stable/user_guide/indexing.html#returning-a-view-versus-a-copy\n",
      "  df['sentence'][297] = 'יש להקפיד שההפניה תיעשה לא יאוחר מה- 31 במרץ מידי שנה כדי שהוועדה תסיים את הדיונים עד 15 במאי (לתלמידי בתי הספר) ועד 31 במאי (לגני ילדים) ועדת שיבוץ ועדות שיבוץ פועלות בחודשים יוני ויולי.'\n"
     ]
    }
   ],
   "source": [
    "df['sentence'][297] = 'יש להקפיד שההפניה תיעשה לא יאוחר מה- 31 במרץ מידי שנה כדי שהוועדה תסיים את הדיונים עד 15 במאי (לתלמידי בתי הספר) ועד 31 במאי (לגני ילדים) ועדת שיבוץ ועדות שיבוץ פועלות בחודשים יוני ויולי.'"
   ]
  },
  {
   "cell_type": "code",
   "execution_count": 86,
   "metadata": {},
   "outputs": [
    {
     "data": {
      "text/plain": [
       "'אם לא עשה כן - 5,000 ₪ קנסשוטרים או פקחים עירוניים שהוסמכו לכך, אחראים על אכיפת החוק ורשאים למסור דו\"חות למעשן ו/או למחזיק במקום ציבורי.'"
      ]
     },
     "execution_count": 86,
     "metadata": {},
     "output_type": "execute_result"
    }
   ],
   "source": [
    "df['sentence'][302]"
   ]
  },
  {
   "cell_type": "code",
   "execution_count": 87,
   "metadata": {},
   "outputs": [
    {
     "name": "stderr",
     "output_type": "stream",
     "text": [
      "<ipython-input-87-af19769a8402>:1: SettingWithCopyWarning: \n",
      "A value is trying to be set on a copy of a slice from a DataFrame\n",
      "\n",
      "See the caveats in the documentation: https://pandas.pydata.org/pandas-docs/stable/user_guide/indexing.html#returning-a-view-versus-a-copy\n",
      "  df['sentence'][302] = 'אם לא עשה כן - 5,000 ₪ קנס שוטרים או פקחים עירוניים שהוסמכו לכך, אחראים על אכיפת החוק ורשאים למסור דו\"חות למעשן ו/או למחזיק במקום ציבורי.'\n"
     ]
    }
   ],
   "source": [
    "df['sentence'][302] = 'אם לא עשה כן - 5,000 ₪ קנס שוטרים או פקחים עירוניים שהוסמכו לכך, אחראים על אכיפת החוק ורשאים למסור דו\"חות למעשן ו/או למחזיק במקום ציבורי.'"
   ]
  },
  {
   "cell_type": "code",
   "execution_count": 88,
   "metadata": {},
   "outputs": [
    {
     "data": {
      "text/plain": [
       "'שים לב, סיבת הפסקת העבודה (הוצאה לחל\"ת, פיטוריםאו הפסקה מרצון) משפיעה על מועד תחילת התשלום - למידע נוסף על סיבות להפסקת עבודה לחץ כאן.'"
      ]
     },
     "execution_count": 88,
     "metadata": {},
     "output_type": "execute_result"
    }
   ],
   "source": [
    "df['sentence'][310]"
   ]
  },
  {
   "cell_type": "code",
   "execution_count": 89,
   "metadata": {},
   "outputs": [
    {
     "name": "stderr",
     "output_type": "stream",
     "text": [
      "<ipython-input-89-38a1c7759443>:1: SettingWithCopyWarning: \n",
      "A value is trying to be set on a copy of a slice from a DataFrame\n",
      "\n",
      "See the caveats in the documentation: https://pandas.pydata.org/pandas-docs/stable/user_guide/indexing.html#returning-a-view-versus-a-copy\n",
      "  df['sentence'][310] = 'שים לב, סיבת הפסקת העבודה (הוצאה לחל\"ת, פיטורים או הפסקה מרצון) משפיעה על מועד תחילת התשלום - למידע נוסף על סיבות להפסקת עבודה לחץ כאן.'\n"
     ]
    }
   ],
   "source": [
    "df['sentence'][310] = 'שים לב, סיבת הפסקת העבודה (הוצאה לחל\"ת, פיטורים או הפסקה מרצון) משפיעה על מועד תחילת התשלום - למידע נוסף על סיבות להפסקת עבודה לחץ כאן.'"
   ]
  },
  {
   "cell_type": "code",
   "execution_count": 90,
   "metadata": {},
   "outputs": [
    {
     "data": {
      "text/plain": [
       "'ציין בפני המעשן כי בכך שהוא מעשן הוא עובר על החוק וגורם גם לך לעבור על החוק, ושניכם עלוליםלהיקנס בשל כך ו/או להיתבע על ידי לקוחות.'"
      ]
     },
     "execution_count": 90,
     "metadata": {},
     "output_type": "execute_result"
    }
   ],
   "source": [
    "df['sentence'][314]"
   ]
  },
  {
   "cell_type": "code",
   "execution_count": 91,
   "metadata": {},
   "outputs": [
    {
     "name": "stderr",
     "output_type": "stream",
     "text": [
      "<ipython-input-91-3dc47960a606>:1: SettingWithCopyWarning: \n",
      "A value is trying to be set on a copy of a slice from a DataFrame\n",
      "\n",
      "See the caveats in the documentation: https://pandas.pydata.org/pandas-docs/stable/user_guide/indexing.html#returning-a-view-versus-a-copy\n",
      "  df['sentence'][314] = 'ציין בפני המעשן כי בכך שהוא מעשן הוא עובר על החוק וגורם גם לך לעבור על החוק, ושניכם עלולים להיקנס בשל כך ו/או להיתבע על ידי לקוחות.'\n"
     ]
    }
   ],
   "source": [
    "df['sentence'][314] = 'ציין בפני המעשן כי בכך שהוא מעשן הוא עובר על החוק וגורם גם לך לעבור על החוק, ושניכם עלולים להיקנס בשל כך ו/או להיתבע על ידי לקוחות.'"
   ]
  },
  {
   "cell_type": "code",
   "execution_count": 92,
   "metadata": {},
   "outputs": [
    {
     "data": {
      "text/plain": [
       "'עבירה על החוק הינה עבירה פלילית, הנושאתקנסות בצידה.'"
      ]
     },
     "execution_count": 92,
     "metadata": {},
     "output_type": "execute_result"
    }
   ],
   "source": [
    "df['sentence'][330]"
   ]
  },
  {
   "cell_type": "code",
   "execution_count": 93,
   "metadata": {},
   "outputs": [
    {
     "name": "stderr",
     "output_type": "stream",
     "text": [
      "<ipython-input-93-b53fe6103c3e>:1: SettingWithCopyWarning: \n",
      "A value is trying to be set on a copy of a slice from a DataFrame\n",
      "\n",
      "See the caveats in the documentation: https://pandas.pydata.org/pandas-docs/stable/user_guide/indexing.html#returning-a-view-versus-a-copy\n",
      "  df['sentence'][330] = 'עבירה על החוק הינה עבירה פלילית, הנושאת קנסות בצידה.'\n"
     ]
    }
   ],
   "source": [
    "df['sentence'][330] = 'עבירה על החוק הינה עבירה פלילית, הנושאת קנסות בצידה.'"
   ]
  },
  {
   "cell_type": "code",
   "execution_count": 94,
   "metadata": {},
   "outputs": [
    {
     "data": {
      "text/plain": [
       "\"ועדת העברותהתלמיד והוריו יכולים לערער על החלטת ועדת השיבוץ בכתב למחלקה לחינוך מיוחד, לגב' אתי וקנין.\""
      ]
     },
     "execution_count": 94,
     "metadata": {},
     "output_type": "execute_result"
    }
   ],
   "source": [
    "df['sentence'][343]"
   ]
  },
  {
   "cell_type": "code",
   "execution_count": 95,
   "metadata": {},
   "outputs": [
    {
     "name": "stderr",
     "output_type": "stream",
     "text": [
      "<ipython-input-95-6c4743e5e600>:1: SettingWithCopyWarning: \n",
      "A value is trying to be set on a copy of a slice from a DataFrame\n",
      "\n",
      "See the caveats in the documentation: https://pandas.pydata.org/pandas-docs/stable/user_guide/indexing.html#returning-a-view-versus-a-copy\n",
      "  df['sentence'][343] = \"ועדת העברות התלמיד והוריו יכולים לערער על החלטת ועדת השיבוץ בכתב למחלקה לחינוך מיוחד, לגב' אתי וקנין.\"\n"
     ]
    }
   ],
   "source": [
    "df['sentence'][343] = \"ועדת העברות התלמיד והוריו יכולים לערער על החלטת ועדת השיבוץ בכתב למחלקה לחינוך מיוחד, לגב' אתי וקנין.\""
   ]
  },
  {
   "cell_type": "code",
   "execution_count": 96,
   "metadata": {},
   "outputs": [
    {
     "data": {
      "text/plain": [
       "'נוהל הפניית ילד לוועדת השמה לצורכי חינוך מיוחדיש להגיש את המסמכים הבאים לשירות הפסיכולוגי חינוכי לצורך הכנת תיק תלמיד לוועדת ההשמה:בקשה בכתב לוועדת השמה, חתומה על ידי הורי הילד, או אפוטרופוס חוקי.'"
      ]
     },
     "execution_count": 96,
     "metadata": {},
     "output_type": "execute_result"
    }
   ],
   "source": [
    "df['sentence'][346]"
   ]
  },
  {
   "cell_type": "code",
   "execution_count": 97,
   "metadata": {},
   "outputs": [
    {
     "name": "stderr",
     "output_type": "stream",
     "text": [
      "<ipython-input-97-cd47f2bb8191>:1: SettingWithCopyWarning: \n",
      "A value is trying to be set on a copy of a slice from a DataFrame\n",
      "\n",
      "See the caveats in the documentation: https://pandas.pydata.org/pandas-docs/stable/user_guide/indexing.html#returning-a-view-versus-a-copy\n",
      "  df['sentence'][346] = 'נוהל הפניית ילד לוועדת השמה לצורכי חינוך מיוחד יש להגיש את המסמכים הבאים לשירות הפסיכולוגי חינוכי לצורך הכנת תיק תלמיד לוועדת ההשמה:בקשה בכתב לוועדת השמה, חתומה על ידי הורי הילד, או אפוטרופוס חוקי.'\n"
     ]
    }
   ],
   "source": [
    "df['sentence'][346] = 'נוהל הפניית ילד לוועדת השמה לצורכי חינוך מיוחד יש להגיש את המסמכים הבאים לשירות הפסיכולוגי חינוכי לצורך הכנת תיק תלמיד לוועדת ההשמה:בקשה בכתב לוועדת השמה, חתומה על ידי הורי הילד, או אפוטרופוס חוקי.'"
   ]
  },
  {
   "cell_type": "code",
   "execution_count": 98,
   "metadata": {},
   "outputs": [
    {
     "data": {
      "text/plain": [
       "'אלו מקומות נחשבים כמקומות ציבורים לפי חוק ובהם העישון אסורהחוק אוסר לעשן במקומות הציבוריים המפורטים להלן:אולם המשמש בדרך כלל לבית קולנוע, לתיאטרון, להופעות, לקונצרטים, לאופרה או למחול וכן חדר אואולם המשמש לדיון, להרצאה או לישיבות, וכן המסדרונות והאכסדרות, למעט חדר נפרד לחלוטיןשהוקצה לעישון בהפסקות בידי הנהלת המקום, מלבד שעומד בתנאי החוק.'"
      ]
     },
     "execution_count": 98,
     "metadata": {},
     "output_type": "execute_result"
    }
   ],
   "source": [
    "df['sentence'][351]"
   ]
  },
  {
   "cell_type": "code",
   "execution_count": 99,
   "metadata": {},
   "outputs": [
    {
     "name": "stderr",
     "output_type": "stream",
     "text": [
      "<ipython-input-99-22f44cb8101b>:1: SettingWithCopyWarning: \n",
      "A value is trying to be set on a copy of a slice from a DataFrame\n",
      "\n",
      "See the caveats in the documentation: https://pandas.pydata.org/pandas-docs/stable/user_guide/indexing.html#returning-a-view-versus-a-copy\n",
      "  df['sentence'][351] = 'אלו מקומות נחשבים כמקומות ציבורים לפי חוק ובהם העישון אסורה חוק אוסר לעשן במקומות הציבוריים המפורטים להלן:אולם המשמש בדרך כלל לבית קולנוע, לתיאטרון, להופעות, לקונצרטים, לאופרה או למחול וכן חדר או אולם המשמש לדיון, להרצאה או לישיבות, וכן המסדרונות והאכסדרות, למעט חדר נפרד לחלוטין שהוקצה לעישון בהפסקות בידי הנהלת המקום, מלבד שעומד בתנאי החוק.'\n"
     ]
    }
   ],
   "source": [
    "df['sentence'][351] = 'אלו מקומות נחשבים כמקומות ציבורים לפי חוק ובהם העישון אסורה חוק אוסר לעשן במקומות הציבוריים המפורטים להלן:אולם המשמש בדרך כלל לבית קולנוע, לתיאטרון, להופעות, לקונצרטים, לאופרה או למחול וכן חדר או אולם המשמש לדיון, להרצאה או לישיבות, וכן המסדרונות והאכסדרות, למעט חדר נפרד לחלוטין שהוקצה לעישון בהפסקות בידי הנהלת המקום, מלבד שעומד בתנאי החוק.'"
   ]
  },
  {
   "cell_type": "code",
   "execution_count": 100,
   "metadata": {},
   "outputs": [],
   "source": [
    "# fix: 59 95 101 120 135 159 165 168 188 190 204 212 221 234 250 260 270 295 297 298 303 311 315 331 344 347 352 \n",
    "# 358 360 368 373 387 397 407 431 442 445 452 453 454 461 462 464 465 489 490 492 502 504 "
   ]
  },
  {
   "cell_type": "code",
   "execution_count": 101,
   "metadata": {},
   "outputs": [
    {
     "data": {
      "text/plain": [
       "'בשטח בית החולים או במרפאות, לרבות חצר המוסד בטווח של 10 מטר מהכניסה או מהיציאה ובחלקהפתוח לציבור בבית המרקחת.'"
      ]
     },
     "execution_count": 101,
     "metadata": {},
     "output_type": "execute_result"
    }
   ],
   "source": [
    "df['sentence'][357]"
   ]
  },
  {
   "cell_type": "code",
   "execution_count": 102,
   "metadata": {},
   "outputs": [
    {
     "name": "stderr",
     "output_type": "stream",
     "text": [
      "<ipython-input-102-1326b4990bca>:1: SettingWithCopyWarning: \n",
      "A value is trying to be set on a copy of a slice from a DataFrame\n",
      "\n",
      "See the caveats in the documentation: https://pandas.pydata.org/pandas-docs/stable/user_guide/indexing.html#returning-a-view-versus-a-copy\n",
      "  df['sentence'][357] = 'בשטח בית החולים או במרפאות, לרבות חצר המוסד בטווח של 10 מטר מהכניסה או מהיציאה ובחלקה פתוח לציבור בבית המרקחת.'\n"
     ]
    }
   ],
   "source": [
    "df['sentence'][357] = 'בשטח בית החולים או במרפאות, לרבות חצר המוסד בטווח של 10 מטר מהכניסה או מהיציאה ובחלקה פתוח לציבור בבית המרקחת.'"
   ]
  },
  {
   "cell_type": "code",
   "execution_count": 103,
   "metadata": {},
   "outputs": [
    {
     "data": {
      "text/plain": [
       "'העובדים האלה לא מבוטחים בביטוח אבטלה, ולכן לא יכולים להיות זכאים לדמי אבטלה:עובד עצמאי - לבדיקת זכויות של עובדים עצמאיים ופרילנסרים בעקבות הקורונה לחצו כאןבעל שליטה בחברת מעטים - לא זכאי לדמי אבטלה גם אם הוא עובד בה כשכיר.'"
      ]
     },
     "execution_count": 103,
     "metadata": {},
     "output_type": "execute_result"
    }
   ],
   "source": [
    "df['sentence'][359]"
   ]
  },
  {
   "cell_type": "code",
   "execution_count": 104,
   "metadata": {},
   "outputs": [
    {
     "name": "stderr",
     "output_type": "stream",
     "text": [
      "<ipython-input-104-74f6e67e7470>:1: SettingWithCopyWarning: \n",
      "A value is trying to be set on a copy of a slice from a DataFrame\n",
      "\n",
      "See the caveats in the documentation: https://pandas.pydata.org/pandas-docs/stable/user_guide/indexing.html#returning-a-view-versus-a-copy\n",
      "  df['sentence'][359] = 'העובדים האלה לא מבוטחים בביטוח אבטלה, ולכן לא יכולים להיות זכאים לדמי אבטלה:עובד עצמאי - לבדיקת זכויות של עובדים עצמאיים ופרילנסרים בעקבות הקורונה לחצו כאן בעל שליטה בחברת מעטים - לא זכאי לדמי אבטלה גם אם הוא עובד בה כשכיר.'\n"
     ]
    }
   ],
   "source": [
    "df['sentence'][359] = 'העובדים האלה לא מבוטחים בביטוח אבטלה, ולכן לא יכולים להיות זכאים לדמי אבטלה:עובד עצמאי - לבדיקת זכויות של עובדים עצמאיים ופרילנסרים בעקבות הקורונה לחצו כאן בעל שליטה בחברת מעטים - לא זכאי לדמי אבטלה גם אם הוא עובד בה כשכיר.' "
   ]
  },
  {
   "cell_type": "code",
   "execution_count": 105,
   "metadata": {},
   "outputs": [
    {
     "data": {
      "text/plain": [
       "'כדאי שהתרופות שעימן נוסעים יהיו תואמות את הכתוב במכתב הרפואי – בייחוד נכון הדבר לגבי תרופות הניתנות בהזרקה ותרופות משככות כאבים ממשפחת הנרקוטיקה, למשל אוקסיקוד (Oxycod, Oxycodone), או אמ סי אר (MCR, Morphine) ביטוח ביטוח ביטוחביטוח נסיעות לחו\"ל בכללית חו\"ל מאפשר כיסוי לבעיות בריאות ולמחלות קיימות וכרוניות, אם נהנית מתקופת בריאות יציבה בחצי השנה שלפני הטיול בחו\"ל.'"
      ]
     },
     "execution_count": 105,
     "metadata": {},
     "output_type": "execute_result"
    }
   ],
   "source": [
    "df['sentence'][367]"
   ]
  },
  {
   "cell_type": "code",
   "execution_count": 106,
   "metadata": {},
   "outputs": [
    {
     "name": "stderr",
     "output_type": "stream",
     "text": [
      "<ipython-input-106-2bf6d4b27211>:1: SettingWithCopyWarning: \n",
      "A value is trying to be set on a copy of a slice from a DataFrame\n",
      "\n",
      "See the caveats in the documentation: https://pandas.pydata.org/pandas-docs/stable/user_guide/indexing.html#returning-a-view-versus-a-copy\n",
      "  df['sentence'][367] = 'כדאי שהתרופות שעימן נוסעים יהיו תואמות את הכתוב במכתב הרפואי – בייחוד נכון הדבר לגבי תרופות הניתנות בהזרקה ותרופות משככות כאבים ממשפחת הנרקוטיקה, למשל אוקסיקוד (Oxycod, Oxycodone), או אמ סי אר (MCR, Morphine) ביטוח נסיעות לחו\"ל בכללית חו\"ל מאפשר כיסוי לבעיות בריאות ולמחלות קיימות וכרוניות, אם נהנית מתקופת בריאות יציבה בחצי השנה שלפני הטיול בחו\"ל.'\n"
     ]
    }
   ],
   "source": [
    "df['sentence'][367] = 'כדאי שהתרופות שעימן נוסעים יהיו תואמות את הכתוב במכתב הרפואי – בייחוד נכון הדבר לגבי תרופות הניתנות בהזרקה ותרופות משככות כאבים ממשפחת הנרקוטיקה, למשל אוקסיקוד (Oxycod, Oxycodone), או אמ סי אר (MCR, Morphine) ביטוח נסיעות לחו\"ל בכללית חו\"ל מאפשר כיסוי לבעיות בריאות ולמחלות קיימות וכרוניות, אם נהנית מתקופת בריאות יציבה בחצי השנה שלפני הטיול בחו\"ל.'"
   ]
  },
  {
   "cell_type": "code",
   "execution_count": 107,
   "metadata": {},
   "outputs": [
    {
     "data": {
      "text/plain": [
       "'לנוחיותכם, ריכזנו מספר דרכים בהן תוכלו לשלם את חשבון הארנונה: הוראת קבע בבנקנפתח בחלון חדש טופס הוראת קבע בכרטיס האשראי - להדפסהנפתח בחלון חדשטופס הוראת קבע מקווןנפתח בחלון חדשסניפי הבנקיםסניפי בנק הדואר – במזומן, המחאה או כרטיס אשראימוקד תשלומים טלפוני – התשלום הוא באמצעות כרטיס אשראי במוקד התשלומים של אגף הגבייה.'"
      ]
     },
     "execution_count": 107,
     "metadata": {},
     "output_type": "execute_result"
    }
   ],
   "source": [
    "df['sentence'][372]"
   ]
  },
  {
   "cell_type": "code",
   "execution_count": 108,
   "metadata": {},
   "outputs": [
    {
     "name": "stderr",
     "output_type": "stream",
     "text": [
      "<ipython-input-108-95f780b7b113>:1: SettingWithCopyWarning: \n",
      "A value is trying to be set on a copy of a slice from a DataFrame\n",
      "\n",
      "See the caveats in the documentation: https://pandas.pydata.org/pandas-docs/stable/user_guide/indexing.html#returning-a-view-versus-a-copy\n",
      "  df['sentence'][372] = 'לנוחיותכם, ריכזנו מספר דרכים בהן תוכלו לשלם את חשבון הארנונה: הוראת קבע בבנק נפתח בחלון חדש טופס הוראת קבע בכרטיס האשראי - להדפסה נפתח בחלון חדש טופס הוראת קבע מקוון נפתח בחלון חדש סניפי הבנקים סניפי בנק הדואר – במזומן, המחאה או כרטיס אשראי מוקד תשלומים טלפוני – התשלום הוא באמצעות כרטיס אשראי במוקד התשלומים של אגף הגבייה.'\n"
     ]
    }
   ],
   "source": [
    "df['sentence'][372] = 'לנוחיותכם, ריכזנו מספר דרכים בהן תוכלו לשלם את חשבון הארנונה: הוראת קבע בבנק נפתח בחלון חדש טופס הוראת קבע בכרטיס האשראי - להדפסה נפתח בחלון חדש טופס הוראת קבע מקוון נפתח בחלון חדש סניפי הבנקים סניפי בנק הדואר – במזומן, המחאה או כרטיס אשראי מוקד תשלומים טלפוני – התשלום הוא באמצעות כרטיס אשראי במוקד התשלומים של אגף הגבייה.'"
   ]
  },
  {
   "cell_type": "code",
   "execution_count": 109,
   "metadata": {},
   "outputs": [
    {
     "data": {
      "text/plain": [
       "'פגיעת איבה בחוץ לארץפגיעה שאירעה בחוץ לארץ תוכר כפגיעת איבה אם מטרתה הייתה פגיעה בישראל או בעם היהודי.'"
      ]
     },
     "execution_count": 109,
     "metadata": {},
     "output_type": "execute_result"
    }
   ],
   "source": [
    "df['sentence'][386]"
   ]
  },
  {
   "cell_type": "code",
   "execution_count": 110,
   "metadata": {},
   "outputs": [
    {
     "name": "stderr",
     "output_type": "stream",
     "text": [
      "<ipython-input-110-bf55c39b0d16>:1: SettingWithCopyWarning: \n",
      "A value is trying to be set on a copy of a slice from a DataFrame\n",
      "\n",
      "See the caveats in the documentation: https://pandas.pydata.org/pandas-docs/stable/user_guide/indexing.html#returning-a-view-versus-a-copy\n",
      "  df['sentence'][386] = 'פגיעת איבה בחוץ לארץ פגיעה שאירעה בחוץ לארץ תוכר כפגיעת איבה אם מטרתה הייתה פגיעה בישראל או בעם היהודי.'\n"
     ]
    }
   ],
   "source": [
    "df['sentence'][386] = 'פגיעת איבה בחוץ לארץ פגיעה שאירעה בחוץ לארץ תוכר כפגיעת איבה אם מטרתה הייתה פגיעה בישראל או בעם היהודי.'"
   ]
  },
  {
   "cell_type": "code",
   "execution_count": 111,
   "metadata": {},
   "outputs": [
    {
     "data": {
      "text/plain": [
       "'שלב שני: בדיקת המצב הרפואי שלךהבדיקה מיועדת לקביעת אחוז נכות, ולא לצורך טיפול רפואי, ולכן היא אינה דומה לבדיקות שמבצע רופא משפחה או רופא מטפל אחר.'"
      ]
     },
     "execution_count": 111,
     "metadata": {},
     "output_type": "execute_result"
    }
   ],
   "source": [
    "df['sentence'][396]"
   ]
  },
  {
   "cell_type": "code",
   "execution_count": 112,
   "metadata": {},
   "outputs": [
    {
     "name": "stderr",
     "output_type": "stream",
     "text": [
      "<ipython-input-112-0a647b0ef7f3>:1: SettingWithCopyWarning: \n",
      "A value is trying to be set on a copy of a slice from a DataFrame\n",
      "\n",
      "See the caveats in the documentation: https://pandas.pydata.org/pandas-docs/stable/user_guide/indexing.html#returning-a-view-versus-a-copy\n",
      "  df['sentence'][396] = 'שלב שני: בדיקת המצב הרפואי שלך הבדיקה מיועדת לקביעת אחוז נכות, ולא לצורך טיפול רפואי, ולכן היא אינה דומה לבדיקות שמבצע רופא משפחה או רופא מטפל אחר.'\n"
     ]
    }
   ],
   "source": [
    "df['sentence'][396] = 'שלב שני: בדיקת המצב הרפואי שלך הבדיקה מיועדת לקביעת אחוז נכות, ולא לצורך טיפול רפואי, ולכן היא אינה דומה לבדיקות שמבצע רופא משפחה או רופא מטפל אחר.'"
   ]
  },
  {
   "cell_type": "code",
   "execution_count": 113,
   "metadata": {},
   "outputs": [
    {
     "data": {
      "text/plain": [
       "'תנאי שני - מעמדך בישראלהכרה כנפגע פעולות איבה ניתנת רק למי שהמעמד שלו בישראל הוא אחד מאלה:אתה תושב/ת ישראל או בעל אזרחות ישראלית והפגיעה התרחשה בישראל, בשטחי יהודה שומרון (שטחים שבשליטת ישראל) או מחוץ לישראל.'"
      ]
     },
     "execution_count": 113,
     "metadata": {},
     "output_type": "execute_result"
    }
   ],
   "source": [
    "df['sentence'][406]"
   ]
  },
  {
   "cell_type": "code",
   "execution_count": 114,
   "metadata": {},
   "outputs": [
    {
     "name": "stderr",
     "output_type": "stream",
     "text": [
      "<ipython-input-114-0917bcadcccd>:1: SettingWithCopyWarning: \n",
      "A value is trying to be set on a copy of a slice from a DataFrame\n",
      "\n",
      "See the caveats in the documentation: https://pandas.pydata.org/pandas-docs/stable/user_guide/indexing.html#returning-a-view-versus-a-copy\n",
      "  df['sentence'][406] = 'תנאי שני - מעמדך בישראל הכרה כנפגע פעולות איבה ניתנת רק למי שהמעמד שלו בישראל הוא אחד מאלה:אתה תושב/ת ישראל או בעל אזרחות ישראלית והפגיעה התרחשה בישראל, בשטחי יהודה שומרון (שטחים שבשליטת ישראל) או מחוץ לישראל.'\n"
     ]
    }
   ],
   "source": [
    "df['sentence'][406] = 'תנאי שני - מעמדך בישראל הכרה כנפגע פעולות איבה ניתנת רק למי שהמעמד שלו בישראל הוא אחד מאלה:אתה תושב/ת ישראל או בעל אזרחות ישראלית והפגיעה התרחשה בישראל, בשטחי יהודה שומרון (שטחים שבשליטת ישראל) או מחוץ לישראל.'"
   ]
  },
  {
   "cell_type": "code",
   "execution_count": 115,
   "metadata": {},
   "outputs": [
    {
     "data": {
      "text/plain": [
       "'קיימים 5 תנאי זכאות לקבלת דמי אבטלה:תנאי ראשון – תושבותעליך להיות תושב/ת ישראל או תושב ארעי (בידך רישיון לישיבת קבע או רישיון לישיבת ארעי).'"
      ]
     },
     "execution_count": 115,
     "metadata": {},
     "output_type": "execute_result"
    }
   ],
   "source": [
    "df['sentence'][430]"
   ]
  },
  {
   "cell_type": "code",
   "execution_count": 116,
   "metadata": {},
   "outputs": [
    {
     "name": "stderr",
     "output_type": "stream",
     "text": [
      "<ipython-input-116-d78ffe9c4670>:1: SettingWithCopyWarning: \n",
      "A value is trying to be set on a copy of a slice from a DataFrame\n",
      "\n",
      "See the caveats in the documentation: https://pandas.pydata.org/pandas-docs/stable/user_guide/indexing.html#returning-a-view-versus-a-copy\n",
      "  df['sentence'][430] = 'קיימים 5 תנאי זכאות לקבלת דמי אבטלה:תנאי ראשון – תושבות עליך להיות תושב/ת ישראל או תושב ארעי (בידך רישיון לישיבת קבע או רישיון לישיבת ארעי).'\n"
     ]
    }
   ],
   "source": [
    "df['sentence'][430] = 'קיימים 5 תנאי זכאות לקבלת דמי אבטלה:תנאי ראשון – תושבות עליך להיות תושב/ת ישראל או תושב ארעי (בידך רישיון לישיבת קבע או רישיון לישיבת ארעי).'"
   ]
  },
  {
   "cell_type": "code",
   "execution_count": 117,
   "metadata": {},
   "outputs": [
    {
     "data": {
      "text/plain": [
       "\"חתימה על טופס ויתור סודיות בדיקות שמיעה וראיהאת המסכמים יש להגיש לשירות הפסיכולוגי החינוכי אשר נמצא בכתובת רח' שאול אביגור 1 באר שבע.\""
      ]
     },
     "execution_count": 117,
     "metadata": {},
     "output_type": "execute_result"
    }
   ],
   "source": [
    "df['sentence'][441]"
   ]
  },
  {
   "cell_type": "code",
   "execution_count": 118,
   "metadata": {},
   "outputs": [
    {
     "name": "stderr",
     "output_type": "stream",
     "text": [
      "<ipython-input-118-e1f522cd8f00>:1: SettingWithCopyWarning: \n",
      "A value is trying to be set on a copy of a slice from a DataFrame\n",
      "\n",
      "See the caveats in the documentation: https://pandas.pydata.org/pandas-docs/stable/user_guide/indexing.html#returning-a-view-versus-a-copy\n",
      "  df['sentence'][441] = \"חתימה על טופס ויתור סודיות בדיקות שמיעה וראיה את המסכמים יש להגיש לשירות הפסיכולוגי החינוכי אשר נמצא בכתובת רח' שאול אביגור 1 באר שבע.\"\n"
     ]
    }
   ],
   "source": [
    "df['sentence'][441] = \"חתימה על טופס ויתור סודיות בדיקות שמיעה וראיה את המסכמים יש להגיש לשירות הפסיכולוגי החינוכי אשר נמצא בכתובת רח' שאול אביגור 1 באר שבע.\""
   ]
  },
  {
   "cell_type": "code",
   "execution_count": 119,
   "metadata": {},
   "outputs": [
    {
     "data": {
      "text/plain": [
       "'כל מקום בית אבות או דיור מוגן, למעט בחדר מגורים, ובלבד שלא גר בו מי שאינו מעשן, ולמעט חדר נפרדלחלוטין שהוקצה לעישון בידי הנהלת המקום, אם הוקצה, ובלבד שיש בו סידורי אוורור תקינים והעישוןבו אינו גורם למטרד בחלקים אחרים של המקום.'"
      ]
     },
     "execution_count": 119,
     "metadata": {},
     "output_type": "execute_result"
    }
   ],
   "source": [
    "df['sentence'][444]"
   ]
  },
  {
   "cell_type": "code",
   "execution_count": 120,
   "metadata": {},
   "outputs": [
    {
     "name": "stderr",
     "output_type": "stream",
     "text": [
      "<ipython-input-120-82dce7081324>:1: SettingWithCopyWarning: \n",
      "A value is trying to be set on a copy of a slice from a DataFrame\n",
      "\n",
      "See the caveats in the documentation: https://pandas.pydata.org/pandas-docs/stable/user_guide/indexing.html#returning-a-view-versus-a-copy\n",
      "  df['sentence'][444] = 'כל מקום בית אבות או דיור מוגן, למעט בחדר מגורים, ובלבד שלא גר בו מי שאינו מעשן, ולמעט חדר נפרד לחלוטין שהוקצה לעישון בידי הנהלת המקום, אם הוקצה, ובלבד שיש בו סידורי אוורור תקינים והעישון בו אינו גורם למטרד בחלקים אחרים של המקום.'\n"
     ]
    }
   ],
   "source": [
    "df['sentence'][444] = 'כל מקום בית אבות או דיור מוגן, למעט בחדר מגורים, ובלבד שלא גר בו מי שאינו מעשן, ולמעט חדר נפרד לחלוטין שהוקצה לעישון בידי הנהלת המקום, אם הוקצה, ובלבד שיש בו סידורי אוורור תקינים והעישון בו אינו גורם למטרד בחלקים אחרים של המקום.'"
   ]
  },
  {
   "cell_type": "code",
   "execution_count": 121,
   "metadata": {},
   "outputs": [
    {
     "data": {
      "text/plain": [
       "'גן אירועים, וכן איזור הנמצא מחוץ למבנה ומשמש את גן האירועים (להלן – אזור), למעט חלק של האזורשהוקצה לעישון בידי הנהלת המקום, אם הוקצה, ובלבד שעומד בתנאים הקבעים בחוק.'"
      ]
     },
     "execution_count": 121,
     "metadata": {},
     "output_type": "execute_result"
    }
   ],
   "source": [
    "df['sentence'][451]"
   ]
  },
  {
   "cell_type": "code",
   "execution_count": 122,
   "metadata": {},
   "outputs": [
    {
     "name": "stderr",
     "output_type": "stream",
     "text": [
      "<ipython-input-122-296033990b59>:1: SettingWithCopyWarning: \n",
      "A value is trying to be set on a copy of a slice from a DataFrame\n",
      "\n",
      "See the caveats in the documentation: https://pandas.pydata.org/pandas-docs/stable/user_guide/indexing.html#returning-a-view-versus-a-copy\n",
      "  df['sentence'][451] = 'גן אירועים, וכן איזור הנמצא מחוץ למבנה ומשמש את גן האירועים (להלן – אזור), למעט חלק של האזור שהוקצה לעישון בידי הנהלת המקום, אם הוקצה, ובלבד שעומד בתנאים הקבעים בחוק.'\n"
     ]
    }
   ],
   "source": [
    "df['sentence'][451] = 'גן אירועים, וכן איזור הנמצא מחוץ למבנה ומשמש את גן האירועים (להלן – אזור), למעט חלק של האזור שהוקצה לעישון בידי הנהלת המקום, אם הוקצה, ובלבד שעומד בתנאים הקבעים בחוק.'"
   ]
  },
  {
   "cell_type": "code",
   "execution_count": 123,
   "metadata": {},
   "outputs": [
    {
     "data": {
      "text/plain": [
       "'להנחיות לזכאות לדמי אבטלה בעקבות משבר הקורונה לחצו כאןבאפשרותך לבדוק את זכאותך לדמי אבטלה במחשבון זכאות לדמי אבטלה.'"
      ]
     },
     "execution_count": 123,
     "metadata": {},
     "output_type": "execute_result"
    }
   ],
   "source": [
    "df['sentence'][452]"
   ]
  },
  {
   "cell_type": "code",
   "execution_count": 124,
   "metadata": {},
   "outputs": [
    {
     "name": "stderr",
     "output_type": "stream",
     "text": [
      "<ipython-input-124-da7807d65698>:1: SettingWithCopyWarning: \n",
      "A value is trying to be set on a copy of a slice from a DataFrame\n",
      "\n",
      "See the caveats in the documentation: https://pandas.pydata.org/pandas-docs/stable/user_guide/indexing.html#returning-a-view-versus-a-copy\n",
      "  df['sentence'][452] = 'להנחיות לזכאות לדמי אבטלה בעקבות משבר הקורונה לחצו כאן באפשרותך לבדוק את זכאותך לדמי אבטלה במחשבון זכאות לדמי אבטלה.'\n"
     ]
    }
   ],
   "source": [
    "df['sentence'][452] = 'להנחיות לזכאות לדמי אבטלה בעקבות משבר הקורונה לחצו כאן באפשרותך לבדוק את זכאותך לדמי אבטלה במחשבון זכאות לדמי אבטלה.'"
   ]
  },
  {
   "cell_type": "code",
   "execution_count": 125,
   "metadata": {},
   "outputs": [
    {
     "data": {
      "text/plain": [
       "\"המוקד זמין בימים א' – ה' בין השעות 08:00 – 17:00 בטלפון: 08-6206511 או 9771*מענה טלפוני ממוחשב – המענה הממוחשב זמין 24 שעות ביממה בטלפון: 1800-200-155תשלום מקווןנפתח בחלון חדשאפליקציית CellPay – לאחר הורדת האפליקציה תוכלו לסרוק את הקוד המופיע על החשבון התקופתי שלכם ולשלם דרך האפליקציה.\""
      ]
     },
     "execution_count": 125,
     "metadata": {},
     "output_type": "execute_result"
    }
   ],
   "source": [
    "df['sentence'][453]"
   ]
  },
  {
   "cell_type": "code",
   "execution_count": 126,
   "metadata": {},
   "outputs": [
    {
     "name": "stderr",
     "output_type": "stream",
     "text": [
      "<ipython-input-126-8e1b4c6b6148>:1: SettingWithCopyWarning: \n",
      "A value is trying to be set on a copy of a slice from a DataFrame\n",
      "\n",
      "See the caveats in the documentation: https://pandas.pydata.org/pandas-docs/stable/user_guide/indexing.html#returning-a-view-versus-a-copy\n",
      "  df['sentence'][453] = \"המוקד זמין בימים א' – ה' בין השעות 08:00 – 17:00 בטלפון: 08-6206511 או 9771*מענה טלפוני ממוחשב – המענה הממוחשב זמין 24 שעות ביממה בטלפון: 1800-200-155 תשלום מקוון נפתח בחלון חדש אפליקציית CellPay – לאחר הורדת האפליקציה תוכלו לסרוק את הקוד המופיע על החשבון התקופתי שלכם ולשלם דרך האפליקציה.\"\n"
     ]
    }
   ],
   "source": [
    "df['sentence'][453] = \"המוקד זמין בימים א' – ה' בין השעות 08:00 – 17:00 בטלפון: 08-6206511 או 9771*מענה טלפוני ממוחשב – המענה הממוחשב זמין 24 שעות ביממה בטלפון: 1800-200-155 תשלום מקוון נפתח בחלון חדש אפליקציית CellPay – לאחר הורדת האפליקציה תוכלו לסרוק את הקוד המופיע על החשבון התקופתי שלכם ולשלם דרך האפליקציה.\""
   ]
  },
  {
   "cell_type": "code",
   "execution_count": 127,
   "metadata": {},
   "outputs": [
    {
     "data": {
      "text/plain": [
       "'אולם שמחות, למעט חדר נפרד לחלוטין, אם קיים, שהוקצה לעישון בידי הנהלת אולם השמחות במפורש,אם הוקצה, ובלבד שיש בו סידורי אוורור תקינים והעישון בו אינו גורם למטרד בחלקים אחרים של אולםהשמחות ושטחו אינו עולה על רבע של שטח הפתוח לציבור ובלבד שעומד בתנאים הקבועים בחוק.'"
      ]
     },
     "execution_count": 127,
     "metadata": {},
     "output_type": "execute_result"
    }
   ],
   "source": [
    "df['sentence'][460]"
   ]
  },
  {
   "cell_type": "code",
   "execution_count": 128,
   "metadata": {},
   "outputs": [
    {
     "name": "stderr",
     "output_type": "stream",
     "text": [
      "<ipython-input-128-ef9acf95df2d>:1: SettingWithCopyWarning: \n",
      "A value is trying to be set on a copy of a slice from a DataFrame\n",
      "\n",
      "See the caveats in the documentation: https://pandas.pydata.org/pandas-docs/stable/user_guide/indexing.html#returning-a-view-versus-a-copy\n",
      "  df['sentence'][460] = 'אולם שמחות, למעט חדר נפרד לחלוטין, אם קיים, שהוקצה לעישון בידי הנהלת אולם השמחות במפורש,אם הוקצה, ובלבד שיש בו סידורי אוורור תקינים והעישון בו אינו גורם למטרד בחלקים אחרים של אולם השמחות ושטחו אינו עולה על רבע של שטח הפתוח לציבור ובלבד שעומד בתנאים הקבועים בחוק.'\n"
     ]
    }
   ],
   "source": [
    "df['sentence'][460] = 'אולם שמחות, למעט חדר נפרד לחלוטין, אם קיים, שהוקצה לעישון בידי הנהלת אולם השמחות במפורש,אם הוקצה, ובלבד שיש בו סידורי אוורור תקינים והעישון בו אינו גורם למטרד בחלקים אחרים של אולם השמחות ושטחו אינו עולה על רבע של שטח הפתוח לציבור ובלבד שעומד בתנאים הקבועים בחוק.'"
   ]
  },
  {
   "cell_type": "code",
   "execution_count": 129,
   "metadata": {},
   "outputs": [
    {
     "data": {
      "text/plain": [
       "'שלב ראשון: הרופא מעיין במסמכים שבתיקלפני שתוזמן להיכנס לחדר, רופא הוועדה יעיין במסמכים הרפואיים הנמצאים בתיק שלך.'"
      ]
     },
     "execution_count": 129,
     "metadata": {},
     "output_type": "execute_result"
    }
   ],
   "source": [
    "df['sentence'][461]"
   ]
  },
  {
   "cell_type": "code",
   "execution_count": 130,
   "metadata": {},
   "outputs": [
    {
     "name": "stderr",
     "output_type": "stream",
     "text": [
      "<ipython-input-130-b05dc9d7b475>:1: SettingWithCopyWarning: \n",
      "A value is trying to be set on a copy of a slice from a DataFrame\n",
      "\n",
      "See the caveats in the documentation: https://pandas.pydata.org/pandas-docs/stable/user_guide/indexing.html#returning-a-view-versus-a-copy\n",
      "  df['sentence'][461] = 'שלב ראשון: הרופא מעיין במסמכים שבתיק לפני שתוזמן להיכנס לחדר, רופא הוועדה יעיין במסמכים הרפואיים הנמצאים בתיק שלך.'\n"
     ]
    }
   ],
   "source": [
    "df['sentence'][461] = 'שלב ראשון: הרופא מעיין במסמכים שבתיק לפני שתוזמן להיכנס לחדר, רופא הוועדה יעיין במסמכים הרפואיים הנמצאים בתיק שלך.'"
   ]
  },
  {
   "cell_type": "code",
   "execution_count": 131,
   "metadata": {},
   "outputs": [
    {
     "data": {
      "text/plain": [
       "'ועדת השמה חריגהבמקרים בודדים וחריגים מאוד של שינוי משמעותי בנסיבות עשויה להידרש הפניה של תלמיד לדיון לאחר המועד הנקוב וליישום ההחלטה במהלך שנת הלימודים הנוכחית.'"
      ]
     },
     "execution_count": 131,
     "metadata": {},
     "output_type": "execute_result"
    }
   ],
   "source": [
    "df['sentence'][463]"
   ]
  },
  {
   "cell_type": "code",
   "execution_count": 132,
   "metadata": {},
   "outputs": [
    {
     "name": "stderr",
     "output_type": "stream",
     "text": [
      "<ipython-input-132-2827460d4956>:1: SettingWithCopyWarning: \n",
      "A value is trying to be set on a copy of a slice from a DataFrame\n",
      "\n",
      "See the caveats in the documentation: https://pandas.pydata.org/pandas-docs/stable/user_guide/indexing.html#returning-a-view-versus-a-copy\n",
      "  df['sentence'][463] = 'ועדת השמה חריגה במקרים בודדים וחריגים מאוד של שינוי משמעותי בנסיבות עשויה להידרש הפניה של תלמיד לדיון לאחר המועד הנקוב וליישום ההחלטה במהלך שנת הלימודים הנוכחית.'\n"
     ]
    }
   ],
   "source": [
    "df['sentence'][463] = 'ועדת השמה חריגה במקרים בודדים וחריגים מאוד של שינוי משמעותי בנסיבות עשויה להידרש הפניה של תלמיד לדיון לאחר המועד הנקוב וליישום ההחלטה במהלך שנת הלימודים הנוכחית.'"
   ]
  },
  {
   "cell_type": "code",
   "execution_count": 133,
   "metadata": {},
   "outputs": [
    {
     "data": {
      "text/plain": [
       "'מקומות שנערכים בהם אירועים והופעות תחת כיפת השמיים בהם משתתפים למעלה מ- 50 איש, למעטחצר בית מגורים.'"
      ]
     },
     "execution_count": 133,
     "metadata": {},
     "output_type": "execute_result"
    }
   ],
   "source": [
    "df['sentence'][464]"
   ]
  },
  {
   "cell_type": "code",
   "execution_count": 134,
   "metadata": {},
   "outputs": [
    {
     "name": "stderr",
     "output_type": "stream",
     "text": [
      "<ipython-input-134-4aca82bde26e>:1: SettingWithCopyWarning: \n",
      "A value is trying to be set on a copy of a slice from a DataFrame\n",
      "\n",
      "See the caveats in the documentation: https://pandas.pydata.org/pandas-docs/stable/user_guide/indexing.html#returning-a-view-versus-a-copy\n",
      "  df['sentence'][464] = 'מקומות שנערכים בהם אירועים והופעות תחת כיפת השמיים בהם משתתפים למעלה מ- 50 איש, למעט חצר בית מגורים.'\n"
     ]
    }
   ],
   "source": [
    "df['sentence'][464] = 'מקומות שנערכים בהם אירועים והופעות תחת כיפת השמיים בהם משתתפים למעלה מ- 50 איש, למעט חצר בית מגורים.'"
   ]
  },
  {
   "cell_type": "code",
   "execution_count": 135,
   "metadata": {},
   "outputs": [
    {
     "data": {
      "text/plain": [
       "'בכל שלב ניתן לבטל את הוראת הקבע באמצעות טופס ביטול הוראת קבענפתח בחלון חדשיתרונות התשלום בהוראת קבעישנם מספר יתרונות  המטיבים איתכם באם תבחרו לשלם באמצעות הוראת קבע בבנק או בכרטיס האשראי.'"
      ]
     },
     "execution_count": 135,
     "metadata": {},
     "output_type": "execute_result"
    }
   ],
   "source": [
    "df['sentence'][488]"
   ]
  },
  {
   "cell_type": "code",
   "execution_count": 136,
   "metadata": {},
   "outputs": [
    {
     "name": "stderr",
     "output_type": "stream",
     "text": [
      "<ipython-input-136-6f4b3ce4aaed>:1: SettingWithCopyWarning: \n",
      "A value is trying to be set on a copy of a slice from a DataFrame\n",
      "\n",
      "See the caveats in the documentation: https://pandas.pydata.org/pandas-docs/stable/user_guide/indexing.html#returning-a-view-versus-a-copy\n",
      "  df['sentence'][488] = 'בכל שלב ניתן לבטל את הוראת הקבע באמצעות טופס ביטול הוראת קבע נפתח בחלון חדש יתרונות התשלום בהוראת קבע ישנם מספר יתרונות  המטיבים איתכם באם תבחרו לשלם באמצעות הוראת קבע בבנק או בכרטיס האשראי.'\n"
     ]
    }
   ],
   "source": [
    "df['sentence'][488] = 'בכל שלב ניתן לבטל את הוראת הקבע באמצעות טופס ביטול הוראת קבע נפתח בחלון חדש יתרונות התשלום בהוראת קבע ישנם מספר יתרונות  המטיבים איתכם באם תבחרו לשלם באמצעות הוראת קבע בבנק או בכרטיס האשראי.'"
   ]
  },
  {
   "cell_type": "code",
   "execution_count": 137,
   "metadata": {},
   "outputs": [
    {
     "data": {
      "text/plain": [
       "'במשרדי רשות ציבורית, משרדים ממשלתיים, בתי משפט ובתי דין, רשויות מקומיות ומועצות דתיות;השטח הפתוח לציבור בקניון, למעט בית עסק המפורט במקום אחר בתוספת זו ולמעט חדר עישוןנפרד לחלוטין שהוקצה לעישון, אם הוקצה, ובלבד שיש בו סידורי אוורור תקינים והעישון בו אינו גורםלמטרד בחלקים אחרים של המקום.'"
      ]
     },
     "execution_count": 137,
     "metadata": {},
     "output_type": "execute_result"
    }
   ],
   "source": [
    "df['sentence'][489]"
   ]
  },
  {
   "cell_type": "code",
   "execution_count": 138,
   "metadata": {},
   "outputs": [
    {
     "name": "stderr",
     "output_type": "stream",
     "text": [
      "<ipython-input-138-02866e95b943>:1: SettingWithCopyWarning: \n",
      "A value is trying to be set on a copy of a slice from a DataFrame\n",
      "\n",
      "See the caveats in the documentation: https://pandas.pydata.org/pandas-docs/stable/user_guide/indexing.html#returning-a-view-versus-a-copy\n",
      "  df['sentence'][489] = 'במשרדי רשות ציבורית, משרדים ממשלתיים, בתי משפט ובתי דין, רשויות מקומיות ומועצות דתיות;השטח הפתוח לציבור בקניון, למעט בית עסק המפורט במקום אחר בתוספת זו ולמעט חדר עישון נפרד לחלוטין שהוקצה לעישון, אם הוקצה, ובלבד שיש בו סידורי אוורור תקינים והעישון בו אינו גורם למטרד בחלקים אחרים של המקום.'\n"
     ]
    }
   ],
   "source": [
    "df['sentence'][489] = 'במשרדי רשות ציבורית, משרדים ממשלתיים, בתי משפט ובתי דין, רשויות מקומיות ומועצות דתיות;השטח הפתוח לציבור בקניון, למעט בית עסק המפורט במקום אחר בתוספת זו ולמעט חדר עישון נפרד לחלוטין שהוקצה לעישון, אם הוקצה, ובלבד שיש בו סידורי אוורור תקינים והעישון בו אינו גורם למטרד בחלקים אחרים של המקום.'"
   ]
  },
  {
   "cell_type": "code",
   "execution_count": 139,
   "metadata": {},
   "outputs": [
    {
     "data": {
      "text/plain": [
       "'בדיקה רפואיתהרופא יחליט בהתאם לסוג המחלה או הליקוי הרפואי שלך, אם יש צורך לבדוק אותך.'"
      ]
     },
     "execution_count": 139,
     "metadata": {},
     "output_type": "execute_result"
    }
   ],
   "source": [
    "df['sentence'][491]"
   ]
  },
  {
   "cell_type": "code",
   "execution_count": 140,
   "metadata": {},
   "outputs": [
    {
     "name": "stderr",
     "output_type": "stream",
     "text": [
      "<ipython-input-140-d13f22a3a760>:1: SettingWithCopyWarning: \n",
      "A value is trying to be set on a copy of a slice from a DataFrame\n",
      "\n",
      "See the caveats in the documentation: https://pandas.pydata.org/pandas-docs/stable/user_guide/indexing.html#returning-a-view-versus-a-copy\n",
      "  df['sentence'][491] = 'בדיקה רפואית הרופא יחליט בהתאם לסוג המחלה או הליקוי הרפואי שלך, אם יש צורך לבדוק אותך.'\n"
     ]
    }
   ],
   "source": [
    "df['sentence'][491] = 'בדיקה רפואית הרופא יחליט בהתאם לסוג המחלה או הליקוי הרפואי שלך, אם יש צורך לבדוק אותך.'"
   ]
  },
  {
   "cell_type": "code",
   "execution_count": 141,
   "metadata": {},
   "outputs": [
    {
     "data": {
      "text/plain": [
       "'יתרונות התשלום באמצעות הטלפון או האינטרנטגם התשלום הטלפוני או האינטרנטי עשוי להקל עליכם .'"
      ]
     },
     "execution_count": 141,
     "metadata": {},
     "output_type": "execute_result"
    }
   ],
   "source": [
    "df['sentence'][501]"
   ]
  },
  {
   "cell_type": "code",
   "execution_count": 142,
   "metadata": {},
   "outputs": [
    {
     "name": "stderr",
     "output_type": "stream",
     "text": [
      "<ipython-input-142-68806bab7e7a>:1: SettingWithCopyWarning: \n",
      "A value is trying to be set on a copy of a slice from a DataFrame\n",
      "\n",
      "See the caveats in the documentation: https://pandas.pydata.org/pandas-docs/stable/user_guide/indexing.html#returning-a-view-versus-a-copy\n",
      "  df['sentence'][501] = 'יתרונות התשלום באמצעות הטלפון או האינטרנט גם התשלום הטלפוני או האינטרנטי עשוי להקל עליכם .'\n"
     ]
    }
   ],
   "source": [
    "df['sentence'][501] = 'יתרונות התשלום באמצעות הטלפון או האינטרנט גם התשלום הטלפוני או האינטרנטי עשוי להקל עליכם .'"
   ]
  },
  {
   "cell_type": "code",
   "execution_count": 143,
   "metadata": {},
   "outputs": [
    {
     "data": {
      "text/plain": [
       "'הפניה של \"שאלון וועדת השמה\" חתום ע\"י מפקחת, מנהלת בי\"ס/גן והוריםצילום תעודת זהות של ההורה, עם פרטי הילד (במקרה של אפוטרופוס אחר, יש לצרף מסמך חוקי המעיד על כך).'"
      ]
     },
     "execution_count": 143,
     "metadata": {},
     "output_type": "execute_result"
    }
   ],
   "source": [
    "df['sentence'][503]"
   ]
  },
  {
   "cell_type": "code",
   "execution_count": 144,
   "metadata": {},
   "outputs": [
    {
     "name": "stderr",
     "output_type": "stream",
     "text": [
      "<ipython-input-144-9179d6f2bd37>:1: SettingWithCopyWarning: \n",
      "A value is trying to be set on a copy of a slice from a DataFrame\n",
      "\n",
      "See the caveats in the documentation: https://pandas.pydata.org/pandas-docs/stable/user_guide/indexing.html#returning-a-view-versus-a-copy\n",
      "  df['sentence'][503] = 'הפניה של \"שאלון וועדת השמה\" חתום ע\"י מפקחת, מנהלת בי\"ס/גן והורים צילום תעודת זהות של ההורה, עם פרטי הילד (במקרה של אפוטרופוס אחר, יש לצרף מסמך חוקי המעיד על כך).'\n"
     ]
    }
   ],
   "source": [
    "df['sentence'][503] = 'הפניה של \"שאלון וועדת השמה\" חתום ע\"י מפקחת, מנהלת בי\"ס/גן והורים צילום תעודת זהות של ההורה, עם פרטי הילד (במקרה של אפוטרופוס אחר, יש לצרף מסמך חוקי המעיד על כך).'"
   ]
  },
  {
   "cell_type": "code",
   "execution_count": null,
   "metadata": {},
   "outputs": [],
   "source": []
  },
  {
   "cell_type": "code",
   "execution_count": 145,
   "metadata": {},
   "outputs": [
    {
     "data": {
      "text/plain": [
       "'קבלת חשבון ארנונה בדוא\"למהיום ניתן לקבל  את חשבון הארנונה ישירות לדואר האלקטרוני (למייל), במקום בדואר.\\u200bתורם לאיכות הסביבהקבלת חשבון ארנונה תקופתי ללא עיכוב וללא תלות בדוארניתן לתיוק בקלותהשירות אינו כרוך בתשלוםניתן לקבל את חשבון הארנונה למייל במילוי טופסנפתח בחלון חדש\\u200b או בהרש\\u200bמה באתר האינטרנט \\u200bCityPayנפתח בחלון חדשחשוב להבהיר - חשבון הארנונה בדואר האלקטרוני מגיע כשהוא מאובטח ומי שאין לו הרשאה אינו יכול לצפות בפרטי השובר.'"
      ]
     },
     "execution_count": 145,
     "metadata": {},
     "output_type": "execute_result"
    }
   ],
   "source": [
    "df['sentence'][509]"
   ]
  },
  {
   "cell_type": "code",
   "execution_count": 146,
   "metadata": {},
   "outputs": [
    {
     "name": "stderr",
     "output_type": "stream",
     "text": [
      "<ipython-input-146-ab59eb280e5b>:1: SettingWithCopyWarning: \n",
      "A value is trying to be set on a copy of a slice from a DataFrame\n",
      "\n",
      "See the caveats in the documentation: https://pandas.pydata.org/pandas-docs/stable/user_guide/indexing.html#returning-a-view-versus-a-copy\n",
      "  df['sentence'][503] = 'קבלת חשבון ארנונה בדוא\"ל.'\n"
     ]
    }
   ],
   "source": [
    "df['sentence'][503] = 'קבלת חשבון ארנונה בדוא\"ל.'"
   ]
  },
  {
   "cell_type": "code",
   "execution_count": 147,
   "metadata": {},
   "outputs": [],
   "source": [
    "df = df.append({'sentence': 'מהיום ניתן לקבל  את חשבון הארנונה ישירות לדואר האלקטרוני (למייל), במקום בדואר.', 'no_change': 0, 'summarizing': 1}, ignore_index=True)"
   ]
  },
  {
   "cell_type": "code",
   "execution_count": 148,
   "metadata": {},
   "outputs": [],
   "source": [
    "df = df.append({'sentence': '.תורם לאיכות הסביבה, קבלת חשבון ארנונה תקופתי ללא עיכוב וללא תלות בדואר, ניתן לתיוק בקלות, השירות אינו כרוך בתשלום', 'no_change': 0, 'summarizing': 1}, ignore_index=True)"
   ]
  },
  {
   "cell_type": "code",
   "execution_count": 149,
   "metadata": {},
   "outputs": [],
   "source": [
    "df = df.append({'sentence': 'ניתן לקבל את חשבון הארנונה למייל במילוי טופס.', 'no_change': 0, 'summarizing': 1}, ignore_index=True)"
   ]
  },
  {
   "cell_type": "code",
   "execution_count": 150,
   "metadata": {},
   "outputs": [],
   "source": [
    "df = df.append({'sentence': 'חשבון הארנונה בדואר האלקטרוני מגיע כשהוא מאובטח ומי שאין לו הרשאה אינו יכול לצפות בפרטי השובר.', 'no_change': 0, 'summarizing': 1}, ignore_index=True)"
   ]
  },
  {
   "cell_type": "code",
   "execution_count": null,
   "metadata": {},
   "outputs": [],
   "source": []
  },
  {
   "cell_type": "code",
   "execution_count": 151,
   "metadata": {},
   "outputs": [
    {
     "data": {
      "text/html": [
       "<div>\n",
       "<style scoped>\n",
       "    .dataframe tbody tr th:only-of-type {\n",
       "        vertical-align: middle;\n",
       "    }\n",
       "\n",
       "    .dataframe tbody tr th {\n",
       "        vertical-align: top;\n",
       "    }\n",
       "\n",
       "    .dataframe thead th {\n",
       "        text-align: right;\n",
       "    }\n",
       "</style>\n",
       "<table border=\"1\" class=\"dataframe\">\n",
       "  <thead>\n",
       "    <tr style=\"text-align: right;\">\n",
       "      <th></th>\n",
       "      <th>sentence</th>\n",
       "      <th>no_change</th>\n",
       "      <th>summarizing</th>\n",
       "    </tr>\n",
       "  </thead>\n",
       "  <tbody>\n",
       "    <tr>\n",
       "      <th>0</th>\n",
       "      <td>והנפיחות בעיניים?</td>\n",
       "      <td>1</td>\n",
       "      <td>0</td>\n",
       "    </tr>\n",
       "    <tr>\n",
       "      <th>1</th>\n",
       "      <td>ככלל, כדאי להיות קשובים לגוף וכשאשר מופיעים סי...</td>\n",
       "      <td>0</td>\n",
       "      <td>1</td>\n",
       "    </tr>\n",
       "    <tr>\n",
       "      <th>2</th>\n",
       "      <td>הצגה עצמיתתחילה תתבקש לפרט את המחלות או הליקוי...</td>\n",
       "      <td>0</td>\n",
       "      <td>1</td>\n",
       "    </tr>\n",
       "    <tr>\n",
       "      <th>3</th>\n",
       "      <td>מגמת משרד החינוך הינה לשלב את הילד בעל הצרכים ...</td>\n",
       "      <td>0</td>\n",
       "      <td>1</td>\n",
       "    </tr>\n",
       "    <tr>\n",
       "      <th>4</th>\n",
       "      <td>בייעוץ כזה יובאו בחשבון המסלול, משך הטיול, אופ...</td>\n",
       "      <td>0</td>\n",
       "      <td>1</td>\n",
       "    </tr>\n",
       "    <tr>\n",
       "      <th>...</th>\n",
       "      <td>...</td>\n",
       "      <td>...</td>\n",
       "      <td>...</td>\n",
       "    </tr>\n",
       "    <tr>\n",
       "      <th>520</th>\n",
       "      <td>הורים יקרים,במדריך הזה מפורט התהליך העומד בפני...</td>\n",
       "      <td>0</td>\n",
       "      <td>1</td>\n",
       "    </tr>\n",
       "    <tr>\n",
       "      <th>521</th>\n",
       "      <td>מהיום ניתן לקבל  את חשבון הארנונה ישירות לדואר...</td>\n",
       "      <td>0</td>\n",
       "      <td>1</td>\n",
       "    </tr>\n",
       "    <tr>\n",
       "      <th>522</th>\n",
       "      <td>.תורם לאיכות הסביבה, קבלת חשבון ארנונה תקופתי ...</td>\n",
       "      <td>0</td>\n",
       "      <td>1</td>\n",
       "    </tr>\n",
       "    <tr>\n",
       "      <th>523</th>\n",
       "      <td>ניתן לקבל את חשבון הארנונה למייל במילוי טופס.</td>\n",
       "      <td>0</td>\n",
       "      <td>1</td>\n",
       "    </tr>\n",
       "    <tr>\n",
       "      <th>524</th>\n",
       "      <td>חשבון הארנונה בדואר האלקטרוני מגיע כשהוא מאובט...</td>\n",
       "      <td>0</td>\n",
       "      <td>1</td>\n",
       "    </tr>\n",
       "  </tbody>\n",
       "</table>\n",
       "<p>525 rows × 3 columns</p>\n",
       "</div>"
      ],
      "text/plain": [
       "                                              sentence  no_change  summarizing\n",
       "0                                    והנפיחות בעיניים?          1            0\n",
       "1    ככלל, כדאי להיות קשובים לגוף וכשאשר מופיעים סי...          0            1\n",
       "2    הצגה עצמיתתחילה תתבקש לפרט את המחלות או הליקוי...          0            1\n",
       "3    מגמת משרד החינוך הינה לשלב את הילד בעל הצרכים ...          0            1\n",
       "4    בייעוץ כזה יובאו בחשבון המסלול, משך הטיול, אופ...          0            1\n",
       "..                                                 ...        ...          ...\n",
       "520  הורים יקרים,במדריך הזה מפורט התהליך העומד בפני...          0            1\n",
       "521  מהיום ניתן לקבל  את חשבון הארנונה ישירות לדואר...          0            1\n",
       "522  .תורם לאיכות הסביבה, קבלת חשבון ארנונה תקופתי ...          0            1\n",
       "523      ניתן לקבל את חשבון הארנונה למייל במילוי טופס.          0            1\n",
       "524  חשבון הארנונה בדואר האלקטרוני מגיע כשהוא מאובט...          0            1\n",
       "\n",
       "[525 rows x 3 columns]"
      ]
     },
     "execution_count": 151,
     "metadata": {},
     "output_type": "execute_result"
    }
   ],
   "source": [
    "df"
   ]
  },
  {
   "cell_type": "code",
   "execution_count": null,
   "metadata": {},
   "outputs": [],
   "source": []
  },
  {
   "cell_type": "code",
   "execution_count": 152,
   "metadata": {},
   "outputs": [
    {
     "data": {
      "text/html": [
       "<div>\n",
       "<style scoped>\n",
       "    .dataframe tbody tr th:only-of-type {\n",
       "        vertical-align: middle;\n",
       "    }\n",
       "\n",
       "    .dataframe tbody tr th {\n",
       "        vertical-align: top;\n",
       "    }\n",
       "\n",
       "    .dataframe thead th {\n",
       "        text-align: right;\n",
       "    }\n",
       "</style>\n",
       "<table border=\"1\" class=\"dataframe\">\n",
       "  <thead>\n",
       "    <tr style=\"text-align: right;\">\n",
       "      <th></th>\n",
       "      <th>sentence</th>\n",
       "      <th>no_change</th>\n",
       "      <th>summarizing</th>\n",
       "    </tr>\n",
       "  </thead>\n",
       "  <tbody>\n",
       "    <tr>\n",
       "      <th>0</th>\n",
       "      <td>והנפיחות בעיניים?</td>\n",
       "      <td>1</td>\n",
       "      <td>0</td>\n",
       "    </tr>\n",
       "    <tr>\n",
       "      <th>1</th>\n",
       "      <td>ככלל, כדאי להיות קשובים לגוף וכשאשר מופיעים סי...</td>\n",
       "      <td>0</td>\n",
       "      <td>1</td>\n",
       "    </tr>\n",
       "    <tr>\n",
       "      <th>2</th>\n",
       "      <td>הצגה עצמיתתחילה תתבקש לפרט את המחלות או הליקוי...</td>\n",
       "      <td>0</td>\n",
       "      <td>1</td>\n",
       "    </tr>\n",
       "    <tr>\n",
       "      <th>3</th>\n",
       "      <td>מגמת משרד החינוך הינה לשלב את הילד בעל הצרכים ...</td>\n",
       "      <td>0</td>\n",
       "      <td>1</td>\n",
       "    </tr>\n",
       "    <tr>\n",
       "      <th>4</th>\n",
       "      <td>בייעוץ כזה יובאו בחשבון המסלול, משך הטיול, אופ...</td>\n",
       "      <td>0</td>\n",
       "      <td>1</td>\n",
       "    </tr>\n",
       "    <tr>\n",
       "      <th>...</th>\n",
       "      <td>...</td>\n",
       "      <td>...</td>\n",
       "      <td>...</td>\n",
       "    </tr>\n",
       "    <tr>\n",
       "      <th>520</th>\n",
       "      <td>הורים יקרים,במדריך הזה מפורט התהליך העומד בפני...</td>\n",
       "      <td>0</td>\n",
       "      <td>1</td>\n",
       "    </tr>\n",
       "    <tr>\n",
       "      <th>521</th>\n",
       "      <td>מהיום ניתן לקבל  את חשבון הארנונה ישירות לדואר...</td>\n",
       "      <td>0</td>\n",
       "      <td>1</td>\n",
       "    </tr>\n",
       "    <tr>\n",
       "      <th>522</th>\n",
       "      <td>.תורם לאיכות הסביבה, קבלת חשבון ארנונה תקופתי ...</td>\n",
       "      <td>0</td>\n",
       "      <td>1</td>\n",
       "    </tr>\n",
       "    <tr>\n",
       "      <th>523</th>\n",
       "      <td>ניתן לקבל את חשבון הארנונה למייל במילוי טופס.</td>\n",
       "      <td>0</td>\n",
       "      <td>1</td>\n",
       "    </tr>\n",
       "    <tr>\n",
       "      <th>524</th>\n",
       "      <td>חשבון הארנונה בדואר האלקטרוני מגיע כשהוא מאובט...</td>\n",
       "      <td>0</td>\n",
       "      <td>1</td>\n",
       "    </tr>\n",
       "  </tbody>\n",
       "</table>\n",
       "<p>521 rows × 3 columns</p>\n",
       "</div>"
      ],
      "text/plain": [
       "                                              sentence  no_change  summarizing\n",
       "0                                    והנפיחות בעיניים?          1            0\n",
       "1    ככלל, כדאי להיות קשובים לגוף וכשאשר מופיעים סי...          0            1\n",
       "2    הצגה עצמיתתחילה תתבקש לפרט את המחלות או הליקוי...          0            1\n",
       "3    מגמת משרד החינוך הינה לשלב את הילד בעל הצרכים ...          0            1\n",
       "4    בייעוץ כזה יובאו בחשבון המסלול, משך הטיול, אופ...          0            1\n",
       "..                                                 ...        ...          ...\n",
       "520  הורים יקרים,במדריך הזה מפורט התהליך העומד בפני...          0            1\n",
       "521  מהיום ניתן לקבל  את חשבון הארנונה ישירות לדואר...          0            1\n",
       "522  .תורם לאיכות הסביבה, קבלת חשבון ארנונה תקופתי ...          0            1\n",
       "523      ניתן לקבל את חשבון הארנונה למייל במילוי טופס.          0            1\n",
       "524  חשבון הארנונה בדואר האלקטרוני מגיע כשהוא מאובט...          0            1\n",
       "\n",
       "[521 rows x 3 columns]"
      ]
     },
     "execution_count": 152,
     "metadata": {},
     "output_type": "execute_result"
    }
   ],
   "source": [
    "df = df.drop(df.index[[54, 96, 266, 447]]) # 55 97 267 448\n",
    "df"
   ]
  },
  {
   "cell_type": "code",
   "execution_count": 153,
   "metadata": {},
   "outputs": [],
   "source": [
    "df2 = df"
   ]
  },
  {
   "cell_type": "code",
   "execution_count": 154,
   "metadata": {},
   "outputs": [
    {
     "data": {
      "text/html": [
       "<div>\n",
       "<style scoped>\n",
       "    .dataframe tbody tr th:only-of-type {\n",
       "        vertical-align: middle;\n",
       "    }\n",
       "\n",
       "    .dataframe tbody tr th {\n",
       "        vertical-align: top;\n",
       "    }\n",
       "\n",
       "    .dataframe thead th {\n",
       "        text-align: right;\n",
       "    }\n",
       "</style>\n",
       "<table border=\"1\" class=\"dataframe\">\n",
       "  <thead>\n",
       "    <tr style=\"text-align: right;\">\n",
       "      <th></th>\n",
       "      <th>sentence</th>\n",
       "      <th>no_change</th>\n",
       "      <th>summarizing</th>\n",
       "    </tr>\n",
       "  </thead>\n",
       "  <tbody>\n",
       "    <tr>\n",
       "      <th>0</th>\n",
       "      <td>והנפיחות בעיניים?</td>\n",
       "      <td>1</td>\n",
       "      <td>0</td>\n",
       "    </tr>\n",
       "    <tr>\n",
       "      <th>1</th>\n",
       "      <td>ככלל, כדאי להיות קשובים לגוף וכשאשר מופיעים סי...</td>\n",
       "      <td>0</td>\n",
       "      <td>1</td>\n",
       "    </tr>\n",
       "    <tr>\n",
       "      <th>2</th>\n",
       "      <td>הצגה עצמיתתחילה תתבקש לפרט את המחלות או הליקוי...</td>\n",
       "      <td>0</td>\n",
       "      <td>1</td>\n",
       "    </tr>\n",
       "    <tr>\n",
       "      <th>3</th>\n",
       "      <td>מגמת משרד החינוך הינה לשלב את הילד בעל הצרכים ...</td>\n",
       "      <td>0</td>\n",
       "      <td>1</td>\n",
       "    </tr>\n",
       "    <tr>\n",
       "      <th>4</th>\n",
       "      <td>בייעוץ כזה יובאו בחשבון המסלול, משך הטיול, אופ...</td>\n",
       "      <td>0</td>\n",
       "      <td>1</td>\n",
       "    </tr>\n",
       "    <tr>\n",
       "      <th>...</th>\n",
       "      <td>...</td>\n",
       "      <td>...</td>\n",
       "      <td>...</td>\n",
       "    </tr>\n",
       "    <tr>\n",
       "      <th>520</th>\n",
       "      <td>הורים יקרים,במדריך הזה מפורט התהליך העומד בפני...</td>\n",
       "      <td>0</td>\n",
       "      <td>1</td>\n",
       "    </tr>\n",
       "    <tr>\n",
       "      <th>521</th>\n",
       "      <td>מהיום ניתן לקבל  את חשבון הארנונה ישירות לדואר...</td>\n",
       "      <td>0</td>\n",
       "      <td>1</td>\n",
       "    </tr>\n",
       "    <tr>\n",
       "      <th>522</th>\n",
       "      <td>.תורם לאיכות הסביבה, קבלת חשבון ארנונה תקופתי ...</td>\n",
       "      <td>0</td>\n",
       "      <td>1</td>\n",
       "    </tr>\n",
       "    <tr>\n",
       "      <th>523</th>\n",
       "      <td>ניתן לקבל את חשבון הארנונה למייל במילוי טופס.</td>\n",
       "      <td>0</td>\n",
       "      <td>1</td>\n",
       "    </tr>\n",
       "    <tr>\n",
       "      <th>524</th>\n",
       "      <td>חשבון הארנונה בדואר האלקטרוני מגיע כשהוא מאובט...</td>\n",
       "      <td>0</td>\n",
       "      <td>1</td>\n",
       "    </tr>\n",
       "  </tbody>\n",
       "</table>\n",
       "<p>521 rows × 3 columns</p>\n",
       "</div>"
      ],
      "text/plain": [
       "                                              sentence  no_change  summarizing\n",
       "0                                    והנפיחות בעיניים?          1            0\n",
       "1    ככלל, כדאי להיות קשובים לגוף וכשאשר מופיעים סי...          0            1\n",
       "2    הצגה עצמיתתחילה תתבקש לפרט את המחלות או הליקוי...          0            1\n",
       "3    מגמת משרד החינוך הינה לשלב את הילד בעל הצרכים ...          0            1\n",
       "4    בייעוץ כזה יובאו בחשבון המסלול, משך הטיול, אופ...          0            1\n",
       "..                                                 ...        ...          ...\n",
       "520  הורים יקרים,במדריך הזה מפורט התהליך העומד בפני...          0            1\n",
       "521  מהיום ניתן לקבל  את חשבון הארנונה ישירות לדואר...          0            1\n",
       "522  .תורם לאיכות הסביבה, קבלת חשבון ארנונה תקופתי ...          0            1\n",
       "523      ניתן לקבל את חשבון הארנונה למייל במילוי טופס.          0            1\n",
       "524  חשבון הארנונה בדואר האלקטרוני מגיע כשהוא מאובט...          0            1\n",
       "\n",
       "[521 rows x 3 columns]"
      ]
     },
     "execution_count": 154,
     "metadata": {},
     "output_type": "execute_result"
    }
   ],
   "source": [
    "df2"
   ]
  },
  {
   "cell_type": "code",
   "execution_count": null,
   "metadata": {},
   "outputs": [],
   "source": []
  },
  {
   "cell_type": "code",
   "execution_count": 155,
   "metadata": {},
   "outputs": [],
   "source": [
    "# del df2['no_change']\n",
    "# del df2['summarizing']"
   ]
  },
  {
   "cell_type": "code",
   "execution_count": 156,
   "metadata": {},
   "outputs": [
    {
     "data": {
      "text/html": [
       "<div>\n",
       "<style scoped>\n",
       "    .dataframe tbody tr th:only-of-type {\n",
       "        vertical-align: middle;\n",
       "    }\n",
       "\n",
       "    .dataframe tbody tr th {\n",
       "        vertical-align: top;\n",
       "    }\n",
       "\n",
       "    .dataframe thead th {\n",
       "        text-align: right;\n",
       "    }\n",
       "</style>\n",
       "<table border=\"1\" class=\"dataframe\">\n",
       "  <thead>\n",
       "    <tr style=\"text-align: right;\">\n",
       "      <th></th>\n",
       "      <th>sentence</th>\n",
       "      <th>no_change</th>\n",
       "      <th>summarizing</th>\n",
       "    </tr>\n",
       "  </thead>\n",
       "  <tbody>\n",
       "    <tr>\n",
       "      <th>0</th>\n",
       "      <td>והנפיחות בעיניים?</td>\n",
       "      <td>1</td>\n",
       "      <td>0</td>\n",
       "    </tr>\n",
       "    <tr>\n",
       "      <th>1</th>\n",
       "      <td>ככלל, כדאי להיות קשובים לגוף וכשאשר מופיעים סי...</td>\n",
       "      <td>0</td>\n",
       "      <td>1</td>\n",
       "    </tr>\n",
       "    <tr>\n",
       "      <th>2</th>\n",
       "      <td>הצגה עצמיתתחילה תתבקש לפרט את המחלות או הליקוי...</td>\n",
       "      <td>0</td>\n",
       "      <td>1</td>\n",
       "    </tr>\n",
       "    <tr>\n",
       "      <th>3</th>\n",
       "      <td>מגמת משרד החינוך הינה לשלב את הילד בעל הצרכים ...</td>\n",
       "      <td>0</td>\n",
       "      <td>1</td>\n",
       "    </tr>\n",
       "    <tr>\n",
       "      <th>4</th>\n",
       "      <td>בייעוץ כזה יובאו בחשבון המסלול, משך הטיול, אופ...</td>\n",
       "      <td>0</td>\n",
       "      <td>1</td>\n",
       "    </tr>\n",
       "    <tr>\n",
       "      <th>...</th>\n",
       "      <td>...</td>\n",
       "      <td>...</td>\n",
       "      <td>...</td>\n",
       "    </tr>\n",
       "    <tr>\n",
       "      <th>520</th>\n",
       "      <td>הורים יקרים,במדריך הזה מפורט התהליך העומד בפני...</td>\n",
       "      <td>0</td>\n",
       "      <td>1</td>\n",
       "    </tr>\n",
       "    <tr>\n",
       "      <th>521</th>\n",
       "      <td>מהיום ניתן לקבל  את חשבון הארנונה ישירות לדואר...</td>\n",
       "      <td>0</td>\n",
       "      <td>1</td>\n",
       "    </tr>\n",
       "    <tr>\n",
       "      <th>522</th>\n",
       "      <td>.תורם לאיכות הסביבה, קבלת חשבון ארנונה תקופתי ...</td>\n",
       "      <td>0</td>\n",
       "      <td>1</td>\n",
       "    </tr>\n",
       "    <tr>\n",
       "      <th>523</th>\n",
       "      <td>ניתן לקבל את חשבון הארנונה למייל במילוי טופס.</td>\n",
       "      <td>0</td>\n",
       "      <td>1</td>\n",
       "    </tr>\n",
       "    <tr>\n",
       "      <th>524</th>\n",
       "      <td>חשבון הארנונה בדואר האלקטרוני מגיע כשהוא מאובט...</td>\n",
       "      <td>0</td>\n",
       "      <td>1</td>\n",
       "    </tr>\n",
       "  </tbody>\n",
       "</table>\n",
       "<p>521 rows × 3 columns</p>\n",
       "</div>"
      ],
      "text/plain": [
       "                                              sentence  no_change  summarizing\n",
       "0                                    והנפיחות בעיניים?          1            0\n",
       "1    ככלל, כדאי להיות קשובים לגוף וכשאשר מופיעים סי...          0            1\n",
       "2    הצגה עצמיתתחילה תתבקש לפרט את המחלות או הליקוי...          0            1\n",
       "3    מגמת משרד החינוך הינה לשלב את הילד בעל הצרכים ...          0            1\n",
       "4    בייעוץ כזה יובאו בחשבון המסלול, משך הטיול, אופ...          0            1\n",
       "..                                                 ...        ...          ...\n",
       "520  הורים יקרים,במדריך הזה מפורט התהליך העומד בפני...          0            1\n",
       "521  מהיום ניתן לקבל  את חשבון הארנונה ישירות לדואר...          0            1\n",
       "522  .תורם לאיכות הסביבה, קבלת חשבון ארנונה תקופתי ...          0            1\n",
       "523      ניתן לקבל את חשבון הארנונה למייל במילוי טופס.          0            1\n",
       "524  חשבון הארנונה בדואר האלקטרוני מגיע כשהוא מאובט...          0            1\n",
       "\n",
       "[521 rows x 3 columns]"
      ]
     },
     "execution_count": 156,
     "metadata": {},
     "output_type": "execute_result"
    }
   ],
   "source": [
    "df2"
   ]
  },
  {
   "cell_type": "code",
   "execution_count": null,
   "metadata": {},
   "outputs": [],
   "source": []
  },
  {
   "cell_type": "code",
   "execution_count": 157,
   "metadata": {},
   "outputs": [],
   "source": [
    "df2.to_csv('sentences_final4.csv', index = False, encoding = 'utf-8-sig')"
   ]
  },
  {
   "cell_type": "code",
   "execution_count": 158,
   "metadata": {},
   "outputs": [],
   "source": [
    "df3 = pd.read_csv('sentences_final4.csv')"
   ]
  },
  {
   "cell_type": "code",
   "execution_count": 159,
   "metadata": {},
   "outputs": [
    {
     "data": {
      "text/html": [
       "<div>\n",
       "<style scoped>\n",
       "    .dataframe tbody tr th:only-of-type {\n",
       "        vertical-align: middle;\n",
       "    }\n",
       "\n",
       "    .dataframe tbody tr th {\n",
       "        vertical-align: top;\n",
       "    }\n",
       "\n",
       "    .dataframe thead th {\n",
       "        text-align: right;\n",
       "    }\n",
       "</style>\n",
       "<table border=\"1\" class=\"dataframe\">\n",
       "  <thead>\n",
       "    <tr style=\"text-align: right;\">\n",
       "      <th></th>\n",
       "      <th>sentence</th>\n",
       "      <th>no_change</th>\n",
       "      <th>summarizing</th>\n",
       "    </tr>\n",
       "  </thead>\n",
       "  <tbody>\n",
       "    <tr>\n",
       "      <th>0</th>\n",
       "      <td>והנפיחות בעיניים?</td>\n",
       "      <td>1</td>\n",
       "      <td>0</td>\n",
       "    </tr>\n",
       "    <tr>\n",
       "      <th>1</th>\n",
       "      <td>ככלל, כדאי להיות קשובים לגוף וכשאשר מופיעים סי...</td>\n",
       "      <td>0</td>\n",
       "      <td>1</td>\n",
       "    </tr>\n",
       "    <tr>\n",
       "      <th>2</th>\n",
       "      <td>הצגה עצמיתתחילה תתבקש לפרט את המחלות או הליקוי...</td>\n",
       "      <td>0</td>\n",
       "      <td>1</td>\n",
       "    </tr>\n",
       "    <tr>\n",
       "      <th>3</th>\n",
       "      <td>מגמת משרד החינוך הינה לשלב את הילד בעל הצרכים ...</td>\n",
       "      <td>0</td>\n",
       "      <td>1</td>\n",
       "    </tr>\n",
       "    <tr>\n",
       "      <th>4</th>\n",
       "      <td>בייעוץ כזה יובאו בחשבון המסלול, משך הטיול, אופ...</td>\n",
       "      <td>0</td>\n",
       "      <td>1</td>\n",
       "    </tr>\n",
       "    <tr>\n",
       "      <th>...</th>\n",
       "      <td>...</td>\n",
       "      <td>...</td>\n",
       "      <td>...</td>\n",
       "    </tr>\n",
       "    <tr>\n",
       "      <th>516</th>\n",
       "      <td>הורים יקרים,במדריך הזה מפורט התהליך העומד בפני...</td>\n",
       "      <td>0</td>\n",
       "      <td>1</td>\n",
       "    </tr>\n",
       "    <tr>\n",
       "      <th>517</th>\n",
       "      <td>מהיום ניתן לקבל  את חשבון הארנונה ישירות לדואר...</td>\n",
       "      <td>0</td>\n",
       "      <td>1</td>\n",
       "    </tr>\n",
       "    <tr>\n",
       "      <th>518</th>\n",
       "      <td>.תורם לאיכות הסביבה, קבלת חשבון ארנונה תקופתי ...</td>\n",
       "      <td>0</td>\n",
       "      <td>1</td>\n",
       "    </tr>\n",
       "    <tr>\n",
       "      <th>519</th>\n",
       "      <td>ניתן לקבל את חשבון הארנונה למייל במילוי טופס.</td>\n",
       "      <td>0</td>\n",
       "      <td>1</td>\n",
       "    </tr>\n",
       "    <tr>\n",
       "      <th>520</th>\n",
       "      <td>חשבון הארנונה בדואר האלקטרוני מגיע כשהוא מאובט...</td>\n",
       "      <td>0</td>\n",
       "      <td>1</td>\n",
       "    </tr>\n",
       "  </tbody>\n",
       "</table>\n",
       "<p>521 rows × 3 columns</p>\n",
       "</div>"
      ],
      "text/plain": [
       "                                              sentence  no_change  summarizing\n",
       "0                                    והנפיחות בעיניים?          1            0\n",
       "1    ככלל, כדאי להיות קשובים לגוף וכשאשר מופיעים סי...          0            1\n",
       "2    הצגה עצמיתתחילה תתבקש לפרט את המחלות או הליקוי...          0            1\n",
       "3    מגמת משרד החינוך הינה לשלב את הילד בעל הצרכים ...          0            1\n",
       "4    בייעוץ כזה יובאו בחשבון המסלול, משך הטיול, אופ...          0            1\n",
       "..                                                 ...        ...          ...\n",
       "516  הורים יקרים,במדריך הזה מפורט התהליך העומד בפני...          0            1\n",
       "517  מהיום ניתן לקבל  את חשבון הארנונה ישירות לדואר...          0            1\n",
       "518  .תורם לאיכות הסביבה, קבלת חשבון ארנונה תקופתי ...          0            1\n",
       "519      ניתן לקבל את חשבון הארנונה למייל במילוי טופס.          0            1\n",
       "520  חשבון הארנונה בדואר האלקטרוני מגיע כשהוא מאובט...          0            1\n",
       "\n",
       "[521 rows x 3 columns]"
      ]
     },
     "execution_count": 159,
     "metadata": {},
     "output_type": "execute_result"
    }
   ],
   "source": [
    "df3"
   ]
  },
  {
   "cell_type": "code",
   "execution_count": null,
   "metadata": {},
   "outputs": [],
   "source": []
  }
 ],
 "metadata": {
  "kernelspec": {
   "display_name": "Python 3",
   "language": "python",
   "name": "python3"
  },
  "language_info": {
   "codemirror_mode": {
    "name": "ipython",
    "version": 3
   },
   "file_extension": ".py",
   "mimetype": "text/x-python",
   "name": "python",
   "nbconvert_exporter": "python",
   "pygments_lexer": "ipython3",
   "version": "3.8.5"
  }
 },
 "nbformat": 4,
 "nbformat_minor": 4
}
