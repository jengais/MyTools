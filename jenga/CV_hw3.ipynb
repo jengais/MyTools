{
 "cells": [
  {
   "cell_type": "code",
   "execution_count": 1,
   "metadata": {},
   "outputs": [],
   "source": [
    "import cv2\n",
    "import numpy as np\n",
    "import sys\n",
    "import os"
   ]
  },
  {
   "cell_type": "code",
   "execution_count": 2,
   "metadata": {},
   "outputs": [],
   "source": [
    "### 1"
   ]
  },
  {
   "cell_type": "code",
   "execution_count": 3,
   "metadata": {},
   "outputs": [],
   "source": [
    "img_left = sys.argv[1]\n",
    "img_right = sys.argv[2]\n",
    "output = sys.argv[3]\n",
    "\n",
    "\n",
    "il = cv2.cvtColor(img_left, cv2.COLOR_BGR2GRAY)\n",
    "ir = cv2.cvtColor(img_right, cv2.COLOR_BGR2GRAY)\n",
    "imgGray_left = img_left\n",
    "imgGray_right = img_right\n",
    "\n",
    "# height and width percent of right image\n",
    "percent = imgGray_right.shape[0]/imgGray_right.shape[1]\n",
    "\n",
    "# resized right image\n",
    "imgGray_right = cv2.resize(imgGray_right, (int(imgGray_left.shape[0]/percent), int(imgGray_left.shape[0])))\n",
    "\n",
    "# create keypoints and descriptors\n",
    "orb = cv2.ORB_create()\n",
    "keypoints_left, descriptors_left = orb.detectAndCompute(il, None)\n",
    "keypoints_right, descriptors_right = orb.detectAndCompute(ir, None)"
   ]
  },
  {
   "cell_type": "code",
   "execution_count": 5,
   "metadata": {},
   "outputs": [],
   "source": [
    "### 2"
   ]
  },
  {
   "cell_type": "code",
   "execution_count": 6,
   "metadata": {},
   "outputs": [],
   "source": [
    "# best distance function for ORB is NORM_HAMMING\n",
    "matcher = cv2.BFMatcher(cv2.NORM_HAMMING, crossCheck=True)\n",
    "\n",
    "matches1 = matcher.match(descriptors_left, descriptors_right)\n",
    "\n",
    "# sort matches by distance\n",
    "matches2 = sorted(matches1, key = lambda x:x.distance)\n",
    "\n",
    "# take 20% of lowest distance\n",
    "matches3 = matches2[:int(0.2*len(matches2))]\n",
    "\n",
    "# draw matches for two images\n",
    "imMatches = cv2.drawMatches(imgGray_left, keypoints_left, imgGray_right, keypoints_right, matches3, None)"
   ]
  },
  {
   "cell_type": "code",
   "execution_count": 7,
   "metadata": {},
   "outputs": [],
   "source": [
    "### 3"
   ]
  },
  {
   "cell_type": "code",
   "execution_count": 8,
   "metadata": {},
   "outputs": [],
   "source": [
    "# convert to vector\n",
    "src_pts = np.float32([ keypoints_right[m.trainIdx].pt for m in matches3 ]).reshape(-1,1,2)\n",
    "dst_pts = np.float32([ keypoints_left[m.queryIdx].pt for m in matches3 ]).reshape(-1,1,2)\n",
    "\n",
    "H, status = cv2.findHomography(src_pts, dst_pts, cv2.RANSAC) ### check sides"
   ]
  },
  {
   "cell_type": "code",
   "execution_count": 10,
   "metadata": {},
   "outputs": [],
   "source": [
    "### 4"
   ]
  },
  {
   "cell_type": "code",
   "execution_count": 11,
   "metadata": {},
   "outputs": [],
   "source": [
    "rows = int(imgGray_left.shape[0])\n",
    "cols_left = int(imgGray_left.shape[1])\n",
    "cols_right = int(imgGray_right.shape[1])\n",
    "\n",
    "warp = cv2.warpPerspective(imgGray_right, H, (cols_left + cols_right, rows))"
   ]
  },
  {
   "cell_type": "code",
   "execution_count": 13,
   "metadata": {},
   "outputs": [],
   "source": [
    "### 5"
   ]
  },
  {
   "cell_type": "code",
   "execution_count": 14,
   "metadata": {},
   "outputs": [],
   "source": [
    "warp[0:imgGray_left.shape[0], 0:imgGray_left.shape[1]] = imgGray_left\n",
    "res = cv2.cvtColor(warp, cv2.COLOR_BGR2GRAY)\n",
    "stam,thresh = cv2.threshold(res, 1, 255, cv2.THRESH_BINARY)\n",
    "\n",
    "contours, stam = cv2.findContours(thresh, cv2.RETR_EXTERNAL, cv2.CHAIN_APPROX_SIMPLE)\n",
    "cnt = contours[0]\n",
    "\n",
    "x,y,w,h = cv2.boundingRect(cnt)\n",
    "panorama = warp[y:y+h,x:x+w]"
   ]
  },
  {
   "cell_type": "code",
   "execution_count": 15,
   "metadata": {},
   "outputs": [
    {
     "data": {
      "text/plain": [
       "True"
      ]
     },
     "execution_count": 15,
     "metadata": {},
     "output_type": "execute_result"
    }
   ],
   "source": [
    "cv2.imwrite(os.path.join(output ,'Panorama.jpg'),panorama)"
   ]
  }
 ],
 "metadata": {
  "kernelspec": {
   "display_name": "Python 3 (ipykernel)",
   "language": "python",
   "name": "python3"
  },
  "language_info": {
   "codemirror_mode": {
    "name": "ipython",
    "version": 3
   },
   "file_extension": ".py",
   "mimetype": "text/x-python",
   "name": "python",
   "nbconvert_exporter": "python",
   "pygments_lexer": "ipython3",
   "version": "3.9.7"
  }
 },
 "nbformat": 4,
 "nbformat_minor": 4
}
