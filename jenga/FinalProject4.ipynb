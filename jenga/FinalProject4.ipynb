{
 "cells": [
  {
   "cell_type": "code",
   "execution_count": 8,
   "id": "a04360c5",
   "metadata": {},
   "outputs": [],
   "source": [
    "import numpy as np\n",
    "import pandas as pd\n",
    "from nltk import tokenize\n",
    "\n",
    "sentences = []"
   ]
  },
  {
   "cell_type": "code",
   "execution_count": 75,
   "id": "bd591e3b",
   "metadata": {},
   "outputs": [],
   "source": [
    "text = '''נטע פתחה את הפה בהפתעה:  \n",
    "\"אז מי היה הנועם ההוא, שישב בפיצרייה בחמש, עם משקפיים וג'ינס? \n",
    "אני הייתי בטוחה שהוא הנועם שלךְ\".\n",
    "תמר צחקה: \"עכשיו את מבינה למה הוא לא הבין כשהתנפלת עליו?\"\n",
    "נטע הֶחְוִירה (הפנים שלה נהיו לבנות): \"והשארתי לו את מספר הטלפון שלי.\"\n",
    "\"איזו פדיחה...תמר, מה אני אעשה אם הוא יצלצל? לספר לו את האמת? \n",
    "לגלות לו שהייתי בטוחה שהוא מישהו אחר? תמר, תעני לי, מה לעשות אם הוא\n",
    "יציע פגישה?\"\n",
    "תמר חייכה: \"נטע, אחרי מה שעברת היום, יש לי הרגשה שאת כבר לא צריכה \n",
    "אותי בתור מדריכה שלך. אם עברת את זה ונשארת בחיים, אני בטוחה \n",
    "שתצליחי להסתדר לבד\".\n",
    "'''"
   ]
  },
  {
   "cell_type": "code",
   "execution_count": 76,
   "id": "c34edd1c",
   "metadata": {},
   "outputs": [],
   "source": [
    "text2 = tokenize.sent_tokenize(text)\n",
    "sentences = sentences + text2"
   ]
  },
  {
   "cell_type": "code",
   "execution_count": 77,
   "id": "186cf791",
   "metadata": {},
   "outputs": [],
   "source": [
    "# for i in range(len(sentences)):\n",
    "#     print(len(text2[i].split()))"
   ]
  },
  {
   "cell_type": "code",
   "execution_count": null,
   "id": "047a8ee3",
   "metadata": {},
   "outputs": [],
   "source": []
  },
  {
   "cell_type": "code",
   "execution_count": null,
   "id": "c9ab4ed7",
   "metadata": {},
   "outputs": [],
   "source": []
  },
  {
   "cell_type": "code",
   "execution_count": 78,
   "id": "755be496",
   "metadata": {},
   "outputs": [
    {
     "data": {
      "text/plain": [
       "617"
      ]
     },
     "execution_count": 78,
     "metadata": {},
     "output_type": "execute_result"
    }
   ],
   "source": [
    "len(sentences)"
   ]
  },
  {
   "cell_type": "code",
   "execution_count": null,
   "id": "ac9ae5b9",
   "metadata": {},
   "outputs": [],
   "source": []
  },
  {
   "cell_type": "code",
   "execution_count": 79,
   "id": "82953868",
   "metadata": {},
   "outputs": [
    {
     "data": {
      "text/html": [
       "<div>\n",
       "<style scoped>\n",
       "    .dataframe tbody tr th:only-of-type {\n",
       "        vertical-align: middle;\n",
       "    }\n",
       "\n",
       "    .dataframe tbody tr th {\n",
       "        vertical-align: top;\n",
       "    }\n",
       "\n",
       "    .dataframe thead th {\n",
       "        text-align: right;\n",
       "    }\n",
       "</style>\n",
       "<table border=\"1\" class=\"dataframe\">\n",
       "  <thead>\n",
       "    <tr style=\"text-align: right;\">\n",
       "      <th></th>\n",
       "      <th>משפט</th>\n",
       "    </tr>\n",
       "  </thead>\n",
       "  <tbody>\n",
       "    <tr>\n",
       "      <th>0</th>\n",
       "      <td>בחופשת הקיץ, עידן החליט לעבוד.</td>\n",
       "    </tr>\n",
       "    <tr>\n",
       "      <th>1</th>\n",
       "      <td>החברים שלו נסעו לים והלכו לבלות אבל הוא רצה לע...</td>\n",
       "    </tr>\n",
       "    <tr>\n",
       "      <th>2</th>\n",
       "      <td>עידן רצה לעבוד בטלוויזיה.</td>\n",
       "    </tr>\n",
       "    <tr>\n",
       "      <th>3</th>\n",
       "      <td>הוא מאוד אוהב את תחום הטלוויזיה.</td>\n",
       "    </tr>\n",
       "    <tr>\n",
       "      <th>4</th>\n",
       "      <td>עכשיו צהריים.</td>\n",
       "    </tr>\n",
       "    <tr>\n",
       "      <th>...</th>\n",
       "      <td>...</td>\n",
       "    </tr>\n",
       "    <tr>\n",
       "      <th>612</th>\n",
       "      <td>לספר לו את האמת?</td>\n",
       "    </tr>\n",
       "    <tr>\n",
       "      <th>613</th>\n",
       "      <td>לגלות לו שהייתי בטוחה שהוא מישהו אחר?</td>\n",
       "    </tr>\n",
       "    <tr>\n",
       "      <th>614</th>\n",
       "      <td>תמר, תעני לי, מה לעשות אם הוא\\nיציע פגישה?\"</td>\n",
       "    </tr>\n",
       "    <tr>\n",
       "      <th>615</th>\n",
       "      <td>תמר חייכה: \"נטע, אחרי מה שעברת היום, יש לי הרג...</td>\n",
       "    </tr>\n",
       "    <tr>\n",
       "      <th>616</th>\n",
       "      <td>אם עברת את זה ונשארת בחיים, אני בטוחה \\nשתצליח...</td>\n",
       "    </tr>\n",
       "  </tbody>\n",
       "</table>\n",
       "<p>617 rows × 1 columns</p>\n",
       "</div>"
      ],
      "text/plain": [
       "                                                  משפט\n",
       "0                       בחופשת הקיץ, עידן החליט לעבוד.\n",
       "1    החברים שלו נסעו לים והלכו לבלות אבל הוא רצה לע...\n",
       "2                            עידן רצה לעבוד בטלוויזיה.\n",
       "3                     הוא מאוד אוהב את תחום הטלוויזיה.\n",
       "4                                        עכשיו צהריים.\n",
       "..                                                 ...\n",
       "612                                   לספר לו את האמת?\n",
       "613              לגלות לו שהייתי בטוחה שהוא מישהו אחר?\n",
       "614        תמר, תעני לי, מה לעשות אם הוא\\nיציע פגישה?\"\n",
       "615  תמר חייכה: \"נטע, אחרי מה שעברת היום, יש לי הרג...\n",
       "616  אם עברת את זה ונשארת בחיים, אני בטוחה \\nשתצליח...\n",
       "\n",
       "[617 rows x 1 columns]"
      ]
     },
     "execution_count": 79,
     "metadata": {},
     "output_type": "execute_result"
    }
   ],
   "source": [
    "text3 = pd.DataFrame({'משפט': sentences})\n",
    "\n",
    "text3.to_excel(\"Desktop/sentences617.xlsx\") \n",
    "\n",
    "r = pd.read_excel('Desktop/sentences617.xlsx', index_col=0) \n",
    "r"
   ]
  },
  {
   "cell_type": "code",
   "execution_count": null,
   "id": "89837cda",
   "metadata": {},
   "outputs": [],
   "source": []
  },
  {
   "cell_type": "code",
   "execution_count": 80,
   "id": "85d2e155",
   "metadata": {},
   "outputs": [
    {
     "data": {
      "text/html": [
       "<div>\n",
       "<style scoped>\n",
       "    .dataframe tbody tr th:only-of-type {\n",
       "        vertical-align: middle;\n",
       "    }\n",
       "\n",
       "    .dataframe tbody tr th {\n",
       "        vertical-align: top;\n",
       "    }\n",
       "\n",
       "    .dataframe thead th {\n",
       "        text-align: right;\n",
       "    }\n",
       "</style>\n",
       "<table border=\"1\" class=\"dataframe\">\n",
       "  <thead>\n",
       "    <tr style=\"text-align: right;\">\n",
       "      <th></th>\n",
       "      <th>משפט</th>\n",
       "    </tr>\n",
       "  </thead>\n",
       "  <tbody>\n",
       "    <tr>\n",
       "      <th>0</th>\n",
       "      <td>בחופשת הקיץ, עידן החליט לעבוד.</td>\n",
       "    </tr>\n",
       "    <tr>\n",
       "      <th>1</th>\n",
       "      <td>החברים שלו נסעו לים והלכו לבלות אבל הוא רצה לע...</td>\n",
       "    </tr>\n",
       "    <tr>\n",
       "      <th>2</th>\n",
       "      <td>עידן רצה לעבוד בטלוויזיה.</td>\n",
       "    </tr>\n",
       "    <tr>\n",
       "      <th>3</th>\n",
       "      <td>הוא מאוד אוהב את תחום הטלוויזיה.</td>\n",
       "    </tr>\n",
       "    <tr>\n",
       "      <th>4</th>\n",
       "      <td>עכשיו צהריים.</td>\n",
       "    </tr>\n",
       "    <tr>\n",
       "      <th>...</th>\n",
       "      <td>...</td>\n",
       "    </tr>\n",
       "    <tr>\n",
       "      <th>612</th>\n",
       "      <td>לספר לו את האמת?</td>\n",
       "    </tr>\n",
       "    <tr>\n",
       "      <th>613</th>\n",
       "      <td>לגלות לו שהייתי בטוחה שהוא מישהו אחר?</td>\n",
       "    </tr>\n",
       "    <tr>\n",
       "      <th>614</th>\n",
       "      <td>תמר, תעני לי, מה לעשות אם הוא\\nיציע פגישה?\"</td>\n",
       "    </tr>\n",
       "    <tr>\n",
       "      <th>615</th>\n",
       "      <td>תמר חייכה: \"נטע, אחרי מה שעברת היום, יש לי הרג...</td>\n",
       "    </tr>\n",
       "    <tr>\n",
       "      <th>616</th>\n",
       "      <td>אם עברת את זה ונשארת בחיים, אני בטוחה \\nשתצליח...</td>\n",
       "    </tr>\n",
       "  </tbody>\n",
       "</table>\n",
       "<p>617 rows × 1 columns</p>\n",
       "</div>"
      ],
      "text/plain": [
       "                                                  משפט\n",
       "0                       בחופשת הקיץ, עידן החליט לעבוד.\n",
       "1    החברים שלו נסעו לים והלכו לבלות אבל הוא רצה לע...\n",
       "2                            עידן רצה לעבוד בטלוויזיה.\n",
       "3                     הוא מאוד אוהב את תחום הטלוויזיה.\n",
       "4                                        עכשיו צהריים.\n",
       "..                                                 ...\n",
       "612                                   לספר לו את האמת?\n",
       "613              לגלות לו שהייתי בטוחה שהוא מישהו אחר?\n",
       "614        תמר, תעני לי, מה לעשות אם הוא\\nיציע פגישה?\"\n",
       "615  תמר חייכה: \"נטע, אחרי מה שעברת היום, יש לי הרג...\n",
       "616  אם עברת את זה ונשארת בחיים, אני בטוחה \\nשתצליח...\n",
       "\n",
       "[617 rows x 1 columns]"
      ]
     },
     "execution_count": 80,
     "metadata": {},
     "output_type": "execute_result"
    }
   ],
   "source": [
    "r = pd.read_excel('Desktop/sentences617.xlsx', index_col=0) \n",
    "r"
   ]
  },
  {
   "cell_type": "code",
   "execution_count": 81,
   "id": "8fbeab83",
   "metadata": {},
   "outputs": [
    {
     "data": {
      "text/plain": [
       "בחופשת הקיץ, עידן החליט לעבוד.                                                                                                                                                          1\n",
       "מיכל כעסה: \"אל תיגע בי ואל תקרא לי מיכלי\".                                                                                                                                              1\n",
       "ירון ליטף את הגיטרה שלו וענה:\\n\"אז לא, בחייךְ, מה את עושה מזה כזה עניין?\"                                                                                                               1\n",
       "מיכל הרגישה שהיא רוצה לבכות:\\n\"אני לא עושה שום עניין, אבל אני לא מבינה... \\nאני פשוט לא מבינה איך אתה לוקח את זה כל בקלות... \\nכאילו שבכלל לא אכפת לך אם כן או לא נמשיך להיות חברים.    1\n",
       "לא תרצה להיות בקשר איתי אחרי החופש הגדול?\"                                                                                                                                              1\n",
       "                                                                                                                                                                                       ..\n",
       "נטע התביישה ואמרה: \\n\"אני לא רוצה לבקש טובה ממישהו שאני לא מכירה\".                                                                                                                      1\n",
       "המוֹכֶרֶת צעדה לעבר הבחור , לחשה משהו באוזן שלו ופתאום \\nהפרצוף שלו נעשה מופתע.                                                                                                         1\n",
       "נטע הבינה למה הבחור מופתע: הוא עמד בחנות, מחפש מכנסיים או \\nחולצה, ופתאום ניגשת אליו המוֹכֶרֶת ומבקשת שיגיד לנערה שהוא לא \\nמכיר את דעתו על הז'קט ....מוזר, לא?                         1\n",
       "המוֹכֶרֶת והבחור הגיעו לנטע והמוֹכֶרֶת שאלה את הבחור:\\n\"מה דעתךָ?\"                                                                                                                      1\n",
       "אם עברת את זה ונשארת בחיים, אני בטוחה \\nשתצליחי להסתדר לבד\".                                                                                                                            1\n",
       "Name: משפט, Length: 617, dtype: int64"
      ]
     },
     "execution_count": 81,
     "metadata": {},
     "output_type": "execute_result"
    }
   ],
   "source": [
    "index = pd.Index(r['משפט'])\n",
    "size = index.value_counts()\n",
    "size\n",
    "#10-40 size"
   ]
  },
  {
   "cell_type": "code",
   "execution_count": 83,
   "id": "3baf250d",
   "metadata": {},
   "outputs": [],
   "source": [
    "lenght = []\n",
    "for i in range(len(r)):\n",
    "    #print(len(r['משפט'][i].split()))\n",
    "    lenght.append(len(r['משפט'][i].split()))"
   ]
  },
  {
   "cell_type": "code",
   "execution_count": 84,
   "id": "8c9e78a3",
   "metadata": {},
   "outputs": [
    {
     "data": {
      "text/html": [
       "<div>\n",
       "<style scoped>\n",
       "    .dataframe tbody tr th:only-of-type {\n",
       "        vertical-align: middle;\n",
       "    }\n",
       "\n",
       "    .dataframe tbody tr th {\n",
       "        vertical-align: top;\n",
       "    }\n",
       "\n",
       "    .dataframe thead th {\n",
       "        text-align: right;\n",
       "    }\n",
       "</style>\n",
       "<table border=\"1\" class=\"dataframe\">\n",
       "  <thead>\n",
       "    <tr style=\"text-align: right;\">\n",
       "      <th></th>\n",
       "      <th>משפט</th>\n",
       "      <th>lenght</th>\n",
       "    </tr>\n",
       "  </thead>\n",
       "  <tbody>\n",
       "    <tr>\n",
       "      <th>0</th>\n",
       "      <td>בחופשת הקיץ, עידן החליט לעבוד.</td>\n",
       "      <td>5</td>\n",
       "    </tr>\n",
       "    <tr>\n",
       "      <th>1</th>\n",
       "      <td>החברים שלו נסעו לים והלכו לבלות אבל הוא רצה לע...</td>\n",
       "      <td>10</td>\n",
       "    </tr>\n",
       "    <tr>\n",
       "      <th>2</th>\n",
       "      <td>עידן רצה לעבוד בטלוויזיה.</td>\n",
       "      <td>4</td>\n",
       "    </tr>\n",
       "    <tr>\n",
       "      <th>3</th>\n",
       "      <td>הוא מאוד אוהב את תחום הטלוויזיה.</td>\n",
       "      <td>6</td>\n",
       "    </tr>\n",
       "    <tr>\n",
       "      <th>4</th>\n",
       "      <td>עכשיו צהריים.</td>\n",
       "      <td>2</td>\n",
       "    </tr>\n",
       "    <tr>\n",
       "      <th>...</th>\n",
       "      <td>...</td>\n",
       "      <td>...</td>\n",
       "    </tr>\n",
       "    <tr>\n",
       "      <th>612</th>\n",
       "      <td>לספר לו את האמת?</td>\n",
       "      <td>4</td>\n",
       "    </tr>\n",
       "    <tr>\n",
       "      <th>613</th>\n",
       "      <td>לגלות לו שהייתי בטוחה שהוא מישהו אחר?</td>\n",
       "      <td>7</td>\n",
       "    </tr>\n",
       "    <tr>\n",
       "      <th>614</th>\n",
       "      <td>תמר, תעני לי, מה לעשות אם הוא\\nיציע פגישה?\"</td>\n",
       "      <td>9</td>\n",
       "    </tr>\n",
       "    <tr>\n",
       "      <th>615</th>\n",
       "      <td>תמר חייכה: \"נטע, אחרי מה שעברת היום, יש לי הרג...</td>\n",
       "      <td>18</td>\n",
       "    </tr>\n",
       "    <tr>\n",
       "      <th>616</th>\n",
       "      <td>אם עברת את זה ונשארת בחיים, אני בטוחה \\nשתצליח...</td>\n",
       "      <td>11</td>\n",
       "    </tr>\n",
       "  </tbody>\n",
       "</table>\n",
       "<p>617 rows × 2 columns</p>\n",
       "</div>"
      ],
      "text/plain": [
       "                                                  משפט  lenght\n",
       "0                       בחופשת הקיץ, עידן החליט לעבוד.       5\n",
       "1    החברים שלו נסעו לים והלכו לבלות אבל הוא רצה לע...      10\n",
       "2                            עידן רצה לעבוד בטלוויזיה.       4\n",
       "3                     הוא מאוד אוהב את תחום הטלוויזיה.       6\n",
       "4                                        עכשיו צהריים.       2\n",
       "..                                                 ...     ...\n",
       "612                                   לספר לו את האמת?       4\n",
       "613              לגלות לו שהייתי בטוחה שהוא מישהו אחר?       7\n",
       "614        תמר, תעני לי, מה לעשות אם הוא\\nיציע פגישה?\"       9\n",
       "615  תמר חייכה: \"נטע, אחרי מה שעברת היום, יש לי הרג...      18\n",
       "616  אם עברת את זה ונשארת בחיים, אני בטוחה \\nשתצליח...      11\n",
       "\n",
       "[617 rows x 2 columns]"
      ]
     },
     "execution_count": 84,
     "metadata": {},
     "output_type": "execute_result"
    }
   ],
   "source": [
    "r['lenght'] = lenght\n",
    "r"
   ]
  },
  {
   "cell_type": "code",
   "execution_count": 85,
   "id": "da74889e",
   "metadata": {},
   "outputs": [
    {
     "data": {
      "text/plain": [
       "6     68\n",
       "10    55\n",
       "8     55\n",
       "5     54\n",
       "7     51\n",
       "4     48\n",
       "9     45\n",
       "12    31\n",
       "11    30\n",
       "3     30\n",
       "13    25\n",
       "14    21\n",
       "2     18\n",
       "15    14\n",
       "17    11\n",
       "19     9\n",
       "16     8\n",
       "18     7\n",
       "21     6\n",
       "20     5\n",
       "22     4\n",
       "23     4\n",
       "25     3\n",
       "28     3\n",
       "30     3\n",
       "33     2\n",
       "1      2\n",
       "24     1\n",
       "35     1\n",
       "29     1\n",
       "37     1\n",
       "26     1\n",
       "Name: lenght, dtype: int64"
      ]
     },
     "execution_count": 85,
     "metadata": {},
     "output_type": "execute_result"
    }
   ],
   "source": [
    "index = pd.Index(r['lenght'])\n",
    "size = index.value_counts()\n",
    "size\n",
    "#10-40 size"
   ]
  },
  {
   "cell_type": "code",
   "execution_count": null,
   "id": "4888ae69",
   "metadata": {},
   "outputs": [],
   "source": []
  }
 ],
 "metadata": {
  "kernelspec": {
   "display_name": "Python 3 (ipykernel)",
   "language": "python",
   "name": "python3"
  },
  "language_info": {
   "codemirror_mode": {
    "name": "ipython",
    "version": 3
   },
   "file_extension": ".py",
   "mimetype": "text/x-python",
   "name": "python",
   "nbconvert_exporter": "python",
   "pygments_lexer": "ipython3",
   "version": "3.9.7"
  }
 },
 "nbformat": 4,
 "nbformat_minor": 5
}
