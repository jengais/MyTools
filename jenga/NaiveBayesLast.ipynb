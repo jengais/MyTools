{
 "cells": [
  {
   "cell_type": "code",
   "execution_count": 3,
   "metadata": {},
   "outputs": [
    {
     "name": "stdout",
     "output_type": "stream",
     "text": [
      "Success percent is: 49.19%\n"
     ]
    }
   ],
   "source": [
    "from sklearn.naive_bayes import GaussianNB\n",
    "import pandas as pd\n",
    "from sklearn import preprocessing\n",
    "import numpy\n",
    "from sklearn.metrics import accuracy_score\n",
    "\n",
    "#preprocessing\n",
    "le = preprocessing.LabelEncoder()\n",
    "bins=5\n",
    "\n",
    "#upload data\n",
    "df= pd.read_csv(\"train.csv\").applymap(lambda x: x.lower() if type(x) == str else x)\n",
    "dftest=pd.read_csv(\"test.csv\").applymap(lambda x: x.lower() if type(x) == str else x)\n",
    "\n",
    "############################################################TRAIN#############################################################\n",
    "#transform class to list and converting class into numbers\n",
    "df['class']=le.fit_transform(df['class'])\n",
    "train_label=df['class'].tolist()\n",
    "\n",
    "dftest['class']=le.fit_transform(dftest['class'])\n",
    "test_label=dftest['class'].tolist()\n",
    "\n",
    "df.dropna(subset=['class']) #Drop the rows where class is missing.\n",
    "dftest.dropna(subset=['class']) #Drop the rows where class is missing.\n",
    "\n",
    "del df['class']\n",
    "del dftest['class']\n",
    "\n",
    "#converting string and bins into numbers\n",
    "for col in df:\n",
    "    if type(df[col][0])==numpy.int64:  #numeric discretization\n",
    "        df[col]=le.fit_transform(pd.qcut(df[col],int(bins),duplicates=\"drop\"))          #Equal frequency func  \n",
    "        dftest[col]=le.fit_transform(pd.qcut(dftest[col],int(bins),duplicates=\"drop\"))  #Equal frequency func\n",
    "        \n",
    "        #df[col]=le.fit_transform(pd.cut(df[col],int(bins),duplicates=\"drop\"))          #Equal width func\n",
    "        #dftest[col]=le.fit_transform(pd.cut(dftest[col],int(bins),duplicates=\"drop\"))  #Equal width func\n",
    "\n",
    "    else:\n",
    "        df[col]=le.fit_transform(df[col].tolist())\n",
    "        dftest[col]=le.fit_transform(dftest[col].tolist())\n",
    "\n",
    "##################################################GAUSSIANNB################################################################\n",
    "#Create a Gaussian Classifier\n",
    "model = GaussianNB()\n",
    "\n",
    "# Train the model using the training sets\n",
    "model.fit(df,train_label)\n",
    "\n",
    "#Predict Output\n",
    "predicted=model.predict(dftest)\n",
    "accuracy=accuracy_score(test_label, predicted)*100\n",
    "print(\"Success percent is: %.2f%%\" % accuracy)"
   ]
  },
  {
   "cell_type": "code",
   "execution_count": null,
   "metadata": {},
   "outputs": [],
   "source": []
  },
  {
   "cell_type": "code",
   "execution_count": null,
   "metadata": {},
   "outputs": [],
   "source": []
  },
  {
   "cell_type": "code",
   "execution_count": null,
   "metadata": {},
   "outputs": [],
   "source": []
  }
 ],
 "metadata": {
  "kernelspec": {
   "display_name": "Python 3",
   "language": "python",
   "name": "python3"
  },
  "language_info": {
   "codemirror_mode": {
    "name": "ipython",
    "version": 3
   },
   "file_extension": ".py",
   "mimetype": "text/x-python",
   "name": "python",
   "nbconvert_exporter": "python",
   "pygments_lexer": "ipython3",
   "version": "3.8.5"
  }
 },
 "nbformat": 4,
 "nbformat_minor": 4
}
