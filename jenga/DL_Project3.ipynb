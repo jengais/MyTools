{
 "cells": [
  {
   "cell_type": "code",
   "execution_count": 1,
   "metadata": {},
   "outputs": [],
   "source": [
    "import pandas as pd\n",
    "import numpy\n",
    "from sklearn.metrics import accuracy_score\n",
    "from sklearn.model_selection import train_test_split\n",
    "from gensim.models import Word2Vec\n",
    "\n",
    "from sklearn.decomposition import PCA\n",
    "from matplotlib import pyplot\n",
    "from keras.models import Sequential\n",
    "from keras.layers import Dense\n",
    "from keras.wrappers.scikit_learn import KerasClassifier\n",
    "from sklearn.model_selection import cross_val_score\n",
    "from sklearn.model_selection import StratifiedKFold\n",
    "\n",
    "import time\n",
    "from datetime import datetime \n",
    "\n",
    "import nltk\n",
    "from nltk.corpus import stopwords\n",
    "from nltk.tokenize import word_tokenize\n",
    "\n",
    "start_time = datetime.now() "
   ]
  },
  {
   "cell_type": "code",
   "execution_count": 2,
   "metadata": {},
   "outputs": [
    {
     "data": {
      "text/html": [
       "<div>\n",
       "<style scoped>\n",
       "    .dataframe tbody tr th:only-of-type {\n",
       "        vertical-align: middle;\n",
       "    }\n",
       "\n",
       "    .dataframe tbody tr th {\n",
       "        vertical-align: top;\n",
       "    }\n",
       "\n",
       "    .dataframe thead th {\n",
       "        text-align: right;\n",
       "    }\n",
       "</style>\n",
       "<table border=\"1\" class=\"dataframe\">\n",
       "  <thead>\n",
       "    <tr style=\"text-align: right;\">\n",
       "      <th></th>\n",
       "      <th>id</th>\n",
       "      <th>sentence</th>\n",
       "      <th>label</th>\n",
       "    </tr>\n",
       "  </thead>\n",
       "  <tbody>\n",
       "    <tr>\n",
       "      <th>0</th>\n",
       "      <td>0</td>\n",
       "      <td>considering this , we assumed that it is a ver...</td>\n",
       "      <td>0</td>\n",
       "    </tr>\n",
       "    <tr>\n",
       "      <th>1</th>\n",
       "      <td>1</td>\n",
       "      <td>according to mdl , the best probability model ...</td>\n",
       "      <td>1</td>\n",
       "    </tr>\n",
       "    <tr>\n",
       "      <th>2</th>\n",
       "      <td>2</td>\n",
       "      <td>response complexity : there is a reward and a ...</td>\n",
       "      <td>1</td>\n",
       "    </tr>\n",
       "    <tr>\n",
       "      <th>3</th>\n",
       "      <td>3</td>\n",
       "      <td>we therefore divide by this score to assure th...</td>\n",
       "      <td>0</td>\n",
       "    </tr>\n",
       "    <tr>\n",
       "      <th>4</th>\n",
       "      <td>4</td>\n",
       "      <td>here is an overview of the chronology of events .</td>\n",
       "      <td>0</td>\n",
       "    </tr>\n",
       "    <tr>\n",
       "      <th>...</th>\n",
       "      <td>...</td>\n",
       "      <td>...</td>\n",
       "      <td>...</td>\n",
       "    </tr>\n",
       "    <tr>\n",
       "      <th>1495</th>\n",
       "      <td>1495</td>\n",
       "      <td>2.2 the input to nlg from the dialogue manager...</td>\n",
       "      <td>0</td>\n",
       "    </tr>\n",
       "    <tr>\n",
       "      <th>1496</th>\n",
       "      <td>1496</td>\n",
       "      <td>for a set of annotated examples , we used deci...</td>\n",
       "      <td>0</td>\n",
       "    </tr>\n",
       "    <tr>\n",
       "      <th>1497</th>\n",
       "      <td>1497</td>\n",
       "      <td>in the present context , however , the limitat...</td>\n",
       "      <td>0</td>\n",
       "    </tr>\n",
       "    <tr>\n",
       "      <th>1498</th>\n",
       "      <td>1498</td>\n",
       "      <td>the individual fb1 scores for nps were 92 .19 ...</td>\n",
       "      <td>0</td>\n",
       "    </tr>\n",
       "    <tr>\n",
       "      <th>1499</th>\n",
       "      <td>1499</td>\n",
       "      <td>for example , kiken_na joutai ( dangerous ) ( ...</td>\n",
       "      <td>0</td>\n",
       "    </tr>\n",
       "  </tbody>\n",
       "</table>\n",
       "<p>1500 rows × 3 columns</p>\n",
       "</div>"
      ],
      "text/plain": [
       "        id                                           sentence  label\n",
       "0        0  considering this , we assumed that it is a ver...      0\n",
       "1        1  according to mdl , the best probability model ...      1\n",
       "2        2  response complexity : there is a reward and a ...      1\n",
       "3        3  we therefore divide by this score to assure th...      0\n",
       "4        4  here is an overview of the chronology of events .      0\n",
       "...    ...                                                ...    ...\n",
       "1495  1495  2.2 the input to nlg from the dialogue manager...      0\n",
       "1496  1496  for a set of annotated examples , we used deci...      0\n",
       "1497  1497  in the present context , however , the limitat...      0\n",
       "1498  1498  the individual fb1 scores for nps were 92 .19 ...      0\n",
       "1499  1499  for example , kiken_na joutai ( dangerous ) ( ...      0\n",
       "\n",
       "[1500 rows x 3 columns]"
      ]
     },
     "execution_count": 2,
     "metadata": {},
     "output_type": "execute_result"
    }
   ],
   "source": [
    "test = pd.read_csv(\"C:\\\\MyFoulder\\\\SCE\\שנה ג\\\\סמסטר ב\\\\מבוא ללמידה עמוקה\\\\3\\\\ex3_test_data.csv\")\n",
    "train = pd.read_csv(\"C:\\\\MyFoulder\\\\SCE\\שנה ג\\\\סמסטר ב\\\\מבוא ללמידה עמוקה\\\\3\\\\ex3_train_data.csv\")\n",
    "train"
   ]
  },
  {
   "cell_type": "code",
   "execution_count": 3,
   "metadata": {},
   "outputs": [
    {
     "data": {
      "text/html": [
       "<div>\n",
       "<style scoped>\n",
       "    .dataframe tbody tr th:only-of-type {\n",
       "        vertical-align: middle;\n",
       "    }\n",
       "\n",
       "    .dataframe tbody tr th {\n",
       "        vertical-align: top;\n",
       "    }\n",
       "\n",
       "    .dataframe thead th {\n",
       "        text-align: right;\n",
       "    }\n",
       "</style>\n",
       "<table border=\"1\" class=\"dataframe\">\n",
       "  <thead>\n",
       "    <tr style=\"text-align: right;\">\n",
       "      <th></th>\n",
       "      <th>id</th>\n",
       "      <th>sentence</th>\n",
       "    </tr>\n",
       "  </thead>\n",
       "  <tbody>\n",
       "    <tr>\n",
       "      <th>0</th>\n",
       "      <td>1500</td>\n",
       "      <td>there is a rich variety of colour descriptions...</td>\n",
       "    </tr>\n",
       "    <tr>\n",
       "      <th>1</th>\n",
       "      <td>1501</td>\n",
       "      <td>es99 define the following *i predicates ( ecke...</td>\n",
       "    </tr>\n",
       "    <tr>\n",
       "      <th>2</th>\n",
       "      <td>1502</td>\n",
       "      <td>domain knowledge management in general involve...</td>\n",
       "    </tr>\n",
       "    <tr>\n",
       "      <th>3</th>\n",
       "      <td>1503</td>\n",
       "      <td>2this corpus is collected and annotated for th...</td>\n",
       "    </tr>\n",
       "    <tr>\n",
       "      <th>4</th>\n",
       "      <td>1504</td>\n",
       "      <td>other realization and sentence planning tin { ...</td>\n",
       "    </tr>\n",
       "    <tr>\n",
       "      <th>...</th>\n",
       "      <td>...</td>\n",
       "      <td>...</td>\n",
       "    </tr>\n",
       "    <tr>\n",
       "      <th>679</th>\n",
       "      <td>2179</td>\n",
       "      <td>for example , the question `` what is the name...</td>\n",
       "    </tr>\n",
       "    <tr>\n",
       "      <th>680</th>\n",
       "      <td>2180</td>\n",
       "      <td>instead , knn performs online scoring to find ...</td>\n",
       "    </tr>\n",
       "    <tr>\n",
       "      <th>681</th>\n",
       "      <td>2181</td>\n",
       "      <td>evius is a component of a multilingual ie syst...</td>\n",
       "    </tr>\n",
       "    <tr>\n",
       "      <th>682</th>\n",
       "      <td>2182</td>\n",
       "      <td>the base model defines the distance between a ...</td>\n",
       "    </tr>\n",
       "    <tr>\n",
       "      <th>683</th>\n",
       "      <td>2183</td>\n",
       "      <td>in a nutshell ' , while nlg is the only techno...</td>\n",
       "    </tr>\n",
       "  </tbody>\n",
       "</table>\n",
       "<p>684 rows × 2 columns</p>\n",
       "</div>"
      ],
      "text/plain": [
       "       id                                           sentence\n",
       "0    1500  there is a rich variety of colour descriptions...\n",
       "1    1501  es99 define the following *i predicates ( ecke...\n",
       "2    1502  domain knowledge management in general involve...\n",
       "3    1503  2this corpus is collected and annotated for th...\n",
       "4    1504  other realization and sentence planning tin { ...\n",
       "..    ...                                                ...\n",
       "679  2179  for example , the question `` what is the name...\n",
       "680  2180  instead , knn performs online scoring to find ...\n",
       "681  2181  evius is a component of a multilingual ie syst...\n",
       "682  2182  the base model defines the distance between a ...\n",
       "683  2183  in a nutshell ' , while nlg is the only techno...\n",
       "\n",
       "[684 rows x 2 columns]"
      ]
     },
     "execution_count": 3,
     "metadata": {},
     "output_type": "execute_result"
    }
   ],
   "source": [
    "test"
   ]
  },
  {
   "cell_type": "code",
   "execution_count": 4,
   "metadata": {},
   "outputs": [
    {
     "name": "stderr",
     "output_type": "stream",
     "text": [
      "<ipython-input-4-05d3efd386d9>:38: SettingWithCopyWarning: \n",
      "A value is trying to be set on a copy of a slice from a DataFrame\n",
      "\n",
      "See the caveats in the documentation: https://pandas.pydata.org/pandas-docs/stable/user_guide/indexing.html#returning-a-view-versus-a-copy\n",
      "  train['sentence'][ID] = ' '.join(resultwords)\n",
      "<ipython-input-4-05d3efd386d9>:47: SettingWithCopyWarning: \n",
      "A value is trying to be set on a copy of a slice from a DataFrame\n",
      "\n",
      "See the caveats in the documentation: https://pandas.pydata.org/pandas-docs/stable/user_guide/indexing.html#returning-a-view-versus-a-copy\n",
      "  test['sentence'][ID] = ' '.join(resultwords)\n"
     ]
    }
   ],
   "source": [
    "train['sentence'] = train['sentence'].str.replace('[^\\w\\s]','')\n",
    "train['sentence'] = train['sentence'].str.replace('[^a-zA-z ]','')\n",
    "\n",
    "test['sentence'] = test['sentence'].str.replace('[^\\w\\s]','')\n",
    "test['sentence'] = test['sentence'].str.replace('[^a-zA-z ]','')\n",
    "\n",
    "\n",
    "stop_words = set(stopwords.words('english'))\n",
    "\n",
    "for ID in  range(len(train['sentence'])):\n",
    "    querywords = train['sentence'][ID].split()\n",
    "    resultwords  = [word for word in querywords if word not in stop_words]\n",
    "    train['sentence'][ID] = ' '.join(resultwords)\n",
    "    \n",
    "for ID in  range(len(test['sentence'])):\n",
    "    querywords = test['sentence'][ID].split()\n",
    "    resultwords  = [word for word in querywords if word not in stop_words]\n",
    "    test['sentence'][ID] = ' '.join(resultwords)"
   ]
  },
  {
   "cell_type": "code",
   "execution_count": 5,
   "metadata": {},
   "outputs": [
    {
     "data": {
      "text/html": [
       "<div>\n",
       "<style scoped>\n",
       "    .dataframe tbody tr th:only-of-type {\n",
       "        vertical-align: middle;\n",
       "    }\n",
       "\n",
       "    .dataframe tbody tr th {\n",
       "        vertical-align: top;\n",
       "    }\n",
       "\n",
       "    .dataframe thead th {\n",
       "        text-align: right;\n",
       "    }\n",
       "</style>\n",
       "<table border=\"1\" class=\"dataframe\">\n",
       "  <thead>\n",
       "    <tr style=\"text-align: right;\">\n",
       "      <th></th>\n",
       "      <th>id</th>\n",
       "      <th>sentence</th>\n",
       "      <th>label</th>\n",
       "    </tr>\n",
       "  </thead>\n",
       "  <tbody>\n",
       "    <tr>\n",
       "      <th>0</th>\n",
       "      <td>0</td>\n",
       "      <td>considering assumed promising domain experimen...</td>\n",
       "      <td>0</td>\n",
       "    </tr>\n",
       "    <tr>\n",
       "      <th>1</th>\n",
       "      <td>1</td>\n",
       "      <td>according mdl best probability model given set...</td>\n",
       "      <td>1</td>\n",
       "    </tr>\n",
       "    <tr>\n",
       "      <th>2</th>\n",
       "      <td>2</td>\n",
       "      <td>response complexity reward punishment associat...</td>\n",
       "      <td>1</td>\n",
       "    </tr>\n",
       "    <tr>\n",
       "      <th>3</th>\n",
       "      <td>3</td>\n",
       "      <td>therefore divide score assure perfect sentence...</td>\n",
       "      <td>0</td>\n",
       "    </tr>\n",
       "    <tr>\n",
       "      <th>4</th>\n",
       "      <td>4</td>\n",
       "      <td>overview chronology events</td>\n",
       "      <td>0</td>\n",
       "    </tr>\n",
       "    <tr>\n",
       "      <th>...</th>\n",
       "      <td>...</td>\n",
       "      <td>...</td>\n",
       "      <td>...</td>\n",
       "    </tr>\n",
       "    <tr>\n",
       "      <th>1495</th>\n",
       "      <td>1495</td>\n",
       "      <td>input nlg dialogue manager frame attributevalu...</td>\n",
       "      <td>0</td>\n",
       "    </tr>\n",
       "    <tr>\n",
       "      <th>1496</th>\n",
       "      <td>1496</td>\n",
       "      <td>set annotated examples used decisiontree tools...</td>\n",
       "      <td>0</td>\n",
       "    </tr>\n",
       "    <tr>\n",
       "      <th>1497</th>\n",
       "      <td>1497</td>\n",
       "      <td>present context however limitation inessential...</td>\n",
       "      <td>0</td>\n",
       "    </tr>\n",
       "    <tr>\n",
       "      <th>1498</th>\n",
       "      <td>1498</td>\n",
       "      <td>individual fb scores nps vps pps</td>\n",
       "      <td>0</td>\n",
       "    </tr>\n",
       "    <tr>\n",
       "      <th>1499</th>\n",
       "      <td>1499</td>\n",
       "      <td>example kiken_na joutai dangerous situation da...</td>\n",
       "      <td>0</td>\n",
       "    </tr>\n",
       "  </tbody>\n",
       "</table>\n",
       "<p>1500 rows × 3 columns</p>\n",
       "</div>"
      ],
      "text/plain": [
       "        id                                           sentence  label\n",
       "0        0  considering assumed promising domain experimen...      0\n",
       "1        1  according mdl best probability model given set...      1\n",
       "2        2  response complexity reward punishment associat...      1\n",
       "3        3  therefore divide score assure perfect sentence...      0\n",
       "4        4                         overview chronology events      0\n",
       "...    ...                                                ...    ...\n",
       "1495  1495  input nlg dialogue manager frame attributevalu...      0\n",
       "1496  1496  set annotated examples used decisiontree tools...      0\n",
       "1497  1497  present context however limitation inessential...      0\n",
       "1498  1498                   individual fb scores nps vps pps      0\n",
       "1499  1499  example kiken_na joutai dangerous situation da...      0\n",
       "\n",
       "[1500 rows x 3 columns]"
      ]
     },
     "execution_count": 5,
     "metadata": {},
     "output_type": "execute_result"
    }
   ],
   "source": [
    "train"
   ]
  },
  {
   "cell_type": "code",
   "execution_count": 6,
   "metadata": {},
   "outputs": [
    {
     "data": {
      "text/html": [
       "<div>\n",
       "<style scoped>\n",
       "    .dataframe tbody tr th:only-of-type {\n",
       "        vertical-align: middle;\n",
       "    }\n",
       "\n",
       "    .dataframe tbody tr th {\n",
       "        vertical-align: top;\n",
       "    }\n",
       "\n",
       "    .dataframe thead th {\n",
       "        text-align: right;\n",
       "    }\n",
       "</style>\n",
       "<table border=\"1\" class=\"dataframe\">\n",
       "  <thead>\n",
       "    <tr style=\"text-align: right;\">\n",
       "      <th></th>\n",
       "      <th>id</th>\n",
       "      <th>sentence</th>\n",
       "    </tr>\n",
       "  </thead>\n",
       "  <tbody>\n",
       "    <tr>\n",
       "      <th>0</th>\n",
       "      <td>1500</td>\n",
       "      <td>rich variety colour descriptions including bas...</td>\n",
       "    </tr>\n",
       "    <tr>\n",
       "      <th>1</th>\n",
       "      <td>1501</td>\n",
       "      <td>es define following predicates eckert strube b...</td>\n",
       "    </tr>\n",
       "    <tr>\n",
       "      <th>2</th>\n",
       "      <td>1502</td>\n",
       "      <td>domain knowledge management general involves t...</td>\n",
       "    </tr>\n",
       "    <tr>\n",
       "      <th>3</th>\n",
       "      <td>1503</td>\n",
       "      <td>corpus collected annotated gnome project poesi...</td>\n",
       "    </tr>\n",
       "    <tr>\n",
       "      <th>4</th>\n",
       "      <td>1504</td>\n",
       "      <td>realization sentence planning tin kswhich need...</td>\n",
       "    </tr>\n",
       "    <tr>\n",
       "      <th>...</th>\n",
       "      <td>...</td>\n",
       "      <td>...</td>\n",
       "    </tr>\n",
       "    <tr>\n",
       "      <th>679</th>\n",
       "      <td>2179</td>\n",
       "      <td>example question name creek</td>\n",
       "    </tr>\n",
       "    <tr>\n",
       "      <th>680</th>\n",
       "      <td>2180</td>\n",
       "      <td>instead knn performs online scoring find train...</td>\n",
       "    </tr>\n",
       "    <tr>\n",
       "      <th>681</th>\n",
       "      <td>2181</td>\n",
       "      <td>evius component multilingual ie system mturbio...</td>\n",
       "    </tr>\n",
       "    <tr>\n",
       "      <th>682</th>\n",
       "      <td>2182</td>\n",
       "      <td>base model defines distance test item memory i...</td>\n",
       "    </tr>\n",
       "    <tr>\n",
       "      <th>683</th>\n",
       "      <td>2183</td>\n",
       "      <td>nutshell nlg technology able completely fulfil...</td>\n",
       "    </tr>\n",
       "  </tbody>\n",
       "</table>\n",
       "<p>684 rows × 2 columns</p>\n",
       "</div>"
      ],
      "text/plain": [
       "       id                                           sentence\n",
       "0    1500  rich variety colour descriptions including bas...\n",
       "1    1501  es define following predicates eckert strube b...\n",
       "2    1502  domain knowledge management general involves t...\n",
       "3    1503  corpus collected annotated gnome project poesi...\n",
       "4    1504  realization sentence planning tin kswhich need...\n",
       "..    ...                                                ...\n",
       "679  2179                        example question name creek\n",
       "680  2180  instead knn performs online scoring find train...\n",
       "681  2181  evius component multilingual ie system mturbio...\n",
       "682  2182  base model defines distance test item memory i...\n",
       "683  2183  nutshell nlg technology able completely fulfil...\n",
       "\n",
       "[684 rows x 2 columns]"
      ]
     },
     "execution_count": 6,
     "metadata": {},
     "output_type": "execute_result"
    }
   ],
   "source": [
    "test"
   ]
  },
  {
   "cell_type": "code",
   "execution_count": 7,
   "metadata": {},
   "outputs": [
    {
     "data": {
      "text/plain": [
       "id          0\n",
       "sentence    0\n",
       "label       0\n",
       "dtype: int64"
      ]
     },
     "execution_count": 7,
     "metadata": {},
     "output_type": "execute_result"
    }
   ],
   "source": [
    "train.isnull().sum()"
   ]
  },
  {
   "cell_type": "code",
   "execution_count": 8,
   "metadata": {},
   "outputs": [
    {
     "data": {
      "text/plain": [
       "id          0\n",
       "sentence    0\n",
       "dtype: int64"
      ]
     },
     "execution_count": 8,
     "metadata": {},
     "output_type": "execute_result"
    }
   ],
   "source": [
    "test.isnull().sum()"
   ]
  },
  {
   "cell_type": "code",
   "execution_count": 9,
   "metadata": {},
   "outputs": [],
   "source": [
    "train.dropna(subset = ['sentence'], inplace=True)\n",
    "test.dropna(subset = ['sentence'], inplace=True)"
   ]
  },
  {
   "cell_type": "code",
   "execution_count": 10,
   "metadata": {},
   "outputs": [
    {
     "data": {
      "text/html": [
       "<div>\n",
       "<style scoped>\n",
       "    .dataframe tbody tr th:only-of-type {\n",
       "        vertical-align: middle;\n",
       "    }\n",
       "\n",
       "    .dataframe tbody tr th {\n",
       "        vertical-align: top;\n",
       "    }\n",
       "\n",
       "    .dataframe thead th {\n",
       "        text-align: right;\n",
       "    }\n",
       "</style>\n",
       "<table border=\"1\" class=\"dataframe\">\n",
       "  <thead>\n",
       "    <tr style=\"text-align: right;\">\n",
       "      <th></th>\n",
       "      <th>sentence</th>\n",
       "    </tr>\n",
       "  </thead>\n",
       "  <tbody>\n",
       "    <tr>\n",
       "      <th>0</th>\n",
       "      <td>considering assumed promising domain experimen...</td>\n",
       "    </tr>\n",
       "    <tr>\n",
       "      <th>1</th>\n",
       "      <td>according mdl best probability model given set...</td>\n",
       "    </tr>\n",
       "    <tr>\n",
       "      <th>2</th>\n",
       "      <td>response complexity reward punishment associat...</td>\n",
       "    </tr>\n",
       "    <tr>\n",
       "      <th>3</th>\n",
       "      <td>therefore divide score assure perfect sentence...</td>\n",
       "    </tr>\n",
       "    <tr>\n",
       "      <th>4</th>\n",
       "      <td>overview chronology events</td>\n",
       "    </tr>\n",
       "    <tr>\n",
       "      <th>...</th>\n",
       "      <td>...</td>\n",
       "    </tr>\n",
       "    <tr>\n",
       "      <th>1495</th>\n",
       "      <td>input nlg dialogue manager frame attributevalu...</td>\n",
       "    </tr>\n",
       "    <tr>\n",
       "      <th>1496</th>\n",
       "      <td>set annotated examples used decisiontree tools...</td>\n",
       "    </tr>\n",
       "    <tr>\n",
       "      <th>1497</th>\n",
       "      <td>present context however limitation inessential...</td>\n",
       "    </tr>\n",
       "    <tr>\n",
       "      <th>1498</th>\n",
       "      <td>individual fb scores nps vps pps</td>\n",
       "    </tr>\n",
       "    <tr>\n",
       "      <th>1499</th>\n",
       "      <td>example kiken_na joutai dangerous situation da...</td>\n",
       "    </tr>\n",
       "  </tbody>\n",
       "</table>\n",
       "<p>1500 rows × 1 columns</p>\n",
       "</div>"
      ],
      "text/plain": [
       "                                               sentence\n",
       "0     considering assumed promising domain experimen...\n",
       "1     according mdl best probability model given set...\n",
       "2     response complexity reward punishment associat...\n",
       "3     therefore divide score assure perfect sentence...\n",
       "4                            overview chronology events\n",
       "...                                                 ...\n",
       "1495  input nlg dialogue manager frame attributevalu...\n",
       "1496  set annotated examples used decisiontree tools...\n",
       "1497  present context however limitation inessential...\n",
       "1498                   individual fb scores nps vps pps\n",
       "1499  example kiken_na joutai dangerous situation da...\n",
       "\n",
       "[1500 rows x 1 columns]"
      ]
     },
     "execution_count": 10,
     "metadata": {},
     "output_type": "execute_result"
    }
   ],
   "source": [
    "X = train.drop(['id', 'label'], axis=1)\n",
    "X"
   ]
  },
  {
   "cell_type": "code",
   "execution_count": 11,
   "metadata": {},
   "outputs": [
    {
     "data": {
      "text/plain": [
       "0       0\n",
       "1       1\n",
       "2       1\n",
       "3       0\n",
       "4       0\n",
       "       ..\n",
       "1495    0\n",
       "1496    0\n",
       "1497    0\n",
       "1498    0\n",
       "1499    0\n",
       "Name: label, Length: 1500, dtype: int64"
      ]
     },
     "execution_count": 11,
     "metadata": {},
     "output_type": "execute_result"
    }
   ],
   "source": [
    "y = train['label']\n",
    "y"
   ]
  },
  {
   "cell_type": "code",
   "execution_count": 12,
   "metadata": {},
   "outputs": [
    {
     "name": "stdout",
     "output_type": "stream",
     "text": [
      "Num of 1's is:  499\n"
     ]
    }
   ],
   "source": [
    "j = 0\n",
    "for i in range(len(y)):\n",
    "    if y[i]==1:\n",
    "        j+=1\n",
    "print('Num of 1\\'s is: ', j)"
   ]
  },
  {
   "cell_type": "code",
   "execution_count": 13,
   "metadata": {},
   "outputs": [],
   "source": [
    "X_train, X_test, y_train, y_test = train_test_split(X, y, test_size=0.3)"
   ]
  },
  {
   "cell_type": "code",
   "execution_count": 14,
   "metadata": {},
   "outputs": [
    {
     "data": {
      "text/html": [
       "<div>\n",
       "<style scoped>\n",
       "    .dataframe tbody tr th:only-of-type {\n",
       "        vertical-align: middle;\n",
       "    }\n",
       "\n",
       "    .dataframe tbody tr th {\n",
       "        vertical-align: top;\n",
       "    }\n",
       "\n",
       "    .dataframe thead th {\n",
       "        text-align: right;\n",
       "    }\n",
       "</style>\n",
       "<table border=\"1\" class=\"dataframe\">\n",
       "  <thead>\n",
       "    <tr style=\"text-align: right;\">\n",
       "      <th></th>\n",
       "      <th>sentence</th>\n",
       "    </tr>\n",
       "  </thead>\n",
       "  <tbody>\n",
       "    <tr>\n",
       "      <th>107</th>\n",
       "      <td>section describes two experiments briefly</td>\n",
       "    </tr>\n",
       "    <tr>\n",
       "      <th>631</th>\n",
       "      <td>sometimes</td>\n",
       "    </tr>\n",
       "    <tr>\n",
       "      <th>1209</th>\n",
       "      <td>allied corpussimilarity corpushomogeneity</td>\n",
       "    </tr>\n",
       "    <tr>\n",
       "      <th>797</th>\n",
       "      <td>since referent identifiable definite descripti...</td>\n",
       "    </tr>\n",
       "    <tr>\n",
       "      <th>1003</th>\n",
       "      <td>uce filtering text categorization task</td>\n",
       "    </tr>\n",
       "    <tr>\n",
       "      <th>...</th>\n",
       "      <td>...</td>\n",
       "    </tr>\n",
       "    <tr>\n",
       "      <th>1190</th>\n",
       "      <td>englishgerman translation like englishspanish ...</td>\n",
       "    </tr>\n",
       "    <tr>\n",
       "      <th>125</th>\n",
       "      <td>let training documents number training documen...</td>\n",
       "    </tr>\n",
       "    <tr>\n",
       "      <th>898</th>\n",
       "      <td>course satisfied metric best advantage generat...</td>\n",
       "    </tr>\n",
       "    <tr>\n",
       "      <th>592</th>\n",
       "      <td>mt systems examined light outputs translation ...</td>\n",
       "    </tr>\n",
       "    <tr>\n",
       "      <th>1135</th>\n",
       "      <td>effectiveness method ambiguities caused one tr...</td>\n",
       "    </tr>\n",
       "  </tbody>\n",
       "</table>\n",
       "<p>1050 rows × 1 columns</p>\n",
       "</div>"
      ],
      "text/plain": [
       "                                               sentence\n",
       "107           section describes two experiments briefly\n",
       "631                                           sometimes\n",
       "1209          allied corpussimilarity corpushomogeneity\n",
       "797   since referent identifiable definite descripti...\n",
       "1003             uce filtering text categorization task\n",
       "...                                                 ...\n",
       "1190  englishgerman translation like englishspanish ...\n",
       "125   let training documents number training documen...\n",
       "898   course satisfied metric best advantage generat...\n",
       "592   mt systems examined light outputs translation ...\n",
       "1135  effectiveness method ambiguities caused one tr...\n",
       "\n",
       "[1050 rows x 1 columns]"
      ]
     },
     "execution_count": 14,
     "metadata": {},
     "output_type": "execute_result"
    }
   ],
   "source": [
    "X_train\n",
    "#X_test\n",
    "#y_train\n",
    "#y_test"
   ]
  },
  {
   "cell_type": "code",
   "execution_count": null,
   "metadata": {},
   "outputs": [],
   "source": []
  },
  {
   "cell_type": "code",
   "execution_count": 15,
   "metadata": {},
   "outputs": [
    {
     "name": "stdout",
     "output_type": "stream",
     "text": [
      "450\n",
      "Word2Vec(vocab=2657, vector_size=300, alpha=0.025)\n"
     ]
    }
   ],
   "source": [
    "sentences = [w.split() for w in X_test['sentence']]\n",
    "print(len(sentences))\n",
    "model = Word2Vec(sentences, min_count=1, vector_size=300)\n",
    "print(model)\n",
    "\n",
    "words = list(model.wv.index_to_key)\n",
    "len(words)\n",
    "\n",
    "zer = numpy.array([0.0 for x in range(300)])\n",
    "\n",
    "sen = list(X_test['sentence'])\n",
    "vecs = []\n",
    "vecs2 = []\n",
    "for s in sen:\n",
    "    if len(s.split())<40:\n",
    "        for w in s.split():\n",
    "            vecs.append(numpy.array(model.wv.get_vector(w, norm=True)))\n",
    "        if len(s.split()) == 0:\n",
    "            vecs.append(zer)\n",
    "        vecs2.append(numpy.array(vecs))\n",
    "        vecs.clear()\n",
    "    else:\n",
    "        vecs2.append(numpy.array([zer for x in range(30)]))\n",
    "    \n",
    "for i in range(len(vecs2)):\n",
    "    while len(vecs2[i])<40:\n",
    "        vecs2[i] = numpy.vstack([vecs2[i], zer])\n",
    "\n",
    "X_test_vecs = vecs2"
   ]
  },
  {
   "cell_type": "code",
   "execution_count": 16,
   "metadata": {},
   "outputs": [
    {
     "data": {
      "text/plain": [
       "(450, 40, 300)"
      ]
     },
     "execution_count": 16,
     "metadata": {},
     "output_type": "execute_result"
    }
   ],
   "source": [
    "numpy.array(X_test_vecs).shape"
   ]
  },
  {
   "cell_type": "code",
   "execution_count": null,
   "metadata": {},
   "outputs": [],
   "source": []
  },
  {
   "cell_type": "code",
   "execution_count": 17,
   "metadata": {},
   "outputs": [
    {
     "name": "stdout",
     "output_type": "stream",
     "text": [
      "1050\n",
      "Word2Vec(vocab=4411, vector_size=300, alpha=0.025)\n"
     ]
    }
   ],
   "source": [
    "sentences = [w.split() for w in X_train['sentence']]\n",
    "print(len(sentences))\n",
    "model = Word2Vec(sentences, min_count=1, vector_size=300)\n",
    "print(model)\n",
    "\n",
    "words = list(model.wv.index_to_key)\n",
    "len(words)\n",
    "\n",
    "zer = numpy.array([0.0 for x in range(300)])\n",
    "\n",
    "sen = list(X_train['sentence'])\n",
    "vecs = []\n",
    "vecs2 = []\n",
    "for s in sen:\n",
    "    if len(s.split())<40:\n",
    "        for w in s.split():\n",
    "            vecs.append(numpy.array(model.wv.get_vector(w, norm=True)))\n",
    "        if len(s.split()) == 0:\n",
    "            vecs.append(zer)\n",
    "        vecs2.append(numpy.array(vecs))\n",
    "        vecs.clear()\n",
    "    else:\n",
    "        vecs2.append(numpy.array([zer for x in range(30)]))\n",
    "    \n",
    "for i in range(len(vecs2)):\n",
    "    while len(vecs2[i])<40:\n",
    "        vecs2[i] = numpy.vstack([vecs2[i], zer])\n",
    "\n",
    "X_train_vecs = vecs2"
   ]
  },
  {
   "cell_type": "code",
   "execution_count": 18,
   "metadata": {},
   "outputs": [
    {
     "data": {
      "text/plain": [
       "(1050, 40, 300)"
      ]
     },
     "execution_count": 18,
     "metadata": {},
     "output_type": "execute_result"
    }
   ],
   "source": [
    "numpy.array(vecs2).shape"
   ]
  },
  {
   "cell_type": "code",
   "execution_count": 2,
   "metadata": {},
   "outputs": [
    {
     "name": "stdout",
     "output_type": "stream",
     "text": [
      "Model: \"sequential\"\n",
      "_________________________________________________________________\n",
      "Layer (type)                 Output Shape              Param #   \n",
      "=================================================================\n",
      "conv1d (Conv1D)              (None, 38, 32)            28832     \n",
      "_________________________________________________________________\n",
      "conv1d_1 (Conv1D)            (None, 36, 64)            6208      \n",
      "_________________________________________________________________\n",
      "flatten (Flatten)            (None, 2304)              0         \n",
      "_________________________________________________________________\n",
      "dense (Dense)                (None, 1)                 2305      \n",
      "=================================================================\n",
      "Total params: 37,345\n",
      "Trainable params: 37,345\n",
      "Non-trainable params: 0\n",
      "_________________________________________________________________\n"
     ]
    },
    {
     "ename": "NameError",
     "evalue": "name 'numpy' is not defined",
     "output_type": "error",
     "traceback": [
      "\u001b[1;31m---------------------------------------------------------------------------\u001b[0m",
      "\u001b[1;31mNameError\u001b[0m                                 Traceback (most recent call last)",
      "\u001b[1;32m<ipython-input-2-b8098e069c39>\u001b[0m in \u001b[0;36m<module>\u001b[1;34m\u001b[0m\n\u001b[0;32m     13\u001b[0m \u001b[1;31m#model.fit(numpy.array(X_train_vecs), y_train, validation_data=(numpy.array(X_test_vecs), y_test), epochs=20) ###batch size?\u001b[0m\u001b[1;33m\u001b[0m\u001b[1;33m\u001b[0m\u001b[1;33m\u001b[0m\u001b[0m\n\u001b[0;32m     14\u001b[0m \u001b[1;33m\u001b[0m\u001b[0m\n\u001b[1;32m---> 15\u001b[1;33m \u001b[0mmodel\u001b[0m\u001b[1;33m.\u001b[0m\u001b[0mfit\u001b[0m\u001b[1;33m(\u001b[0m\u001b[0mnumpy\u001b[0m\u001b[1;33m.\u001b[0m\u001b[0marray\u001b[0m\u001b[1;33m(\u001b[0m\u001b[0mX_train_vecs\u001b[0m\u001b[1;33m)\u001b[0m\u001b[1;33m,\u001b[0m \u001b[0my_train\u001b[0m\u001b[1;33m,\u001b[0m \u001b[0my_test\u001b[0m\u001b[1;33m,\u001b[0m \u001b[0mepochs\u001b[0m\u001b[1;33m=\u001b[0m\u001b[1;36m20\u001b[0m\u001b[1;33m)\u001b[0m\u001b[1;33m\u001b[0m\u001b[1;33m\u001b[0m\u001b[0m\n\u001b[0m",
      "\u001b[1;31mNameError\u001b[0m: name 'numpy' is not defined"
     ]
    }
   ],
   "source": [
    "from keras.models import Sequential\n",
    "from keras.layers import Dense, Conv2D, Flatten, Conv1D, LeakyReLU, Dropout\n",
    "\n",
    "model = Sequential()\n",
    "model.add(Conv1D(32, kernel_size=3, activation='relu', input_shape=(40,300)))\n",
    "#model.add(LeakyReLU(alpha=0.2))\n",
    "#model.add(Dropout(0.4))\n",
    "model.add(Conv1D(64, kernel_size=3, activation='relu'))\n",
    "model.add(Flatten())\n",
    "model.add(Dense(1, activation='sigmoid'))\n",
    "model.compile(optimizer='adam', loss='binary_crossentropy', metrics=['accuracy'])\n",
    "model.summary()\n",
    "model.fit(numpy.array(X_train_vecs), y_train, validation_data=(numpy.array(X_test_vecs), y_test), epochs=5)"
   ]
  },
  {
   "cell_type": "code",
   "execution_count": 88,
   "metadata": {},
   "outputs": [
    {
     "name": "stdout",
     "output_type": "stream",
     "text": [
      "684\n",
      "Word2Vec(vocab=3569, vector_size=300, alpha=0.025)\n"
     ]
    }
   ],
   "source": [
    "sentences = [w.split() for w in test['sentence']]\n",
    "print(len(sentences))\n",
    "model2 = Word2Vec(sentences, min_count=1, vector_size=300)\n",
    "print(model2)\n",
    "\n",
    "words = list(model2.wv.index_to_key)\n",
    "len(words)\n",
    "\n",
    "zer = numpy.array([0.0 for x in range(300)])\n",
    "\n",
    "sen = list(test['sentence'])\n",
    "vecs = []\n",
    "vecs2 = []\n",
    "for s in sen:\n",
    "    if len(s.split())<40:\n",
    "        for w in s.split():\n",
    "            vecs.append(numpy.array(model2.wv.get_vector(w, norm=True)))\n",
    "        if len(s.split()) == 0:\n",
    "            vecs.append(zer)\n",
    "        vecs2.append(numpy.array(vecs))\n",
    "        vecs.clear()\n",
    "    else:\n",
    "        vecs2.append(numpy.array([zer for x in range(30)]))\n",
    "    \n",
    "for i in range(len(vecs2)):\n",
    "    while len(vecs2[i])<40:\n",
    "        vecs2[i] = numpy.vstack([vecs2[i], zer])\n",
    "\n",
    "f_vecs = vecs2"
   ]
  },
  {
   "cell_type": "code",
   "execution_count": 94,
   "metadata": {},
   "outputs": [],
   "source": [
    "test_pred = (model.predict_classes(numpy.array(f_vecs)) > 0.5).astype(\"int32\")"
   ]
  },
  {
   "cell_type": "code",
   "execution_count": 91,
   "metadata": {},
   "outputs": [],
   "source": [
    "df3 = pd.read_csv(\"C:\\\\MyFoulder\\\\SCE\\שנה ג\\\\סמסטר ב\\\\מבוא ללמידה עמוקה\\\\3\\\\ex3_sampleSubmission.csv\")\n",
    "df3['label'] = test_pred\n",
    "    \n",
    "df3.to_csv('Project3.12.csv', index = False)"
   ]
  },
  {
   "cell_type": "code",
   "execution_count": 33,
   "metadata": {},
   "outputs": [
    {
     "name": "stdout",
     "output_type": "stream",
     "text": [
      "Time elapsed in (hh:mm:ss.ms): \"0:00:03.583826\"\n"
     ]
    }
   ],
   "source": [
    "print('Time elapsed in (hh:mm:ss.ms): \"{}\"'.format(datetime.now() - start_time))"
   ]
  },
  {
   "cell_type": "code",
   "execution_count": null,
   "metadata": {},
   "outputs": [],
   "source": []
  }
 ],
 "metadata": {
  "kernelspec": {
   "display_name": "Python 3 (ipykernel)",
   "language": "python",
   "name": "python3"
  },
  "language_info": {
   "codemirror_mode": {
    "name": "ipython",
    "version": 3
   },
   "file_extension": ".py",
   "mimetype": "text/x-python",
   "name": "python",
   "nbconvert_exporter": "python",
   "pygments_lexer": "ipython3",
   "version": "3.9.7"
  }
 },
 "nbformat": 4,
 "nbformat_minor": 4
}
