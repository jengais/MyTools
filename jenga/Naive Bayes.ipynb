{
 "cells": [
  {
   "cell_type": "code",
   "execution_count": 1,
   "metadata": {},
   "outputs": [
    {
     "name": "stdout",
     "output_type": "stream",
     "text": [
      "Success percent is: 60.77%\n"
     ]
    }
   ],
   "source": [
    "import pandas as pd\n",
    "df= pd.read_csv(\"train.csv\").applymap(lambda x: x.lower() if type(x) == str else x)\n",
    "dftest=pd.read_csv(\"test.csv\").applymap(lambda x: x.lower() if type(x) == str else x)\n",
    "prior = df.groupby('class').size().div(len(df)) #count()['class']/len(df)\n",
    "likelihood = {}\n",
    "testlist=[]\n",
    "featurelist=[]\n",
    "numeric=[]\n",
    "bins = 3\n",
    "\n",
    "###pre proccessing##\n",
    "for col in df:\n",
    "    if(type(df[col][0])!=str):\n",
    "        numeric.append(col)                                    #numeric features\n",
    "        df[col]=pd.qcut(df[col],int(bins),duplicates=\"drop\")   #numeric discretization\n",
    "        \n",
    "    if \"class\" not in col:\n",
    "        featurelist.append(col)                                                       #feature list except class                           \n",
    "        likelihood[col] = df.groupby(['class', col]).size().div(len(df)).div(prior)   ## Creating Likelihhod##\n",
    "\n",
    "p_yes=1\n",
    "p_no=1\n",
    "for row in dftest.iterrows():\n",
    "    p_yes=1\n",
    "    p_no=1\n",
    "    for key,val in row[1].items():\n",
    "        if \"class\" not in key:\n",
    "            if val in likelihood[key]['yes'].index and val in likelihood[key]['no'].index:\n",
    "                p_yes*=likelihood[key]['yes'].loc[val]\n",
    "                p_no*=likelihood[key]['no'].loc[val]\n",
    "    p_yes*=prior['yes']     \n",
    "    p_no*=prior['no']\n",
    "    if p_yes>p_no:\n",
    "         testlist.append(\"yes\")\n",
    "    else:\n",
    "         testlist.append(\"no\")\n",
    "    \n",
    "col1={'test':testlist}\n",
    "final=pd.DataFrame(col1)\n",
    "final['train']=df['class']\n",
    "result=final.groupby([\"test\", \"train\"]).size()\n",
    "success=result['no']['no']+result['yes']['yes']\n",
    "counttest=len(final)\n",
    "successrate=(success/counttest)*100\n",
    "print(\"Success percent is: %.2f%%\" % successrate)"
   ]
  }
 ],
 "metadata": {
  "kernelspec": {
   "display_name": "Python 3",
   "language": "python",
   "name": "python3"
  },
  "language_info": {
   "codemirror_mode": {
    "name": "ipython",
    "version": 3
   },
   "file_extension": ".py",
   "mimetype": "text/x-python",
   "name": "python",
   "nbconvert_exporter": "python",
   "pygments_lexer": "ipython3",
   "version": "3.7.7"
  }
 },
 "nbformat": 4,
 "nbformat_minor": 4
}
