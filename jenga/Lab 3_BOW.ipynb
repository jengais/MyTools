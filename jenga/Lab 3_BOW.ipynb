{
 "cells": [
  {
   "cell_type": "code",
   "execution_count": 50,
   "metadata": {},
   "outputs": [],
   "source": [
    "import pandas as pd\n",
    "import numpy as np\n",
    "from sklearn.feature_extraction.text import TfidfVectorizer\n",
    "from sklearn.metrics.pairwise import linear_kernel\n",
    "from sklearn.metrics.pairwise import cosine_similarity"
   ]
  },
  {
   "cell_type": "code",
   "execution_count": 51,
   "metadata": {},
   "outputs": [],
   "source": [
    "ds = pd.read_csv('ttw2_finalSpell.csv')"
   ]
  },
  {
   "cell_type": "code",
   "execution_count": null,
   "metadata": {},
   "outputs": [],
   "source": [
    "##########\n",
    "\n",
    "\n"
   ]
  },
  {
   "cell_type": "code",
   "execution_count": 52,
   "metadata": {},
   "outputs": [
    {
     "name": "stdout",
     "output_type": "stream",
     "text": [
      "(31962, 3)\n"
     ]
    }
   ],
   "source": [
    "print(ds.shape)"
   ]
  },
  {
   "cell_type": "code",
   "execution_count": 53,
   "metadata": {},
   "outputs": [],
   "source": [
    "#ds.replace(np.nan, \" \")\n",
    "ds=ds.fillna(\"\")"
   ]
  },
  {
   "cell_type": "code",
   "execution_count": 54,
   "metadata": {},
   "outputs": [
    {
     "data": {
      "text/plain": [
       "<bound method NDFrame.head of           id  label                                              tweet\n",
       "0          1      0  user father dysfunctional selfish drags kids d...\n",
       "1          2      0  user user thanks credit cant use cause dont of...\n",
       "2          3      0                                   birthday majesty\n",
       "3          4      0                        model love u take u time ur\n",
       "4          5      0                                 factsguide society\n",
       "...      ...    ...                                                ...\n",
       "31957  31958      0                                  ate user is youtu\n",
       "31958  31959      0  see nina turner airwaves trying wrap mantle ge...\n",
       "31959  31960      0    listening sad songs monday morning ots work sad\n",
       "31960  31961      1                       user vandalised condemns act\n",
       "31961  31962      0                                  thank user follow\n",
       "\n",
       "[31962 rows x 3 columns]>"
      ]
     },
     "execution_count": 54,
     "metadata": {},
     "output_type": "execute_result"
    }
   ],
   "source": [
    "ds.head"
   ]
  },
  {
   "cell_type": "code",
   "execution_count": 55,
   "metadata": {},
   "outputs": [
    {
     "data": {
      "text/plain": [
       "0        user father dysfunctional selfish drags kids d...\n",
       "1        user user thanks credit cant use cause dont of...\n",
       "2                                         birthday majesty\n",
       "3                              model love u take u time ur\n",
       "4                                       factsguide society\n",
       "                               ...                        \n",
       "31957                                    ate user is youtu\n",
       "31958    see nina turner airwaves trying wrap mantle ge...\n",
       "31959      listening sad songs monday morning ots work sad\n",
       "31960                         user vandalised condemns act\n",
       "31961                                    thank user follow\n",
       "Name: tweet, Length: 31962, dtype: object"
      ]
     },
     "execution_count": 55,
     "metadata": {},
     "output_type": "execute_result"
    }
   ],
   "source": [
    "ds['tweet']"
   ]
  },
  {
   "cell_type": "code",
   "execution_count": 56,
   "metadata": {},
   "outputs": [
    {
     "name": "stdout",
     "output_type": "stream",
     "text": [
      "TfidfVectorizer(min_df=0, stop_words='english')\n"
     ]
    }
   ],
   "source": [
    "tf = TfidfVectorizer(analyzer='word',ngram_range=(1,1), min_df=0, stop_words='english')\n",
    "print(tf)"
   ]
  },
  {
   "cell_type": "code",
   "execution_count": 57,
   "metadata": {},
   "outputs": [
    {
     "data": {
      "text/plain": [
       "''"
      ]
     },
     "execution_count": 57,
     "metadata": {},
     "output_type": "execute_result"
    }
   ],
   "source": [
    "ds[\"tweet\"][1118]"
   ]
  },
  {
   "cell_type": "code",
   "execution_count": 65,
   "metadata": {},
   "outputs": [],
   "source": [
    "tfidf_matrix = tf.fit_transform(ds['tweet'][:1000])"
   ]
  },
  {
   "cell_type": "code",
   "execution_count": 66,
   "metadata": {},
   "outputs": [
    {
     "name": "stdout",
     "output_type": "stream",
     "text": [
      "(1000, 2472)\n"
     ]
    }
   ],
   "source": [
    "print(tfidf_matrix.shape)"
   ]
  },
  {
   "cell_type": "code",
   "execution_count": 69,
   "metadata": {},
   "outputs": [
    {
     "name": "stdout",
     "output_type": "stream",
     "text": [
      "<class 'scipy.sparse.csr.csr_matrix'>\n"
     ]
    }
   ],
   "source": [
    "print(type(tfidf_matrix))"
   ]
  },
  {
   "cell_type": "code",
   "execution_count": 68,
   "metadata": {},
   "outputs": [
    {
     "name": "stdout",
     "output_type": "stream",
     "text": [
      "  (0, 639)\t0.42858532205657873\n",
      "  (0, 1171)\t0.3874144707392011\n",
      "  (0, 619)\t0.42858532205657873\n",
      "  (0, 1911)\t0.4045019179131466\n",
      "  (0, 640)\t0.42858532205657873\n",
      "  (0, 751)\t0.3462436194218234\n",
      "  (0, 2301)\t0.1238848151675673\n",
      "  (1, 1718)\t0.3568405491248768\n",
      "  (1, 2317)\t0.3568405491248768\n",
      "  (1, 2397)\t0.3568405491248768\n",
      "  (1, 1508)\t0.3225616589343904\n",
      "  (1, 610)\t0.22999358237020404\n",
      "  (1, 335)\t0.3568405491248768\n",
      "  (1, 2298)\t0.2772474309300277\n",
      "  (1, 482)\t0.3568405491248768\n",
      "  (1, 2182)\t0.29488642821642913\n",
      "  (1, 2301)\t0.20629323123106247\n",
      "  (2, 1318)\t0.8238507574178815\n",
      "  (2, 216)\t0.5668067832180408\n",
      "  (3, 2295)\t0.520945945087961\n",
      "  (3, 2212)\t0.4744761540549123\n",
      "  (3, 1291)\t0.43734289538182436\n",
      "  (3, 1407)\t0.5587655084100241\n",
      "  (4, 2009)\t0.7071067811865475\n",
      "  (4, 731)\t0.7071067811865475\n",
      "  :\t:\n",
      "  (993, 111)\t0.5307504831499021\n",
      "  (993, 2301)\t0.1697198490796319\n",
      "  (994, 1020)\t0.5773502691896257\n",
      "  (994, 1019)\t0.5773502691896257\n",
      "  (994, 551)\t0.5773502691896257\n",
      "  (995, 1668)\t0.7947274806272733\n",
      "  (995, 1765)\t0.6069664171400481\n",
      "  (996, 2300)\t0.46065452708373733\n",
      "  (996, 2272)\t0.46065452708373733\n",
      "  (996, 555)\t0.46065452708373733\n",
      "  (996, 2368)\t0.3240296963981908\n",
      "  (996, 1518)\t0.3721515473165592\n",
      "  (996, 783)\t0.346266085133618\n",
      "  (997, 2301)\t1.0\n",
      "  (998, 981)\t0.7822265821797691\n",
      "  (998, 1322)\t0.6229940402053269\n",
      "  (999, 774)\t0.41364749462621964\n",
      "  (999, 353)\t0.41364749462621964\n",
      "  (999, 2049)\t0.39040348865280394\n",
      "  (999, 1041)\t0.3506675979850091\n",
      "  (999, 1283)\t0.3274235920115934\n",
      "  (999, 2018)\t0.3418306370454378\n",
      "  (999, 1245)\t0.27618389805533544\n",
      "  (999, 2215)\t0.26034718360540005\n",
      "  (999, 2301)\t0.11956695850057965\n"
     ]
    }
   ],
   "source": [
    "print(tfidf_matrix)"
   ]
  },
  {
   "cell_type": "code",
   "execution_count": 70,
   "metadata": {},
   "outputs": [
    {
     "name": "stdout",
     "output_type": "stream",
     "text": [
      "(1000, 2472)\n"
     ]
    }
   ],
   "source": [
    "print(tfidf_matrix.shape)"
   ]
  },
  {
   "cell_type": "code",
   "execution_count": 71,
   "metadata": {},
   "outputs": [
    {
     "name": "stdout",
     "output_type": "stream",
     "text": [
      "{'user': 2301, 'father': 751, 'dysfunctional': 640, 'selfish': 1911, 'drags': 619, 'kids': 1171, 'dysfunction': 639, 'thanks': 2182, 'credit': 482, 'use': 2298, 'cause': 335, 'dont': 610, 'offer': 1508, 'wheelchair': 2397, 'vans': 2317, 'px': 1718, 'birthday': 216, 'majesty': 1318, 'model': 1407, 'love': 1291, 'time': 2212, 'ur': 2295, 'factsguide': 731, 'society': 2009, 'huge': 1049, 'fan': 741, 'fare': 746, 'big': 205, 'talking': 2142, 'leave': 1222, 'chaos': 352, 'pay': 1575, 'disputes': 593, 'camping': 311, 'tomorrow': 2219, 'danny': 522, 'school': 1890, 'year': 2449, 'exams': 708, 'think': 2195, 'land': 1198, 'welcome': 2387, 'im': 1075, 'consumer': 448, 'price': 1675, 'index': 1095, 'mom': 1411, 'climbed': 398, 'previous': 1673, 'daddy': 512, 'today': 2215, 'calls': 307, 'middle': 1385, 'build': 289, 'wall': 2352, 'chant': 351, 'comment': 421, 'ouchjunior': 1542, 'angrygot': 67, 'thankful': 2181, 'paper': 1562, 'agree': 38, 'smiles': 1999, 'ig': 1068, 'make': 1320, 'people': 1586, 'know': 1186, 'essential': 690, 'oils': 1515, 'chemicals': 364, 'euro': 694, 'blaming': 223, 'ha': 945, 'conceded': 431, 'goal': 888, 'fat': 750, 'romney': 1843, 'gave': 869, 'away': 141, 'free': 835, 'kick': 1169, 'knowing': 1187, 'bale': 157, 'hit': 1022, 'sad': 1863, 'little': 1266, 'dude': 634, 'product': 1688, 'day': 533, 'happy': 963, 'man': 1327, 'tool': 2222, 'whos': 2400, 'open': 1525, 'amp': 62, 'drink': 624, 'lump': 1305, 'says': 1886, 'prove': 1705, 'beautiful': 180, 'sign': 1961, 'vendor': 2320, 'sunday': 2097, 'great': 918, 'panel': 1561, 'mediatization': 1363, 'public': 1711, 'service': 1922, 'fathers': 752, 'went': 2391, 'nightclub': 1480, 'good': 898, 'night': 1479, 'mans': 1331, 'actions': 11, 'means': 1360, 'lost': 1289, 'families': 738, 'foreverorlando': 824, 'chance': 346, 'vote': 2341, 'presidential': 1665, 'candidate': 315, 'excited': 709, 'cycle': 508, 'looks': 1284, 'different': 579, 'rip': 1831, 'fellow': 764, 'modern': 1408, 'ireland': 1121, 'sadly': 1865, 'passed': 1569, 'tonight': 2220, 'gaa': 861, 'forever': 822, 'singing': 1973, 'cheering': 361, 'hard': 967, 'monday': 1414, 'cloudy': 405, 'weather': 2373, 'disabling': 587, 'oxygen': 1553, 'production': 1689, 'unbelievable': 2279, 'st': 2040, 'century': 340, 'wed': 2376, 'need': 1464, 'like': 1252, 'taylorswift': 2155, 'bull': 292, 'dominate': 605, 'direct': 583, 'want': 2354, 'morning': 1427, 'word': 2419, 'tells': 2167, 'oh': 1514, 'waited': 2348, 'hours': 1040, 'valravn': 2314, 'line': 1256, 'stopped': 2070, 'working': 2424, 'close': 401, 'sunshine': 2098, 'finally': 783, 'finish': 788, 'book': 246, 'youve': 2460, 'awhile': 143, 'yup': 2462, 'knicks': 1185, 'easier': 642, 'nba': 1458, 'playoffs': 1622, 'roll': 1840, 'life': 1245, 'social': 2008, 'networking': 1473, 'embrace': 666, 'shares': 1933, 'snake': 2002, 'weekend': 2382, 'lovely': 1293, 'echeveria': 649, 'bloomsflowers': 232, 'amazing': 56, 'goes': 891, 'feeling': 759, 'blue': 233, 'best': 200, 'pa': 1554, 'abc': 2, 'getting': 877, 'ready': 1761, 'remove': 1799, 'victims': 2326, 'frm': 846, 'got': 904, 'concelebrate': 432, 'let': 1232, 'scumbaggery': 1897, 'begin': 184, 'thank': 2180, 'super': 2100, 'zpamdelacruz': 2471, 'colors': 416, 'caps': 319, 'tarmac': 2148, 'score': 1891, 'playing': 1621, 'baroque': 164, 'pieces': 1605, 'piano': 1598, 'belief': 192, 'lets': 1233, 'fight': 779, 'mr': 1436, 'rays': 1751, 'mascot': 1343, 'times': 2213, 'babe': 145, 'weekends': 2383, 'work': 2421, 'conference': 438, 'right': 1828, 'mindset': 1396, 'leads': 1216, 'cultureofdevelopment': 498, 'organizations': 1538, 'christina': 383, 'grimmies': 925, 'performance': 1589, 'shot': 1950, 'dance': 520, 'really': 1765, 'hu': 1047, 'feelings': 760, 'wife': 2401, 'odore': 1507, 'miss': 1399, 'poland': 1635, 'surgery': 2110, 'bridge': 271, 'shes': 1937, 'jealous': 1140, 'celebrate': 339, 'played': 1619, 'role': 1839, 'sure': 2108, 'hour': 1039, 'white': 2399, 'establishment': 691, 'blk': 228, 'folk': 809, 'running': 1857, 'loving': 1296, 'promoting': 1698, 'greatness': 920, 'journey': 1150, 'begins': 187, 'venusexchange': 2321, 'new': 1474, 'brochures': 279, 'arrived': 111, 'exciting': 710, 'stuff': 2087, 'happening': 958, 'florida': 803, 'shooting': 1947, 'old': 1518, 'kid': 1170, 'ferrari': 770, 'sake': 1869, 'championship': 345, 'gp': 909, 'clearly': 393, 'turning': 2267, 'point': 1630, 'rb': 1752, 'ferrarimercs': 771, 'acid': 9, 'test': 2176, 'seeks': 1908, 'probe': 1684, 'leak': 1217, 'points': 1633, 'finger': 787, 'wrapping': 2435, 'th': 2178, 'hey': 1007, 'shown': 1953, 'regurgitated': 1787, 'calling': 306, 'raise': 1741, 'brown': 284, 'bar': 162, 'designing': 565, 'learning': 1221, 'space': 2024, 'include': 1086, 'uses': 2304, 'insecurity': 1102, 'lure': 1307, 'men': 1373, 'carrying': 329, 'gun': 938, 'wouldnt': 2432, 'helped': 999, 'control': 451, 'wont': 2417, 'stop': 2069, 'black': 219, 'market': 1337, 'terrorism': 2174, 'worse': 2430, 'power': 1656, 'mind': 1393, 'body': 239, 'voodoo': 2339, 'weeks': 2385, 'far': 745, 'place': 1612, 'family': 740, 'members': 1369, 'hus': 1054, 'rehearse': 1788, 'music': 1446, 'videos': 2328, 'look': 1280, 'announcement': 77, 'nights': 1481, 'pm': 1626, 'channel': 350, 'fuss': 859, 'watching': 2362, 'episodes': 686, 'offline': 1512, 'nice': 1477, 'long': 1278, 'things': 2194, 'incredibly': 1090, 'yes': 2453, 'received': 1768, 'acceptance': 6, 'letter': 1234, 'masters': 1347, 'october': 1505, 'daughter': 532, 'riding': 1826, 'bike': 209, 'driveway': 628, 'son': 2014, 'guitar': 936, 'enjoy': 678, 'vampire': 2316, 'omg': 1521, 'station': 2057, 'way': 2368, 'jam': 1132, 'course': 470, 'ill': 1073, 'hope': 1034, 'hug': 1048, 'gonna': 897, 'happen': 956, 'anytime': 88, 'soon': 2018, 'couple': 468, 'sex': 1926, 'naked': 1453, 'japanese': 1136, 'girls': 885, 'hump': 1053, 'edwardsville': 655, 'pennsylvania': 1585, 'personalized': 1592, 'gb': 872, 'truly': 2255, 'sick': 1956, 'ppl': 1657, 'trump': 2256, 'obama': 1501, 'resign': 1811, 'orlando': 1540, 'shootings': 1948, 'boy': 257, 'years': 2450, 'talk': 2141, 'change': 347, 'usd': 2297, 'clears': 394, 'barrier': 165, 'jumps': 1154, 'fresh': 839, 'week': 2381, 'high': 1010, 'going': 892, 'la': 1193, 'friends': 842, 'wrap': 2434, 'head': 983, 'fact': 728, 'gone': 896, 'destroyed': 569, 'dis': 585, 'wait': 2347, 'sta': 2041, 'baking': 154, 'interested': 1114, 'doesnt': 598, 'address': 18, 'racism': 1732, 'brings': 276, 'beloved': 193, 'cds': 338, 'recovered': 1776, 'apple': 92, 'marvel': 1342, 'vine': 2332, 'mocked': 1406, 'spell': 2031, 'brexit': 269, 'referendum': 1781, 'commerzbank': 423, 'health': 987, 'benefits': 195, 'cucumber': 496, 'toradora': 2225, 'laps': 1199, 'pool': 1642, 'ride': 1825, 'picked': 1600, 'gym': 943, 'membership': 1370, 'form': 828, 'cold': 410, 'polar': 1636, 'bear': 179, 'climb': 397, 'racing': 1731, 'angry': 66, 'living': 1270, 'places': 1613, 'looking': 1283, 'gets': 876, 'muslim': 1448, 'assassination': 119, 'waiting': 2349, 'football': 818, 'friday': 840, 'qcbagssummer': 1720, 'nochebuena': 1486, 'las': 1200, 'vegas': 2319, 'strip': 2080, 'fleurette': 799, 'instamansefieseptumfriendblackandwhite': 1109, 'branches': 264, 'rainy': 1740, 'writing': 2437, 'tears': 2160, 'flying': 807, 'birds': 214, 'yeah': 2448, 'buttons': 301, 'mail': 1316, 'pretty': 1670, 'driver': 627, 'female': 767, 'moose': 1426, 'river': 1834, 'rd': 1753, 'killed': 1173, 'ok': 1517, 'crews': 484, 'removing': 1800, 'animal': 69, 'afterpas': 33, 'japan': 1135, 'madeinjapan': 1313, 'cute': 506, 'arent': 100, 'protesting': 1703, 'monthly': 1420, 'fueled': 852, 'spend': 2032, 'update': 2292, 'date': 530, 'corrupted': 460, 'stupidity': 2088, 'makes': 1322, 'evenly': 698, 'installation': 1108, 'implant': 1081, 'thing': 2193, 'matters': 1353, 'sho': 1942, 'chris': 380, 'evans': 696, 'actor': 12, 'human': 1051, 'thoughts': 2201, 'prayers': 1658, 'murdered': 1445, 'gay': 870, 'doing': 601, 'guitars': 937, 'album': 47, 'retreated': 1818, 'lion': 1258, 'pro': 1682, 'targets': 2147, 'sma': 1993, 'ive': 1129, 'bad': 150, 'worst': 2431, 'blessed': 226, 'worked': 2422, 'sas': 1878, 'leading': 1215, 'ladies': 1195, 'happiest': 961, 'kinda': 1179, 'humans': 1052, 'id': 1061, 'claiming': 389, 'gr': 910, 'plains': 1614, 'hair': 948, 'site': 1978, 'lt': 1299, 'listen': 1262, 'friend': 841, 'voice': 2337, 'freedom': 836, 'eff': 658, 'present': 1662, 'merely': 1375, 'stored': 2073, 'past': 1570, 'theodore': 2187, 'roosevelt': 1846, 'aint': 41, 'gorilla': 903, 'racists': 1734, 'thought': 2200, 'bet': 202, 'newarkfestival': 1475, 'internet': 1117, 'broken': 281, 'watch': 2360, 'netflix': 1470, 'thatched': 2183, 'whatbusiness': 2396, 'usual': 2308, 'dick': 576, 'sucking': 2092, 'tequila': 2171, 'login': 1275, 'shut': 1955, 'smaller': 1995, 'hands': 954, 'barry': 167, 'probably': 1683, 'lied': 1244, 'game': 864, 'sucked': 2091, 'challenges': 343, 'claim': 388, 'dares': 524, 'tracerequest': 2231, 'sending': 1916, 'deepest': 549, 'condolences': 437, 'zimbabwe': 2468, 'community': 424, 'hea': 982, 'selfie': 1910, 'saturday': 1881, 'afternoon': 32, 'chi': 366, 'meet': 1364, 'seed': 1906, 'nut': 1497, 'bolts': 242, 'www': 2439, 'bing': 211, 'bong': 244, 'downed': 613, 'months': 1421, 'seeing': 1907, 'live': 1268, 'shane': 1932, 'robe': 1837, 'watson': 2366, 'millions': 1391, 'pointed': 1631, 'hear': 989, 'announcers': 78, 'say': 1884, 'moved': 1432, 'player': 1620, 'lead': 1212, 'radio': 1737, 'god': 890, 'coming': 420, 'keeping': 1162, 'terrorist': 2175, 'constitutional': 446, 'rights': 1830, 'excuse': 711, 'republicans': 1806, 'appease': 91, 'nra': 1494, 'measures': 1361, 'happened': 957, 'mikeashley': 1388, 'example': 707, 'protect': 1701, 'europe': 695, 'stella': 2061, 'princess': 1677, 'birdsstellabadprincess': 215, 'post': 1653, 'check': 357, 'memories': 1371, 'saw': 1883, 'shi': 1938, 'said': 1868, 'cared': 324, 'hilarious': 1014, 'blocked': 229, 'asking': 117, 'particularly': 1568, 'difficult': 580, 'question': 1723, 'devastating': 570, 'news': 1476, 'happiness': 962, 'state': 2053, 'arrive': 110, 'manner': 1330, 'traveling': 2246, 'margaret': 1335, 'lee': 1225, 'safe': 1866, 'ways': 2370, 'heal': 986, 'creating': 480, 'wedding': 2377, 'number': 1496, 'forward': 830, 'attending': 130, 'cid': 384, 'workshop': 2426, 'reached': 1755, 'followers': 813, 'follower': 812, 'hype': 1057, 'words': 2420, 'em': 665, 'cost': 461, 'country': 467, 'bring': 274, 'bomb': 243, 'stadium': 2042, 'come': 418, 'cats': 333, 'eat': 645, 'bae': 152, 'swalscha': 2117, 'ilovethesecret': 1074, 'library': 1243, 'argentina': 101, 'attack': 127, 'city': 386, 'selfserving': 1912, 'hypocrisy': 1058, 'eye': 719, 'bouncing': 254, 'ball': 158, 'nimo': 1484, 'president': 1664, 'nohcarolina': 1488, 'building': 290, 'loo': 1279, 'reelection': 1779, 'money': 1416, 'imagine': 1079, 'easily': 643, 'alreemgroup': 55, 'action': 10, 'montreal': 1422, 'washed': 2358, 'spirited': 2033, 'entertainment': 681, 'shows': 1954, 'brisbane': 277, 'gala': 863, 'moments': 1413, 'lucky': 1302, 'chinatown': 373, 'mall': 1326, 'binondo': 213, 'takes': 2138, 'piss': 1607, 'valued': 2315, 'isnt': 1123, 'complete': 429, 'utter': 2310, 'moon': 1424, 'america': 59, 'voted': 2342, 'vot': 2340, 'selo': 1914, 'smile': 1998, 'brilliant': 273, 'lettering': 1235, 'branch': 263, 'customer': 504, 'screening': 1894, 'sing': 1971, 'songs': 2016, 'pop': 1644, 'shock': 1943, 'treatment': 2247, 'beers': 183, 'food': 815, 'beer': 182, 'fest': 772, 'campsite': 312, 'drunk': 631, 'starstruck': 2051, 'repost': 1804, 'sydney': 2130, 'teach': 2156, 'felt': 766, 'days': 534, 'left': 1226, 'milan': 1389, 'stone': 2068, 'roses': 1850, 'club': 406, 'theres': 2189, 'reason': 1766, 'stay': 2058, 'openly': 1526, 'greats': 921, 'crush': 493, 'engaged': 675, 'ref': 1780, 'end': 672, 'classes': 391, 'yay': 2447, 'needs': 1467, 'legendary': 1229, 'united': 2284, 'states': 2056, 'rest': 1814, 'world': 2427, 'proven': 1706, 'firearms': 790, 'hold': 1024, 'door': 611, 'woman': 2413, 'thats': 2184, 'try': 2261, 'deny': 559, 'help': 998, 'baby': 147, 'known': 1189, 'carowinds': 328, 'bought': 253, 'finding': 785, 'dry': 632, 'ticket': 2207, 'minute': 1397, 'lose': 1287, 'seconds': 1902, 'sanjapan': 1876, 'guys': 942, 'september': 1919, 'motor': 1430, 'count': 463, 'degree': 553, 'anna': 72, 'able': 3, 'supp': 2104, 'event': 699, 'funding': 855, 'peoples': 1587, 'happyhappy': 964, 'opportunity': 1529, 'themeowood': 2185, 'puppy': 1716, 'till': 2211, 'pharrell': 1595, 'williams': 2404, 'lyrics': 1309, 'member': 1368, 'yesterday': 2454, 'yyyy': 2463, 'trailer': 2239, 'borrow': 251, 'fancy': 742, 'tails': 2135, 'mad': 1312, 'dreamcatcher': 622, 'englishteacher': 677, 'memory': 1372, 'wonderful': 2416, 'dad': 511, 'missed': 1400, 'eternally': 692, 'loved': 1292, 'dallas': 517, 'video': 2327, 'youre': 2457, 'disturbing': 594, 'viewer': 2330, 'discretion': 590, 'play': 1618, 'loop': 1285, 'ove': 1547, 'itakoaloneits': 1127, 'fine': 786, 'stickers': 2066, 'kind': 1178, 'bunka': 294, 'bersama': 199, 'ma': 1311, 'sha': 1929, 'meylucky': 1378, 'affair': 27, 'townhouse': 2229, 'pic': 1599, 'loves': 1295, 'ran': 1743, 'governor': 908, 'ny': 1498, 'biggest': 207, 'africanamerican': 31, 'population': 1645, 'stereotyping': 2065, 'solutions': 2013, 'create': 479, 'repetitive': 1802, 'pussy': 1717, 'quicker': 1725, 'comes': 419, 'home': 1029, 'vez': 2323, 'manypols': 1333, 'sequoia': 1920, 'pitches': 1609, 'care': 323, 'eyebrows': 720, 'main': 1317, 'beam': 177, 'pride': 1676, 'paradereadybeyou': 1564, 'bogummylove': 240, 'foreverhope': 823, 'everydaygood': 703, 'nightuser': 1482, 'wishing': 2411, 'clients': 396, 'goats': 889, 'concord': 434, 'mills': 1392, 'scared': 1888, 'eliminate': 664, 'negativity': 1469, 'choose': 377, 'positive': 1649, 'lifestyle': 1249, 'instead': 1110, 'aaa': 0, 'nabla': 1451, 'arigatou': 103, 'jk': 1145, 'data': 529, 'self': 1909, 'employed': 669, 'half': 951, 'dumb': 635, 'appropriate': 97, 'zero': 2466, 'idea': 1062, 'magnificent': 1315, 'understand': 2282, 'designers': 564, 'print': 1679, 'animals': 70, 'fabric': 724, 'maybe': 1355, 'littlebear': 1267, 'senseless': 1917, 'violence': 2334, 'fucking': 850, 'opinion': 1528, 'nd': 1460, 'amendment': 58, 'heading': 985, 'leaving': 1224, 'heard': 990, 'trying': 2262, 'lock': 1273, 'shooter': 1946, 'kept': 1165, 'patrons': 1574, 'mood': 1423, 'flight': 800, 'munich': 1444, 'interviews': 1119, 'presentation': 1663, 'netherlands': 1471, 'proud': 1704, 'hv': 1056, 'reading': 1760, 'assured': 123, 'assent': 120, 'petite': 1594, 'emotions': 668, 'wish': 2410, 'vs': 2343, 'joy': 1152, 'temporary': 2169, 'leaves': 1223, 'twinklatinboys': 2273, 'na': 1450, 'creative': 481, 'held': 995, 'cried': 486, 'presse': 1666, 'mummy': 1443, 'gray': 917, 'stuck': 2084, 'athens': 124, 'santorini': 1877, 'windy': 2406, 'shocking': 1944, 'level': 1237, 'folks': 810, 'launch': 1206, 'crowd': 492, 'enjoying': 679, 'delicious': 556, 'melon': 1367, 'beginning': 186, 'fireworks': 791, 'weeheeeee': 2380, 'blackpool': 220, 'ask': 116, 'aunt': 134, 'horribly': 1036, 'ads': 20, 'fringe': 845, 'robsonkanu': 1838, 'decent': 543, 'available': 137, 'transfer': 2244, 'better': 203, 'shoes': 1945, 'unnecessary': 2287, 'stress': 2078, 'stalk': 2045, 'pen': 1584, 'poor': 1643, 'disabled': 586, 'kill': 1172, 'usa': 2296, 'used': 2299, 'universe': 2285, 'stephcurrys': 2063, 'outburst': 1543, 'begs': 188, 'christians': 382, 'san': 1874, 'antonio': 86, 'bound': 255, 'brother': 283, 'gtgtgtgtgtgtgt': 933, 'dying': 638, 'light': 1250, 'village': 2331, 'greentown': 923, 'haha': 947, 'noticed': 1493, 'training': 2242, 'lover': 1294, 'app': 90, 'sexy': 1928, 'fuck': 849, 'guess': 934, 'dog': 599, 'superspoilt': 2101, 'latest': 1203, 'updates': 2293, 'sid': 1957, 'bless': 225, 'hav': 980, 'successful': 2090, 'career': 325, 'finals': 784, 'ambivalent': 57, 'step': 2062, 'thompson': 2199, 'kylie': 1192, 'sinking': 1975, 'green': 922, 'class': 390, 'does': 597, 'learn': 1219, 'guillermo': 935, 'teams': 2158, 'webseries': 2375, 'episode': 685, 'edited': 653, 'answered': 83, 'statement': 2055, 'independence': 1093, 'hall': 952, 'simulator': 1970, 'adapt': 15, 'environment': 683, 'tear': 2159, 'material': 1351, 'leadership': 1214, 'kiss': 1181, 'donald': 607, 'ass': 118, 'hate': 974, 'mature': 1354, 'age': 34, 'happens': 959, 'oitnbseason': 1516, 'aaahhhhh': 1, 'ht': 1044, 'sun': 2096, 'thursday': 2206, 'packing': 1556, 'sneakpeek': 2005, 'tony': 2221, 'dads': 513, 'theverdict': 2191, 'idiot': 1065, 'june': 1155, 'lifequotes': 1247, 'higher': 1011, 'tolerance': 2217, 'alcohol': 48, 'lol': 1276, 'guy': 941, 'blaze': 224, 'spitting': 2034, 'image': 1077, 'hiking': 1013, 'trails': 2240, 'meeting': 1365, 'tackle': 2133, 'movie': 1433, 'uncovers': 2280, 'problem': 1686, 'chill': 371, 'relaxing': 1790, 'pet': 1593, 'tweet': 2271, 'sister': 1977, 'death': 540, 'concerned': 433, 'twitter': 2274, 'brand': 265, 'honest': 1033, 'born': 250, 'toxic': 2230, 'mother': 1429, 'hackers': 946, 'cup': 500, 'chair': 342, 'racist': 1733, 'remarks': 1796, 'michelle': 1384, 'mm': 1404, 'sangriasaludcheers': 1875, 'pub': 1710, 'pembroke': 1583, 'fabulous': 725, 'souls': 2021, 'million': 1390, 'reasons': 1767, 'craig': 474, 'job': 1146, 'dowry': 616, 'bottles': 252, 'drinks': 625, 'chippewa': 374, 'ans': 81, 'nigra': 1483, 'farishta': 747, 'maria': 1336, 'khushal': 1167, 'marks': 1338, 'obtained': 1504, 'damn': 519, 'bachelorette': 148, 'supporting': 2106, 'chivalry': 375, 'tradition': 2235, 'ones': 1522, 'heritage': 1005, 'controversial': 452, 'young': 2456, 'confined': 439, 'kitchen': 1183, 'void': 2338, 'meaning': 1359, 'cheap': 355, 'publicity': 1712, 'simply': 1968, 'lunchtime': 1306, 'argue': 102, 'wrong': 2438, 'shit': 1941, 'adr': 19, 'userfriendssummerswagquotesgodgirl': 2302, 'payintheusa': 1576, 'healthy': 988, 'fam': 736, 'dream': 621, 'palace': 1560, 'follow': 811, 'factor': 729, 'fault': 755, 'pointscore': 1634, 'stated': 2054, 'lame': 1197, 'luis': 1304, 'hot': 1038, 'wen': 2390, 'temper': 2168, 'lst': 1298, 'breath': 268, 'worry': 2429, 'double': 612, 'tap': 2145, 'lawofattraction': 1209, 'turns': 2268, 'flat': 798, 'eyeing': 722, 'eia': 659, 'inventory': 1120, 'fuer': 853, 'direction': 584, 'employees': 670, 'fun': 854, 'pigs': 1606, 'burn': 295, 'alive': 49, 'saskatchewan': 1879, 'barn': 163, 'convince': 453, 'americans': 61, 'blessing': 227, 'baba': 144, 'siddique': 1958, 'ifftar': 1067, 'mumbai': 1441, 'don': 606, 'avenge': 138, 'aircraft': 43, 'gh': 878, 'cousins': 471, 'reunited': 1820, 'unused': 2289, 'wellness': 2389, 'audience': 133, 'dune': 636, 'henry': 1003, 'insightful': 1104, 'train': 2241, 'hasn': 973, 'binge': 212, 'visit': 2336, 'usgtgtgt': 2305, 'troll': 2252, 'promise': 1696, 'nonsensical': 1490, 'rants': 1745, 'heaven': 993, 'slam': 1986, 'creepy': 483, 'awesome': 142, 'balloons': 159, 'climbing': 399, 'escape': 689, 'tiger': 2210, 'laugh': 1205, 'william': 2403, 'james': 1133, 'dehumanize': 554, 'theyre': 2192, 'accountable': 8, 'rat': 1749, 'race': 1730, 'study': 2086, 'stole': 2067, 'roommates': 1845, 'taking': 2139, 'dinner': 582, 'planning': 1616, 'usn': 2307, 'rifle': 1827, 'showed': 1951, 'ar': 98, 'closest': 403, 'bbc': 173, 'pundits': 1713, 'predictions': 1661, 'france': 833, 'elder': 661, 'scrolls': 1896, 'wah': 2346, 'bit': 217, 'cheek': 359, 'russellbeckwith': 1860, 'lle': 1271, 'nazis': 1457, 'studied': 2085, 'american': 60, 'laws': 1210, 'inspiration': 1106, 'sharing': 1935, 'ice': 1059, 'cream': 477, 'island': 1122, 'sale': 1870, 'shopping': 1949, 'spree': 2038, 'cheer': 360, 'cleaning': 392, 'ze': 2465, 'house': 1041, 'zi': 2467, 'laundry': 1208, 'fever': 773, 'holds': 1025, 'listings': 1265, 'chilled': 372, 'creamamp': 478, 'grown': 930, 'absolutely': 4, 'originated': 1539, 'hateful': 975, 'hatred': 978, 'african': 30, 'sweets': 2124, 'tragedies': 2236, 'killing': 1174, 'angst': 68, 'helping': 1001, 'drive': 626, 'rates': 1750, 'germany': 875, 'bb': 172, 'fab': 723, 'interesting': 1115, 'dash': 528, 'quiet': 1726, 'dial': 575, 'fiba': 775, 'mea': 1356, 'region': 1784, 'kayak': 1161, 'sup': 2099, 'snooker': 2006, 'swimwhatever': 2126, 'pleasure': 1623, 'loyalty': 1297, 'taliban': 2140, 'ya': 2446, 'later': 1202, 'catbalogan': 332, 'feel': 758, 'havent': 981, 'olympics': 1520, 'medal': 1362, 'il': 1072, 'film': 781, 'download': 614, 'ita': 1126, 'htc': 1045, 'fo': 808, 'officer': 1511, 'viral': 2335, 'arrest': 109, 'rude': 1853, 'chief': 367, 'married': 1340, 'congratulations': 441, 'lewis': 1238, 'remains': 1795, 'perfect': 1588, 'rangers': 1744, 'stroke': 2081, 'missing': 1401, 'tickets': 2208, 'booked': 247, 'opera': 1527, 'wales': 2350, 'beach': 176, 'park': 1566, 'screen': 1893, 'fitted': 795, 'stories': 2074, 'ending': 673, 'poet': 1628, 'tranquil': 2243, 'upcoming': 2291, 'track': 2232, 'wow': 2433, 'children': 369, 'insult': 1111, 'thinking': 2196, 'dropping': 629, 'losing': 1288, 'ryderrideu': 1862, 'cc': 337, 'cum': 499, 'snapshot': 2003, 'gabychina': 862, 'true': 2254, 'parents': 1565, 'jewelry': 1143, 'msgapparelstoday': 1438, 'special': 2028, 'beste': 201, 'fantastic': 744, 'carlos': 326, 'receptionist': 1772, 'room': 1844, 'request': 1807, 'granted': 915, 'headed': 984, 'peculiar': 1581, 'retail': 1817, 'sales': 1871, 'group': 928, 'likely': 1254, 'rose': 1849, 'danske': 523, 'bank': 160, 'ample': 63, 'coolestlifehack': 454, 'worlds': 2428, 'smallest': 1996, 'increasingly': 1088, 'mps': 1435, 'holidays': 1027, 'saddened': 1864, 'groom': 926, 'position': 1647, 'issue': 1124, 'ukrainian': 2278, 'athletes': 125, 'grossed': 927, 'livestream': 1269, 'season': 1899, 'odnb': 1506, 'star': 2049, 'chain': 341, 'broadway': 278, 'quay': 1722, 'collar': 412, 'sold': 2011, 'impressive': 1084, 'making': 1323, 'view': 2329, 'floor': 802, 'girl': 883, 'discussing': 591, 'critiquing': 489, 'ignore': 1070, 'consequences': 444, 'integration': 1112, 'truth': 2259, 'stanford': 2048, 'rapebut': 1747, 'wasnt': 2359, 'boredom': 249, 'minutes': 1398, 'colonized': 414, 'rainbow': 1739, 'depot': 561, 'niel': 1478, 'executive': 712, 'switch': 2128, 'provider': 1707, 'hi': 1008, 'teddy': 2161, 'corpus': 459, 'send': 1915, 'happywhen': 966, 'midtantrum': 1387, 'truthful': 2260, 'foot': 817, 'listening': 1263, 'skills': 1983, 'diy': 595, 'brockely': 280, 'london': 1277, 'stopping': 2071, 'police': 1637, 'bigger': 206, 'guns': 939, 'tank': 2144, 'soldiers': 2012, 'fall': 734, 'write': 2436, 'team': 2157, 'mummies': 1442, 'actually': 13, 'fishing': 794, 'dolls': 603, 'vacation': 2312, 'unreal': 2288, 'advisors': 24, 'refuse': 1782, 'payment': 1577, 'forza': 831, 'horizon': 1035, 'pc': 1578, 'haiti': 950, 'males': 1325, 'vagina': 2313, 'games': 865, 'xd': 2442, 'pack': 1555, 'taken': 2137, 'brainwashed': 261, 'cheetah': 363, 'domestic': 604, 'corporate': 458, 'goods': 899, 'expectations': 715, 'remember': 1798, 'reality': 1763, 'tv': 2269, 'stars': 2050, 'contestants': 449, 'familiar': 737, 'stereotype': 2064, 'tie': 2209, 'porn': 1646, 'pics': 1602, 'looked': 1282, 'easy': 644, 'turn': 2265, 'banner': 161, 'relyear': 1794, 'letting': 1236, 'exam': 706, 'homeopathic': 1030, 'remedies': 1797, 'peace': 1579, 'obamas': 1502, 'fool': 816, 'raising': 1742, 'child': 368, 'advance': 21, 'anti': 84, 'foreword': 825, 'antiwhite': 85, 'asia': 114, 'asian': 115, 'africa': 29, 'countries': 466, 'graduated': 912, 'nearly': 1462, 'finalised': 782, 'pointers': 1632, 'grain': 913, 'fellowship': 765, 'caught': 334, 'eating': 646, 'chocolate': 376, 'sliced': 1988, 'bread': 266, 'realizing': 1764, 'didnt': 577, 'consent': 443, 'decree': 548, 'fromnovytowelsurfgear': 847, 'fiddler': 776, 'elbow': 660, 'camden': 308, 'swimming': 2125, 'signs': 1965, 'weren': 2392, 'mitchellrattle': 1403, 'mitchell': 1402, 'jeep': 1141, 'run': 1856, 'nbc': 1459, 'http': 1046, 'attempt': 128, 'czech': 509, 'fury': 858, 'croatia': 490, 'second': 1901, 'dairy': 515, 'ks': 1191, 'yep': 2452, 'grateful': 916, 'everyday': 702, 'ebook': 648, 'copy': 456, 'basketball': 171, 'prevent': 1671, 'dear': 539, 'despite': 567, 'attempts': 129, 'regret': 1785, 'announce': 76, 'angelic': 65, 'color': 415, 'moment': 1412, 'autograph': 135, 'walk': 2351, 'disappointing': 589, 'gift': 881, 'secured': 1904, 'housewife': 1042, 'almighty': 54, 'lord': 1286, 'darling': 527, 'sweetheart': 2122, 'husband': 1055, 'babies': 146, 'owens': 1552, 'tournament': 2228, 'reception': 1771, 'month': 1419, 'struggle': 2083, 'signal': 1962, 'masts': 1348, 'switching': 2129, 'bihdayyourmajesty': 208, 'wolves': 2412, 'stage': 2044, 'slogan': 1989, 'lips': 1260, 'blood': 231, 'gasoline': 868, 'allow': 51, 'dental': 558, 'testimonials': 2177, 'yousoo': 2458, 'soo': 2017, 'luckyplz': 1303, 'showing': 1952, 'lys': 1310, 'surprised': 2111, 'susan': 2113, 'smiling': 2000, 'daywho': 535, 'false': 735, 'promises': 1697, 'dragons': 618, 'ben': 194, 'diagnosed': 574, 'ovarian': 1546, 'cancer': 314, 'terrified': 2173, 'ignored': 1071, 'history': 1021, 'allies': 50, 'fox': 832, 'saying': 1885, 'bluntly': 234, 'read': 1759, 'monkeys': 1417, 'declared': 546, 'version': 2322, 'protest': 1702, 'barring': 166, 'dal': 516, 'plants': 1617, 'garden': 866, 'gardening': 867, 'coldplay': 411, 'heres': 1004, 'gorgeous': 902, 'sky': 1984, 'thissuppoing': 2197, 'prowarhomophobicrapistwho': 1708, 'advocates': 25, 'samehypocrite': 1873, 'wallpapers': 2353, 'images': 1078, 'moooooorning': 1425, 'given': 886, 'needing': 1466, 'match': 1350, 'schedule': 1889, 'design': 563, 'romania': 1842, 'feedback': 757, 'appreciated': 96, 'berlin': 197, 'incredible': 1089, 'incubus': 1091, 'nissan': 1485, 'anderson': 64, 'cooper': 455, 'lemon': 1231, 'gays': 871, 'thrown': 2205, 'buildings': 291, 'sharia': 1934, 'bei': 191, 'field': 777, 'dogwalking': 600, 'steal': 2060, 'competing': 427, 'listing': 1264, 'totally': 2226, 'disorganized': 592, 'bernie': 198, 'winning': 2409, 'dc': 536, 'printing': 1680, 'tops': 2224, 'dragon': 617, 'eyed': 721, 'candidates': 316, 'everybody': 701, 'devolved': 572, 'pup': 1715, 'rare': 1748, 'superstar': 2102, 'sivakoratala': 1981, 'moving': 1434, 'outside': 1545, 'downtown': 615, 'mi': 1381, 'maps': 1334, 'met': 1376, 'yrs': 2461, 'ago': 37, 'online': 1523, 'face': 727, 'tragedy': 2237, 'started': 2052, 'return': 1819, 'captain': 320, 'felix': 763, 'wetland': 2395, 'water': 2364, 'boat': 237, 'grand': 914, 'adventure': 23, 'series': 1921, 'completely': 430, 'avoid': 140, 'quote': 1727, 'jeremy': 1142, 'corbyn': 457, 'happytime': 965, 'mylifegirl': 1449, 'wwwsmallgirlsexcom': 2440, 'sweet': 2121, 'england': 676, 'russia': 1861, 'marseille': 1341, 'expect': 714, 'risk': 1833, 'plenty': 1624, 'sweater': 2119, 'haunting': 979, 'atmospheric': 126, 'criticize': 488, 'personal': 1591, 'idol': 1066, 'obsidian': 1503, 'daily': 514, 'mindblown': 1394, 'google': 900, 'forms': 829, 'traumatic': 2245, 'damage': 518, 'proof': 1699, 'plan': 1615, 'works': 2425, 'onwards': 1524, 'upwards': 2294, 'overwhelming': 1551, 'evidence': 704, 'company': 426, 'keeps': 1163, 'echoes': 650, 'sentiments': 1918, 'ideals': 1064, 'females': 768, 'needed': 1465, 'forgot': 827, 'nah': 1452, 'names': 1454, 'hashtag': 972, 'weekly': 2384, 'basis': 169, 'answer': 82, 'cherry': 365, 'symbol': 2131, 'warm': 2357, 'energy': 674, 'necklace': 1463, 'aed': 26, 'independent': 1094, 'poll': 1641, 'ahead': 40, 'gbpusd': 873, 'slump': 1992, 'flooding': 801, 'set': 1923, 'golf': 893, 'wayne': 2369, 'mondayneeded': 1415, 'cottage': 462, 'tuesday': 2263, 'save': 1882, 'thousands': 2203, 'search': 1898, 'brokers': 282, 'ordered': 1536, 'lip': 1259, 'kit': 1182, 'arrangements': 107, 'access': 7, 'firm': 792, 'nuclear': 1495, 'reactors': 1758, 'india': 1096, 'smartphone': 1997, 'lifeisbeautiful': 1246, 'matter': 1352, 'oscar': 1541, 'cabaret': 303, 'talks': 2143, 'reaction': 1757, 'uk': 2277, 'eur': 693, 'join': 1149, 'slots': 1990, 'pls': 1625, 'spread': 2037, 'childrens': 370, 'sleep': 1987, 'bride': 270, 'nocturnal': 1487, 'tvkfathersday': 2270, 'tata': 2152, 'tha': 2179, 'mason': 1344, 'jars': 1137, 'grew': 924, 'contrast': 450, 'utterly': 2311, 'incapable': 1085, 'albion': 46, 'killings': 1175, 'malawi': 1324, 'spark': 2025, 'education': 654, 'campaign': 310, 'highs': 1012, 'events': 700, 'review': 1823, 'innocent': 1099, 'die': 578, 'knowledgeable': 1188, 'le': 1211, 'sound': 2022, 'girliguessimwithher': 884, 'tag': 2134, 'hardest': 969, 'representation': 1805, 'forced': 819, 'factors': 730, 'click': 395, 'recent': 1769, 'violates': 2333, 'freespeech': 837, 'chase': 354, 'lot': 1290, 'strong': 2082, 'source': 2023, 'competition': 428, 'tattoosleeves': 2153, 'ima': 1076, 'br': 259, 'sorrow': 2019, 'taught': 2154, 'flow': 804, 'seat': 1900, 'alan': 45, 'surely': 2109, 'nasty': 1455, 'piece': 1604, 'lmaz': 1272, 'women': 2414, 'cocktails': 407, 'wanted': 2355, 'residents': 1810, 'spring': 2039, 'street': 2077, 'deborahuser': 542, 'split': 2036, 'fuel': 851, 'agenda': 35, 'entire': 682, 'groups': 929, 'opposite': 1530, 'helpful': 1000, 'thereon': 2188, 'annie': 74, 'btw': 285, 'cover': 472, 'yellow': 2451, 'john': 1147, 'micahow': 1382, 'hell': 996, 'elected': 662, 'happier': 960, 'tasty': 2151, 'meal': 1357, 'zanne': 2464, 'cani': 317, 'clock': 400, 'song': 2015, 'swing': 2127, 'bubble': 286, 'regulations': 1786, 'quality': 1721, 'prints': 1681, 'cards': 322, 'emergency': 667, 'rush': 1858, 'insights': 1105, 'trusted': 2258, 'professions': 1691, 'carolina': 327, 'ugly': 2276, 'ignorant': 1069, 'franklin': 834, 'buy': 302, 'real': 1762, 'furniture': 857, 'dense': 557, 'natureperfection': 1456, 'hill': 1015, 'reach': 1754, 'target': 2146, 'task': 2149, 'survive': 2112, 'str': 2075, 'canampt': 313, 'donate': 608, 'massacre': 1346, 'golinglobal': 894, 'golinuntern': 895, 'air': 42, 'trail': 2238, 'soul': 2020, 'balance': 155, 'monroeampnick': 1418, 'rosaleeampaddie': 1848, 'kellyampbabymonrosale': 1164, 'lying': 1308, 'hillary': 1016, 'security': 1905, 'inquiry': 1100, 'liberals': 1242, 'minded': 1395, 'eats': 647, 'bills': 210, 'burned': 296, 'phones': 1596, 'screens': 1895, 'shatter': 1936, 'arm': 104, 'leg': 1227, 'gotta': 905, 'fix': 796, 'reaching': 1756, 'knows': 1190, 'fly': 806, 'summer': 2094, 'fruit': 848, 'gtgtgt': 932, 'sir': 1976, 'ship': 1940, 'log': 1274, 'karen': 1160, 'ki': 1168, 'poetry': 1629, 'add': 16, 'kansas': 1159, 'favorite': 756, 'person': 1590, 'throw': 2204, 'latina': 1204, 'buffalo': 288, 'simulation': 1969, 'vicinity': 2325, 'homes': 1032, 'begun': 189, 'heartbreak': 991, 'peaceful': 1580, 'hardcore': 968, 'xxx': 2445, 'takalot': 2136, 'order': 1535, 'arrives': 112, 'bush': 297, 'saysomething': 1887, 'kana': 1158, 'badly': 151, 'feet': 762, 'berachah': 196, 'impaired': 1080, 'ct': 494, 'inmates': 1098, 'participating': 1567, 'program': 1693, 'negative': 1468, 'external': 717, 'suppose': 2107, 'mug': 1439, 'mf': 1379, 'collection': 413, 'jasmine': 1138, 'moire': 1409, 'crossbow': 491, 'bags': 153, 'wednesday': 2379, 'currently': 502, 'gotten': 906, 'shake': 1930, 'roads': 1835, 'destinations': 568, 'anon': 80, 'positions': 1648, 'added': 17, 'increased': 1087, 'anz': 89, 'definitely': 552, 'mexican': 1377, 'released': 1792, 'break': 267, 'standing': 2047, 'curse': 503, 'congress': 442, 'haters': 976, 'deplorable': 560, 'skies': 1982, 'mo': 1405, 'watchable': 2361, 'came': 309, 'como': 425, 'zones': 2470, 'troubled': 2253, 'recommend': 1775, 'dark': 525, 'win': 2405, 'presses': 1667, 'khan': 1166, 'gop': 901, 'leaders': 1213, 'bucket': 287, 'list': 1261, 'items': 1128, 'cube': 495, 'magical': 1314, 'potion': 1654, 'era': 687, 'overtime': 1550, 'wear': 2372, 'soccer': 2007, 'fries': 844, 'weird': 2386, 'lately': 1201, 'checked': 358, 'dreams': 623, 'nyc': 1499, 'seven': 1925, 'fashionblog': 748, 'rooster': 1847, 'vast': 2318, 'expanse': 713, 'mountains': 1431, 'leakage': 1218, 'col': 409, 'userrestochezedgardgrandprixfsunlewissuppo': 2303, 'using': 2306, 'sukhbir': 2093, 'announces': 79, 'officebearers': 1510, 'zone': 2469, 'chose': 378, 'dj': 596, 'eedd': 656, 'edc': 651, 'mango': 1329, 'wood': 2418, 'danger': 521, 'liberalism': 1241, 'governing': 907, 'applies': 95, 'liberal': 1240, 'feminism': 769, 'pathetic': 1571, 'learned': 1220, 'covering': 473, 'mornings': 1428, 'lake': 1196, 'rain': 1738, 'hangs': 955, 'chosen': 379, 'horse': 1037, 'unless': 2286, 'political': 1638, 'weddings': 2378, 'possibility': 1651, 'anne': 73, 'pathway': 1572, 'ichi': 1060, 'kills': 1176, 'snatched': 2004, 'aisle': 44, 'pretendingtobereinpainisjustanexamplehowstrongyouareasa': 1669, 'evening': 697, 'cuts': 507, 'mentality': 1374, 'culture': 497, 'freezes': 838, 'lthtmlgt': 1300, 'cake': 304, 'vibes': 2324, 'holy': 1028, 'citytissues': 387, 'decide': 544, 'eeeeee': 657, 'ericprydz': 688, 'funny': 856, 'business': 298, 'telling': 2166, 'areas': 99, 'allowed': 52, 'rape': 1746, 'speeches': 2030, 'recently': 1770, 'respect': 1812, 'forecast': 820, 'waves': 2367, 'raalhugandu': 1729, 'disappeared': 588, 'construction': 447, 'bridgeamp': 272, 'com': 417, 'condemn': 436, 'comments': 422, 'sets': 1924, 'red': 1777, 'radicals': 1736, 'multimillion': 1440, 'dollar': 602, 'bonuses': 245, 'average': 139, 'signed': 1963, 'bram': 262, 'yoga': 2455, 'shine': 1939, 'beams': 178, 'workers': 2423, 'lgbt': 1239, 'jan': 1134, 'affected': 28, 'criminal': 487, 'justice': 1156, 'swedenreunionlove': 2120, 'ena': 671, 'hem': 1002, 'opposition': 1531, 'pizzapizzasliceaoyamapizzayummydelicias': 1611, 'abundant': 5, 'fathersday': 753, 'rickityrick': 1824, 'ole': 1519, 'wagon': 2345, 'jump': 1153, 'board': 235, 'progress': 1694, 'advancement': 22, 'teen': 2162, 'injured': 1097, 'oakland': 1500, 'pain': 1558, 'instagram': 1107, 'jake': 1131, 'lack': 1194, 'stand': 2046, 'drown': 630, 'small': 1994, 'oft': 1513, 'evil': 705, 'tendencies': 2170, 'hipocrit': 1017, 'politicians': 1639, 'sides': 1959, 'deserve': 562, 'citizens': 385, 'environmental': 684, 'wellbeing': 2388, 'sites': 1979, 'todo': 2216, 'sway': 2118, 'faded': 732, 'johnmaun': 1148, 'single': 1974, 'gutted': 940, 'luck': 1301, 'tom': 2218, 'brady': 260, 'caused': 336, 'option': 1534, 'rudeness': 1854, 'overloaded': 1549, 'fills': 780, 'sweetness': 2123, 'possible': 1652, 'speak': 2026, 'topic': 2223, 'bringing': 275, 'terribly': 2172, 'rushlimbaugh': 1859, 'impression': 1082, 'failing': 733, 'string': 2079, 'youtu': 2459, 'bed': 181, 'despise': 566, 'positivementalattitude': 1650, 'debate': 541, 'release': 1791, 'photos': 1597, 'bodies': 238, 'inside': 1103, 'blagoevgrad': 221, 'mean': 1358, 'nearer': 1461, 'westpac': 2393, 'donations': 609, 'midnight': 1386, 'hrs': 1043, 'ad': 14, 'champagne': 344, 'rightly': 1829, 'hates': 977, 'hugs': 1050, 'decided': 545, 'lifes': 1248, 'response': 1813, 'default': 550, 'firma': 793, 'simple': 1967, 'capable': 318, 'backwho': 149, 'megreatfultogod': 1366, 'repeat': 1801, 'car': 321, 'heat': 992, 'splendid': 2035, 'confirmed': 440, 'deadaccording': 537, 'array': 108, 'journeys': 1151, 'professor': 1692, 'assumptions': 122, 'whilst': 2398, 'speaking': 2027, 'jews': 1144, 'musicnow': 1447, 'michael': 1383, 'jacksonthe': 1130, 'unificationsdayand': 2283, 'familiessmile': 739, 'drakeandjosh': 620, 'wa': 2344, 'trumps': 2257, 'suspend': 2115, 'indefinitely': 1092, 'staff': 2043, 'sat': 1880, 'sigh': 1960, 'quick': 1724, 'preview': 1672, 'launching': 1207, 'tried': 2250, 'similar': 1966, 'smoother': 2001, 'wiki': 2402, 'ideal': 1063, 'thomas': 2198, 'tehaleh': 2164, 'linear': 1257, 'xbox': 2441, 'case': 330, 'scraggly': 1892, 'dincwear': 581, 'sums': 2095, 'da': 510, 'straight': 2076, 'boys': 258, 'hes': 1006, 'majority': 1319, 'fans': 743, 'salty': 1872, 'sw': 2116, 'changing': 349, 'basisweeks': 170, 'handover': 953, 'network': 1472, 'av': 136, 'singapore': 1972, 'socks': 2010, 'liked': 1253, 'regard': 1783, 'wants': 2356, 'mfa': 1380, 'deadass': 538, 'interview': 1118, 'boasts': 236, 'boom': 248, 'harry': 971, 'balayya': 156, 'mass': 1345, 'lookcraze': 1281, 'manson': 1332, 'romance': 1841, 'legend': 1228, 'outlining': 1544, 'themes': 2186, 'poems': 1627, 'decor': 547, 'paintings': 1559, 'msg': 1437, 'slag': 1985, 'butreally': 300, 'sitting': 1980, 'allowing': 53, 'gd': 874, 'friendszxc': 843, 'secret': 1903, 'marriage': 1339, 'attractive': 132, 'repo': 1803, 'python': 1719, 'concurrency': 435, 'code': 408, 'restructure': 1816, 'womenareamazing': 2415, 'hairy': 949, 'reduce': 1778, 'tracks': 2233, 'picture': 1603, 'thousand': 2202, 'relax': 1789, 'countdown': 464, 'begunfamilyfreeeventfestival': 190, 'enteainmentstalls': 680, 'beginner': 185, 'store': 2072, 'crash': 476, 'heavy': 994, 'overload': 1548, 'underestimate': 2281, 'wine': 2407, 'patio': 1573, 'ist': 1125, 'cheese': 362, 'ta': 2132, 'datum': 531, 'expensive': 716, 'office': 1509, 'routine': 1851, 'bff': 204, 'theshallows': 2190, 'weak': 2371, 'cash': 331, 'jaws': 1139, 'anniversary': 75, 'non': 1489, 'election': 663, 'blame': 222, 'hiding': 1009, 'pittsburgh': 1610, 'california': 305, 'extremely': 718, 'reveal': 1821, 'counting': 465, 'politics': 1640, 'facade': 726, 'principality': 1678, 'xx': 2444, 'current': 501, 'web': 2374, 'developer': 571, 'hire': 1018, 'turned': 2266, 'powells': 1655, 'projects': 1695, 'busy': 299, 'prospect': 1700, 'arose': 106, 'fierce': 778, 'xoxosamantha': 2443, 'robbing': 1836, 'customers': 505, 'earned': 641, 'anime': 71, 'dey': 573, 'managed': 1328, 'recharge': 1773, 'grab': 911, 'based': 168, 'justify': 1157, 'lemma': 1230, 'boiler': 241, 'pre': 1660, 'gig': 882, 'rescued': 1808, 'rely': 1793, 'future': 860, 'superxcited': 2103, 'hellosunday': 997, 'gifdidt': 880, 'ages': 36, 'rises': 1832, 'gt': 931, 'fom': 814, 'homeroom': 1031, 'considered': 445, 'cheapmeal': 356, 'impressions': 1083, 'restaurants': 1815, 'wests': 2394, 'greatest': 919, 'shaker': 1931, 'revealed': 1822, 'tuned': 2264, 'taste': 2150, 'appletstag': 93, 'bday': 175, 'treefriends': 2249, 'arxiv': 113, 'tree': 2248, 'slow': 1991, 'productive': 1690, 'bout': 256, 'fatigue': 754, 'flare': 797, 'radar': 1735, 'fasting': 749, 'armada': 105, 'praying': 1659, 'quran': 1728, 'subdued': 2089, 'trading': 2234, 'unusual': 2290, 'picnic': 1601, 'cloudchaser': 404, 'mat': 1349, 'christ': 381, 'uta': 2309, 'punjab': 1714, 'probed': 1685, 'suspects': 2114, 'makers': 1321, 'dt': 633, 'tell': 2165, 'intense': 1113, 'anxiety': 87, 'assume': 121, 'ahahahahahah': 39, 'ordinary': 1537, 'lights': 1251, 'triumph': 2251, 'darkness': 526, 'harmony': 970, 'notice': 1492, 'support': 2105, 'pageant': 1557, 'internalize': 1116, 'oppressive': 1532, 'optimistic': 1533, 'rule': 1855, 'applications': 94, 'flowers': 805, 'crappy': 475, 'signing': 1964, 'papers': 1563, 'blocks': 230, 'bitch': 218, 'knew': 1184, 'lil': 1255, 'kim': 1177, 'gif': 879, 'bunch': 293, 'coupons': 469, 'king': 1180, 'watering': 2365, 'holes': 1026, 'watchtowers': 2363, 'forests': 821, 'seller': 1913, 'rub': 1852, 'steak': 2059, 'touch': 2227, 'tits': 2214, 'feels': 761, 'teenageson': 2163, 'reckon': 1774, 'duty': 637, 'prezi': 1674, 'forget': 826, 'research': 1809, 'sexist': 1927, 'psychological': 1709, 'problems': 1687, 'specific': 2029, 'pedagogical': 1582, 'changes': 348, 'typical': 2275, 'attracted': 131, 'bc': 174, 'ins': 1101, 'hoe': 1023, 'mol': 1410, 'cricket': 485, 'pitch': 1608, 'eddie': 652, 'nothappy': 1491, 'finishing': 789, 'closeencounters': 402, 'gymmorgon': 944, 'wing': 2408, 'glad': 887, 'safely': 1867, 'defines': 551, 'historically': 1019, 'historicprivileged': 1020, 'pretending': 1668, 'delete': 555, 'tweets': 2272, 'useful': 2300, 'chapter': 353, 'fianc': 774}\n"
     ]
    }
   ],
   "source": [
    "print(tf.vocabulary_)"
   ]
  },
  {
   "cell_type": "code",
   "execution_count": 72,
   "metadata": {},
   "outputs": [
    {
     "name": "stdout",
     "output_type": "stream",
     "text": [
      "shape : (1000, 1000)\n"
     ]
    }
   ],
   "source": [
    "cosine_similarities = linear_kernel(tfidf_matrix)\n",
    "\n",
    "print(\"shape :\",cosine_similarities.shape)"
   ]
  },
  {
   "cell_type": "code",
   "execution_count": 73,
   "metadata": {},
   "outputs": [
    {
     "name": "stdout",
     "output_type": "stream",
     "text": [
      "[[1.         0.0255566  0.         ... 0.12388482 0.         0.01481253]\n",
      " [0.0255566  1.         0.         ... 0.20629323 0.         0.02466585]\n",
      " [0.         0.         1.         ... 0.         0.         0.        ]\n",
      " ...\n",
      " [0.12388482 0.20629323 0.         ... 1.         0.         0.11956696]\n",
      " [0.         0.         0.         ... 0.         1.         0.        ]\n",
      " [0.01481253 0.02466585 0.         ... 0.11956696 0.         1.        ]]\n"
     ]
    }
   ],
   "source": [
    "print(cosine_similarities)"
   ]
  },
  {
   "cell_type": "code",
   "execution_count": 82,
   "metadata": {},
   "outputs": [
    {
     "name": "stdout",
     "output_type": "stream",
     "text": [
      "1.0\n"
     ]
    }
   ],
   "source": [
    "print(cosine_similarities[2][2])"
   ]
  },
  {
   "cell_type": "code",
   "execution_count": 76,
   "metadata": {},
   "outputs": [
    {
     "name": "stdout",
     "output_type": "stream",
     "text": [
      "<class 'numpy.float64'>\n"
     ]
    }
   ],
   "source": [
    "print(type(cosine_similarities[0][1]))"
   ]
  }
 ],
 "metadata": {
  "kernelspec": {
   "display_name": "Python 3",
   "language": "python",
   "name": "python3"
  },
  "language_info": {
   "codemirror_mode": {
    "name": "ipython",
    "version": 3
   },
   "file_extension": ".py",
   "mimetype": "text/x-python",
   "name": "python",
   "nbconvert_exporter": "python",
   "pygments_lexer": "ipython3",
   "version": "3.8.3"
  }
 },
 "nbformat": 4,
 "nbformat_minor": 4
}
