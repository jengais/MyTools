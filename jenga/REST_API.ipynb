{
 "cells": [
  {
   "cell_type": "code",
   "execution_count": 1,
   "metadata": {},
   "outputs": [
    {
     "name": "stdout",
     "output_type": "stream",
     "text": [
      "<!doctype html>\n",
      "<html>\n",
      "<head>\n",
      "    <title>Example Domain</title>\n",
      "\n",
      "    <meta charset=\"utf-8\" />\n",
      "    <meta http-equiv=\"Content-type\" content=\"text/html; charset=utf-8\" />\n",
      "    <meta name=\"viewport\" content=\"width=device-width, initial-scale=1\" />\n",
      "    <style type=\"text/css\">\n",
      "    body {\n",
      "        background-color: #f0f0f2;\n",
      "        margin: 0;\n",
      "        padding: 0;\n",
      "        font-family: -apple-system, system-ui, BlinkMacSystemFont, \"Segoe UI\", \"Open Sans\", \"Helvetica Neue\", Helvetica, Arial, sans-serif;\n",
      "        \n",
      "    }\n",
      "    div {\n",
      "        width: 600px;\n",
      "        margin: 5em auto;\n",
      "        padding: 2em;\n",
      "        background-color: #fdfdff;\n",
      "        border-radius: 0.5em;\n",
      "        box-shadow: 2px 3px 7px 2px rgba(0,0,0,0.02);\n",
      "    }\n",
      "    a:link, a:visited {\n",
      "        color: #38488f;\n",
      "        text-decoration: none;\n",
      "    }\n",
      "    @media (max-width: 700px) {\n",
      "        div {\n",
      "            margin: 0 auto;\n",
      "            width: auto;\n",
      "        }\n",
      "    }\n",
      "    </style>    \n",
      "</head>\n",
      "\n",
      "<body>\n",
      "<div>\n",
      "    <h1>Example Domain</h1>\n",
      "    <p>This domain is for use in illustrative examples in documents. You may use this\n",
      "    domain in literature without prior coordination or asking for permission.</p>\n",
      "    <p><a href=\"https://www.iana.org/domains/example\">More information...</a></p>\n",
      "</div>\n",
      "</body>\n",
      "</html>\n",
      "\n"
     ]
    }
   ],
   "source": [
    "import requests\n",
    "\n",
    "url = \"https://example.com/api/v2/db/_table/contact_info?limit=5\"\n",
    "\n",
    "headers = {\n",
    "        \"cache-control\": \"no-cache\",\n",
    "        \"x-dreamfactory-api-key\": \"YOUR_API_KEY\"\n",
    "}\n",
    "\n",
    "response = requests.request(\"GET\", url, headers=headers)\n",
    "\n",
    "print(response.text)"
   ]
  },
  {
   "cell_type": "code",
   "execution_count": null,
   "metadata": {},
   "outputs": [],
   "source": []
  },
  {
   "cell_type": "code",
   "execution_count": 2,
   "metadata": {},
   "outputs": [],
   "source": [
    "#par = {'_id':'2693'}"
   ]
  },
  {
   "cell_type": "code",
   "execution_count": 3,
   "metadata": {},
   "outputs": [
    {
     "name": "stdout",
     "output_type": "stream",
     "text": [
      "<Response [200]>\n"
     ]
    }
   ],
   "source": [
    "r = requests.get('https://api.arasaac.org/api/pictograms/he/search/מטאטא')\n",
    "print(r)"
   ]
  },
  {
   "cell_type": "code",
   "execution_count": 4,
   "metadata": {},
   "outputs": [
    {
     "name": "stdout",
     "output_type": "stream",
     "text": [
      "['__attrs__', '__bool__', '__class__', '__delattr__', '__dict__', '__dir__', '__doc__', '__enter__', '__eq__', '__exit__', '__format__', '__ge__', '__getattribute__', '__getstate__', '__gt__', '__hash__', '__init__', '__init_subclass__', '__iter__', '__le__', '__lt__', '__module__', '__ne__', '__new__', '__nonzero__', '__reduce__', '__reduce_ex__', '__repr__', '__setattr__', '__setstate__', '__sizeof__', '__str__', '__subclasshook__', '__weakref__', '_content', '_content_consumed', '_next', 'apparent_encoding', 'close', 'connection', 'content', 'cookies', 'elapsed', 'encoding', 'headers', 'history', 'is_permanent_redirect', 'is_redirect', 'iter_content', 'iter_lines', 'json', 'links', 'next', 'ok', 'raise_for_status', 'raw', 'reason', 'request', 'status_code', 'text', 'url']\n"
     ]
    }
   ],
   "source": [
    "print(dir(r))"
   ]
  },
  {
   "cell_type": "code",
   "execution_count": 5,
   "metadata": {},
   "outputs": [
    {
     "name": "stdout",
     "output_type": "stream",
     "text": [
      "Help on Response in module requests.models object:\n",
      "\n",
      "class Response(builtins.object)\n",
      " |  The :class:`Response <Response>` object, which contains a\n",
      " |  server's response to an HTTP request.\n",
      " |  \n",
      " |  Methods defined here:\n",
      " |  \n",
      " |  __bool__(self)\n",
      " |      Returns True if :attr:`status_code` is less than 400.\n",
      " |      \n",
      " |      This attribute checks if the status code of the response is between\n",
      " |      400 and 600 to see if there was a client error or a server error. If\n",
      " |      the status code, is between 200 and 400, this will return True. This\n",
      " |      is **not** a check to see if the response code is ``200 OK``.\n",
      " |  \n",
      " |  __enter__(self)\n",
      " |  \n",
      " |  __exit__(self, *args)\n",
      " |  \n",
      " |  __getstate__(self)\n",
      " |  \n",
      " |  __init__(self)\n",
      " |      Initialize self.  See help(type(self)) for accurate signature.\n",
      " |  \n",
      " |  __iter__(self)\n",
      " |      Allows you to use a response as an iterator.\n",
      " |  \n",
      " |  __nonzero__(self)\n",
      " |      Returns True if :attr:`status_code` is less than 400.\n",
      " |      \n",
      " |      This attribute checks if the status code of the response is between\n",
      " |      400 and 600 to see if there was a client error or a server error. If\n",
      " |      the status code, is between 200 and 400, this will return True. This\n",
      " |      is **not** a check to see if the response code is ``200 OK``.\n",
      " |  \n",
      " |  __repr__(self)\n",
      " |      Return repr(self).\n",
      " |  \n",
      " |  __setstate__(self, state)\n",
      " |  \n",
      " |  close(self)\n",
      " |      Releases the connection back to the pool. Once this method has been\n",
      " |      called the underlying ``raw`` object must not be accessed again.\n",
      " |      \n",
      " |      *Note: Should not normally need to be called explicitly.*\n",
      " |  \n",
      " |  iter_content(self, chunk_size=1, decode_unicode=False)\n",
      " |      Iterates over the response data.  When stream=True is set on the\n",
      " |      request, this avoids reading the content at once into memory for\n",
      " |      large responses.  The chunk size is the number of bytes it should\n",
      " |      read into memory.  This is not necessarily the length of each item\n",
      " |      returned as decoding can take place.\n",
      " |      \n",
      " |      chunk_size must be of type int or None. A value of None will\n",
      " |      function differently depending on the value of `stream`.\n",
      " |      stream=True will read data as it arrives in whatever size the\n",
      " |      chunks are received. If stream=False, data is returned as\n",
      " |      a single chunk.\n",
      " |      \n",
      " |      If decode_unicode is True, content will be decoded using the best\n",
      " |      available encoding based on the response.\n",
      " |  \n",
      " |  iter_lines(self, chunk_size=512, decode_unicode=False, delimiter=None)\n",
      " |      Iterates over the response data, one line at a time.  When\n",
      " |      stream=True is set on the request, this avoids reading the\n",
      " |      content at once into memory for large responses.\n",
      " |      \n",
      " |      .. note:: This method is not reentrant safe.\n",
      " |  \n",
      " |  json(self, **kwargs)\n",
      " |      Returns the json-encoded content of a response, if any.\n",
      " |      \n",
      " |      :param \\*\\*kwargs: Optional arguments that ``json.loads`` takes.\n",
      " |      :raises ValueError: If the response body does not contain valid json.\n",
      " |  \n",
      " |  raise_for_status(self)\n",
      " |      Raises :class:`HTTPError`, if one occurred.\n",
      " |  \n",
      " |  ----------------------------------------------------------------------\n",
      " |  Readonly properties defined here:\n",
      " |  \n",
      " |  apparent_encoding\n",
      " |      The apparent encoding, provided by the chardet library.\n",
      " |  \n",
      " |  content\n",
      " |      Content of the response, in bytes.\n",
      " |  \n",
      " |  is_permanent_redirect\n",
      " |      True if this Response one of the permanent versions of redirect.\n",
      " |  \n",
      " |  is_redirect\n",
      " |      True if this Response is a well-formed HTTP redirect that could have\n",
      " |      been processed automatically (by :meth:`Session.resolve_redirects`).\n",
      " |  \n",
      " |  links\n",
      " |      Returns the parsed header links of the response, if any.\n",
      " |  \n",
      " |  next\n",
      " |      Returns a PreparedRequest for the next request in a redirect chain, if there is one.\n",
      " |  \n",
      " |  ok\n",
      " |      Returns True if :attr:`status_code` is less than 400, False if not.\n",
      " |      \n",
      " |      This attribute checks if the status code of the response is between\n",
      " |      400 and 600 to see if there was a client error or a server error. If\n",
      " |      the status code is between 200 and 400, this will return True. This\n",
      " |      is **not** a check to see if the response code is ``200 OK``.\n",
      " |  \n",
      " |  text\n",
      " |      Content of the response, in unicode.\n",
      " |      \n",
      " |      If Response.encoding is None, encoding will be guessed using\n",
      " |      ``chardet``.\n",
      " |      \n",
      " |      The encoding of the response content is determined based solely on HTTP\n",
      " |      headers, following RFC 2616 to the letter. If you can take advantage of\n",
      " |      non-HTTP knowledge to make a better guess at the encoding, you should\n",
      " |      set ``r.encoding`` appropriately before accessing this property.\n",
      " |  \n",
      " |  ----------------------------------------------------------------------\n",
      " |  Data descriptors defined here:\n",
      " |  \n",
      " |  __dict__\n",
      " |      dictionary for instance variables (if defined)\n",
      " |  \n",
      " |  __weakref__\n",
      " |      list of weak references to the object (if defined)\n",
      " |  \n",
      " |  ----------------------------------------------------------------------\n",
      " |  Data and other attributes defined here:\n",
      " |  \n",
      " |  __attrs__ = ['_content', 'status_code', 'headers', 'url', 'history', '...\n",
      "\n",
      "None\n"
     ]
    }
   ],
   "source": [
    "print(help(r))"
   ]
  },
  {
   "cell_type": "code",
   "execution_count": 6,
   "metadata": {},
   "outputs": [
    {
     "name": "stdout",
     "output_type": "stream",
     "text": [
      "[{\"_id\":2693,\"created\":\"2007-12-19T13:00:19.000Z\",\"downloads\":0,\"tags\":[\"object\",\"cleaning product\"],\"synsets\":[\"02910059-n\"],\"sex\":false,\"lastUpdated\":\"2020-06-03T09:18:24.472Z\",\"schematic\":false,\"keywords\":[{\"keyword\":\"מטאטא\",\"plural\":\"מטאטאים\",\"type\":2,\"meaning\":\"כלי לניקוי רצפות ומשטחים, המורכב ממוט שבקצהו יש מברשת או סיבים\",\"hasLocution\":false}],\"categories\":[\"cleaning product\"],\"violence\":false,\"hair\":false,\"skin\":false,\"aac\":false,\"aacColor\":false},{\"_id\":2745,\"created\":\"2007-12-20T12:22:19.000Z\",\"downloads\":0,\"tags\":[\"object\",\"cleaning product\",\"event\",\"popular event\",\"halloween\"],\"synsets\":[\"02910059-n\"],\"sex\":false,\"lastUpdated\":\"2020-11-21T06:59:50.575Z\",\"schematic\":false,\"keywords\":[{\"keyword\":\"מטאטא\",\"plural\":\"מטאטאים\",\"type\":2,\"meaning\":\"כלי לניקוי הרצפה\",\"hasLocution\":false}],\"categories\":[\"cleaning product\",\"halloween\"],\"violence\":false,\"hair\":false,\"skin\":false,\"aac\":false,\"aacColor\":false},{\"_id\":8563,\"created\":\"2009-05-26T11:00:41.000Z\",\"downloads\":0,\"tags\":[\"object\",\"cleaning product\"],\"synsets\":[\"02910059-n\"],\"sex\":false,\"lastUpdated\":\"2020-06-02T14:28:42.005Z\",\"schematic\":false,\"keywords\":[{\"keyword\":\"מטאטא\",\"plural\":\"מטאטאים\",\"type\":2,\"meaning\":\"כלי לניקוי הרצפה\",\"hasLocution\":false}],\"categories\":[\"cleaning product\"],\"violence\":false,\"hair\":false,\"skin\":false,\"aac\":false,\"aacColor\":false},{\"_id\":29742,\"created\":\"2013-08-26T17:58:11.000Z\",\"downloads\":0,\"tags\":[\"communication\",\"language\",\"verb\",\"object\",\"cleaning product\"],\"synsets\":[\"01396368-v\"],\"sex\":false,\"lastUpdated\":\"2020-06-26T18:07:40.755Z\",\"schematic\":false,\"keywords\":[{\"keyword\":\"לטאטא\",\"plural\":\"\",\"type\":3,\"hasLocution\":false},{\"keyword\":\"מטאטא\",\"hasLocution\":false,\"plural\":\"מטאטאים\",\"type\":2}],\"categories\":[\"verb\",\"cleaning product\"],\"violence\":false,\"hair\":true,\"skin\":true,\"aac\":false,\"aacColor\":false},{\"_id\":2993,\"created\":\"2008-01-22T17:09:45.000Z\",\"downloads\":0,\"tags\":[\"work\",\"professional\",\"tertiary sector\",\"waste disposal\"],\"synsets\":[\"10139987-n\",\"10681913-n\"],\"sex\":false,\"lastUpdated\":\"2020-06-04T15:47:08.782Z\",\"schematic\":false,\"keywords\":[{\"keyword\":\"מטאטא רחובות\",\"plural\":\"מטאטאי רחובות\",\"type\":2,\"meaning\":\"איש המנקה את הרחוב\",\"hasLocution\":false},{\"keyword\":\"פועל ניקיון\",\"plural\":\"פועלי ניקיון\",\"hasLocution\":false,\"type\":2}],\"desc\":\"\",\"categories\":[\"professional\",\"waste disposal\"],\"violence\":false,\"hair\":true,\"skin\":true,\"aac\":false,\"aacColor\":false,\"score\":7.5},{\"_id\":10315,\"created\":\"2009-11-12T22:32:16.000Z\",\"downloads\":0,\"tags\":[\"object\",\"cleaning product\"],\"synsets\":[\"03043932-n\"],\"sex\":false,\"lastUpdated\":\"2020-06-02T14:36:16.349Z\",\"schematic\":false,\"keywords\":[{\"keyword\":\"מטאטא ויעה\",\"plural\":\"\",\"type\":2,\"meaning\":\"כלים לניקוי רצפה\",\"hasLocution\":false},{\"keyword\":\"כלי ניקוי\",\"hasLocution\":false,\"type\":2}],\"desc\":\"\",\"categories\":[\"cleaning product\"],\"violence\":false,\"hair\":false,\"skin\":false,\"aac\":false,\"aacColor\":false,\"score\":7.5}]\n"
     ]
    }
   ],
   "source": [
    "print(r.text)"
   ]
  },
  {
   "cell_type": "code",
   "execution_count": 7,
   "metadata": {},
   "outputs": [
    {
     "name": "stdout",
     "output_type": "stream",
     "text": [
      "{'Server': 'nginx/1.17.6', 'Date': 'Tue, 23 Feb 2021 08:58:49 GMT', 'Content-Type': 'application/json; charset=utf-8', 'Content-Length': '3110', 'Connection': 'keep-alive', 'X-Powered-By': 'Express', 'Access-Control-Allow-Origin': '*', 'Strict-Transport-Security': 'max-age=31536000'}\n"
     ]
    }
   ],
   "source": [
    "print(r.headers)"
   ]
  },
  {
   "cell_type": "code",
   "execution_count": null,
   "metadata": {},
   "outputs": [],
   "source": []
  },
  {
   "cell_type": "code",
   "execution_count": 8,
   "metadata": {},
   "outputs": [
    {
     "name": "stdout",
     "output_type": "stream",
     "text": [
      "{'_id': 2693, 'created': '2007-12-19T13:00:19.000Z', 'downloads': 0, 'tags': ['object', 'cleaning product'], 'synsets': ['02910059-n'], 'sex': False, 'lastUpdated': '2020-06-03T09:18:24.472Z', 'schematic': False, 'keywords': [{'keyword': 'מטאטא', 'plural': 'מטאטאים', 'type': 2, 'meaning': 'כלי לניקוי רצפות ומשטחים, המורכב ממוט שבקצהו יש מברשת או סיבים', 'hasLocution': False}], 'categories': ['cleaning product'], 'violence': False, 'hair': False, 'skin': False, 'aac': False, 'aacColor': False}\n"
     ]
    }
   ],
   "source": [
    "r_dict = r.json()\n",
    "print(r_dict[0])"
   ]
  },
  {
   "cell_type": "code",
   "execution_count": 9,
   "metadata": {},
   "outputs": [
    {
     "name": "stdout",
     "output_type": "stream",
     "text": [
      "<class 'dict'>\n"
     ]
    }
   ],
   "source": [
    "print(type(r_dict[0]))"
   ]
  },
  {
   "cell_type": "code",
   "execution_count": 10,
   "metadata": {},
   "outputs": [
    {
     "name": "stdout",
     "output_type": "stream",
     "text": [
      "2693\n"
     ]
    }
   ],
   "source": [
    "print(r_dict[0]['_id'])"
   ]
  },
  {
   "cell_type": "code",
   "execution_count": 11,
   "metadata": {},
   "outputs": [],
   "source": [
    "word_id = r_dict[0]['_id']"
   ]
  },
  {
   "cell_type": "code",
   "execution_count": null,
   "metadata": {},
   "outputs": [],
   "source": []
  },
  {
   "cell_type": "code",
   "execution_count": 12,
   "metadata": {},
   "outputs": [
    {
     "name": "stdout",
     "output_type": "stream",
     "text": [
      "dict_keys(['_id', 'created', 'downloads', 'tags', 'synsets', 'sex', 'lastUpdated', 'schematic', 'keywords', 'categories', 'violence', 'hair', 'skin', 'aac', 'aacColor'])\n"
     ]
    }
   ],
   "source": [
    "print(r_dict[0].keys())"
   ]
  },
  {
   "cell_type": "code",
   "execution_count": 13,
   "metadata": {},
   "outputs": [
    {
     "name": "stdout",
     "output_type": "stream",
     "text": [
      "[{'keyword': 'מטאטא', 'plural': 'מטאטאים', 'type': 2, 'meaning': 'כלי לניקוי רצפות ומשטחים, המורכב ממוט שבקצהו יש מברשת או סיבים', 'hasLocution': False}]\n"
     ]
    }
   ],
   "source": [
    "print(r_dict[0]['keywords'])"
   ]
  },
  {
   "cell_type": "code",
   "execution_count": 14,
   "metadata": {},
   "outputs": [
    {
     "name": "stdout",
     "output_type": "stream",
     "text": [
      "<class 'list'>\n"
     ]
    }
   ],
   "source": [
    "print(type(r_dict[0]['keywords']))"
   ]
  },
  {
   "cell_type": "code",
   "execution_count": 15,
   "metadata": {},
   "outputs": [
    {
     "name": "stdout",
     "output_type": "stream",
     "text": [
      "כלי לניקוי רצפות ומשטחים, המורכב ממוט שבקצהו יש מברשת או סיבים\n"
     ]
    }
   ],
   "source": [
    "print(r_dict[0]['keywords'][0]['meaning'])"
   ]
  },
  {
   "cell_type": "code",
   "execution_count": 16,
   "metadata": {},
   "outputs": [],
   "source": [
    "word_meaning = r_dict[0]['keywords'][0]['meaning']"
   ]
  },
  {
   "cell_type": "code",
   "execution_count": null,
   "metadata": {},
   "outputs": [],
   "source": []
  }
 ],
 "metadata": {
  "kernelspec": {
   "display_name": "Python 3",
   "language": "python",
   "name": "python3"
  },
  "language_info": {
   "codemirror_mode": {
    "name": "ipython",
    "version": 3
   },
   "file_extension": ".py",
   "mimetype": "text/x-python",
   "name": "python",
   "nbconvert_exporter": "python",
   "pygments_lexer": "ipython3",
   "version": "3.8.5"
  }
 },
 "nbformat": 4,
 "nbformat_minor": 4
}
