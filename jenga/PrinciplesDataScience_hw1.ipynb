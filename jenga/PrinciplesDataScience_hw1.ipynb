{
 "cells": [
  {
   "cell_type": "code",
   "execution_count": 1,
   "metadata": {},
   "outputs": [],
   "source": [
    "import pandas as pd\n",
    "import numpy as np\n",
    "import tweepy \n",
    "from datetime import datetime \n",
    "start_time = datetime.now() "
   ]
  },
  {
   "cell_type": "code",
   "execution_count": 2,
   "metadata": {},
   "outputs": [],
   "source": [
    "consumer_key='HHy2xCHiAYKeNoBldCveExVr6'\n",
    "consumer_secret='zhOqAuL0gACGTdbTXNWs5iEr3v9HHvItCg95JvFZSwesNocyuj'\n",
    "access_token='1227238114621394950-71yLs1e2sFkLfqdKe6267X9Zoh1DtB'\n",
    "access_token_secret='0xOG1l28QomDza8qIxXimxqL8fShNQ4bTH3mTsdDz7wPz'"
   ]
  },
  {
   "cell_type": "code",
   "execution_count": 3,
   "metadata": {},
   "outputs": [
    {
     "data": {
      "text/plain": [
       "User(_api=<tweepy.api.API object at 0x0000019F2B1C4340>, _json={'id': 1227238114621394950, 'id_str': '1227238114621394950', 'name': 'jengais', 'screen_name': 'jengais', 'location': '', 'description': '', 'url': None, 'entities': {'description': {'urls': []}}, 'protected': False, 'followers_count': 2, 'friends_count': 12, 'listed_count': 0, 'created_at': 'Tue Feb 11 14:29:13 +0000 2020', 'favourites_count': 62, 'utc_offset': None, 'time_zone': None, 'geo_enabled': False, 'verified': False, 'statuses_count': 6, 'lang': None, 'status': {'created_at': 'Fri Feb 12 11:27:40 +0000 2021', 'id': 1360188819094589443, 'id_str': '1360188819094589443', 'text': 'RT @kozlyuk: Ну ведь красиво, же! Пацаны — ваще ребята!\\n\\nКомитет Госдумы поддержал правительственный законопроект об освобождении представи…', 'truncated': False, 'entities': {'hashtags': [], 'symbols': [], 'user_mentions': [{'screen_name': 'kozlyuk', 'name': 'Artem Kozlyuk', 'id': 142672853, 'id_str': '142672853', 'indices': [3, 11]}], 'urls': []}, 'source': '<a href=\"http://twitter.com/download/iphone\" rel=\"nofollow\">Twitter for iPhone</a>', 'in_reply_to_status_id': None, 'in_reply_to_status_id_str': None, 'in_reply_to_user_id': None, 'in_reply_to_user_id_str': None, 'in_reply_to_screen_name': None, 'geo': None, 'coordinates': None, 'place': None, 'contributors': None, 'retweeted_status': {'created_at': 'Fri Feb 12 10:29:02 +0000 2021', 'id': 1360174065860956162, 'id_str': '1360174065860956162', 'text': 'Ну ведь красиво, же! Пацаны — ваще ребята!\\n\\nКомитет Госдумы поддержал правительственный законопроект об освобождени… https://t.co/B1hTpu4EFD', 'truncated': True, 'entities': {'hashtags': [], 'symbols': [], 'user_mentions': [], 'urls': [{'url': 'https://t.co/B1hTpu4EFD', 'expanded_url': 'https://twitter.com/i/web/status/1360174065860956162', 'display_url': 'twitter.com/i/web/status/1…', 'indices': [117, 140]}]}, 'source': '<a href=\"https://mobile.twitter.com\" rel=\"nofollow\">Twitter Web App</a>', 'in_reply_to_status_id': None, 'in_reply_to_status_id_str': None, 'in_reply_to_user_id': None, 'in_reply_to_user_id_str': None, 'in_reply_to_screen_name': None, 'geo': None, 'coordinates': None, 'place': None, 'contributors': None, 'is_quote_status': False, 'retweet_count': 313, 'favorite_count': 1780, 'favorited': False, 'retweeted': True, 'possibly_sensitive': False, 'lang': 'ru'}, 'is_quote_status': False, 'retweet_count': 313, 'favorite_count': 0, 'favorited': False, 'retweeted': True, 'lang': 'ru'}, 'contributors_enabled': False, 'is_translator': False, 'is_translation_enabled': False, 'profile_background_color': 'F5F8FA', 'profile_background_image_url': None, 'profile_background_image_url_https': None, 'profile_background_tile': False, 'profile_image_url': 'http://pbs.twimg.com/profile_images/1227238871001251840/fNhHGAaR_normal.jpg', 'profile_image_url_https': 'https://pbs.twimg.com/profile_images/1227238871001251840/fNhHGAaR_normal.jpg', 'profile_link_color': '1DA1F2', 'profile_sidebar_border_color': 'C0DEED', 'profile_sidebar_fill_color': 'DDEEF6', 'profile_text_color': '333333', 'profile_use_background_image': True, 'has_extended_profile': False, 'default_profile': True, 'default_profile_image': False, 'following': False, 'follow_request_sent': False, 'notifications': False, 'translator_type': 'none', 'withheld_in_countries': [], 'suspended': False, 'needs_phone_verification': False}, id=1227238114621394950, id_str='1227238114621394950', name='jengais', screen_name='jengais', location='', description='', url=None, entities={'description': {'urls': []}}, protected=False, followers_count=2, friends_count=12, listed_count=0, created_at=datetime.datetime(2020, 2, 11, 14, 29, 13, tzinfo=datetime.timezone.utc), favourites_count=62, utc_offset=None, time_zone=None, geo_enabled=False, verified=False, statuses_count=6, lang=None, status=Status(_api=<tweepy.api.API object at 0x0000019F2B1C4340>, _json={'created_at': 'Fri Feb 12 11:27:40 +0000 2021', 'id': 1360188819094589443, 'id_str': '1360188819094589443', 'text': 'RT @kozlyuk: Ну ведь красиво, же! Пацаны — ваще ребята!\\n\\nКомитет Госдумы поддержал правительственный законопроект об освобождении представи…', 'truncated': False, 'entities': {'hashtags': [], 'symbols': [], 'user_mentions': [{'screen_name': 'kozlyuk', 'name': 'Artem Kozlyuk', 'id': 142672853, 'id_str': '142672853', 'indices': [3, 11]}], 'urls': []}, 'source': '<a href=\"http://twitter.com/download/iphone\" rel=\"nofollow\">Twitter for iPhone</a>', 'in_reply_to_status_id': None, 'in_reply_to_status_id_str': None, 'in_reply_to_user_id': None, 'in_reply_to_user_id_str': None, 'in_reply_to_screen_name': None, 'geo': None, 'coordinates': None, 'place': None, 'contributors': None, 'retweeted_status': {'created_at': 'Fri Feb 12 10:29:02 +0000 2021', 'id': 1360174065860956162, 'id_str': '1360174065860956162', 'text': 'Ну ведь красиво, же! Пацаны — ваще ребята!\\n\\nКомитет Госдумы поддержал правительственный законопроект об освобождени… https://t.co/B1hTpu4EFD', 'truncated': True, 'entities': {'hashtags': [], 'symbols': [], 'user_mentions': [], 'urls': [{'url': 'https://t.co/B1hTpu4EFD', 'expanded_url': 'https://twitter.com/i/web/status/1360174065860956162', 'display_url': 'twitter.com/i/web/status/1…', 'indices': [117, 140]}]}, 'source': '<a href=\"https://mobile.twitter.com\" rel=\"nofollow\">Twitter Web App</a>', 'in_reply_to_status_id': None, 'in_reply_to_status_id_str': None, 'in_reply_to_user_id': None, 'in_reply_to_user_id_str': None, 'in_reply_to_screen_name': None, 'geo': None, 'coordinates': None, 'place': None, 'contributors': None, 'is_quote_status': False, 'retweet_count': 313, 'favorite_count': 1780, 'favorited': False, 'retweeted': True, 'possibly_sensitive': False, 'lang': 'ru'}, 'is_quote_status': False, 'retweet_count': 313, 'favorite_count': 0, 'favorited': False, 'retweeted': True, 'lang': 'ru'}, created_at=datetime.datetime(2021, 2, 12, 11, 27, 40, tzinfo=datetime.timezone.utc), id=1360188819094589443, id_str='1360188819094589443', text='RT @kozlyuk: Ну ведь красиво, же! Пацаны — ваще ребята!\\n\\nКомитет Госдумы поддержал правительственный законопроект об освобождении представи…', truncated=False, entities={'hashtags': [], 'symbols': [], 'user_mentions': [{'screen_name': 'kozlyuk', 'name': 'Artem Kozlyuk', 'id': 142672853, 'id_str': '142672853', 'indices': [3, 11]}], 'urls': []}, source='Twitter for iPhone', source_url='http://twitter.com/download/iphone', in_reply_to_status_id=None, in_reply_to_status_id_str=None, in_reply_to_user_id=None, in_reply_to_user_id_str=None, in_reply_to_screen_name=None, geo=None, coordinates=None, place=None, contributors=None, retweeted_status=Status(_api=<tweepy.api.API object at 0x0000019F2B1C4340>, _json={'created_at': 'Fri Feb 12 10:29:02 +0000 2021', 'id': 1360174065860956162, 'id_str': '1360174065860956162', 'text': 'Ну ведь красиво, же! Пацаны — ваще ребята!\\n\\nКомитет Госдумы поддержал правительственный законопроект об освобождени… https://t.co/B1hTpu4EFD', 'truncated': True, 'entities': {'hashtags': [], 'symbols': [], 'user_mentions': [], 'urls': [{'url': 'https://t.co/B1hTpu4EFD', 'expanded_url': 'https://twitter.com/i/web/status/1360174065860956162', 'display_url': 'twitter.com/i/web/status/1…', 'indices': [117, 140]}]}, 'source': '<a href=\"https://mobile.twitter.com\" rel=\"nofollow\">Twitter Web App</a>', 'in_reply_to_status_id': None, 'in_reply_to_status_id_str': None, 'in_reply_to_user_id': None, 'in_reply_to_user_id_str': None, 'in_reply_to_screen_name': None, 'geo': None, 'coordinates': None, 'place': None, 'contributors': None, 'is_quote_status': False, 'retweet_count': 313, 'favorite_count': 1780, 'favorited': False, 'retweeted': True, 'possibly_sensitive': False, 'lang': 'ru'}, created_at=datetime.datetime(2021, 2, 12, 10, 29, 2, tzinfo=datetime.timezone.utc), id=1360174065860956162, id_str='1360174065860956162', text='Ну ведь красиво, же! Пацаны — ваще ребята!\\n\\nКомитет Госдумы поддержал правительственный законопроект об освобождени… https://t.co/B1hTpu4EFD', truncated=True, entities={'hashtags': [], 'symbols': [], 'user_mentions': [], 'urls': [{'url': 'https://t.co/B1hTpu4EFD', 'expanded_url': 'https://twitter.com/i/web/status/1360174065860956162', 'display_url': 'twitter.com/i/web/status/1…', 'indices': [117, 140]}]}, source='Twitter Web App', source_url='https://mobile.twitter.com', in_reply_to_status_id=None, in_reply_to_status_id_str=None, in_reply_to_user_id=None, in_reply_to_user_id_str=None, in_reply_to_screen_name=None, geo=None, coordinates=None, place=None, contributors=None, is_quote_status=False, retweet_count=313, favorite_count=1780, favorited=False, retweeted=True, possibly_sensitive=False, lang='ru'), is_quote_status=False, retweet_count=313, favorite_count=0, favorited=False, retweeted=True, lang='ru'), contributors_enabled=False, is_translator=False, is_translation_enabled=False, profile_background_color='F5F8FA', profile_background_image_url=None, profile_background_image_url_https=None, profile_background_tile=False, profile_image_url='http://pbs.twimg.com/profile_images/1227238871001251840/fNhHGAaR_normal.jpg', profile_image_url_https='https://pbs.twimg.com/profile_images/1227238871001251840/fNhHGAaR_normal.jpg', profile_link_color='1DA1F2', profile_sidebar_border_color='C0DEED', profile_sidebar_fill_color='DDEEF6', profile_text_color='333333', profile_use_background_image=True, has_extended_profile=False, default_profile=True, default_profile_image=False, following=False, follow_request_sent=False, notifications=False, translator_type='none', withheld_in_countries=[], suspended=False, needs_phone_verification=False)"
      ]
     },
     "execution_count": 3,
     "metadata": {},
     "output_type": "execute_result"
    }
   ],
   "source": [
    "# Authenticate to Twitter\n",
    "auth = tweepy.OAuthHandler(consumer_key, consumer_secret)\n",
    "auth.set_access_token(access_token, access_token_secret)\n",
    "\n",
    "# Create API object\n",
    "api = tweepy.API(auth, wait_on_rate_limit=True)\n",
    "api.verify_credentials()"
   ]
  },
  {
   "cell_type": "code",
   "execution_count": 4,
   "metadata": {},
   "outputs": [],
   "source": [
    "# Collect tweets\n",
    "tweets = tweepy.Cursor(api.search_tweets,\n",
    "              q='Climate Change Crisis',\n",
    "              lang=\"en\",\n",
    "              since='2019-01-01').items(100)"
   ]
  },
  {
   "cell_type": "code",
   "execution_count": 5,
   "metadata": {},
   "outputs": [],
   "source": [
    "def convert_tweet_to_tuple(tweet):\n",
    "    content = tweet.text\n",
    "    full_name = tweet.author.name\n",
    "    \n",
    "    post_tuple = (content, full_name)\n",
    "    return post_tuple"
   ]
  },
  {
   "cell_type": "code",
   "execution_count": 6,
   "metadata": {},
   "outputs": [
    {
     "name": "stderr",
     "output_type": "stream",
     "text": [
      "Unexpected parameter: since\n",
      "Unexpected parameter: since\n",
      "Unexpected parameter: since\n",
      "Unexpected parameter: since\n",
      "Unexpected parameter: since\n",
      "Unexpected parameter: since\n",
      "Unexpected parameter: since\n"
     ]
    }
   ],
   "source": [
    "post_tuples = []\n",
    "\n",
    "for tweet in tweets:\n",
    "    post_tuple = convert_tweet_to_tuple(tweet)\n",
    "    post_tuples.append(post_tuple)"
   ]
  },
  {
   "cell_type": "code",
   "execution_count": 7,
   "metadata": {},
   "outputs": [],
   "source": [
    "tweets_df = pd.DataFrame(post_tuples, columns=['content', 'full_name'])\n",
    "tweets_df['keyword'] = 'Climate Change Crisis'"
   ]
  },
  {
   "cell_type": "code",
   "execution_count": 8,
   "metadata": {},
   "outputs": [],
   "source": [
    "# Collect tweets\n",
    "tweets2 = tweepy.Cursor(api.search_tweets,\n",
    "              q='Champions League',\n",
    "              lang=\"en\",\n",
    "              since='2019-01-01').items(100)"
   ]
  },
  {
   "cell_type": "code",
   "execution_count": 9,
   "metadata": {},
   "outputs": [
    {
     "name": "stderr",
     "output_type": "stream",
     "text": [
      "Unexpected parameter: since\n",
      "Unexpected parameter: since\n",
      "Unexpected parameter: since\n",
      "Unexpected parameter: since\n",
      "Unexpected parameter: since\n",
      "Unexpected parameter: since\n",
      "Unexpected parameter: since\n"
     ]
    }
   ],
   "source": [
    "post_tuples = []\n",
    "\n",
    "for tweet in tweets2:\n",
    "    post_tuple = convert_tweet_to_tuple(tweet)\n",
    "    post_tuples.append(post_tuple)"
   ]
  },
  {
   "cell_type": "code",
   "execution_count": 10,
   "metadata": {},
   "outputs": [],
   "source": [
    "tweets_df2 = pd.DataFrame(post_tuples, columns=['content', 'full_name'])\n",
    "tweets_df2['keyword'] = 'Champions League'"
   ]
  },
  {
   "cell_type": "code",
   "execution_count": 11,
   "metadata": {},
   "outputs": [],
   "source": [
    "# Collect tweets\n",
    "tweets3 = tweepy.Cursor(api.search_tweets,\n",
    "              q='The Witcher',\n",
    "              lang=\"en\",\n",
    "              since='2019-01-01').items(100)"
   ]
  },
  {
   "cell_type": "code",
   "execution_count": 12,
   "metadata": {},
   "outputs": [
    {
     "name": "stderr",
     "output_type": "stream",
     "text": [
      "Unexpected parameter: since\n",
      "Unexpected parameter: since\n",
      "Unexpected parameter: since\n",
      "Unexpected parameter: since\n",
      "Unexpected parameter: since\n",
      "Unexpected parameter: since\n",
      "Unexpected parameter: since\n",
      "Unexpected parameter: since\n"
     ]
    }
   ],
   "source": [
    "post_tuples = []\n",
    "\n",
    "for tweet in tweets3:\n",
    "    post_tuple = convert_tweet_to_tuple(tweet)\n",
    "    post_tuples.append(post_tuple)"
   ]
  },
  {
   "cell_type": "code",
   "execution_count": 13,
   "metadata": {},
   "outputs": [],
   "source": [
    "tweets_df3 = pd.DataFrame(post_tuples, columns=['content', 'full_name'])\n",
    "tweets_df3['keyword'] = 'The Witcher'"
   ]
  },
  {
   "cell_type": "code",
   "execution_count": 14,
   "metadata": {},
   "outputs": [
    {
     "data": {
      "text/html": [
       "<div>\n",
       "<style scoped>\n",
       "    .dataframe tbody tr th:only-of-type {\n",
       "        vertical-align: middle;\n",
       "    }\n",
       "\n",
       "    .dataframe tbody tr th {\n",
       "        vertical-align: top;\n",
       "    }\n",
       "\n",
       "    .dataframe thead th {\n",
       "        text-align: right;\n",
       "    }\n",
       "</style>\n",
       "<table border=\"1\" class=\"dataframe\">\n",
       "  <thead>\n",
       "    <tr style=\"text-align: right;\">\n",
       "      <th></th>\n",
       "      <th>content</th>\n",
       "      <th>full_name</th>\n",
       "      <th>keyword</th>\n",
       "    </tr>\n",
       "  </thead>\n",
       "  <tbody>\n",
       "    <tr>\n",
       "      <th>0</th>\n",
       "      <td>Play Your Part In Solving The Climate Change C...</td>\n",
       "      <td>HR Conferences</td>\n",
       "      <td>Climate Change Crisis</td>\n",
       "    </tr>\n",
       "    <tr>\n",
       "      <th>1</th>\n",
       "      <td>Oops now it’s climate crisis, another scary na...</td>\n",
       "      <td>Benificial User</td>\n",
       "      <td>Climate Change Crisis</td>\n",
       "    </tr>\n",
       "    <tr>\n",
       "      <th>2</th>\n",
       "      <td>RT @WorldBankAfrica: The climate crisis is a d...</td>\n",
       "      <td>African Pearl</td>\n",
       "      <td>Climate Change Crisis</td>\n",
       "    </tr>\n",
       "    <tr>\n",
       "      <th>3</th>\n",
       "      <td>RT @ADB_HQ: There’s no going “back to normal” ...</td>\n",
       "      <td>Devdiscourse</td>\n",
       "      <td>Climate Change Crisis</td>\n",
       "    </tr>\n",
       "    <tr>\n",
       "      <th>4</th>\n",
       "      <td>RT @jasonhickel: \"The solution to the climate ...</td>\n",
       "      <td>meeling wee</td>\n",
       "      <td>Climate Change Crisis</td>\n",
       "    </tr>\n",
       "    <tr>\n",
       "      <th>...</th>\n",
       "      <td>...</td>\n",
       "      <td>...</td>\n",
       "      <td>...</td>\n",
       "    </tr>\n",
       "    <tr>\n",
       "      <th>295</th>\n",
       "      <td>@Azriel_Green @gremlynne In Superman he looks ...</td>\n",
       "      <td>FoolishGrin</td>\n",
       "      <td>The Witcher</td>\n",
       "    </tr>\n",
       "    <tr>\n",
       "      <th>296</th>\n",
       "      <td>RT @PopCrave: Henry Cavill tells @THR he wants...</td>\n",
       "      <td>Enmanuel</td>\n",
       "      <td>The Witcher</td>\n",
       "    </tr>\n",
       "    <tr>\n",
       "      <th>297</th>\n",
       "      <td>I was planning on going to bed early. But here...</td>\n",
       "      <td>Autumn Larkin</td>\n",
       "      <td>The Witcher</td>\n",
       "    </tr>\n",
       "    <tr>\n",
       "      <th>298</th>\n",
       "      <td>RT @DollieMaryMay: Playing the Witcher rn :D h...</td>\n",
       "      <td>Doc Ryan Streams</td>\n",
       "      <td>The Witcher</td>\n",
       "    </tr>\n",
       "    <tr>\n",
       "      <th>299</th>\n",
       "      <td>RT @ComicBook: The Witcher's Henry Cavill spen...</td>\n",
       "      <td>ashley 🇺🇸🇵🇷</td>\n",
       "      <td>The Witcher</td>\n",
       "    </tr>\n",
       "  </tbody>\n",
       "</table>\n",
       "<p>300 rows × 3 columns</p>\n",
       "</div>"
      ],
      "text/plain": [
       "                                               content         full_name  \\\n",
       "0    Play Your Part In Solving The Climate Change C...    HR Conferences   \n",
       "1    Oops now it’s climate crisis, another scary na...   Benificial User   \n",
       "2    RT @WorldBankAfrica: The climate crisis is a d...     African Pearl   \n",
       "3    RT @ADB_HQ: There’s no going “back to normal” ...      Devdiscourse   \n",
       "4    RT @jasonhickel: \"The solution to the climate ...       meeling wee   \n",
       "..                                                 ...               ...   \n",
       "295  @Azriel_Green @gremlynne In Superman he looks ...       FoolishGrin   \n",
       "296  RT @PopCrave: Henry Cavill tells @THR he wants...          Enmanuel   \n",
       "297  I was planning on going to bed early. But here...     Autumn Larkin   \n",
       "298  RT @DollieMaryMay: Playing the Witcher rn :D h...  Doc Ryan Streams   \n",
       "299  RT @ComicBook: The Witcher's Henry Cavill spen...       ashley 🇺🇸🇵🇷   \n",
       "\n",
       "                   keyword  \n",
       "0    Climate Change Crisis  \n",
       "1    Climate Change Crisis  \n",
       "2    Climate Change Crisis  \n",
       "3    Climate Change Crisis  \n",
       "4    Climate Change Crisis  \n",
       "..                     ...  \n",
       "295            The Witcher  \n",
       "296            The Witcher  \n",
       "297            The Witcher  \n",
       "298            The Witcher  \n",
       "299            The Witcher  \n",
       "\n",
       "[300 rows x 3 columns]"
      ]
     },
     "execution_count": 14,
     "metadata": {},
     "output_type": "execute_result"
    }
   ],
   "source": [
    "tweets_df_final = tweets_df.append(tweets_df2, ignore_index=True)\n",
    "tweets_df_final = tweets_df_final.append(tweets_df3, ignore_index=True)\n",
    "tweets_df_final"
   ]
  },
  {
   "cell_type": "code",
   "execution_count": 15,
   "metadata": {},
   "outputs": [
    {
     "name": "stdout",
     "output_type": "stream",
     "text": [
      "Time elapsed in (hh:mm:ss.ms): \"0:00:11.756294\"\n"
     ]
    }
   ],
   "source": [
    "print('Time elapsed in (hh:mm:ss.ms): \"{}\"'.format(datetime.now() - start_time))"
   ]
  },
  {
   "cell_type": "code",
   "execution_count": 16,
   "metadata": {},
   "outputs": [],
   "source": [
    "f1 = pd.DataFrame(tweets_df_final, columns=['content', 'keyword'])\n",
    "f2 = pd.DataFrame(tweets_df_final, columns=['full_name'])"
   ]
  },
  {
   "cell_type": "code",
   "execution_count": 17,
   "metadata": {},
   "outputs": [],
   "source": [
    "f1.to_csv('tweets.csv', index = False)\n",
    "f2.to_csv('authors.csv', index = False)"
   ]
  },
  {
   "cell_type": "code",
   "execution_count": null,
   "metadata": {},
   "outputs": [],
   "source": []
  },
  {
   "cell_type": "code",
   "execution_count": null,
   "metadata": {},
   "outputs": [],
   "source": []
  }
 ],
 "metadata": {
  "kernelspec": {
   "display_name": "Python 3 (ipykernel)",
   "language": "python",
   "name": "python3"
  },
  "language_info": {
   "codemirror_mode": {
    "name": "ipython",
    "version": 3
   },
   "file_extension": ".py",
   "mimetype": "text/x-python",
   "name": "python",
   "nbconvert_exporter": "python",
   "pygments_lexer": "ipython3",
   "version": "3.9.7"
  }
 },
 "nbformat": 4,
 "nbformat_minor": 4
}
