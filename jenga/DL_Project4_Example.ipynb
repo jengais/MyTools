{
 "cells": [
  {
   "cell_type": "code",
   "execution_count": 1,
   "metadata": {},
   "outputs": [],
   "source": [
    "import pandas as pd\n",
    "import numpy\n",
    "from sklearn.metrics import accuracy_score\n",
    "from sklearn.model_selection import train_test_split\n",
    "from gensim.models import Word2Vec\n",
    "\n",
    "from sklearn.decomposition import PCA\n",
    "from matplotlib import pyplot\n",
    "from keras.models import Sequential\n",
    "from keras.layers import Dense\n",
    "from keras.wrappers.scikit_learn import KerasClassifier\n",
    "from sklearn.model_selection import cross_val_score\n",
    "from sklearn.model_selection import StratifiedKFold\n",
    "\n",
    "import time\n",
    "from datetime import datetime \n",
    "\n",
    "import nltk\n",
    "from nltk.corpus import stopwords\n",
    "from nltk.tokenize import word_tokenize\n",
    "\n",
    "start_time = datetime.now() "
   ]
  },
  {
   "cell_type": "code",
   "execution_count": 2,
   "metadata": {},
   "outputs": [
    {
     "data": {
      "text/html": [
       "<div>\n",
       "<style scoped>\n",
       "    .dataframe tbody tr th:only-of-type {\n",
       "        vertical-align: middle;\n",
       "    }\n",
       "\n",
       "    .dataframe tbody tr th {\n",
       "        vertical-align: top;\n",
       "    }\n",
       "\n",
       "    .dataframe thead th {\n",
       "        text-align: right;\n",
       "    }\n",
       "</style>\n",
       "<table border=\"1\" class=\"dataframe\">\n",
       "  <thead>\n",
       "    <tr style=\"text-align: right;\">\n",
       "      <th></th>\n",
       "      <th>id</th>\n",
       "      <th>sentence</th>\n",
       "      <th>label</th>\n",
       "    </tr>\n",
       "  </thead>\n",
       "  <tbody>\n",
       "    <tr>\n",
       "      <th>0</th>\n",
       "      <td>1</td>\n",
       "      <td>a superlens is able to beat the diffraction li...</td>\n",
       "      <td>0</td>\n",
       "    </tr>\n",
       "    <tr>\n",
       "      <th>1</th>\n",
       "      <td>2</td>\n",
       "      <td>in the sociology of religion a sect  is genera...</td>\n",
       "      <td>1</td>\n",
       "    </tr>\n",
       "    <tr>\n",
       "      <th>2</th>\n",
       "      <td>3</td>\n",
       "      <td>it is approximately enclosed by the river seve...</td>\n",
       "      <td>0</td>\n",
       "    </tr>\n",
       "    <tr>\n",
       "      <th>3</th>\n",
       "      <td>4</td>\n",
       "      <td>in western medieval legend, a succubus (plural...</td>\n",
       "      <td>1</td>\n",
       "    </tr>\n",
       "    <tr>\n",
       "      <th>4</th>\n",
       "      <td>5</td>\n",
       "      <td>kids, which was originally launched in 2002 as...</td>\n",
       "      <td>0</td>\n",
       "    </tr>\n",
       "    <tr>\n",
       "      <th>...</th>\n",
       "      <td>...</td>\n",
       "      <td>...</td>\n",
       "      <td>...</td>\n",
       "    </tr>\n",
       "    <tr>\n",
       "      <th>3295</th>\n",
       "      <td>3296</td>\n",
       "      <td>as the thinker, he was defeated by the origina...</td>\n",
       "      <td>0</td>\n",
       "    </tr>\n",
       "    <tr>\n",
       "      <th>3296</th>\n",
       "      <td>3297</td>\n",
       "      <td>in biology , an organism is an individual livi...</td>\n",
       "      <td>1</td>\n",
       "    </tr>\n",
       "    <tr>\n",
       "      <th>3297</th>\n",
       "      <td>3298</td>\n",
       "      <td>in computer performance testing , khornerstone...</td>\n",
       "      <td>1</td>\n",
       "    </tr>\n",
       "    <tr>\n",
       "      <th>3298</th>\n",
       "      <td>3299</td>\n",
       "      <td>the following summer, back in the united state...</td>\n",
       "      <td>0</td>\n",
       "    </tr>\n",
       "    <tr>\n",
       "      <th>3299</th>\n",
       "      <td>3300</td>\n",
       "      <td>a relay is an electrical switch that opens and...</td>\n",
       "      <td>1</td>\n",
       "    </tr>\n",
       "  </tbody>\n",
       "</table>\n",
       "<p>3300 rows × 3 columns</p>\n",
       "</div>"
      ],
      "text/plain": [
       "        id                                           sentence  label\n",
       "0        1  a superlens is able to beat the diffraction li...      0\n",
       "1        2  in the sociology of religion a sect  is genera...      1\n",
       "2        3  it is approximately enclosed by the river seve...      0\n",
       "3        4  in western medieval legend, a succubus (plural...      1\n",
       "4        5  kids, which was originally launched in 2002 as...      0\n",
       "...    ...                                                ...    ...\n",
       "3295  3296  as the thinker, he was defeated by the origina...      0\n",
       "3296  3297  in biology , an organism is an individual livi...      1\n",
       "3297  3298  in computer performance testing , khornerstone...      1\n",
       "3298  3299  the following summer, back in the united state...      0\n",
       "3299  3300  a relay is an electrical switch that opens and...      1\n",
       "\n",
       "[3300 rows x 3 columns]"
      ]
     },
     "execution_count": 2,
     "metadata": {},
     "output_type": "execute_result"
    }
   ],
   "source": [
    "test = pd.read_csv(\"C:\\\\MyFoulder\\\\SCE\\שנה ג\\\\סמסטר ב\\\\מבוא ללמידה עמוקה\\\\4\\\\test_ex4_dl2021b.csv\")\n",
    "train = pd.read_csv(\"C:\\\\MyFoulder\\\\SCE\\שנה ג\\\\סמסטר ב\\\\מבוא ללמידה עמוקה\\\\4\\\\training_ex4_dl2021b.csv\")\n",
    "train"
   ]
  },
  {
   "cell_type": "code",
   "execution_count": 3,
   "metadata": {},
   "outputs": [
    {
     "data": {
      "text/html": [
       "<div>\n",
       "<style scoped>\n",
       "    .dataframe tbody tr th:only-of-type {\n",
       "        vertical-align: middle;\n",
       "    }\n",
       "\n",
       "    .dataframe tbody tr th {\n",
       "        vertical-align: top;\n",
       "    }\n",
       "\n",
       "    .dataframe thead th {\n",
       "        text-align: right;\n",
       "    }\n",
       "</style>\n",
       "<table border=\"1\" class=\"dataframe\">\n",
       "  <thead>\n",
       "    <tr style=\"text-align: right;\">\n",
       "      <th></th>\n",
       "      <th>id</th>\n",
       "      <th>sentence</th>\n",
       "    </tr>\n",
       "  </thead>\n",
       "  <tbody>\n",
       "    <tr>\n",
       "      <th>0</th>\n",
       "      <td>3300</td>\n",
       "      <td>a relay is an electrical switch that opens and...</td>\n",
       "    </tr>\n",
       "    <tr>\n",
       "      <th>1</th>\n",
       "      <td>3301</td>\n",
       "      <td>kv27  .</td>\n",
       "    </tr>\n",
       "    <tr>\n",
       "      <th>2</th>\n",
       "      <td>3302</td>\n",
       "      <td>a breviary (from latin brevis, 'short' or 'con...</td>\n",
       "    </tr>\n",
       "    <tr>\n",
       "      <th>3</th>\n",
       "      <td>3303</td>\n",
       "      <td>however, the upper jurassic rocks are availabl...</td>\n",
       "    </tr>\n",
       "    <tr>\n",
       "      <th>4</th>\n",
       "      <td>3304</td>\n",
       "      <td>the first philip k. dick award was presented a...</td>\n",
       "    </tr>\n",
       "    <tr>\n",
       "      <th>...</th>\n",
       "      <td>...</td>\n",
       "      <td>...</td>\n",
       "    </tr>\n",
       "    <tr>\n",
       "      <th>1415</th>\n",
       "      <td>4715</td>\n",
       "      <td>any damane who disagrees (usually, damane who ...</td>\n",
       "    </tr>\n",
       "    <tr>\n",
       "      <th>1416</th>\n",
       "      <td>4716</td>\n",
       "      <td>the dasyproctidae are a family of large south ...</td>\n",
       "    </tr>\n",
       "    <tr>\n",
       "      <th>1417</th>\n",
       "      <td>4717</td>\n",
       "      <td>ev refers to a species of pokémon.</td>\n",
       "    </tr>\n",
       "    <tr>\n",
       "      <th>1418</th>\n",
       "      <td>4718</td>\n",
       "      <td>in kumher, 19% of the population is under 6 ye...</td>\n",
       "    </tr>\n",
       "    <tr>\n",
       "      <th>1419</th>\n",
       "      <td>4719</td>\n",
       "      <td>the basic shape and configuration of a typical...</td>\n",
       "    </tr>\n",
       "  </tbody>\n",
       "</table>\n",
       "<p>1420 rows × 2 columns</p>\n",
       "</div>"
      ],
      "text/plain": [
       "        id                                           sentence\n",
       "0     3300  a relay is an electrical switch that opens and...\n",
       "1     3301                                            kv27  .\n",
       "2     3302  a breviary (from latin brevis, 'short' or 'con...\n",
       "3     3303  however, the upper jurassic rocks are availabl...\n",
       "4     3304  the first philip k. dick award was presented a...\n",
       "...    ...                                                ...\n",
       "1415  4715  any damane who disagrees (usually, damane who ...\n",
       "1416  4716  the dasyproctidae are a family of large south ...\n",
       "1417  4717                 ev refers to a species of pokémon.\n",
       "1418  4718  in kumher, 19% of the population is under 6 ye...\n",
       "1419  4719  the basic shape and configuration of a typical...\n",
       "\n",
       "[1420 rows x 2 columns]"
      ]
     },
     "execution_count": 3,
     "metadata": {},
     "output_type": "execute_result"
    }
   ],
   "source": [
    "test"
   ]
  },
  {
   "cell_type": "code",
   "execution_count": 4,
   "metadata": {},
   "outputs": [
    {
     "name": "stderr",
     "output_type": "stream",
     "text": [
      "<ipython-input-4-33f48ffda2c0>:13: SettingWithCopyWarning: \n",
      "A value is trying to be set on a copy of a slice from a DataFrame\n",
      "\n",
      "See the caveats in the documentation: https://pandas.pydata.org/pandas-docs/stable/user_guide/indexing.html#returning-a-view-versus-a-copy\n",
      "  train['sentence'][ID] = ' '.join(resultwords)\n",
      "<ipython-input-4-33f48ffda2c0>:18: SettingWithCopyWarning: \n",
      "A value is trying to be set on a copy of a slice from a DataFrame\n",
      "\n",
      "See the caveats in the documentation: https://pandas.pydata.org/pandas-docs/stable/user_guide/indexing.html#returning-a-view-versus-a-copy\n",
      "  test['sentence'][ID] = ' '.join(resultwords)\n"
     ]
    }
   ],
   "source": [
    "train['sentence'] = train['sentence'].str.replace('[^\\w\\s]','')\n",
    "train['sentence'] = train['sentence'].str.replace('[^a-zA-z ]','')\n",
    "\n",
    "test['sentence'] = test['sentence'].str.replace('[^\\w\\s]','')\n",
    "test['sentence'] = test['sentence'].str.replace('[^a-zA-z ]','')\n",
    "\n",
    "\n",
    "stop_words = set(stopwords.words('english'))\n",
    "\n",
    "for ID in  range(len(train['sentence'])):\n",
    "    querywords = train['sentence'][ID].split()\n",
    "    resultwords  = [word for word in querywords if word not in stop_words]\n",
    "    train['sentence'][ID] = ' '.join(resultwords)\n",
    "    \n",
    "for ID in  range(len(test['sentence'])):\n",
    "    querywords = test['sentence'][ID].split()\n",
    "    resultwords  = [word for word in querywords if word not in stop_words]\n",
    "    test['sentence'][ID] = ' '.join(resultwords)"
   ]
  },
  {
   "cell_type": "code",
   "execution_count": 5,
   "metadata": {},
   "outputs": [
    {
     "data": {
      "text/html": [
       "<div>\n",
       "<style scoped>\n",
       "    .dataframe tbody tr th:only-of-type {\n",
       "        vertical-align: middle;\n",
       "    }\n",
       "\n",
       "    .dataframe tbody tr th {\n",
       "        vertical-align: top;\n",
       "    }\n",
       "\n",
       "    .dataframe thead th {\n",
       "        text-align: right;\n",
       "    }\n",
       "</style>\n",
       "<table border=\"1\" class=\"dataframe\">\n",
       "  <thead>\n",
       "    <tr style=\"text-align: right;\">\n",
       "      <th></th>\n",
       "      <th>id</th>\n",
       "      <th>sentence</th>\n",
       "      <th>label</th>\n",
       "    </tr>\n",
       "  </thead>\n",
       "  <tbody>\n",
       "    <tr>\n",
       "      <th>0</th>\n",
       "      <td>1</td>\n",
       "      <td>superlens able beat diffraction limit</td>\n",
       "      <td>0</td>\n",
       "    </tr>\n",
       "    <tr>\n",
       "      <th>1</th>\n",
       "      <td>2</td>\n",
       "      <td>sociology religion sect generally small religi...</td>\n",
       "      <td>1</td>\n",
       "    </tr>\n",
       "    <tr>\n",
       "      <th>2</th>\n",
       "      <td>3</td>\n",
       "      <td>approximately enclosed river severn north ches...</td>\n",
       "      <td>0</td>\n",
       "    </tr>\n",
       "    <tr>\n",
       "      <th>3</th>\n",
       "      <td>4</td>\n",
       "      <td>western medieval legend succubus plural succub...</td>\n",
       "      <td>1</td>\n",
       "    </tr>\n",
       "    <tr>\n",
       "      <th>4</th>\n",
       "      <td>5</td>\n",
       "      <td>kids originally launched martha stewart kids s...</td>\n",
       "      <td>0</td>\n",
       "    </tr>\n",
       "    <tr>\n",
       "      <th>...</th>\n",
       "      <td>...</td>\n",
       "      <td>...</td>\n",
       "      <td>...</td>\n",
       "    </tr>\n",
       "    <tr>\n",
       "      <th>3295</th>\n",
       "      <td>3296</td>\n",
       "      <td>thinker defeated original flash soon became re...</td>\n",
       "      <td>0</td>\n",
       "    </tr>\n",
       "    <tr>\n",
       "      <th>3296</th>\n",
       "      <td>3297</td>\n",
       "      <td>biology organism individual living system anim...</td>\n",
       "      <td>1</td>\n",
       "    </tr>\n",
       "    <tr>\n",
       "      <th>3297</th>\n",
       "      <td>3298</td>\n",
       "      <td>computer performance testing khornerstone mult...</td>\n",
       "      <td>1</td>\n",
       "    </tr>\n",
       "    <tr>\n",
       "      <th>3298</th>\n",
       "      <td>3299</td>\n",
       "      <td>following summer back united states wiener dec...</td>\n",
       "      <td>0</td>\n",
       "    </tr>\n",
       "    <tr>\n",
       "      <th>3299</th>\n",
       "      <td>3300</td>\n",
       "      <td>relay electrical switch opens closes control a...</td>\n",
       "      <td>1</td>\n",
       "    </tr>\n",
       "  </tbody>\n",
       "</table>\n",
       "<p>3300 rows × 3 columns</p>\n",
       "</div>"
      ],
      "text/plain": [
       "        id                                           sentence  label\n",
       "0        1              superlens able beat diffraction limit      0\n",
       "1        2  sociology religion sect generally small religi...      1\n",
       "2        3  approximately enclosed river severn north ches...      0\n",
       "3        4  western medieval legend succubus plural succub...      1\n",
       "4        5  kids originally launched martha stewart kids s...      0\n",
       "...    ...                                                ...    ...\n",
       "3295  3296  thinker defeated original flash soon became re...      0\n",
       "3296  3297  biology organism individual living system anim...      1\n",
       "3297  3298  computer performance testing khornerstone mult...      1\n",
       "3298  3299  following summer back united states wiener dec...      0\n",
       "3299  3300  relay electrical switch opens closes control a...      1\n",
       "\n",
       "[3300 rows x 3 columns]"
      ]
     },
     "execution_count": 5,
     "metadata": {},
     "output_type": "execute_result"
    }
   ],
   "source": [
    "train"
   ]
  },
  {
   "cell_type": "code",
   "execution_count": 6,
   "metadata": {},
   "outputs": [
    {
     "data": {
      "text/html": [
       "<div>\n",
       "<style scoped>\n",
       "    .dataframe tbody tr th:only-of-type {\n",
       "        vertical-align: middle;\n",
       "    }\n",
       "\n",
       "    .dataframe tbody tr th {\n",
       "        vertical-align: top;\n",
       "    }\n",
       "\n",
       "    .dataframe thead th {\n",
       "        text-align: right;\n",
       "    }\n",
       "</style>\n",
       "<table border=\"1\" class=\"dataframe\">\n",
       "  <thead>\n",
       "    <tr style=\"text-align: right;\">\n",
       "      <th></th>\n",
       "      <th>id</th>\n",
       "      <th>sentence</th>\n",
       "    </tr>\n",
       "  </thead>\n",
       "  <tbody>\n",
       "    <tr>\n",
       "      <th>0</th>\n",
       "      <td>3300</td>\n",
       "      <td>relay electrical switch opens closes control a...</td>\n",
       "    </tr>\n",
       "    <tr>\n",
       "      <th>1</th>\n",
       "      <td>3301</td>\n",
       "      <td>kv</td>\n",
       "    </tr>\n",
       "    <tr>\n",
       "      <th>2</th>\n",
       "      <td>3302</td>\n",
       "      <td>breviary latin brevis short concise liturgical...</td>\n",
       "    </tr>\n",
       "    <tr>\n",
       "      <th>3</th>\n",
       "      <td>3303</td>\n",
       "      <td>however upper jurassic rocks available supply ...</td>\n",
       "    </tr>\n",
       "    <tr>\n",
       "      <th>4</th>\n",
       "      <td>3304</td>\n",
       "      <td>first philip k dick award presented norwescon ...</td>\n",
       "    </tr>\n",
       "    <tr>\n",
       "      <th>...</th>\n",
       "      <td>...</td>\n",
       "      <td>...</td>\n",
       "    </tr>\n",
       "    <tr>\n",
       "      <th>1415</th>\n",
       "      <td>4715</td>\n",
       "      <td>damane disagrees usually damane brought seanch...</td>\n",
       "    </tr>\n",
       "    <tr>\n",
       "      <th>1416</th>\n",
       "      <td>4716</td>\n",
       "      <td>dasyproctidae family large south american rode...</td>\n",
       "    </tr>\n",
       "    <tr>\n",
       "      <th>1417</th>\n",
       "      <td>4717</td>\n",
       "      <td>ev refers species pokmon</td>\n",
       "    </tr>\n",
       "    <tr>\n",
       "      <th>1418</th>\n",
       "      <td>4718</td>\n",
       "      <td>kumher population years age</td>\n",
       "    </tr>\n",
       "    <tr>\n",
       "      <th>1419</th>\n",
       "      <td>4719</td>\n",
       "      <td>basic shape configuration typical bicycle chan...</td>\n",
       "    </tr>\n",
       "  </tbody>\n",
       "</table>\n",
       "<p>1420 rows × 2 columns</p>\n",
       "</div>"
      ],
      "text/plain": [
       "        id                                           sentence\n",
       "0     3300  relay electrical switch opens closes control a...\n",
       "1     3301                                                 kv\n",
       "2     3302  breviary latin brevis short concise liturgical...\n",
       "3     3303  however upper jurassic rocks available supply ...\n",
       "4     3304  first philip k dick award presented norwescon ...\n",
       "...    ...                                                ...\n",
       "1415  4715  damane disagrees usually damane brought seanch...\n",
       "1416  4716  dasyproctidae family large south american rode...\n",
       "1417  4717                           ev refers species pokmon\n",
       "1418  4718                        kumher population years age\n",
       "1419  4719  basic shape configuration typical bicycle chan...\n",
       "\n",
       "[1420 rows x 2 columns]"
      ]
     },
     "execution_count": 6,
     "metadata": {},
     "output_type": "execute_result"
    }
   ],
   "source": [
    "test"
   ]
  },
  {
   "cell_type": "code",
   "execution_count": 7,
   "metadata": {},
   "outputs": [
    {
     "data": {
      "text/plain": [
       "id          0\n",
       "sentence    0\n",
       "label       0\n",
       "dtype: int64"
      ]
     },
     "execution_count": 7,
     "metadata": {},
     "output_type": "execute_result"
    }
   ],
   "source": [
    "train.isnull().sum()"
   ]
  },
  {
   "cell_type": "code",
   "execution_count": 8,
   "metadata": {},
   "outputs": [
    {
     "data": {
      "text/plain": [
       "id          0\n",
       "sentence    0\n",
       "dtype: int64"
      ]
     },
     "execution_count": 8,
     "metadata": {},
     "output_type": "execute_result"
    }
   ],
   "source": [
    "test.isnull().sum()"
   ]
  },
  {
   "cell_type": "code",
   "execution_count": 9,
   "metadata": {},
   "outputs": [],
   "source": [
    "train.dropna(subset = ['sentence'], inplace=True)\n",
    "test.dropna(subset = ['sentence'], inplace=True)"
   ]
  },
  {
   "cell_type": "code",
   "execution_count": 10,
   "metadata": {},
   "outputs": [
    {
     "data": {
      "text/html": [
       "<div>\n",
       "<style scoped>\n",
       "    .dataframe tbody tr th:only-of-type {\n",
       "        vertical-align: middle;\n",
       "    }\n",
       "\n",
       "    .dataframe tbody tr th {\n",
       "        vertical-align: top;\n",
       "    }\n",
       "\n",
       "    .dataframe thead th {\n",
       "        text-align: right;\n",
       "    }\n",
       "</style>\n",
       "<table border=\"1\" class=\"dataframe\">\n",
       "  <thead>\n",
       "    <tr style=\"text-align: right;\">\n",
       "      <th></th>\n",
       "      <th>sentence</th>\n",
       "    </tr>\n",
       "  </thead>\n",
       "  <tbody>\n",
       "    <tr>\n",
       "      <th>0</th>\n",
       "      <td>superlens able beat diffraction limit</td>\n",
       "    </tr>\n",
       "    <tr>\n",
       "      <th>1</th>\n",
       "      <td>sociology religion sect generally small religi...</td>\n",
       "    </tr>\n",
       "    <tr>\n",
       "      <th>2</th>\n",
       "      <td>approximately enclosed river severn north ches...</td>\n",
       "    </tr>\n",
       "    <tr>\n",
       "      <th>3</th>\n",
       "      <td>western medieval legend succubus plural succub...</td>\n",
       "    </tr>\n",
       "    <tr>\n",
       "      <th>4</th>\n",
       "      <td>kids originally launched martha stewart kids s...</td>\n",
       "    </tr>\n",
       "    <tr>\n",
       "      <th>...</th>\n",
       "      <td>...</td>\n",
       "    </tr>\n",
       "    <tr>\n",
       "      <th>3295</th>\n",
       "      <td>thinker defeated original flash soon became re...</td>\n",
       "    </tr>\n",
       "    <tr>\n",
       "      <th>3296</th>\n",
       "      <td>biology organism individual living system anim...</td>\n",
       "    </tr>\n",
       "    <tr>\n",
       "      <th>3297</th>\n",
       "      <td>computer performance testing khornerstone mult...</td>\n",
       "    </tr>\n",
       "    <tr>\n",
       "      <th>3298</th>\n",
       "      <td>following summer back united states wiener dec...</td>\n",
       "    </tr>\n",
       "    <tr>\n",
       "      <th>3299</th>\n",
       "      <td>relay electrical switch opens closes control a...</td>\n",
       "    </tr>\n",
       "  </tbody>\n",
       "</table>\n",
       "<p>3300 rows × 1 columns</p>\n",
       "</div>"
      ],
      "text/plain": [
       "                                               sentence\n",
       "0                 superlens able beat diffraction limit\n",
       "1     sociology religion sect generally small religi...\n",
       "2     approximately enclosed river severn north ches...\n",
       "3     western medieval legend succubus plural succub...\n",
       "4     kids originally launched martha stewart kids s...\n",
       "...                                                 ...\n",
       "3295  thinker defeated original flash soon became re...\n",
       "3296  biology organism individual living system anim...\n",
       "3297  computer performance testing khornerstone mult...\n",
       "3298  following summer back united states wiener dec...\n",
       "3299  relay electrical switch opens closes control a...\n",
       "\n",
       "[3300 rows x 1 columns]"
      ]
     },
     "execution_count": 10,
     "metadata": {},
     "output_type": "execute_result"
    }
   ],
   "source": [
    "X = train.drop(['id', 'label'], axis=1)\n",
    "X"
   ]
  },
  {
   "cell_type": "code",
   "execution_count": 11,
   "metadata": {},
   "outputs": [
    {
     "data": {
      "text/plain": [
       "0       0\n",
       "1       1\n",
       "2       0\n",
       "3       1\n",
       "4       0\n",
       "       ..\n",
       "3295    0\n",
       "3296    1\n",
       "3297    1\n",
       "3298    0\n",
       "3299    1\n",
       "Name: label, Length: 3300, dtype: int64"
      ]
     },
     "execution_count": 11,
     "metadata": {},
     "output_type": "execute_result"
    }
   ],
   "source": [
    "y = train['label']\n",
    "y"
   ]
  },
  {
   "cell_type": "code",
   "execution_count": 12,
   "metadata": {},
   "outputs": [
    {
     "name": "stdout",
     "output_type": "stream",
     "text": [
      "Num of 1's is:  1341\n"
     ]
    }
   ],
   "source": [
    "j = 0\n",
    "for i in range(len(y)):\n",
    "    if y[i]==1:\n",
    "        j+=1\n",
    "print('Num of 1\\'s is: ', j)"
   ]
  },
  {
   "cell_type": "code",
   "execution_count": 13,
   "metadata": {},
   "outputs": [],
   "source": [
    "X_train, X_test, y_train, y_test = train_test_split(X, y, test_size=0.3)"
   ]
  },
  {
   "cell_type": "code",
   "execution_count": 14,
   "metadata": {},
   "outputs": [
    {
     "data": {
      "text/html": [
       "<div>\n",
       "<style scoped>\n",
       "    .dataframe tbody tr th:only-of-type {\n",
       "        vertical-align: middle;\n",
       "    }\n",
       "\n",
       "    .dataframe tbody tr th {\n",
       "        vertical-align: top;\n",
       "    }\n",
       "\n",
       "    .dataframe thead th {\n",
       "        text-align: right;\n",
       "    }\n",
       "</style>\n",
       "<table border=\"1\" class=\"dataframe\">\n",
       "  <thead>\n",
       "    <tr style=\"text-align: right;\">\n",
       "      <th></th>\n",
       "      <th>sentence</th>\n",
       "    </tr>\n",
       "  </thead>\n",
       "  <tbody>\n",
       "    <tr>\n",
       "      <th>1842</th>\n",
       "      <td>quake firstperson shooter computer game releas...</td>\n",
       "    </tr>\n",
       "    <tr>\n",
       "      <th>2216</th>\n",
       "      <td>norse mythology fenrir fenrisulfr wolf son lok...</td>\n",
       "    </tr>\n",
       "    <tr>\n",
       "      <th>2289</th>\n",
       "      <td>phil continued divide time marion new order ne...</td>\n",
       "    </tr>\n",
       "    <tr>\n",
       "      <th>2625</th>\n",
       "      <td>furthermore several books cds published midtol...</td>\n",
       "    </tr>\n",
       "    <tr>\n",
       "      <th>2279</th>\n",
       "      <td>cocoyam well known food plant long history cul...</td>\n",
       "    </tr>\n",
       "    <tr>\n",
       "      <th>...</th>\n",
       "      <td>...</td>\n",
       "    </tr>\n",
       "    <tr>\n",
       "      <th>699</th>\n",
       "      <td>wizzzer first appeared mattel catalog various ...</td>\n",
       "    </tr>\n",
       "    <tr>\n",
       "      <th>2205</th>\n",
       "      <td>shadbelly coat part formal wear category known...</td>\n",
       "    </tr>\n",
       "    <tr>\n",
       "      <th>2711</th>\n",
       "      <td>poet person writes poetry</td>\n",
       "    </tr>\n",
       "    <tr>\n",
       "      <th>1975</th>\n",
       "      <td>exabyte derived si prefix exa unit information...</td>\n",
       "    </tr>\n",
       "    <tr>\n",
       "      <th>2577</th>\n",
       "      <td>popular culture cupid frequently shown shootin...</td>\n",
       "    </tr>\n",
       "  </tbody>\n",
       "</table>\n",
       "<p>2310 rows × 1 columns</p>\n",
       "</div>"
      ],
      "text/plain": [
       "                                               sentence\n",
       "1842  quake firstperson shooter computer game releas...\n",
       "2216  norse mythology fenrir fenrisulfr wolf son lok...\n",
       "2289  phil continued divide time marion new order ne...\n",
       "2625  furthermore several books cds published midtol...\n",
       "2279  cocoyam well known food plant long history cul...\n",
       "...                                                 ...\n",
       "699   wizzzer first appeared mattel catalog various ...\n",
       "2205  shadbelly coat part formal wear category known...\n",
       "2711                          poet person writes poetry\n",
       "1975  exabyte derived si prefix exa unit information...\n",
       "2577  popular culture cupid frequently shown shootin...\n",
       "\n",
       "[2310 rows x 1 columns]"
      ]
     },
     "execution_count": 14,
     "metadata": {},
     "output_type": "execute_result"
    }
   ],
   "source": [
    "X_train\n",
    "#X_test\n",
    "#y_train\n",
    "#y_test"
   ]
  },
  {
   "cell_type": "code",
   "execution_count": null,
   "metadata": {},
   "outputs": [],
   "source": []
  },
  {
   "cell_type": "code",
   "execution_count": null,
   "metadata": {},
   "outputs": [],
   "source": []
  },
  {
   "cell_type": "code",
   "execution_count": null,
   "metadata": {},
   "outputs": [],
   "source": []
  },
  {
   "cell_type": "code",
   "execution_count": 15,
   "metadata": {},
   "outputs": [
    {
     "name": "stdout",
     "output_type": "stream",
     "text": [
      "990\n",
      "Word2Vec(vocab=6807, vector_size=300, alpha=0.025)\n"
     ]
    }
   ],
   "source": [
    "sentences = [w.split() for w in X_test['sentence']]\n",
    "print(len(sentences))\n",
    "model = Word2Vec(sentences, min_count=1, vector_size=300)\n",
    "print(model)\n",
    "\n",
    "words = list(model.wv.index_to_key)\n",
    "len(words)\n",
    "\n",
    "temp = []\n",
    "\n",
    "for s in X_test['sentence'].tolist():\n",
    "    temp.append(len(s.split()))\n",
    "\n",
    "zer = numpy.array([0.0 for x in range(300)])\n",
    "\n",
    "sen = list(X_test['sentence'])\n",
    "vecs = []\n",
    "vecs2 = []\n",
    "for s in sen:\n",
    "    if len(s.split())<25:\n",
    "        for w in s.split():\n",
    "            vecs.append(numpy.array(model.wv.get_vector(w, norm=True)))\n",
    "        if len(s.split()) == 0:\n",
    "            vecs.append(zer)\n",
    "        vecs2.append(numpy.array(vecs))\n",
    "        vecs.clear()\n",
    "    else:\n",
    "        vecs2.append(numpy.array([zer for x in range(25)]))\n",
    "    \n",
    "for i in range(len(vecs2)):\n",
    "    while len(vecs2[i])<25:\n",
    "        vecs2[i] = numpy.vstack([vecs2[i], zer])\n",
    "\n",
    "X_test_vecs = vecs2"
   ]
  },
  {
   "cell_type": "code",
   "execution_count": null,
   "metadata": {},
   "outputs": [],
   "source": []
  },
  {
   "cell_type": "code",
   "execution_count": 16,
   "metadata": {},
   "outputs": [
    {
     "data": {
      "image/png": "[encoded data removed]",
      "text/plain": [
       "<Figure size 432x288 with 1 Axes>"
      ]
     },
     "metadata": {
      "needs_background": "light"
     },
     "output_type": "display_data"
    }
   ],
   "source": [
    "import matplotlib\n",
    "import matplotlib.pyplot as plt\n",
    "\n",
    "plt.plot(range(0,len(temp)), temp)                                             \n",
    "plt.xlabel('Sentense index')\n",
    "plt.ylabel('Lenght')\n",
    "plt.xticks()\n",
    "plt.title('Sentence lenght')\n",
    "plt.yticks()\n",
    "plt.style.use('default')\n",
    "plt.show()"
   ]
  },
  {
   "cell_type": "code",
   "execution_count": null,
   "metadata": {},
   "outputs": [],
   "source": []
  },
  {
   "cell_type": "code",
   "execution_count": 17,
   "metadata": {},
   "outputs": [
    {
     "data": {
      "text/plain": [
       "(990, 25, 300)"
      ]
     },
     "execution_count": 17,
     "metadata": {},
     "output_type": "execute_result"
    }
   ],
   "source": [
    "numpy.array(X_test_vecs).shape"
   ]
  },
  {
   "cell_type": "code",
   "execution_count": 18,
   "metadata": {},
   "outputs": [
    {
     "name": "stdout",
     "output_type": "stream",
     "text": [
      "2310\n",
      "Word2Vec(vocab=12554, vector_size=300, alpha=0.025)\n"
     ]
    }
   ],
   "source": [
    "sentences = [w.split() for w in X_train['sentence']]\n",
    "print(len(sentences))\n",
    "model = Word2Vec(sentences, min_count=1, vector_size=300)\n",
    "print(model)\n",
    "\n",
    "words = list(model.wv.index_to_key)\n",
    "len(words)\n",
    "\n",
    "temp2 = []\n",
    "\n",
    "for s in X_test['sentence'].tolist():\n",
    "    temp2.append(len(s.split()))\n",
    "\n",
    "zer = numpy.array([0.0 for x in range(300)])\n",
    "\n",
    "sen = list(X_train['sentence'])\n",
    "vecs = []\n",
    "vecs2 = []\n",
    "for s in sen:\n",
    "    if len(s.split())<25:\n",
    "        for w in s.split():\n",
    "            vecs.append(numpy.array(model.wv.get_vector(w, norm=True)))\n",
    "        if len(s.split()) == 0:\n",
    "            vecs.append(zer)\n",
    "        vecs2.append(numpy.array(vecs))\n",
    "        vecs.clear()\n",
    "    else:\n",
    "        vecs2.append(numpy.array([zer for x in range(25)]))\n",
    "    \n",
    "for i in range(len(vecs2)):\n",
    "    while len(vecs2[i])<25:\n",
    "        vecs2[i] = numpy.vstack([vecs2[i], zer])\n",
    "\n",
    "X_train_vecs = vecs2"
   ]
  },
  {
   "cell_type": "code",
   "execution_count": null,
   "metadata": {},
   "outputs": [],
   "source": []
  },
  {
   "cell_type": "code",
   "execution_count": null,
   "metadata": {},
   "outputs": [],
   "source": []
  },
  {
   "cell_type": "code",
   "execution_count": null,
   "metadata": {},
   "outputs": [],
   "source": []
  },
  {
   "cell_type": "code",
   "execution_count": 19,
   "metadata": {},
   "outputs": [
    {
     "data": {
      "image/png": "[encoded data removed]",
      "text/plain": [
       "<Figure size 640x480 with 1 Axes>"
      ]
     },
     "metadata": {},
     "output_type": "display_data"
    }
   ],
   "source": [
    "plt.plot(range(0,len(temp2)), temp2)                                             \n",
    "plt.xlabel('Sentense index')\n",
    "plt.ylabel('Lenght')\n",
    "plt.xticks()\n",
    "plt.title('Sentence lenght')\n",
    "plt.yticks()\n",
    "plt.style.use('default')\n",
    "plt.show()"
   ]
  },
  {
   "cell_type": "code",
   "execution_count": null,
   "metadata": {},
   "outputs": [],
   "source": []
  },
  {
   "cell_type": "code",
   "execution_count": 20,
   "metadata": {},
   "outputs": [
    {
     "data": {
      "text/plain": [
       "(2310, 25, 300)"
      ]
     },
     "execution_count": 20,
     "metadata": {},
     "output_type": "execute_result"
    }
   ],
   "source": [
    "numpy.array(vecs2).shape"
   ]
  },
  {
   "cell_type": "code",
   "execution_count": null,
   "metadata": {},
   "outputs": [],
   "source": []
  },
  {
   "cell_type": "code",
   "execution_count": null,
   "metadata": {},
   "outputs": [],
   "source": []
  },
  {
   "cell_type": "code",
   "execution_count": null,
   "metadata": {},
   "outputs": [],
   "source": []
  },
  {
   "cell_type": "code",
   "execution_count": 28,
   "metadata": {},
   "outputs": [
    {
     "name": "stdout",
     "output_type": "stream",
     "text": [
      "Epoch 1/20\n",
      "116/116 [==============================] - 10s 23ms/step - loss: 0.6873 - accuracy: 0.5148\n",
      "Epoch 2/20\n",
      "116/116 [==============================] - 3s 22ms/step - loss: 0.6350 - accuracy: 0.6567\n",
      "Epoch 3/20\n",
      "116/116 [==============================] - 3s 22ms/step - loss: 0.5802 - accuracy: 0.7136\n",
      "Epoch 4/20\n",
      "116/116 [==============================] - 3s 24ms/step - loss: 0.5503 - accuracy: 0.7268\n",
      "Epoch 5/20\n",
      "116/116 [==============================] - 3s 22ms/step - loss: 0.5320 - accuracy: 0.7402\n",
      "Epoch 6/20\n",
      "116/116 [==============================] - 3s 22ms/step - loss: 0.4875 - accuracy: 0.7732\n",
      "Epoch 7/20\n",
      "116/116 [==============================] - 3s 22ms/step - loss: 0.4555 - accuracy: 0.7980\n",
      "Epoch 8/20\n",
      "116/116 [==============================] - 3s 24ms/step - loss: 0.4181 - accuracy: 0.8217\n",
      "Epoch 9/20\n",
      "116/116 [==============================] - 3s 23ms/step - loss: 0.4056 - accuracy: 0.8088\n",
      "Epoch 10/20\n",
      "116/116 [==============================] - 3s 25ms/step - loss: 0.4019 - accuracy: 0.8027\n",
      "Epoch 11/20\n",
      "116/116 [==============================] - 3s 24ms/step - loss: 0.3634 - accuracy: 0.8367\n",
      "Epoch 12/20\n",
      "116/116 [==============================] - 3s 24ms/step - loss: 0.3514 - accuracy: 0.8342\n",
      "Epoch 13/20\n",
      "116/116 [==============================] - 3s 23ms/step - loss: 0.3445 - accuracy: 0.8502\n",
      "Epoch 14/20\n",
      "116/116 [==============================] - 3s 23ms/step - loss: 0.3145 - accuracy: 0.8734\n",
      "Epoch 15/20\n",
      "116/116 [==============================] - 3s 23ms/step - loss: 0.3004 - accuracy: 0.8741\n",
      "Epoch 16/20\n",
      "116/116 [==============================] - 3s 24ms/step - loss: 0.2831 - accuracy: 0.8853\n",
      "Epoch 17/20\n",
      "116/116 [==============================] - 3s 23ms/step - loss: 0.2676 - accuracy: 0.9019\n",
      "Epoch 18/20\n",
      "116/116 [==============================] - 3s 23ms/step - loss: 0.2461 - accuracy: 0.9030\n",
      "Epoch 19/20\n",
      "116/116 [==============================] - 3s 23ms/step - loss: 0.2400 - accuracy: 0.9052\n",
      "Epoch 20/20\n",
      "116/116 [==============================] - 3s 23ms/step - loss: 0.2385 - accuracy: 0.9180\n"
     ]
    },
    {
     "data": {
      "text/plain": [
       "<tensorflow.python.keras.callbacks.History at 0x14b6fc36580>"
      ]
     },
     "execution_count": 28,
     "metadata": {},
     "output_type": "execute_result"
    }
   ],
   "source": [
    "import tensorflow as tf\n",
    "from tensorflow import keras\n",
    "from tensorflow.keras import layers\n",
    "from tensorflow.keras.layers import LSTM, GRU, Dropout,Bidirectional\n",
    "\n",
    "model = Sequential()\n",
    "#GRU???\n",
    "### max sentence lenght instead 64!!!\n",
    "#model.add(GRU(25, return_sequences=True, input_shape=(25,300)))\n",
    "#model.add(GRU(25, return_sequences=False))\n",
    "model.add(Bidirectional(LSTM(25, return_sequences=True, dropout=0.1,recurrent_dropout=0.1, input_shape=(25,300)))) ### !!!\n",
    "model.add(Bidirectional(LSTM(25, return_sequences=False, dropout=0.1,recurrent_dropout=0.1))) #only last is false\n",
    "model.add(Dense(15,  activation='relu'))\n",
    "model.add(Dropout(0.5))\n",
    "model.add(Dense(1, activation='sigmoid'))\n",
    "\n",
    "model.compile(optimizer='adam', loss='binary_crossentropy', metrics=['accuracy'])\n",
    "#model.summary()\n",
    "\n",
    "#model.fit(numpy.array(X_train_vecs), y_train, validation_data=(numpy.array(X_test_vecs), y_test), epochs=20) ###batch size???\n",
    "model.fit(numpy.array(X_train_vecs), y_train, epochs=20, batch_size=20)"
   ]
  },
  {
   "cell_type": "code",
   "execution_count": 22,
   "metadata": {},
   "outputs": [
    {
     "name": "stdout",
     "output_type": "stream",
     "text": [
      "Model: \"sequential\"\n",
      "_________________________________________________________________\n",
      "Layer (type)                 Output Shape              Param #   \n",
      "=================================================================\n",
      "lstm (LSTM)                  (None, 25, 25)            32600     \n",
      "_________________________________________________________________\n",
      "lstm_1 (LSTM)                (None, 25)                5100      \n",
      "_________________________________________________________________\n",
      "dense (Dense)                (None, 15)                390       \n",
      "_________________________________________________________________\n",
      "dropout (Dropout)            (None, 15)                0         \n",
      "_________________________________________________________________\n",
      "dense_1 (Dense)              (None, 1)                 16        \n",
      "=================================================================\n",
      "Total params: 38,106\n",
      "Trainable params: 38,106\n",
      "Non-trainable params: 0\n",
      "_________________________________________________________________\n"
     ]
    }
   ],
   "source": [
    "model.summary()"
   ]
  },
  {
   "cell_type": "code",
   "execution_count": 23,
   "metadata": {},
   "outputs": [
    {
     "name": "stdout",
     "output_type": "stream",
     "text": [
      "1420\n",
      "Word2Vec(vocab=9021, vector_size=300, alpha=0.025)\n"
     ]
    }
   ],
   "source": [
    "sentences = [w.split() for w in test['sentence']]\n",
    "print(len(sentences))\n",
    "model2 = Word2Vec(sentences, min_count=1, vector_size=300)\n",
    "print(model2)\n",
    "\n",
    "words = list(model2.wv.index_to_key)\n",
    "len(words)\n",
    "\n",
    "zer = numpy.array([0.0 for x in range(300)])\n",
    "\n",
    "sen = list(test['sentence'])\n",
    "vecs = []\n",
    "vecs2 = []\n",
    "for s in sen:\n",
    "    if len(s.split())<25:\n",
    "        for w in s.split():\n",
    "            vecs.append(numpy.array(model2.wv.get_vector(w, norm=True)))\n",
    "        if len(s.split()) == 0:\n",
    "            vecs.append(zer)\n",
    "        vecs2.append(numpy.array(vecs))\n",
    "        vecs.clear()\n",
    "    else:\n",
    "        vecs2.append(numpy.array([zer for x in range(25)]))\n",
    "    \n",
    "for i in range(len(vecs2)):\n",
    "    while len(vecs2[i])<25:\n",
    "        vecs2[i] = numpy.vstack([vecs2[i], zer])\n",
    "\n",
    "f_vecs = vecs2"
   ]
  },
  {
   "cell_type": "code",
   "execution_count": 24,
   "metadata": {},
   "outputs": [
    {
     "name": "stderr",
     "output_type": "stream",
     "text": [
      "C:\\Users\\jenga\\anaconda3\\lib\\site-packages\\tensorflow\\python\\keras\\engine\\sequential.py:450: UserWarning: `model.predict_classes()` is deprecated and will be removed after 2021-01-01. Please use instead:* `np.argmax(model.predict(x), axis=-1)`,   if your model does multi-class classification   (e.g. if it uses a `softmax` last-layer activation).* `(model.predict(x) > 0.5).astype(\"int32\")`,   if your model does binary classification   (e.g. if it uses a `sigmoid` last-layer activation).\n",
      "  warnings.warn('`model.predict_classes()` is deprecated and '\n"
     ]
    },
    {
     "data": {
      "text/plain": [
       "array([[0],\n",
       "       [0],\n",
       "       [0],\n",
       "       ...,\n",
       "       [1],\n",
       "       [0],\n",
       "       [1]])"
      ]
     },
     "execution_count": 24,
     "metadata": {},
     "output_type": "execute_result"
    }
   ],
   "source": [
    "test_pred = (model.predict_classes(numpy.array(f_vecs)) > 0.5).astype(\"int32\")\n",
    "test_pred"
   ]
  },
  {
   "cell_type": "code",
   "execution_count": 25,
   "metadata": {},
   "outputs": [
    {
     "name": "stdout",
     "output_type": "stream",
     "text": [
      "424\n"
     ]
    }
   ],
   "source": [
    "j = 0\n",
    "for i in range(len(test_pred)):\n",
    "    if test_pred[i]==1:\n",
    "        j+=1\n",
    "print(j)"
   ]
  },
  {
   "cell_type": "code",
   "execution_count": 26,
   "metadata": {},
   "outputs": [],
   "source": [
    "# df3 = pd.read_csv(\"C:\\\\MyFoulder\\\\SCE\\שנה ג\\\\סמסטר ב\\\\מבוא ללמידה עמוקה\\\\4\\\\sampleSubmission.csv\")\n",
    "# df3['label'] = test_pred\n",
    "\n",
    "# df3.to_csv('Project4.14.csv', index = False)"
   ]
  },
  {
   "cell_type": "code",
   "execution_count": 27,
   "metadata": {},
   "outputs": [
    {
     "name": "stdout",
     "output_type": "stream",
     "text": [
      "Time elapsed in (hh:mm:ss.ms): \"0:00:53.399664\"\n"
     ]
    }
   ],
   "source": [
    "print('Time elapsed in (hh:mm:ss.ms): \"{}\"'.format(datetime.now() - start_time))"
   ]
  },
  {
   "cell_type": "code",
   "execution_count": null,
   "metadata": {},
   "outputs": [],
   "source": []
  }
 ],
 "metadata": {
  "kernelspec": {
   "display_name": "Python 3",
   "language": "python",
   "name": "python3"
  },
  "language_info": {
   "codemirror_mode": {
    "name": "ipython",
    "version": 3
   },
   "file_extension": ".py",
   "mimetype": "text/x-python",
   "name": "python",
   "nbconvert_exporter": "python",
   "pygments_lexer": "ipython3",
   "version": "3.8.5"
  }
 },
 "nbformat": 4,
 "nbformat_minor": 4
}
