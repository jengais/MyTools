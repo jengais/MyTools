{
 "cells": [
  {
   "cell_type": "code",
   "execution_count": 11,
   "metadata": {},
   "outputs": [],
   "source": [
    "import pandas as pd\n",
    "import numpy as np\n",
    "from sklearn.feature_extraction.text import TfidfVectorizer\n",
    "from sklearn.metrics.pairwise import linear_kernel\n",
    "from sklearn.metrics.pairwise import cosine_similarity"
   ]
  },
  {
   "cell_type": "code",
   "execution_count": 12,
   "metadata": {},
   "outputs": [],
   "source": [
    "ds = pd.read_csv('ttw2_finalSpell.csv')"
   ]
  },
  {
   "cell_type": "code",
   "execution_count": 13,
   "metadata": {},
   "outputs": [
    {
     "name": "stdout",
     "output_type": "stream",
     "text": [
      "(31962, 3)\n"
     ]
    }
   ],
   "source": [
    "print(ds.shape)"
   ]
  },
  {
   "cell_type": "code",
   "execution_count": 32,
   "metadata": {},
   "outputs": [],
   "source": [
    "#ds.replace(np.nan, \" \")\n",
    "ds=ds.fillna(\"\")"
   ]
  },
  {
   "cell_type": "code",
   "execution_count": 33,
   "metadata": {},
   "outputs": [
    {
     "data": {
      "text/plain": [
       "<bound method NDFrame.head of           id  label                                              tweet\n",
       "0          1      0  user father dysfunctional selfish drags kids d...\n",
       "1          2      0  user user thanks credit cant use cause dont of...\n",
       "2          3      0                                   birthday majesty\n",
       "3          4      0                        model love u take u time ur\n",
       "4          5      0                                 factsguide society\n",
       "...      ...    ...                                                ...\n",
       "31957  31958      0                                  ate user is youtu\n",
       "31958  31959      0  see nina turner airwaves trying wrap mantle ge...\n",
       "31959  31960      0    listening sad songs monday morning ots work sad\n",
       "31960  31961      1                       user vandalised condemns act\n",
       "31961  31962      0                                  thank user follow\n",
       "\n",
       "[31962 rows x 3 columns]>"
      ]
     },
     "execution_count": 33,
     "metadata": {},
     "output_type": "execute_result"
    }
   ],
   "source": [
    "ds.head"
   ]
  },
  {
   "cell_type": "code",
   "execution_count": 34,
   "metadata": {},
   "outputs": [
    {
     "data": {
      "text/plain": [
       "0        user father dysfunctional selfish drags kids d...\n",
       "1        user user thanks credit cant use cause dont of...\n",
       "2                                         birthday majesty\n",
       "3                              model love u take u time ur\n",
       "4                                       factsguide society\n",
       "                               ...                        \n",
       "31957                                    ate user is youtu\n",
       "31958    see nina turner airwaves trying wrap mantle ge...\n",
       "31959      listening sad songs monday morning ots work sad\n",
       "31960                         user vandalised condemns act\n",
       "31961                                    thank user follow\n",
       "Name: tweet, Length: 31962, dtype: object"
      ]
     },
     "execution_count": 34,
     "metadata": {},
     "output_type": "execute_result"
    }
   ],
   "source": [
    "ds['tweet']"
   ]
  },
  {
   "cell_type": "code",
   "execution_count": 35,
   "metadata": {},
   "outputs": [
    {
     "name": "stdout",
     "output_type": "stream",
     "text": [
      "TfidfVectorizer(min_df=0, ngram_range=(1, 3), stop_words='english')\n"
     ]
    }
   ],
   "source": [
    "tf = TfidfVectorizer(analyzer='word',ngram_range=(1,3), min_df=0, stop_words='english')\n",
    "print(tf)"
   ]
  },
  {
   "cell_type": "code",
   "execution_count": 36,
   "metadata": {},
   "outputs": [
    {
     "data": {
      "text/plain": [
       "''"
      ]
     },
     "execution_count": 36,
     "metadata": {},
     "output_type": "execute_result"
    }
   ],
   "source": [
    "ds[\"tweet\"][1118]"
   ]
  },
  {
   "cell_type": "code",
   "execution_count": 37,
   "metadata": {},
   "outputs": [],
   "source": [
    "tfidf_matrix = tf.fit_transform(ds['tweet'])"
   ]
  },
  {
   "cell_type": "code",
   "execution_count": 42,
   "metadata": {},
   "outputs": [
    {
     "name": "stdout",
     "output_type": "stream",
     "text": [
      "(31962, 209670)\n"
     ]
    }
   ],
   "source": [
    "print(tfidf_matrix.shape)"
   ]
  },
  {
   "cell_type": "code",
   "execution_count": 41,
   "metadata": {},
   "outputs": [
    {
     "name": "stdout",
     "output_type": "stream",
     "text": [
      "(31962,)\n"
     ]
    }
   ],
   "source": [
    "print(ds[\"tweet\"].shape)"
   ]
  },
  {
   "cell_type": "code",
   "execution_count": 38,
   "metadata": {},
   "outputs": [
    {
     "name": "stdout",
     "output_type": "stream",
     "text": [
      "  (0, 45996)\t0.258346277429174\n",
      "  (0, 149811)\t0.258346277429174\n",
      "  (0, 47179)\t0.258346277429174\n",
      "  (0, 54594)\t0.258346277429174\n",
      "  (0, 184323)\t0.258346277429174\n",
      "  (0, 90646)\t0.258346277429174\n",
      "  (0, 45995)\t0.258346277429174\n",
      "  (0, 149810)\t0.258346277429174\n",
      "  (0, 47178)\t0.258346277429174\n",
      "  (0, 54593)\t0.258346277429174\n",
      "  (0, 184321)\t0.21941145118927638\n",
      "  (0, 47176)\t0.24853744081076912\n",
      "  (0, 90598)\t0.15389947137678917\n",
      "  (0, 45990)\t0.23617976814346112\n",
      "  (0, 149806)\t0.22196028723817954\n",
      "  (0, 47177)\t0.258346277429174\n",
      "  (0, 54551)\t0.1571759282207254\n",
      "  (0, 181237)\t0.04980355642284957\n",
      "  (1, 202048)\t0.21056966292839197\n",
      "  (1, 120202)\t0.21056966292839197\n",
      "  (1, 45229)\t0.21056966292839197\n",
      "  (1, 24905)\t0.21056966292839197\n",
      "  (1, 180980)\t0.21056966292839197\n",
      "  (1, 34919)\t0.21056966292839197\n",
      "  (1, 168311)\t0.21056966292839197\n",
      "  :\t:\n",
      "  (31959, 145899)\t0.23056225976432534\n",
      "  (31959, 122861)\t0.23720439512240124\n",
      "  (31959, 111755)\t0.2212006957708557\n",
      "  (31959, 122855)\t0.2212006957708557\n",
      "  (31959, 98763)\t0.17519855621242345\n",
      "  (31959, 156486)\t0.18482399116587273\n",
      "  (31959, 204876)\t0.121210742275455\n",
      "  (31959, 112573)\t0.1244680295223931\n",
      "  (31959, 111696)\t0.15281659246278162\n",
      "  (31959, 145548)\t0.2576358177412036\n",
      "  (31960, 192780)\t0.40836328349836126\n",
      "  (31960, 192779)\t0.40836328349836126\n",
      "  (31960, 194235)\t0.33782444038735293\n",
      "  (31960, 31783)\t0.33782444038735293\n",
      "  (31960, 194234)\t0.33782444038735293\n",
      "  (31960, 945)\t0.2973832462534687\n",
      "  (31960, 31782)\t0.33782444038735293\n",
      "  (31960, 194233)\t0.33782444038735293\n",
      "  (31960, 181237)\t0.08611213395034331\n",
      "  (31961, 167973)\t0.5998516463794792\n",
      "  (31961, 184600)\t0.4705150734434028\n",
      "  (31961, 167965)\t0.4237304347973043\n",
      "  (31961, 59142)\t0.3523255214745793\n",
      "  (31961, 167679)\t0.31896798950935157\n",
      "  (31961, 181237)\t0.11563838121874934\n"
     ]
    }
   ],
   "source": [
    "print(tfidf_matrix)"
   ]
  },
  {
   "cell_type": "code",
   "execution_count": 40,
   "metadata": {},
   "outputs": [
    {
     "name": "stdout",
     "output_type": "stream",
     "text": [
      "(31962, 209670)\n"
     ]
    }
   ],
   "source": [
    "print(tfidf_matrix.shape)"
   ]
  },
  {
   "cell_type": "code",
   "execution_count": 39,
   "metadata": {},
   "outputs": [
    {
     "name": "stderr",
     "output_type": "stream",
     "text": [
      "IOPub data rate exceeded.\n",
      "The notebook server will temporarily stop sending output\n",
      "to the client in order to avoid crashing it.\n",
      "To change this limit, set the config variable\n",
      "`--NotebookApp.iopub_data_rate_limit`.\n",
      "\n",
      "Current values:\n",
      "NotebookApp.iopub_data_rate_limit=1000000.0 (bytes/sec)\n",
      "NotebookApp.rate_limit_window=3.0 (secs)\n",
      "\n"
     ]
    }
   ],
   "source": [
    "print(tf.vocabulary_)"
   ]
  },
  {
   "cell_type": "code",
   "execution_count": 43,
   "metadata": {},
   "outputs": [
    {
     "name": "stdout",
     "output_type": "stream",
     "text": [
      "shape : (31962, 31962)\n"
     ]
    }
   ],
   "source": [
    "cosine_similarities = linear_kernel(tfidf_matrix)\n",
    "\n",
    "print(\"shape :\",cosine_similarities.shape)"
   ]
  },
  {
   "cell_type": "code",
   "execution_count": 44,
   "metadata": {},
   "outputs": [
    {
     "name": "stdout",
     "output_type": "stream",
     "text": [
      "[[1.         0.00404338 0.         ... 0.         0.00428869 0.0057592 ]\n",
      " [0.00404338 1.         0.         ... 0.         0.00699114 0.00938828]\n",
      " [0.         0.         1.         ... 0.         0.         0.        ]\n",
      " ...\n",
      " [0.         0.         0.         ... 1.         0.         0.        ]\n",
      " [0.00428869 0.00699114 0.         ... 0.         1.         0.00995787]\n",
      " [0.0057592  0.00938828 0.         ... 0.         0.00995787 1.        ]]\n"
     ]
    }
   ],
   "source": [
    "print(cosine_similarities)"
   ]
  },
  {
   "cell_type": "code",
   "execution_count": 48,
   "metadata": {},
   "outputs": [
    {
     "name": "stdout",
     "output_type": "stream",
     "text": [
      "0.0040433776142301476\n"
     ]
    }
   ],
   "source": [
    "print(cosine_similarities[0][1])"
   ]
  },
  {
   "cell_type": "code",
   "execution_count": 49,
   "metadata": {},
   "outputs": [
    {
     "name": "stdout",
     "output_type": "stream",
     "text": [
      "<class 'numpy.float64'>\n"
     ]
    }
   ],
   "source": [
    "print(type(cosine_similarities[0][1]))"
   ]
  }
 ],
 "metadata": {
  "kernelspec": {
   "display_name": "Python 3",
   "language": "python",
   "name": "python3"
  },
  "language_info": {
   "codemirror_mode": {
    "name": "ipython",
    "version": 3
   },
   "file_extension": ".py",
   "mimetype": "text/x-python",
   "name": "python",
   "nbconvert_exporter": "python",
   "pygments_lexer": "ipython3",
   "version": "3.7.7"
  }
 },
 "nbformat": 4,
 "nbformat_minor": 4
}
