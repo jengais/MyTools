{
 "cells": [
  {
   "cell_type": "code",
   "execution_count": 1,
   "metadata": {},
   "outputs": [],
   "source": [
    "import cv2\n",
    "import numpy as np\n",
    "import sys\n",
    "import os\n",
    "#import matplotlib.pyplot as plt\n",
    "\n",
    "inpu = str(sys.argv[1])\n",
    "outpu = str(sys.argv[2])"
   ]
  },
  {
   "cell_type": "code",
   "execution_count": 4,
   "metadata": {},
   "outputs": [],
   "source": [
    "### 1"
   ]
  },
  {
   "cell_type": "code",
   "execution_count": 5,
   "metadata": {},
   "outputs": [
    {
     "data": {
      "text/plain": [
       "True"
      ]
     },
     "execution_count": 5,
     "metadata": {},
     "output_type": "execute_result"
    }
   ],
   "source": [
    "img = cv2.imread(inpu)\n",
    "imgGray = cv2.cvtColor(img, cv2.COLOR_BGR2GRAY)\n",
    "rows, cols = imgGray.shape[:2]\n",
    "\n",
    "thres , imgB = cv2.threshold(imgGray, 135, 255, cv2.THRESH_BINARY)\n",
    "\n",
    "cv2.imwrite('Desktop/ocv/list.jpg', imgB)"
   ]
  },
  {
   "cell_type": "code",
   "execution_count": 6,
   "metadata": {},
   "outputs": [],
   "source": [
    "### 2"
   ]
  },
  {
   "cell_type": "code",
   "execution_count": 7,
   "metadata": {},
   "outputs": [],
   "source": [
    "imgCopy = img.copy()\n",
    "(cnts , _) = cv2.findContours(imgB ,cv2.RETR_EXTERNAL, cv2.CHAIN_APPROX_SIMPLE)"
   ]
  },
  {
   "cell_type": "code",
   "execution_count": 8,
   "metadata": {},
   "outputs": [],
   "source": [
    "### 3"
   ]
  },
  {
   "cell_type": "code",
   "execution_count": 9,
   "metadata": {},
   "outputs": [],
   "source": [
    "epsilon = 0\n",
    "for i in range(len(cnts)):\n",
    "    if 0.01*cv2.arcLength(cnts[i],True)>epsilon:\n",
    "        epsilon = 0.01*cv2.arcLength(cnts[i],True)\n",
    "        n = cnts[i]\n",
    "        \n",
    "approx = cv2.approxPolyDP(n,epsilon,True)"
   ]
  },
  {
   "cell_type": "code",
   "execution_count": 10,
   "metadata": {},
   "outputs": [],
   "source": [
    "### 4"
   ]
  },
  {
   "cell_type": "code",
   "execution_count": 11,
   "metadata": {},
   "outputs": [],
   "source": [
    "pt = [approx[0][0],approx[1][0],approx[2][0],approx[3][0]]\n",
    "l = []\n",
    "for i in range(4):\n",
    "    l.append([pt[i][0],pt[i][1],pt[i][0]+pt[i][1]])"
   ]
  },
  {
   "cell_type": "code",
   "execution_count": 12,
   "metadata": {},
   "outputs": [],
   "source": [
    "pmin = l[0][2]\n",
    "pmax = l[0][2]\n",
    "pn = [l[0][0],l[0][1]]\n",
    "px = [l[0][0],l[0][1]]\n",
    "onetwo = []\n",
    "points = []\n",
    "\n",
    "for i in range(4):\n",
    "    if l[i][2]<pmin:\n",
    "        pmin = l[i][2]\n",
    "        pn = [l[i][0],l[i][1]]\n",
    "    if l[i][2]>pmax:\n",
    "        pmax = l[i][2]\n",
    "        px = [l[i][0],l[i][1]]\n",
    "for i in range(4):\n",
    "    if l[i][2] != pmin and l[i][2] != pmax:\n",
    "        onetwo.append([l[i][0],l[i][1]])\n",
    "        \n",
    "points.append(pn)\n",
    "points.append(px)\n",
    "\n",
    "if onetwo[0][0]<onetwo[1][0]:\n",
    "    points.append(onetwo[0])\n",
    "    points.append(onetwo[1])\n",
    "elif onetwo[0][0]>onetwo[1][0]:\n",
    "    points.append(onetwo[1])\n",
    "    points.append(onetwo[0])"
   ]
  },
  {
   "cell_type": "code",
   "execution_count": 14,
   "metadata": {},
   "outputs": [],
   "source": [
    "### 5"
   ]
  },
  {
   "cell_type": "code",
   "execution_count": 17,
   "metadata": {},
   "outputs": [
    {
     "data": {
      "text/plain": [
       "True"
      ]
     },
     "execution_count": 17,
     "metadata": {},
     "output_type": "execute_result"
    }
   ],
   "source": [
    "rows, cols = imgGray.shape[:2]\n",
    "\n",
    "pts1 = np.float32([points[0],points[2], points[3], points[1]])\n",
    "pts2 = np.float32([[0 , 0],[0 ,rows],[cols, 0],[cols, rows]])\n",
    "\n",
    "M = cv2.getPerspectiveTransform(pts1, pts2)\n",
    "\n",
    "###6\n",
    "dst = cv2.warpPerspective(img, M, (cols, rows))\n",
    "\n",
    "\n",
    "### 7\n",
    "cv2.imwrite(outpu + '\\\\' + str(inpu[-7:]) +'.jpg', dst)"
   ]
  }
 ],
 "metadata": {
  "kernelspec": {
   "display_name": "Python 3",
   "language": "python",
   "name": "python3"
  },
  "language_info": {
   "codemirror_mode": {
    "name": "ipython",
    "version": 3
   },
   "file_extension": ".py",
   "mimetype": "text/x-python",
   "name": "python",
   "nbconvert_exporter": "python",
   "pygments_lexer": "ipython3",
   "version": "3.8.5"
  }
 },
 "nbformat": 4,
 "nbformat_minor": 4
}
