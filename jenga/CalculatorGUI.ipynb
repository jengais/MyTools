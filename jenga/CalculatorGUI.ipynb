{
 "cells": [
  {
   "cell_type": "code",
   "execution_count": 1,
   "metadata": {},
   "outputs": [],
   "source": [
    "\n",
    "import tkinter as tk\n",
    "r = tk.Tk()\n",
    "r.title('Calculator')\n",
    "button = tk.Button(r, text='Stop', width=50, command=r.destroy)\n",
    "button2 = tk.Button(r, text='Stop2', width=50, command=r.destroy)\n",
    "button.pack()\n",
    "button2.pack()\n",
    "\n",
    "r.mainloop()"
   ]
  },
  {
   "cell_type": "code",
   "execution_count": 2,
   "metadata": {},
   "outputs": [],
   "source": [
    "\n",
    "from tkinter import *\n",
    "  \n",
    "root = Tk()\n",
    "root.title('Calculator')\n",
    "\n",
    "frame = Frame(root)\n",
    "#frame = Canvas(root, width=40, height=60)\n",
    "frame.pack()\n",
    "\n",
    "bottomframe = Frame(root)\n",
    "bottomframe.pack( side = BOTTOM )\n",
    "\n",
    "plus = Button(frame, text = '+', width=10, height=1, fg ='blue')\n",
    "plus.pack( side = LEFT)\n",
    "\n",
    "minus = Button(frame, text = '-', width=10, height=1, fg='blue')\n",
    "minus.pack( side = LEFT )\n",
    "\n",
    "multi = Button(frame, text ='*', width=10, height=1, fg ='blue')\n",
    "multi.pack( side = LEFT )\n",
    "\n",
    "divide = Button(bottomframe, text ='/', width=10, height=1, fg ='blue')\n",
    "divide.pack( side = BOTTOM)\n",
    "\n",
    "ravno = Button(bottomframe, text ='=', width=10, height=1, fg ='blue')\n",
    "ravno.pack( side = BOTTOM)\n",
    "\n",
    "root.mainloop()"
   ]
  },
  {
   "cell_type": "code",
   "execution_count": 16,
   "metadata": {},
   "outputs": [],
   "source": [
    "from tkinter import *\n",
    "  \n",
    "root = Tk()\n",
    "root.title('Calculator')\n",
    "root.geometry(\"500x500\")\n",
    "\n",
    "frame = Frame(root)\n",
    "frame.pack()\n",
    "\n",
    "bottomframe = Frame(root)\n",
    "bottomframe.pack(side = BOTTOM )\n",
    "\n",
    "plus = Button(bottomframe, text = '+', width=10, height=3, fg ='blue')\n",
    "plus.grid(column=1, row = 1)\n",
    "\n",
    "minus = Button(bottomframe, text = '-', width=10, height=3, fg='blue')\n",
    "minus.grid(column=1, row=2)\n",
    "\n",
    "multi = Button(bottomframe, text ='*', width=10, height=3, fg ='blue')\n",
    "multi.grid(column=2, row=1)\n",
    "\n",
    "divide = Button(bottomframe, text ='/', width=10, height=3, fg ='blue')\n",
    "divide.grid(column=2, row=2)\n",
    "\n",
    "ravno = Button(bottomframe, text ='=', width=10, height=3, fg ='blue')\n",
    "ravno.grid(column=3, row=0)\n",
    "\n",
    "root.mainloop()"
   ]
  },
  {
   "cell_type": "code",
   "execution_count": null,
   "metadata": {},
   "outputs": [],
   "source": []
  }
 ],
 "metadata": {
  "kernelspec": {
   "display_name": "Python 3",
   "language": "python",
   "name": "python3"
  },
  "language_info": {
   "codemirror_mode": {
    "name": "ipython",
    "version": 3
   },
   "file_extension": ".py",
   "mimetype": "text/x-python",
   "name": "python",
   "nbconvert_exporter": "python",
   "pygments_lexer": "ipython3",
   "version": "3.8.5"
  }
 },
 "nbformat": 4,
 "nbformat_minor": 4
}
